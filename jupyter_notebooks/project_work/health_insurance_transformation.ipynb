{
  "cells": [
    {
      "cell_type": "markdown",
      "metadata": {
        "id": "0aStgWSO0E0E"
      },
      "source": [
        "# **Health Insurance_Transformation**"
      ]
    },
    {
      "cell_type": "markdown",
      "metadata": {
        "id": "1eLEkw5O0ECa"
      },
      "source": [
        "## Objectives\n",
        "\n",
        "* At the end of this stage, I will:\n",
        "    1. Answer questions from the Extraction stage\n",
        "    2. Transform data to extract insights\n",
        "    3. Present visuals for easy analysis\n",
        "\n",
        "## Inputs\n",
        "\n",
        "* modified_insurance.csv file is required to run this notebook\n",
        "* this file extends the work from health_insurance_extraction.ipynb\n",
        "* the following questions guide the transformation stage:\n",
        "    1. How does smoking impact insurance charges?\n",
        "    2. How does region impact charges?\n",
        "    3. How does gender impact charges?\n",
        "    4. How does age impact bmi and charges?\n",
        "\n",
        "## Outputs\n",
        "\n",
        "* At the end of transformation, there will be DataFrames and graphs that will convey the results"
      ]
    },
    {
      "cell_type": "markdown",
      "metadata": {
        "id": "9uWZXH9LwoQg"
      },
      "source": [
        "---"
      ]
    },
    {
      "cell_type": "markdown",
      "metadata": {
        "id": "-mavJ8DibrcQ"
      },
      "source": [
        "# Section 1: Smoking"
      ]
    },
    {
      "cell_type": "code",
      "execution_count": 2,
      "metadata": {},
      "outputs": [],
      "source": [
        "import numpy as np\n",
        "import pandas as pd\n",
        "import matplotlib.pyplot as plt\n",
        "import seaborn as sns\n",
        "import plotly.express as px"
      ]
    },
    {
      "cell_type": "markdown",
      "metadata": {},
      "source": [
        "Here are the questions that will be guiding me:\n",
        "\n",
        "    1. How does smoking impact insurance charges?\n",
        "\n",
        "    2. How does region impact charges?\n",
        "\n",
        "    3. How does gender impact charges?\n",
        "\n",
        "    4. How does age impact bmi and charges?"
      ]
    },
    {
      "cell_type": "markdown",
      "metadata": {
        "id": "ZY3l0-AxO93d"
      },
      "source": [
        "---"
      ]
    },
    {
      "cell_type": "code",
      "execution_count": 132,
      "metadata": {},
      "outputs": [
        {
          "data": {
            "text/html": [
              "<div>\n",
              "<style scoped>\n",
              "    .dataframe tbody tr th:only-of-type {\n",
              "        vertical-align: middle;\n",
              "    }\n",
              "\n",
              "    .dataframe tbody tr th {\n",
              "        vertical-align: top;\n",
              "    }\n",
              "\n",
              "    .dataframe thead th {\n",
              "        text-align: right;\n",
              "    }\n",
              "</style>\n",
              "<table border=\"1\" class=\"dataframe\">\n",
              "  <thead>\n",
              "    <tr style=\"text-align: right;\">\n",
              "      <th></th>\n",
              "      <th>age</th>\n",
              "      <th>sex</th>\n",
              "      <th>bmi</th>\n",
              "      <th>children</th>\n",
              "      <th>smoker</th>\n",
              "      <th>region</th>\n",
              "      <th>charges</th>\n",
              "    </tr>\n",
              "  </thead>\n",
              "  <tbody>\n",
              "    <tr>\n",
              "      <th>0</th>\n",
              "      <td>19</td>\n",
              "      <td>female</td>\n",
              "      <td>27.900</td>\n",
              "      <td>0</td>\n",
              "      <td>yes</td>\n",
              "      <td>southwest</td>\n",
              "      <td>16884.92400</td>\n",
              "    </tr>\n",
              "    <tr>\n",
              "      <th>1</th>\n",
              "      <td>18</td>\n",
              "      <td>male</td>\n",
              "      <td>33.770</td>\n",
              "      <td>1</td>\n",
              "      <td>no</td>\n",
              "      <td>southeast</td>\n",
              "      <td>1725.55230</td>\n",
              "    </tr>\n",
              "    <tr>\n",
              "      <th>2</th>\n",
              "      <td>28</td>\n",
              "      <td>male</td>\n",
              "      <td>33.000</td>\n",
              "      <td>3</td>\n",
              "      <td>no</td>\n",
              "      <td>southeast</td>\n",
              "      <td>4449.46200</td>\n",
              "    </tr>\n",
              "    <tr>\n",
              "      <th>3</th>\n",
              "      <td>33</td>\n",
              "      <td>male</td>\n",
              "      <td>22.705</td>\n",
              "      <td>0</td>\n",
              "      <td>no</td>\n",
              "      <td>northwest</td>\n",
              "      <td>21984.47061</td>\n",
              "    </tr>\n",
              "    <tr>\n",
              "      <th>4</th>\n",
              "      <td>32</td>\n",
              "      <td>male</td>\n",
              "      <td>28.880</td>\n",
              "      <td>0</td>\n",
              "      <td>no</td>\n",
              "      <td>northwest</td>\n",
              "      <td>3866.85520</td>\n",
              "    </tr>\n",
              "    <tr>\n",
              "      <th>...</th>\n",
              "      <td>...</td>\n",
              "      <td>...</td>\n",
              "      <td>...</td>\n",
              "      <td>...</td>\n",
              "      <td>...</td>\n",
              "      <td>...</td>\n",
              "      <td>...</td>\n",
              "    </tr>\n",
              "    <tr>\n",
              "      <th>1333</th>\n",
              "      <td>50</td>\n",
              "      <td>male</td>\n",
              "      <td>30.970</td>\n",
              "      <td>3</td>\n",
              "      <td>no</td>\n",
              "      <td>northwest</td>\n",
              "      <td>10600.54830</td>\n",
              "    </tr>\n",
              "    <tr>\n",
              "      <th>1334</th>\n",
              "      <td>18</td>\n",
              "      <td>female</td>\n",
              "      <td>31.920</td>\n",
              "      <td>0</td>\n",
              "      <td>no</td>\n",
              "      <td>northeast</td>\n",
              "      <td>2205.98080</td>\n",
              "    </tr>\n",
              "    <tr>\n",
              "      <th>1335</th>\n",
              "      <td>18</td>\n",
              "      <td>female</td>\n",
              "      <td>36.850</td>\n",
              "      <td>0</td>\n",
              "      <td>no</td>\n",
              "      <td>southeast</td>\n",
              "      <td>1629.83350</td>\n",
              "    </tr>\n",
              "    <tr>\n",
              "      <th>1336</th>\n",
              "      <td>21</td>\n",
              "      <td>female</td>\n",
              "      <td>25.800</td>\n",
              "      <td>0</td>\n",
              "      <td>no</td>\n",
              "      <td>southwest</td>\n",
              "      <td>2007.94500</td>\n",
              "    </tr>\n",
              "    <tr>\n",
              "      <th>1337</th>\n",
              "      <td>61</td>\n",
              "      <td>female</td>\n",
              "      <td>29.070</td>\n",
              "      <td>0</td>\n",
              "      <td>yes</td>\n",
              "      <td>northwest</td>\n",
              "      <td>29141.36030</td>\n",
              "    </tr>\n",
              "  </tbody>\n",
              "</table>\n",
              "<p>1338 rows × 7 columns</p>\n",
              "</div>"
            ],
            "text/plain": [
              "      age     sex     bmi  children smoker     region      charges\n",
              "0      19  female  27.900         0    yes  southwest  16884.92400\n",
              "1      18    male  33.770         1     no  southeast   1725.55230\n",
              "2      28    male  33.000         3     no  southeast   4449.46200\n",
              "3      33    male  22.705         0     no  northwest  21984.47061\n",
              "4      32    male  28.880         0     no  northwest   3866.85520\n",
              "...   ...     ...     ...       ...    ...        ...          ...\n",
              "1333   50    male  30.970         3     no  northwest  10600.54830\n",
              "1334   18  female  31.920         0     no  northeast   2205.98080\n",
              "1335   18  female  36.850         0     no  southeast   1629.83350\n",
              "1336   21  female  25.800         0     no  southwest   2007.94500\n",
              "1337   61  female  29.070         0    yes  northwest  29141.36030\n",
              "\n",
              "[1338 rows x 7 columns]"
            ]
          },
          "execution_count": 132,
          "metadata": {},
          "output_type": "execute_result"
        }
      ],
      "source": [
        "df = pd.read_csv(\"../data/modified_insurance.csv\")\n",
        "df"
      ]
    },
    {
      "cell_type": "markdown",
      "metadata": {},
      "source": [
        "### How does smoking impact insurance charges?\n",
        "\n",
        "User Story covered: As a business development executive, I want to predict which customer group is most likely to pay high insurance charges so that I can design add-on products and services to optimize value.\n",
        "\n",
        "Sub-issue: As a business development executive, I want to group customers by their lifestyle habits and key health indicators, so that I can provide recommendations and consultations as a value-added service."
      ]
    },
    {
      "cell_type": "code",
      "execution_count": 14,
      "metadata": {},
      "outputs": [
        {
          "data": {
            "text/plain": [
              "17755824.990759"
            ]
          },
          "execution_count": 14,
          "metadata": {},
          "output_type": "execute_result"
        }
      ],
      "source": [
        "df_chg_sum= df[\"charges\"].sum()\n",
        "df_chg_sum"
      ]
    },
    {
      "cell_type": "code",
      "execution_count": 21,
      "metadata": {},
      "outputs": [
        {
          "data": {
            "text/plain": [
              "8781763.521839999"
            ]
          },
          "execution_count": 21,
          "metadata": {},
          "output_type": "execute_result"
        }
      ],
      "source": [
        "df_smoker = df[df['smoker'] == 'yes'][\"charges\"].sum()\n",
        "df_smoker"
      ]
    },
    {
      "cell_type": "markdown",
      "metadata": {},
      "source": [
        "I now know that a little less than 50% of the insurance charges are from smokers.  "
      ]
    },
    {
      "cell_type": "code",
      "execution_count": 184,
      "metadata": {},
      "outputs": [
        {
          "data": {
            "application/vnd.plotly.v1+json": {
              "config": {
                "plotlyServerURL": "https://plot.ly"
              },
              "data": [
                {
                  "alignmentgroup": "True",
                  "bingroup": "x",
                  "histfunc": "avg",
                  "hovertemplate": "sex=female<br>smoker=%{x}<br>avg of charges=%{y}<extra></extra>",
                  "legendgroup": "female",
                  "marker": {
                    "color": "#636efa",
                    "pattern": {
                      "shape": ""
                    }
                  },
                  "name": "female",
                  "offsetgroup": "female",
                  "orientation": "v",
                  "showlegend": true,
                  "type": "histogram",
                  "x": [
                    "yes",
                    "no",
                    "no",
                    "no",
                    "no",
                    "yes",
                    "no",
                    "no",
                    "no",
                    "no",
                    "yes",
                    "no",
                    "no",
                    "no",
                    "no",
                    "no",
                    "no",
                    "no",
                    "no",
                    "no",
                    "no",
                    "no",
                    "no",
                    "no",
                    "no",
                    "no",
                    "no",
                    "yes",
                    "no",
                    "no",
                    "yes",
                    "no",
                    "no",
                    "no",
                    "yes",
                    "no",
                    "no",
                    "no",
                    "no",
                    "no",
                    "no",
                    "yes",
                    "yes",
                    "no",
                    "no",
                    "no",
                    "no",
                    "no",
                    "yes",
                    "no",
                    "no",
                    "no",
                    "no",
                    "yes",
                    "no",
                    "no",
                    "no",
                    "no",
                    "yes",
                    "no",
                    "no",
                    "no",
                    "no",
                    "no",
                    "yes",
                    "no",
                    "yes",
                    "no",
                    "no",
                    "no",
                    "no",
                    "no",
                    "no",
                    "no",
                    "no",
                    "no",
                    "no",
                    "no",
                    "yes",
                    "no",
                    "no",
                    "yes",
                    "yes",
                    "no",
                    "no",
                    "no",
                    "no",
                    "no",
                    "no",
                    "yes",
                    "no",
                    "no",
                    "no",
                    "no",
                    "no",
                    "no",
                    "no",
                    "no",
                    "no",
                    "no",
                    "no",
                    "no",
                    "no",
                    "no",
                    "no",
                    "no",
                    "no",
                    "yes",
                    "no",
                    "no",
                    "no",
                    "no",
                    "no",
                    "no",
                    "no",
                    "no",
                    "no",
                    "no",
                    "no",
                    "no",
                    "no",
                    "no",
                    "no",
                    "yes",
                    "no",
                    "yes",
                    "no",
                    "no",
                    "yes",
                    "no",
                    "yes",
                    "no",
                    "no",
                    "no",
                    "yes",
                    "no",
                    "no",
                    "no",
                    "no",
                    "no",
                    "yes",
                    "no",
                    "no",
                    "no",
                    "no",
                    "yes",
                    "no",
                    "no",
                    "no",
                    "yes",
                    "no",
                    "no",
                    "no",
                    "no",
                    "no",
                    "no",
                    "no",
                    "yes",
                    "no",
                    "no",
                    "no",
                    "yes",
                    "yes",
                    "no",
                    "no",
                    "no",
                    "no",
                    "no",
                    "no",
                    "no",
                    "no",
                    "no",
                    "no",
                    "no",
                    "no",
                    "no",
                    "no",
                    "no",
                    "yes",
                    "no",
                    "no",
                    "no",
                    "no",
                    "no",
                    "no",
                    "no",
                    "no",
                    "yes",
                    "yes",
                    "no",
                    "yes",
                    "no",
                    "no",
                    "no",
                    "no",
                    "no",
                    "no",
                    "no",
                    "no",
                    "no",
                    "no",
                    "no",
                    "no",
                    "no",
                    "yes",
                    "yes",
                    "no",
                    "no",
                    "yes",
                    "yes",
                    "no",
                    "no",
                    "no",
                    "no",
                    "no",
                    "no",
                    "no",
                    "no",
                    "yes",
                    "no",
                    "no",
                    "no",
                    "no",
                    "no",
                    "no",
                    "no",
                    "no",
                    "no",
                    "yes",
                    "no",
                    "no",
                    "no",
                    "no",
                    "no",
                    "no",
                    "no",
                    "no",
                    "no",
                    "no",
                    "no",
                    "yes",
                    "no",
                    "no",
                    "no",
                    "no",
                    "no",
                    "no",
                    "no",
                    "no",
                    "no",
                    "no",
                    "no",
                    "no",
                    "no",
                    "no",
                    "no",
                    "no",
                    "no",
                    "no",
                    "no",
                    "no",
                    "no",
                    "no",
                    "no",
                    "no",
                    "yes",
                    "no",
                    "no",
                    "yes",
                    "no",
                    "no",
                    "no",
                    "yes",
                    "no",
                    "no",
                    "no",
                    "no",
                    "no",
                    "no",
                    "no",
                    "no",
                    "no",
                    "no",
                    "no",
                    "no",
                    "yes",
                    "no",
                    "no",
                    "no",
                    "yes",
                    "no",
                    "no",
                    "no",
                    "yes",
                    "no",
                    "no",
                    "no",
                    "no",
                    "no",
                    "no",
                    "no",
                    "yes",
                    "no",
                    "no",
                    "yes",
                    "no",
                    "no",
                    "no",
                    "no",
                    "no",
                    "yes",
                    "no",
                    "yes",
                    "no",
                    "no",
                    "no",
                    "yes",
                    "no",
                    "no",
                    "no",
                    "no",
                    "no",
                    "no",
                    "no",
                    "no",
                    "no",
                    "no",
                    "no",
                    "yes",
                    "no",
                    "no",
                    "no",
                    "no",
                    "no",
                    "yes",
                    "yes",
                    "no",
                    "no",
                    "no",
                    "yes",
                    "no",
                    "no",
                    "no",
                    "no",
                    "no",
                    "no",
                    "no",
                    "no",
                    "no",
                    "no",
                    "no",
                    "no",
                    "no",
                    "no",
                    "yes",
                    "no",
                    "no",
                    "no",
                    "no",
                    "no",
                    "no",
                    "no",
                    "no",
                    "no",
                    "no",
                    "yes",
                    "yes",
                    "no",
                    "no",
                    "no",
                    "no",
                    "no",
                    "no",
                    "yes",
                    "no",
                    "no",
                    "no",
                    "yes",
                    "no",
                    "no",
                    "yes",
                    "no",
                    "no",
                    "no",
                    "no",
                    "no",
                    "no",
                    "no",
                    "no",
                    "yes",
                    "yes",
                    "no",
                    "no",
                    "no",
                    "no",
                    "no",
                    "no",
                    "no",
                    "no",
                    "no",
                    "no",
                    "yes",
                    "no",
                    "no",
                    "no",
                    "no",
                    "no",
                    "no",
                    "no",
                    "yes",
                    "yes",
                    "no",
                    "no",
                    "no",
                    "no",
                    "no",
                    "no",
                    "no",
                    "no",
                    "yes",
                    "yes",
                    "yes",
                    "no",
                    "no",
                    "yes",
                    "yes",
                    "no",
                    "yes",
                    "no",
                    "yes",
                    "no",
                    "yes",
                    "no",
                    "no",
                    "no",
                    "no",
                    "no",
                    "no",
                    "no",
                    "no",
                    "no",
                    "yes",
                    "no",
                    "yes",
                    "no",
                    "no",
                    "yes",
                    "no",
                    "no",
                    "no",
                    "no",
                    "no",
                    "yes",
                    "no",
                    "no",
                    "no",
                    "yes",
                    "no",
                    "no",
                    "no",
                    "no",
                    "no",
                    "no",
                    "no",
                    "no",
                    "no",
                    "no",
                    "no",
                    "no",
                    "no",
                    "no",
                    "no",
                    "no",
                    "no",
                    "no",
                    "no",
                    "no",
                    "no",
                    "no",
                    "no",
                    "no",
                    "no",
                    "no",
                    "no",
                    "no",
                    "yes",
                    "no",
                    "no",
                    "no",
                    "yes",
                    "no",
                    "no",
                    "no",
                    "no",
                    "no",
                    "no",
                    "no",
                    "no",
                    "no",
                    "no",
                    "no",
                    "no",
                    "yes",
                    "no",
                    "no",
                    "no",
                    "yes",
                    "yes",
                    "no",
                    "no",
                    "yes",
                    "yes",
                    "no",
                    "yes",
                    "no",
                    "no",
                    "no",
                    "no",
                    "no",
                    "no",
                    "no",
                    "no",
                    "no",
                    "no",
                    "no",
                    "no",
                    "no",
                    "no",
                    "no",
                    "yes",
                    "no",
                    "yes",
                    "no",
                    "no",
                    "yes",
                    "no",
                    "no",
                    "yes",
                    "no",
                    "no",
                    "no",
                    "no",
                    "yes",
                    "no",
                    "no",
                    "yes",
                    "yes",
                    "no",
                    "yes",
                    "no",
                    "no",
                    "no",
                    "no",
                    "no",
                    "no",
                    "no",
                    "no",
                    "yes",
                    "no",
                    "no",
                    "no",
                    "no",
                    "no",
                    "yes",
                    "no",
                    "no",
                    "no",
                    "no",
                    "no",
                    "no",
                    "no",
                    "no",
                    "no",
                    "no",
                    "no",
                    "no",
                    "yes",
                    "no",
                    "no",
                    "yes",
                    "no",
                    "no",
                    "no",
                    "no",
                    "no",
                    "no",
                    "yes",
                    "no",
                    "yes",
                    "no",
                    "no",
                    "no",
                    "no",
                    "no",
                    "no",
                    "no",
                    "yes",
                    "no",
                    "yes",
                    "no",
                    "yes",
                    "no",
                    "no",
                    "yes",
                    "no",
                    "no",
                    "yes",
                    "no",
                    "yes",
                    "no",
                    "no",
                    "no",
                    "no",
                    "no",
                    "no",
                    "no",
                    "no",
                    "no",
                    "no",
                    "no",
                    "no",
                    "no",
                    "no",
                    "no",
                    "no",
                    "no",
                    "no",
                    "no",
                    "no",
                    "no",
                    "no",
                    "no",
                    "no",
                    "no",
                    "no",
                    "yes",
                    "yes",
                    "no",
                    "no",
                    "no",
                    "no",
                    "no",
                    "no",
                    "no",
                    "no",
                    "yes",
                    "yes",
                    "no",
                    "yes",
                    "yes",
                    "no",
                    "no",
                    "yes",
                    "no",
                    "no",
                    "no",
                    "no",
                    "no",
                    "no",
                    "no",
                    "no",
                    "yes"
                  ],
                  "xaxis": "x",
                  "y": [
                    16884.924,
                    3756.6216,
                    8240.5896,
                    7281.5056,
                    28923.13692,
                    27808.7251,
                    11090.7178,
                    10797.3362,
                    13228.84695,
                    4149.736,
                    37701.8768,
                    14001.1338,
                    14451.83515,
                    12268.63225,
                    2198.18985,
                    4687.797,
                    15612.19335,
                    3046.062,
                    4949.7587,
                    6313.759,
                    3393.35635,
                    3556.9223,
                    12629.8967,
                    2211.13075,
                    3579.8287,
                    8059.6791,
                    13607.36875,
                    23244.7902,
                    5989.52365,
                    4133.64165,
                    14711.7438,
                    1743.214,
                    14235.072,
                    5920.1041,
                    16577.7795,
                    11741.726,
                    3947.4131,
                    2755.02095,
                    6571.02435,
                    7935.29115,
                    11033.6617,
                    39836.519,
                    43578.9394,
                    11073.176,
                    8026.6666,
                    11082.5772,
                    2026.9741,
                    10942.13205,
                    47291.055,
                    3766.8838,
                    12105.32,
                    6186.127,
                    21344.8467,
                    30942.1918,
                    5003.853,
                    2331.519,
                    11881.358,
                    2404.7338,
                    19107.7796,
                    8601.3293,
                    6686.4313,
                    2257.47525,
                    10115.00885,
                    3385.39915,
                    17081.08,
                    9634.538,
                    32734.1863,
                    12815.44495,
                    13616.3586,
                    11163.568,
                    2457.21115,
                    2155.6815,
                    27322.73386,
                    2166.732,
                    5138.2567,
                    9877.6077,
                    10959.6947,
                    6334.34355,
                    19964.7463,
                    7077.1894,
                    19749.38338,
                    21348.706,
                    36149.4835,
                    5152.134,
                    4830.63,
                    6128.79745,
                    2719.27975,
                    5246.047,
                    2855.43755,
                    48824.45,
                    8823.279,
                    8538.28845,
                    1631.8212,
                    7419.4779,
                    3981.9768,
                    5325.651,
                    6775.961,
                    4922.9159,
                    4883.866,
                    12044.342,
                    5649.715,
                    8516.829,
                    9644.2525,
                    14901.5167,
                    2130.6759,
                    8871.1517,
                    13012.20865,
                    37133.8982,
                    4337.7352,
                    13880.949,
                    5002.7827,
                    8520.026,
                    7371.772,
                    10355.641,
                    3392.9768,
                    25081.76784,
                    5012.471,
                    10564.8845,
                    24227.33724,
                    7358.17565,
                    7443.64305,
                    14001.2867,
                    1727.785,
                    19444.2658,
                    1615.7667,
                    38511.6283,
                    5354.07465,
                    35160.13457,
                    29523.1656,
                    12648.7034,
                    47305.305,
                    13047.33235,
                    5400.9805,
                    11837.16,
                    17085.2676,
                    20462.99766,
                    14590.63205,
                    9715.841,
                    2150.469,
                    9855.1314,
                    22331.5668,
                    11879.10405,
                    9625.92,
                    9432.9253,
                    14256.1928,
                    47896.79135,
                    3172.018,
                    2156.7518,
                    9249.4952,
                    24873.3849,
                    12265.5069,
                    4349.462,
                    12646.207,
                    20177.67113,
                    4151.0287,
                    7749.1564,
                    1737.376,
                    34838.873,
                    7421.19455,
                    24671.66334,
                    3561.8889,
                    47928.03,
                    48517.56315,
                    13429.0354,
                    11658.37915,
                    19144.57652,
                    8232.6388,
                    18955.22017,
                    13217.0945,
                    10977.2063,
                    6184.2994,
                    5478.0368,
                    11830.6072,
                    8932.084,
                    3554.203,
                    14133.03775,
                    1607.5101,
                    10043.249,
                    13844.506,
                    2597.779,
                    3180.5101,
                    9778.3472,
                    13430.265,
                    8017.06115,
                    13415.0381,
                    12029.2867,
                    7639.41745,
                    18033.9679,
                    21659.9301,
                    16455.70785,
                    15006.57945,
                    5846.9176,
                    11856.4115,
                    3176.8159,
                    4618.0799,
                    2138.0707,
                    9411.005,
                    8522.003,
                    1631.6683,
                    9264.797,
                    14692.66935,
                    11396.9002,
                    4185.0979,
                    8539.671,
                    19594.80965,
                    14455.64405,
                    2134.9015,
                    7345.7266,
                    18608.262,
                    28950.4692,
                    6555.07035,
                    7323.734819,
                    3167.45585,
                    18804.7524,
                    4906.40965,
                    12638.195,
                    12592.5345,
                    4738.2682,
                    37079.372,
                    28287.89766,
                    7345.084,
                    11454.0215,
                    5910.944,
                    11881.9696,
                    11840.77505,
                    7682.67,
                    10381.4787,
                    15230.32405,
                    19521.9682,
                    13224.693,
                    12643.3778,
                    23288.9284,
                    2201.0971,
                    2203.47185,
                    1744.465,
                    20878.78443,
                    1622.1885,
                    9880.068,
                    4347.02335,
                    12475.3513,
                    48885.13561,
                    1748.774,
                    24513.09126,
                    2196.4732,
                    4931.647,
                    8211.1002,
                    13470.86,
                    5974.3847,
                    3044.2133,
                    11455.28,
                    5240.765,
                    25656.57526,
                    3994.1778,
                    9866.30485,
                    5397.6167,
                    11482.63485,
                    24059.68019,
                    9861.025,
                    14043.4767,
                    5972.378,
                    8825.086,
                    8233.0975,
                    6196.448,
                    3056.3881,
                    13887.204,
                    63770.42801,
                    11538.421,
                    3213.62205,
                    45863.205,
                    3972.9247,
                    11187.6567,
                    17878.90068,
                    39983.42595,
                    9193.8385,
                    10923.9332,
                    2801.2588,
                    2128.43105,
                    6373.55735,
                    11552.904,
                    3761.292,
                    2219.4451,
                    4753.6368,
                    31620.00106,
                    13224.05705,
                    12222.8983,
                    58571.07448,
                    3206.49135,
                    17626.23951,
                    4779.6023,
                    43943.8761,
                    13635.6379,
                    5976.8311,
                    11842.442,
                    15359.1045,
                    8823.98575,
                    7640.3092,
                    5594.8455,
                    33471.97189,
                    1633.0444,
                    11070.535,
                    16085.1275,
                    17468.9839,
                    9283.562,
                    3558.62025,
                    25678.77845,
                    8547.6913,
                    6571.544,
                    2207.69745,
                    6753.038,
                    1880.07,
                    42969.8527,
                    11658.11505,
                    34439.8559,
                    10713.644,
                    9182.17,
                    3736.4647,
                    42983.4585,
                    3366.6697,
                    2709.1119,
                    24915.04626,
                    4466.6214,
                    8252.2843,
                    12430.95335,
                    9800.8882,
                    10579.711,
                    8280.6227,
                    8527.532,
                    12244.531,
                    24667.419,
                    3410.324,
                    26392.26029,
                    14394.39815,
                    22192.43711,
                    5148.5526,
                    27037.9141,
                    40003.33225,
                    6500.2359,
                    3943.5954,
                    6185.3208,
                    46200.9851,
                    12485.8009,
                    10156.7832,
                    2585.269,
                    4766.022,
                    26236.57997,
                    3577.999,
                    3201.24515,
                    29186.48236,
                    3500.6123,
                    2020.5523,
                    9541.69555,
                    5385.3379,
                    8930.93455,
                    5375.038,
                    44400.4064,
                    6113.23105,
                    5469.0066,
                    10107.2206,
                    8310.83915,
                    2457.502,
                    9566.9909,
                    10848.1343,
                    12231.6136,
                    9875.6804,
                    10106.13425,
                    40932.4295,
                    16657.71745,
                    2217.6012,
                    6781.3542,
                    4234.927,
                    9447.25035,
                    14007.222,
                    9583.8933,
                    40419.0191,
                    3757.8448,
                    9910.35985,
                    8556.907,
                    19539.243,
                    11833.7823,
                    7985.815,
                    23065.4207,
                    3925.7582,
                    9095.06825,
                    11842.62375,
                    7050.642,
                    14319.031,
                    6933.24225,
                    11150.78,
                    12797.20962,
                    17748.5062,
                    24520.264,
                    4350.5144,
                    6414.178,
                    13457.9608,
                    5662.225,
                    2731.9122,
                    7209.4918,
                    4719.52405,
                    11848.141,
                    7046.7222,
                    14313.8463,
                    38792.6856,
                    7731.85785,
                    28476.73499,
                    2136.88225,
                    9414.92,
                    6360.9936,
                    1877.9294,
                    2842.76075,
                    23401.30575,
                    55135.40209,
                    1621.8827,
                    8219.2039,
                    16069.08475,
                    5266.3656,
                    4719.73655,
                    11657.7189,
                    6402.29135,
                    12622.1795,
                    36021.0112,
                    27533.9129,
                    45008.9555,
                    9872.701,
                    2974.126,
                    37270.1512,
                    42111.6647,
                    11729.6795,
                    24106.91255,
                    1875.344,
                    40974.1649,
                    18218.16139,
                    46113.511,
                    7151.092,
                    12269.68865,
                    5458.04645,
                    4391.652,
                    3392.3652,
                    2690.1138,
                    26140.3603,
                    6311.952,
                    2585.85065,
                    46255.1125,
                    5272.1758,
                    29330.98315,
                    7243.8136,
                    13063.883,
                    19798.05455,
                    1634.5734,
                    2117.33885,
                    12644.589,
                    4564.19145,
                    7633.7206,
                    17496.306,
                    14382.70905,
                    7626.993,
                    2473.3341,
                    21774.32215,
                    13041.921,
                    5245.2269,
                    13451.122,
                    13462.52,
                    2913.569,
                    12032.326,
                    13470.8044,
                    6238.298,
                    7348.142,
                    12233.828,
                    8965.79575,
                    9549.5651,
                    2217.46915,
                    11674.13,
                    4527.18295,
                    2730.10785,
                    3353.284,
                    14474.675,
                    8596.8278,
                    10702.6424,
                    4992.3764,
                    2527.81865,
                    1759.338,
                    9704.66805,
                    4889.0368,
                    16796.41194,
                    7624.63,
                    28340.18885,
                    14571.8908,
                    3378.91,
                    7144.86265,
                    10118.424,
                    16420.49455,
                    7986.47525,
                    7418.522,
                    13887.9685,
                    6551.7501,
                    5267.81815,
                    8269.044,
                    36580.28216,
                    5383.536,
                    2709.24395,
                    3987.926,
                    12495.29085,
                    26018.95052,
                    35595.5898,
                    8569.8618,
                    2020.177,
                    6877.9801,
                    21677.28345,
                    44423.803,
                    4137.5227,
                    12094.478,
                    39725.51805,
                    20234.85475,
                    3161.454,
                    21880.82,
                    7325.0482,
                    3594.17085,
                    8023.13545,
                    3353.4703,
                    8277.523,
                    17929.30337,
                    2480.9791,
                    5708.867,
                    7045.499,
                    10928.849,
                    12096.6512,
                    13204.28565,
                    4562.8421,
                    8551.347,
                    15019.76005,
                    19023.26,
                    11286.5387,
                    33907.548,
                    11299.343,
                    4561.1885,
                    44641.1974,
                    23045.56616,
                    3227.1211,
                    16776.30405,
                    10338.9316,
                    8988.15875,
                    10493.9458,
                    11512.405,
                    24180.9335,
                    5312.16985,
                    5693.4305,
                    34166.273,
                    46661.4424,
                    18903.49141,
                    40904.1995,
                    14254.6082,
                    5836.5204,
                    1728.897,
                    8582.3023,
                    9991.03765,
                    11085.5868,
                    7623.518,
                    3176.2877,
                    36898.73308,
                    7954.517,
                    27117.99378,
                    2261.5688,
                    2203.73595,
                    12235.8392,
                    40941.2854,
                    5630.45785,
                    11015.1747,
                    7228.21565,
                    14426.07385,
                    2459.7201,
                    3989.841,
                    7727.2532,
                    2200.83085,
                    7153.5539,
                    5227.98875,
                    4529.477,
                    6112.35295,
                    22478.6,
                    11093.6229,
                    2154.361,
                    23887.6627,
                    6496.886,
                    2899.48935,
                    7650.77375,
                    2850.68375,
                    2632.992,
                    9447.3824,
                    18328.2381,
                    13844.7972,
                    21771.3423,
                    13126.67745,
                    5327.40025,
                    13725.47184,
                    13019.16105,
                    8671.19125,
                    4134.08245,
                    18838.70366,
                    33307.5508,
                    4934.705,
                    18223.4512,
                    36910.60803,
                    20296.86345,
                    10806.839,
                    3956.07145,
                    41661.602,
                    7537.1639,
                    4718.20355,
                    26125.67477,
                    4795.6568,
                    20167.33603,
                    12479.70895,
                    8515.7587,
                    14449.8544,
                    12224.35085,
                    3238.4357,
                    4296.2712,
                    3171.6149,
                    9101.798,
                    1633.9618,
                    15828.82173,
                    4415.1588,
                    6474.013,
                    11436.73815,
                    11305.93455,
                    10197.7722,
                    4544.2348,
                    6770.1925,
                    7337.748,
                    10370.91255,
                    10704.47,
                    1880.487,
                    3021.80915,
                    2741.948,
                    4357.04365,
                    4189.1131,
                    8283.6807,
                    24535.69855,
                    14283.4594,
                    8534.6718,
                    3732.6251,
                    5472.449,
                    7133.9025,
                    4340.4409,
                    2710.82855,
                    3208.787,
                    2464.6188,
                    16115.3045,
                    33900.653,
                    4571.41305,
                    36397.576,
                    18765.87545,
                    1731.677,
                    7201.70085,
                    43896.3763,
                    7050.0213,
                    22395.74424,
                    12629.1656,
                    10795.93733,
                    11411.685,
                    2205.9808,
                    1629.8335,
                    2007.945,
                    29141.3603
                  ],
                  "yaxis": "y"
                },
                {
                  "alignmentgroup": "True",
                  "bingroup": "x",
                  "histfunc": "avg",
                  "hovertemplate": "sex=male<br>smoker=%{x}<br>avg of charges=%{y}<extra></extra>",
                  "legendgroup": "male",
                  "marker": {
                    "color": "#EF553B",
                    "pattern": {
                      "shape": ""
                    }
                  },
                  "name": "male",
                  "offsetgroup": "male",
                  "orientation": "v",
                  "showlegend": true,
                  "type": "histogram",
                  "x": [
                    "no",
                    "no",
                    "no",
                    "no",
                    "no",
                    "no",
                    "no",
                    "yes",
                    "no",
                    "no",
                    "no",
                    "yes",
                    "no",
                    "no",
                    "no",
                    "yes",
                    "yes",
                    "no",
                    "yes",
                    "no",
                    "no",
                    "yes",
                    "yes",
                    "no",
                    "no",
                    "no",
                    "yes",
                    "yes",
                    "yes",
                    "yes",
                    "yes",
                    "no",
                    "no",
                    "no",
                    "no",
                    "yes",
                    "no",
                    "no",
                    "no",
                    "no",
                    "no",
                    "no",
                    "yes",
                    "yes",
                    "yes",
                    "no",
                    "no",
                    "yes",
                    "yes",
                    "no",
                    "yes",
                    "no",
                    "no",
                    "yes",
                    "no",
                    "no",
                    "no",
                    "no",
                    "no",
                    "no",
                    "no",
                    "yes",
                    "no",
                    "no",
                    "no",
                    "no",
                    "no",
                    "no",
                    "yes",
                    "no",
                    "yes",
                    "yes",
                    "no",
                    "no",
                    "no",
                    "no",
                    "yes",
                    "yes",
                    "yes",
                    "no",
                    "no",
                    "no",
                    "no",
                    "no",
                    "no",
                    "no",
                    "no",
                    "no",
                    "no",
                    "no",
                    "no",
                    "yes",
                    "no",
                    "no",
                    "no",
                    "no",
                    "no",
                    "no",
                    "yes",
                    "no",
                    "no",
                    "no",
                    "no",
                    "no",
                    "no",
                    "yes",
                    "yes",
                    "no",
                    "no",
                    "no",
                    "no",
                    "no",
                    "no",
                    "yes",
                    "no",
                    "no",
                    "no",
                    "no",
                    "no",
                    "no",
                    "yes",
                    "yes",
                    "no",
                    "yes",
                    "yes",
                    "no",
                    "yes",
                    "yes",
                    "yes",
                    "yes",
                    "yes",
                    "no",
                    "no",
                    "no",
                    "yes",
                    "no",
                    "no",
                    "no",
                    "no",
                    "no",
                    "yes",
                    "no",
                    "no",
                    "no",
                    "no",
                    "yes",
                    "no",
                    "no",
                    "yes",
                    "yes",
                    "yes",
                    "no",
                    "no",
                    "no",
                    "no",
                    "yes",
                    "no",
                    "no",
                    "no",
                    "no",
                    "no",
                    "no",
                    "yes",
                    "no",
                    "no",
                    "no",
                    "yes",
                    "no",
                    "yes",
                    "no",
                    "no",
                    "no",
                    "yes",
                    "no",
                    "no",
                    "no",
                    "no",
                    "no",
                    "no",
                    "no",
                    "no",
                    "no",
                    "no",
                    "no",
                    "no",
                    "no",
                    "yes",
                    "no",
                    "yes",
                    "no",
                    "yes",
                    "no",
                    "no",
                    "no",
                    "no",
                    "no",
                    "no",
                    "no",
                    "no",
                    "no",
                    "no",
                    "no",
                    "no",
                    "no",
                    "no",
                    "no",
                    "no",
                    "no",
                    "no",
                    "no",
                    "yes",
                    "yes",
                    "yes",
                    "no",
                    "no",
                    "no",
                    "no",
                    "no",
                    "no",
                    "no",
                    "no",
                    "no",
                    "no",
                    "no",
                    "yes",
                    "no",
                    "no",
                    "no",
                    "no",
                    "no",
                    "no",
                    "no",
                    "no",
                    "no",
                    "yes",
                    "no",
                    "no",
                    "no",
                    "yes",
                    "yes",
                    "yes",
                    "no",
                    "no",
                    "no",
                    "no",
                    "no",
                    "no",
                    "no",
                    "no",
                    "no",
                    "yes",
                    "no",
                    "no",
                    "yes",
                    "no",
                    "yes",
                    "yes",
                    "no",
                    "no",
                    "no",
                    "no",
                    "no",
                    "no",
                    "no",
                    "yes",
                    "no",
                    "no",
                    "no",
                    "no",
                    "yes",
                    "no",
                    "no",
                    "yes",
                    "no",
                    "no",
                    "no",
                    "no",
                    "no",
                    "no",
                    "yes",
                    "no",
                    "no",
                    "no",
                    "no",
                    "no",
                    "no",
                    "no",
                    "no",
                    "no",
                    "no",
                    "yes",
                    "no",
                    "no",
                    "no",
                    "no",
                    "no",
                    "no",
                    "no",
                    "no",
                    "no",
                    "no",
                    "no",
                    "no",
                    "no",
                    "yes",
                    "yes",
                    "no",
                    "yes",
                    "yes",
                    "no",
                    "no",
                    "no",
                    "no",
                    "no",
                    "no",
                    "no",
                    "no",
                    "no",
                    "yes",
                    "no",
                    "no",
                    "yes",
                    "no",
                    "no",
                    "no",
                    "no",
                    "no",
                    "no",
                    "no",
                    "no",
                    "yes",
                    "no",
                    "yes",
                    "no",
                    "no",
                    "no",
                    "yes",
                    "no",
                    "no",
                    "yes",
                    "no",
                    "no",
                    "no",
                    "no",
                    "yes",
                    "no",
                    "no",
                    "no",
                    "no",
                    "yes",
                    "no",
                    "no",
                    "no",
                    "no",
                    "no",
                    "no",
                    "no",
                    "no",
                    "no",
                    "no",
                    "no",
                    "yes",
                    "no",
                    "no",
                    "yes",
                    "yes",
                    "no",
                    "yes",
                    "yes",
                    "no",
                    "no",
                    "no",
                    "no",
                    "no",
                    "no",
                    "no",
                    "no",
                    "no",
                    "yes",
                    "no",
                    "yes",
                    "no",
                    "no",
                    "no",
                    "no",
                    "no",
                    "no",
                    "no",
                    "no",
                    "no",
                    "yes",
                    "no",
                    "no",
                    "no",
                    "no",
                    "no",
                    "no",
                    "yes",
                    "yes",
                    "no",
                    "yes",
                    "no",
                    "no",
                    "no",
                    "no",
                    "no",
                    "no",
                    "no",
                    "no",
                    "no",
                    "no",
                    "no",
                    "yes",
                    "yes",
                    "yes",
                    "no",
                    "no",
                    "no",
                    "no",
                    "no",
                    "no",
                    "no",
                    "no",
                    "no",
                    "no",
                    "no",
                    "no",
                    "yes",
                    "no",
                    "no",
                    "no",
                    "no",
                    "no",
                    "no",
                    "no",
                    "no",
                    "no",
                    "no",
                    "no",
                    "no",
                    "no",
                    "no",
                    "no",
                    "yes",
                    "yes",
                    "no",
                    "no",
                    "no",
                    "yes",
                    "no",
                    "no",
                    "no",
                    "yes",
                    "no",
                    "no",
                    "no",
                    "no",
                    "no",
                    "yes",
                    "no",
                    "yes",
                    "no",
                    "no",
                    "no",
                    "no",
                    "no",
                    "no",
                    "no",
                    "no",
                    "no",
                    "no",
                    "no",
                    "no",
                    "no",
                    "no",
                    "no",
                    "yes",
                    "no",
                    "yes",
                    "no",
                    "yes",
                    "yes",
                    "yes",
                    "no",
                    "yes",
                    "no",
                    "yes",
                    "no",
                    "no",
                    "no",
                    "no",
                    "yes",
                    "no",
                    "no",
                    "no",
                    "yes",
                    "no",
                    "no",
                    "no",
                    "no",
                    "yes",
                    "no",
                    "no",
                    "no",
                    "no",
                    "yes",
                    "yes",
                    "no",
                    "no",
                    "no",
                    "no",
                    "no",
                    "yes",
                    "no",
                    "no",
                    "yes",
                    "no",
                    "no",
                    "no",
                    "yes",
                    "no",
                    "yes",
                    "no",
                    "no",
                    "yes",
                    "no",
                    "yes",
                    "no",
                    "no",
                    "no",
                    "yes",
                    "no",
                    "yes",
                    "yes",
                    "no",
                    "no",
                    "yes",
                    "no",
                    "no",
                    "no",
                    "no",
                    "yes",
                    "no",
                    "no",
                    "no",
                    "no",
                    "yes",
                    "no",
                    "no",
                    "no",
                    "yes",
                    "no",
                    "no",
                    "no",
                    "no",
                    "no",
                    "no",
                    "no",
                    "no",
                    "no",
                    "yes",
                    "no",
                    "no",
                    "no",
                    "no",
                    "no",
                    "no",
                    "no",
                    "no",
                    "yes",
                    "no",
                    "no",
                    "no",
                    "yes",
                    "yes",
                    "no",
                    "no",
                    "no",
                    "no",
                    "no",
                    "no",
                    "no",
                    "no",
                    "no",
                    "no",
                    "no",
                    "yes",
                    "no",
                    "no",
                    "yes",
                    "no",
                    "no",
                    "no",
                    "no",
                    "yes",
                    "no",
                    "no",
                    "yes",
                    "no",
                    "yes",
                    "no",
                    "no",
                    "no",
                    "no",
                    "no",
                    "no",
                    "no",
                    "yes",
                    "no",
                    "no",
                    "no",
                    "no",
                    "no",
                    "no",
                    "no",
                    "no",
                    "no",
                    "no",
                    "no",
                    "no",
                    "no",
                    "no",
                    "yes",
                    "no",
                    "no",
                    "no",
                    "yes",
                    "yes",
                    "no",
                    "no",
                    "no",
                    "yes",
                    "yes",
                    "no",
                    "yes",
                    "no",
                    "no",
                    "yes",
                    "yes",
                    "no",
                    "no",
                    "no",
                    "no",
                    "yes",
                    "no",
                    "yes",
                    "no",
                    "yes",
                    "yes",
                    "no",
                    "yes",
                    "no",
                    "no",
                    "no",
                    "no",
                    "no",
                    "no",
                    "yes",
                    "yes",
                    "yes",
                    "yes",
                    "yes",
                    "no",
                    "no",
                    "no",
                    "no",
                    "no",
                    "no",
                    "no",
                    "yes",
                    "no",
                    "no",
                    "no",
                    "no",
                    "no",
                    "no"
                  ],
                  "xaxis": "x",
                  "y": [
                    1725.5523,
                    4449.462,
                    21984.47061,
                    3866.8552,
                    6406.4107,
                    2721.3208,
                    1826.843,
                    39611.7577,
                    1837.237,
                    2395.17155,
                    10602.385,
                    36837.467,
                    1137.011,
                    6203.90175,
                    2775.19215,
                    38711,
                    35585.576,
                    13770.0979,
                    51194.55914,
                    1625.43375,
                    2302.3,
                    39774.2763,
                    48173.361,
                    6272.4772,
                    6079.6715,
                    20630.28351,
                    38709.176,
                    23568.272,
                    37742.5757,
                    47496.49445,
                    34303.1672,
                    8606.2174,
                    4504.6624,
                    30166.61817,
                    6389.37785,
                    17663.1442,
                    6799.458,
                    11946.6259,
                    7726.854,
                    11356.6609,
                    1532.4697,
                    4441.21315,
                    37165.1638,
                    21098.55405,
                    30184.9367,
                    5729.0053,
                    10226.2842,
                    22412.6485,
                    15820.699,
                    3645.0894,
                    17560.37975,
                    3877.30425,
                    2867.1196,
                    47055.5321,
                    10825.2537,
                    4646.759,
                    11488.31695,
                    30259.99556,
                    11381.3254,
                    7740.337,
                    1705.6245,
                    39556.4945,
                    6082.405,
                    1632.56445,
                    1261.442,
                    2045.68525,
                    27375.90478,
                    3490.5491,
                    18972.495,
                    18157.876,
                    20745.9891,
                    40720.55105,
                    1842.519,
                    5125.2157,
                    7789.635,
                    6948.7008,
                    21223.6758,
                    15518.18025,
                    36950.2567,
                    10450.552,
                    5028.1466,
                    10407.08585,
                    4827.90495,
                    13405.3903,
                    8116.68,
                    1694.7964,
                    6455.86265,
                    10436.096,
                    11735.87905,
                    4005.4225,
                    7731.4271,
                    43753.33705,
                    12557.6053,
                    2137.6536,
                    1137.4697,
                    1639.5631,
                    7147.105,
                    11743.299,
                    20984.0936,
                    6610.1097,
                    1980.07,
                    8162.71625,
                    3537.703,
                    2483.736,
                    5253.524,
                    34779.615,
                    19515.5416,
                    11987.1682,
                    2689.4954,
                    9225.2564,
                    12333.828,
                    6710.1919,
                    4463.2051,
                    17352.6803,
                    7152.6714,
                    7196.867,
                    24476.47851,
                    1986.9334,
                    1832.094,
                    4040.55825,
                    12829.4551,
                    44260.7499,
                    4260.744,
                    41097.16175,
                    43921.1837,
                    11520.09985,
                    33750.2918,
                    24869.8368,
                    36219.40545,
                    46151.1245,
                    17179.522,
                    7441.053,
                    9282.4806,
                    1719.4363,
                    42856.838,
                    7265.7025,
                    9617.66245,
                    2523.1695,
                    2803.69785,
                    12928.7911,
                    48549.17835,
                    4237.12655,
                    7742.1098,
                    25992.82104,
                    20277.80751,
                    42112.2356,
                    3906.127,
                    1704.5681,
                    16297.846,
                    21978.6769,
                    38746.3551,
                    6746.7425,
                    19442.3535,
                    11944.59435,
                    8444.474,
                    42124.5153,
                    8124.4084,
                    9722.7695,
                    8835.26495,
                    10435.06525,
                    4667.60765,
                    4894.7533,
                    35491.64,
                    11566.30055,
                    2866.091,
                    6600.20595,
                    42760.5022,
                    9144.565,
                    24393.6224,
                    13822.803,
                    12142.5786,
                    13937.6665,
                    41919.097,
                    13352.0998,
                    13981.85035,
                    4889.9995,
                    8334.45755,
                    1635.73365,
                    12404.8791,
                    24603.04837,
                    8944.1151,
                    9620.3307,
                    1837.2819,
                    4751.07,
                    8116.26885,
                    3481.868,
                    36085.219,
                    1391.5287,
                    38126.2465,
                    27000.98473,
                    42303.69215,
                    20781.48892,
                    8302.53565,
                    1261.859,
                    30284.64294,
                    10736.87075,
                    8964.06055,
                    9290.1395,
                    7526.70645,
                    16586.49771,
                    14988.432,
                    8083.9198,
                    10269.46,
                    3260.199,
                    6652.5288,
                    4074.4537,
                    1621.3402,
                    5080.096,
                    9140.951,
                    14418.2804,
                    46889.2612,
                    46599.1084,
                    39125.33225,
                    2727.3951,
                    8968.33,
                    9788.8659,
                    23082.95533,
                    5969.723,
                    4243.59005,
                    13919.8229,
                    2254.7967,
                    5926.846,
                    2897.3235,
                    1149.3959,
                    26109.32905,
                    12730.9996,
                    4762.329,
                    7512.267,
                    4032.2407,
                    1969.614,
                    1769.53165,
                    4686.3887,
                    21797.0004,
                    10601.412,
                    22144.032,
                    11165.41765,
                    1632.03625,
                    2497.0383,
                    25382.297,
                    28868.6639,
                    35147.52848,
                    2534.39375,
                    1534.3045,
                    1824.2854,
                    15555.18875,
                    9304.7019,
                    9563.029,
                    1253.936,
                    10461.9794,
                    12574.049,
                    17942.106,
                    1967.0227,
                    8027.968,
                    36197.699,
                    6837.3687,
                    22218.1149,
                    32548.3405,
                    6796.86325,
                    2643.2685,
                    3077.0955,
                    11763.0009,
                    2498.4144,
                    9361.3268,
                    1256.299,
                    21082.16,
                    11362.755,
                    27724.28875,
                    8413.46305,
                    3857.75925,
                    38245.59327,
                    8342.90875,
                    1708.0014,
                    48675.5177,
                    12925.886,
                    19214.70553,
                    13831.1152,
                    6067.12675,
                    27346.04207,
                    10231.4999,
                    23807.2406,
                    3268.84665,
                    13390.559,
                    12957.118,
                    3847.674,
                    8334.5896,
                    3935.1799,
                    1646.4297,
                    2494.022,
                    9058.7303,
                    7256.7231,
                    45702.02235,
                    1664.9996,
                    9724.53,
                    12913.9924,
                    1639.5631,
                    6356.2707,
                    1242.816,
                    3861.20965,
                    8428.0693,
                    2566.4707,
                    5709.1644,
                    7441.501,
                    9174.13565,
                    4435.0942,
                    39241.442,
                    23306.547,
                    3659.346,
                    40182.246,
                    34617.84065,
                    12129.61415,
                    6748.5912,
                    11326.71487,
                    11365.952,
                    10085.846,
                    1977.815,
                    7173.35995,
                    9391.346,
                    14410.9321,
                    20149.3229,
                    12949.1554,
                    6666.243,
                    32787.45859,
                    13143.86485,
                    18806.14547,
                    10141.1362,
                    6123.5688,
                    1712.227,
                    4058.71245,
                    6435.6237,
                    1136.3994,
                    42560.4304,
                    8703.456,
                    45710.20785,
                    4837.5823,
                    4399.731,
                    7222.78625,
                    46130.5265,
                    12363.547,
                    1242.26,
                    40103.89,
                    9863.4718,
                    11244.3769,
                    7729.64575,
                    5438.7491,
                    34806.4677,
                    2104.1134,
                    8068.185,
                    2362.22905,
                    2352.96845,
                    40273.6455,
                    10976.24575,
                    9504.3103,
                    10264.4421,
                    1727.54,
                    1984.4533,
                    12146.971,
                    13112.6048,
                    11264.541,
                    12979.358,
                    1263.249,
                    6664.68595,
                    19361.9988,
                    10065.413,
                    3484.331,
                    36189.1017,
                    44585.45587,
                    8604.48365,
                    18246.4955,
                    43254.41795,
                    8827.2099,
                    11737.84884,
                    1627.28245,
                    3062.50825,
                    1906.35825,
                    14210.53595,
                    17128.42608,
                    5031.26955,
                    5428.7277,
                    36307.7983,
                    2416.955,
                    19040.876,
                    3070.8087,
                    8062.764,
                    27941.28758,
                    7261.741,
                    10560.4917,
                    6986.697,
                    7448.40395,
                    5934.3798,
                    9869.8102,
                    18259.216,
                    1146.7966,
                    9386.1613,
                    12741.16745,
                    1917.3184,
                    5209.57885,
                    1252.407,
                    21195.818,
                    18310.742,
                    4266.1658,
                    17904.52705,
                    2103.08,
                    1815.8759,
                    1131.5066,
                    3309.7926,
                    11013.7119,
                    4428.88785,
                    5584.3057,
                    3597.596,
                    7445.918,
                    2680.9493,
                    12523.6048,
                    43813.8661,
                    20773.62775,
                    39597.4072,
                    6117.4945,
                    13393.756,
                    11743.9341,
                    5377.4578,
                    7160.3303,
                    4402.233,
                    1526.312,
                    12323.936,
                    10072.05505,
                    2438.0552,
                    10601.63225,
                    14119.62,
                    15817.9857,
                    10965.446,
                    8782.469,
                    6600.361,
                    1141.4451,
                    11576.13,
                    13129.60345,
                    8457.818,
                    5966.8874,
                    6849.026,
                    8891.1395,
                    6653.7886,
                    6282.235,
                    3443.064,
                    2789.0574,
                    4877.98105,
                    19719.6947,
                    27218.43725,
                    1682.597,
                    11945.1327,
                    10422.91665,
                    44202.6536,
                    13555.0049,
                    2221.56445,
                    8688.85885,
                    48673.5588,
                    4661.28635,
                    8125.7845,
                    4846.92015,
                    15170.069,
                    2639.0429,
                    33732.6867,
                    5257.50795,
                    35069.37452,
                    5488.262,
                    4320.41085,
                    6250.435,
                    25333.33284,
                    6289.7549,
                    2927.0647,
                    10096.97,
                    4673.3922,
                    32108.66282,
                    2304.0022,
                    9487.6442,
                    1121.8739,
                    1628.4709,
                    12982.8747,
                    7160.094,
                    39047.285,
                    6358.77645,
                    19933.458,
                    11534.87265,
                    47462.894,
                    38998.546,
                    20009.63365,
                    3875.7341,
                    41999.52,
                    12609.88702,
                    41034.2214,
                    28468.91901,
                    9500.57305,
                    26467.09737,
                    4746.344,
                    23967.38305,
                    7518.02535,
                    3279.86855,
                    2322.6218,
                    16138.76205,
                    7804.1605,
                    2902.9065,
                    25517.11363,
                    4500.33925,
                    19199.944,
                    4915.05985,
                    8410.04685,
                    4518.82625,
                    5484.4673,
                    17361.7661,
                    34472.841,
                    1972.95,
                    21232.18226,
                    8627.5411,
                    4433.3877,
                    4438.2634,
                    24915.22085,
                    23241.47453,
                    9957.7216,
                    18767.7377,
                    8765.249,
                    12124.9924,
                    8798.593,
                    42211.1382,
                    1711.0268,
                    16450.8947,
                    21595.38229,
                    9850.432,
                    13747.87235,
                    12950.0712,
                    37484.4493,
                    2250.8352,
                    22493.65964,
                    1704.70015,
                    33475.81715,
                    11394.06555,
                    44501.3982,
                    39727.614,
                    14394.5579,
                    9288.0267,
                    25309.489,
                    10594.50155,
                    4462.7218,
                    1981.5819,
                    11554.2236,
                    48970.2476,
                    6548.19505,
                    8978.1851,
                    5757.41345,
                    14349.8544,
                    39871.7043,
                    13974.45555,
                    1909.52745,
                    2102.2647,
                    34672.1472,
                    15161.5344,
                    11884.04858,
                    4454.40265,
                    5855.9025,
                    4076.497,
                    10796.35025,
                    11353.2276,
                    9748.9106,
                    10577.087,
                    41676.0811,
                    3591.48,
                    1674.6323,
                    11253.421,
                    3471.4096,
                    11363.2832,
                    20420.60465,
                    2904.088,
                    8605.3615,
                    41949.2441,
                    2396.0959,
                    10807.4863,
                    9222.4026,
                    36124.5737,
                    38282.7495,
                    8347.1643,
                    10214.636,
                    14358.36437,
                    3693.428,
                    20709.02034,
                    19673.33573,
                    3704.3545,
                    9048.0273,
                    6338.0756,
                    9630.397,
                    11289.10925,
                    52590.82939,
                    10791.96,
                    5979.731,
                    39722.7462,
                    5124.1887,
                    18963.17192,
                    10982.5013,
                    4670.64,
                    17178.6824,
                    6457.8434,
                    4433.9159,
                    19350.3689,
                    8603.8234,
                    37465.34375,
                    5699.8375,
                    6393.60345,
                    6198.7518,
                    8733.22925,
                    2055.3249,
                    9964.06,
                    5116.5004,
                    38415.474,
                    12347.172,
                    5373.36425,
                    23563.01618,
                    1702.4553,
                    12890.05765,
                    5415.6612,
                    4058.1161,
                    6593.5083,
                    8442.667,
                    6858.4796,
                    6640.54485,
                    7162.0122,
                    10594.2257,
                    11938.25595,
                    60021.39897,
                    11345.519,
                    2699.56835,
                    6985.50695,
                    47269.854,
                    49577.6624,
                    1135.9407,
                    5615.369,
                    6059.173,
                    37607.5277,
                    18648.4217,
                    1241.565,
                    16232.847,
                    30063.58055,
                    3277.161,
                    26926.5144,
                    34254.05335,
                    8615.3,
                    3292.52985,
                    14478.33015,
                    4747.0529,
                    17043.3414,
                    10959.33,
                    22462.04375,
                    1720.3537,
                    47403.88,
                    38344.566,
                    7147.4728,
                    34828.654,
                    1515.3449,
                    9301.89355,
                    11931.12525,
                    1964.78,
                    1708.92575,
                    5261.46945,
                    62592.87309,
                    46718.16325,
                    37829.7242,
                    21259.37795,
                    21472.4788,
                    6875.961,
                    6940.90985,
                    4536.259,
                    11272.33139,
                    1163.4627,
                    19496.71917,
                    5425.02335,
                    28101.33305,
                    12981.3457,
                    4239.89265,
                    13143.33665,
                    9377.9047,
                    10325.206,
                    10600.5483
                  ],
                  "yaxis": "y"
                }
              ],
              "layout": {
                "barmode": "group",
                "height": 600,
                "legend": {
                  "title": {
                    "text": "sex"
                  },
                  "tracegroupgap": 0
                },
                "template": {
                  "data": {
                    "bar": [
                      {
                        "error_x": {
                          "color": "#2a3f5f"
                        },
                        "error_y": {
                          "color": "#2a3f5f"
                        },
                        "marker": {
                          "line": {
                            "color": "#E5ECF6",
                            "width": 0.5
                          },
                          "pattern": {
                            "fillmode": "overlay",
                            "size": 10,
                            "solidity": 0.2
                          }
                        },
                        "type": "bar"
                      }
                    ],
                    "barpolar": [
                      {
                        "marker": {
                          "line": {
                            "color": "#E5ECF6",
                            "width": 0.5
                          },
                          "pattern": {
                            "fillmode": "overlay",
                            "size": 10,
                            "solidity": 0.2
                          }
                        },
                        "type": "barpolar"
                      }
                    ],
                    "carpet": [
                      {
                        "aaxis": {
                          "endlinecolor": "#2a3f5f",
                          "gridcolor": "white",
                          "linecolor": "white",
                          "minorgridcolor": "white",
                          "startlinecolor": "#2a3f5f"
                        },
                        "baxis": {
                          "endlinecolor": "#2a3f5f",
                          "gridcolor": "white",
                          "linecolor": "white",
                          "minorgridcolor": "white",
                          "startlinecolor": "#2a3f5f"
                        },
                        "type": "carpet"
                      }
                    ],
                    "choropleth": [
                      {
                        "colorbar": {
                          "outlinewidth": 0,
                          "ticks": ""
                        },
                        "type": "choropleth"
                      }
                    ],
                    "contour": [
                      {
                        "colorbar": {
                          "outlinewidth": 0,
                          "ticks": ""
                        },
                        "colorscale": [
                          [
                            0,
                            "#0d0887"
                          ],
                          [
                            0.1111111111111111,
                            "#46039f"
                          ],
                          [
                            0.2222222222222222,
                            "#7201a8"
                          ],
                          [
                            0.3333333333333333,
                            "#9c179e"
                          ],
                          [
                            0.4444444444444444,
                            "#bd3786"
                          ],
                          [
                            0.5555555555555556,
                            "#d8576b"
                          ],
                          [
                            0.6666666666666666,
                            "#ed7953"
                          ],
                          [
                            0.7777777777777778,
                            "#fb9f3a"
                          ],
                          [
                            0.8888888888888888,
                            "#fdca26"
                          ],
                          [
                            1,
                            "#f0f921"
                          ]
                        ],
                        "type": "contour"
                      }
                    ],
                    "contourcarpet": [
                      {
                        "colorbar": {
                          "outlinewidth": 0,
                          "ticks": ""
                        },
                        "type": "contourcarpet"
                      }
                    ],
                    "heatmap": [
                      {
                        "colorbar": {
                          "outlinewidth": 0,
                          "ticks": ""
                        },
                        "colorscale": [
                          [
                            0,
                            "#0d0887"
                          ],
                          [
                            0.1111111111111111,
                            "#46039f"
                          ],
                          [
                            0.2222222222222222,
                            "#7201a8"
                          ],
                          [
                            0.3333333333333333,
                            "#9c179e"
                          ],
                          [
                            0.4444444444444444,
                            "#bd3786"
                          ],
                          [
                            0.5555555555555556,
                            "#d8576b"
                          ],
                          [
                            0.6666666666666666,
                            "#ed7953"
                          ],
                          [
                            0.7777777777777778,
                            "#fb9f3a"
                          ],
                          [
                            0.8888888888888888,
                            "#fdca26"
                          ],
                          [
                            1,
                            "#f0f921"
                          ]
                        ],
                        "type": "heatmap"
                      }
                    ],
                    "heatmapgl": [
                      {
                        "colorbar": {
                          "outlinewidth": 0,
                          "ticks": ""
                        },
                        "colorscale": [
                          [
                            0,
                            "#0d0887"
                          ],
                          [
                            0.1111111111111111,
                            "#46039f"
                          ],
                          [
                            0.2222222222222222,
                            "#7201a8"
                          ],
                          [
                            0.3333333333333333,
                            "#9c179e"
                          ],
                          [
                            0.4444444444444444,
                            "#bd3786"
                          ],
                          [
                            0.5555555555555556,
                            "#d8576b"
                          ],
                          [
                            0.6666666666666666,
                            "#ed7953"
                          ],
                          [
                            0.7777777777777778,
                            "#fb9f3a"
                          ],
                          [
                            0.8888888888888888,
                            "#fdca26"
                          ],
                          [
                            1,
                            "#f0f921"
                          ]
                        ],
                        "type": "heatmapgl"
                      }
                    ],
                    "histogram": [
                      {
                        "marker": {
                          "pattern": {
                            "fillmode": "overlay",
                            "size": 10,
                            "solidity": 0.2
                          }
                        },
                        "type": "histogram"
                      }
                    ],
                    "histogram2d": [
                      {
                        "colorbar": {
                          "outlinewidth": 0,
                          "ticks": ""
                        },
                        "colorscale": [
                          [
                            0,
                            "#0d0887"
                          ],
                          [
                            0.1111111111111111,
                            "#46039f"
                          ],
                          [
                            0.2222222222222222,
                            "#7201a8"
                          ],
                          [
                            0.3333333333333333,
                            "#9c179e"
                          ],
                          [
                            0.4444444444444444,
                            "#bd3786"
                          ],
                          [
                            0.5555555555555556,
                            "#d8576b"
                          ],
                          [
                            0.6666666666666666,
                            "#ed7953"
                          ],
                          [
                            0.7777777777777778,
                            "#fb9f3a"
                          ],
                          [
                            0.8888888888888888,
                            "#fdca26"
                          ],
                          [
                            1,
                            "#f0f921"
                          ]
                        ],
                        "type": "histogram2d"
                      }
                    ],
                    "histogram2dcontour": [
                      {
                        "colorbar": {
                          "outlinewidth": 0,
                          "ticks": ""
                        },
                        "colorscale": [
                          [
                            0,
                            "#0d0887"
                          ],
                          [
                            0.1111111111111111,
                            "#46039f"
                          ],
                          [
                            0.2222222222222222,
                            "#7201a8"
                          ],
                          [
                            0.3333333333333333,
                            "#9c179e"
                          ],
                          [
                            0.4444444444444444,
                            "#bd3786"
                          ],
                          [
                            0.5555555555555556,
                            "#d8576b"
                          ],
                          [
                            0.6666666666666666,
                            "#ed7953"
                          ],
                          [
                            0.7777777777777778,
                            "#fb9f3a"
                          ],
                          [
                            0.8888888888888888,
                            "#fdca26"
                          ],
                          [
                            1,
                            "#f0f921"
                          ]
                        ],
                        "type": "histogram2dcontour"
                      }
                    ],
                    "mesh3d": [
                      {
                        "colorbar": {
                          "outlinewidth": 0,
                          "ticks": ""
                        },
                        "type": "mesh3d"
                      }
                    ],
                    "parcoords": [
                      {
                        "line": {
                          "colorbar": {
                            "outlinewidth": 0,
                            "ticks": ""
                          }
                        },
                        "type": "parcoords"
                      }
                    ],
                    "pie": [
                      {
                        "automargin": true,
                        "type": "pie"
                      }
                    ],
                    "scatter": [
                      {
                        "fillpattern": {
                          "fillmode": "overlay",
                          "size": 10,
                          "solidity": 0.2
                        },
                        "type": "scatter"
                      }
                    ],
                    "scatter3d": [
                      {
                        "line": {
                          "colorbar": {
                            "outlinewidth": 0,
                            "ticks": ""
                          }
                        },
                        "marker": {
                          "colorbar": {
                            "outlinewidth": 0,
                            "ticks": ""
                          }
                        },
                        "type": "scatter3d"
                      }
                    ],
                    "scattercarpet": [
                      {
                        "marker": {
                          "colorbar": {
                            "outlinewidth": 0,
                            "ticks": ""
                          }
                        },
                        "type": "scattercarpet"
                      }
                    ],
                    "scattergeo": [
                      {
                        "marker": {
                          "colorbar": {
                            "outlinewidth": 0,
                            "ticks": ""
                          }
                        },
                        "type": "scattergeo"
                      }
                    ],
                    "scattergl": [
                      {
                        "marker": {
                          "colorbar": {
                            "outlinewidth": 0,
                            "ticks": ""
                          }
                        },
                        "type": "scattergl"
                      }
                    ],
                    "scattermapbox": [
                      {
                        "marker": {
                          "colorbar": {
                            "outlinewidth": 0,
                            "ticks": ""
                          }
                        },
                        "type": "scattermapbox"
                      }
                    ],
                    "scatterpolar": [
                      {
                        "marker": {
                          "colorbar": {
                            "outlinewidth": 0,
                            "ticks": ""
                          }
                        },
                        "type": "scatterpolar"
                      }
                    ],
                    "scatterpolargl": [
                      {
                        "marker": {
                          "colorbar": {
                            "outlinewidth": 0,
                            "ticks": ""
                          }
                        },
                        "type": "scatterpolargl"
                      }
                    ],
                    "scatterternary": [
                      {
                        "marker": {
                          "colorbar": {
                            "outlinewidth": 0,
                            "ticks": ""
                          }
                        },
                        "type": "scatterternary"
                      }
                    ],
                    "surface": [
                      {
                        "colorbar": {
                          "outlinewidth": 0,
                          "ticks": ""
                        },
                        "colorscale": [
                          [
                            0,
                            "#0d0887"
                          ],
                          [
                            0.1111111111111111,
                            "#46039f"
                          ],
                          [
                            0.2222222222222222,
                            "#7201a8"
                          ],
                          [
                            0.3333333333333333,
                            "#9c179e"
                          ],
                          [
                            0.4444444444444444,
                            "#bd3786"
                          ],
                          [
                            0.5555555555555556,
                            "#d8576b"
                          ],
                          [
                            0.6666666666666666,
                            "#ed7953"
                          ],
                          [
                            0.7777777777777778,
                            "#fb9f3a"
                          ],
                          [
                            0.8888888888888888,
                            "#fdca26"
                          ],
                          [
                            1,
                            "#f0f921"
                          ]
                        ],
                        "type": "surface"
                      }
                    ],
                    "table": [
                      {
                        "cells": {
                          "fill": {
                            "color": "#EBF0F8"
                          },
                          "line": {
                            "color": "white"
                          }
                        },
                        "header": {
                          "fill": {
                            "color": "#C8D4E3"
                          },
                          "line": {
                            "color": "white"
                          }
                        },
                        "type": "table"
                      }
                    ]
                  },
                  "layout": {
                    "annotationdefaults": {
                      "arrowcolor": "#2a3f5f",
                      "arrowhead": 0,
                      "arrowwidth": 1
                    },
                    "autotypenumbers": "strict",
                    "coloraxis": {
                      "colorbar": {
                        "outlinewidth": 0,
                        "ticks": ""
                      }
                    },
                    "colorscale": {
                      "diverging": [
                        [
                          0,
                          "#8e0152"
                        ],
                        [
                          0.1,
                          "#c51b7d"
                        ],
                        [
                          0.2,
                          "#de77ae"
                        ],
                        [
                          0.3,
                          "#f1b6da"
                        ],
                        [
                          0.4,
                          "#fde0ef"
                        ],
                        [
                          0.5,
                          "#f7f7f7"
                        ],
                        [
                          0.6,
                          "#e6f5d0"
                        ],
                        [
                          0.7,
                          "#b8e186"
                        ],
                        [
                          0.8,
                          "#7fbc41"
                        ],
                        [
                          0.9,
                          "#4d9221"
                        ],
                        [
                          1,
                          "#276419"
                        ]
                      ],
                      "sequential": [
                        [
                          0,
                          "#0d0887"
                        ],
                        [
                          0.1111111111111111,
                          "#46039f"
                        ],
                        [
                          0.2222222222222222,
                          "#7201a8"
                        ],
                        [
                          0.3333333333333333,
                          "#9c179e"
                        ],
                        [
                          0.4444444444444444,
                          "#bd3786"
                        ],
                        [
                          0.5555555555555556,
                          "#d8576b"
                        ],
                        [
                          0.6666666666666666,
                          "#ed7953"
                        ],
                        [
                          0.7777777777777778,
                          "#fb9f3a"
                        ],
                        [
                          0.8888888888888888,
                          "#fdca26"
                        ],
                        [
                          1,
                          "#f0f921"
                        ]
                      ],
                      "sequentialminus": [
                        [
                          0,
                          "#0d0887"
                        ],
                        [
                          0.1111111111111111,
                          "#46039f"
                        ],
                        [
                          0.2222222222222222,
                          "#7201a8"
                        ],
                        [
                          0.3333333333333333,
                          "#9c179e"
                        ],
                        [
                          0.4444444444444444,
                          "#bd3786"
                        ],
                        [
                          0.5555555555555556,
                          "#d8576b"
                        ],
                        [
                          0.6666666666666666,
                          "#ed7953"
                        ],
                        [
                          0.7777777777777778,
                          "#fb9f3a"
                        ],
                        [
                          0.8888888888888888,
                          "#fdca26"
                        ],
                        [
                          1,
                          "#f0f921"
                        ]
                      ]
                    },
                    "colorway": [
                      "#636efa",
                      "#EF553B",
                      "#00cc96",
                      "#ab63fa",
                      "#FFA15A",
                      "#19d3f3",
                      "#FF6692",
                      "#B6E880",
                      "#FF97FF",
                      "#FECB52"
                    ],
                    "font": {
                      "color": "#2a3f5f"
                    },
                    "geo": {
                      "bgcolor": "white",
                      "lakecolor": "white",
                      "landcolor": "#E5ECF6",
                      "showlakes": true,
                      "showland": true,
                      "subunitcolor": "white"
                    },
                    "hoverlabel": {
                      "align": "left"
                    },
                    "hovermode": "closest",
                    "mapbox": {
                      "style": "light"
                    },
                    "paper_bgcolor": "white",
                    "plot_bgcolor": "#E5ECF6",
                    "polar": {
                      "angularaxis": {
                        "gridcolor": "white",
                        "linecolor": "white",
                        "ticks": ""
                      },
                      "bgcolor": "#E5ECF6",
                      "radialaxis": {
                        "gridcolor": "white",
                        "linecolor": "white",
                        "ticks": ""
                      }
                    },
                    "scene": {
                      "xaxis": {
                        "backgroundcolor": "#E5ECF6",
                        "gridcolor": "white",
                        "gridwidth": 2,
                        "linecolor": "white",
                        "showbackground": true,
                        "ticks": "",
                        "zerolinecolor": "white"
                      },
                      "yaxis": {
                        "backgroundcolor": "#E5ECF6",
                        "gridcolor": "white",
                        "gridwidth": 2,
                        "linecolor": "white",
                        "showbackground": true,
                        "ticks": "",
                        "zerolinecolor": "white"
                      },
                      "zaxis": {
                        "backgroundcolor": "#E5ECF6",
                        "gridcolor": "white",
                        "gridwidth": 2,
                        "linecolor": "white",
                        "showbackground": true,
                        "ticks": "",
                        "zerolinecolor": "white"
                      }
                    },
                    "shapedefaults": {
                      "line": {
                        "color": "#2a3f5f"
                      }
                    },
                    "ternary": {
                      "aaxis": {
                        "gridcolor": "white",
                        "linecolor": "white",
                        "ticks": ""
                      },
                      "baxis": {
                        "gridcolor": "white",
                        "linecolor": "white",
                        "ticks": ""
                      },
                      "bgcolor": "#E5ECF6",
                      "caxis": {
                        "gridcolor": "white",
                        "linecolor": "white",
                        "ticks": ""
                      }
                    },
                    "title": {
                      "x": 0.05
                    },
                    "xaxis": {
                      "automargin": true,
                      "gridcolor": "white",
                      "linecolor": "white",
                      "ticks": "",
                      "title": {
                        "standoff": 15
                      },
                      "zerolinecolor": "white",
                      "zerolinewidth": 2
                    },
                    "yaxis": {
                      "automargin": true,
                      "gridcolor": "white",
                      "linecolor": "white",
                      "ticks": "",
                      "title": {
                        "standoff": 15
                      },
                      "zerolinecolor": "white",
                      "zerolinewidth": 2
                    }
                  }
                },
                "title": {
                  "text": "Smoker vs Charges by Sex"
                },
                "width": 1000,
                "xaxis": {
                  "anchor": "y",
                  "domain": [
                    0,
                    1
                  ],
                  "title": {
                    "text": "smoker"
                  }
                },
                "yaxis": {
                  "anchor": "x",
                  "domain": [
                    0,
                    1
                  ],
                  "title": {
                    "text": "avg of charges"
                  }
                }
              }
            }
          },
          "metadata": {},
          "output_type": "display_data"
        }
      ],
      "source": [
        "fig = px.histogram(data_frame=df, x=\"smoker\", y=\"charges\", color=\"sex\", \n",
        "                   title=\"Smoker vs Charges by Sex\", barmode=\"group\", \n",
        "                   histfunc = \"avg\", width=1000, height=600)\n",
        "\n",
        "fig.show()"
      ]
    },
    {
      "cell_type": "markdown",
      "metadata": {},
      "source": [
        "**Smoker vs Charges by Sex**\n",
        "\n",
        "Smoking determines the amount of insurance charges. The average of charges paid by females who smoke are 30, 679 and 33, 042 by their male counterparts. \n",
        "\n",
        "In contrast, the average of charges paid by females who do not smoke are 8, 762 and 8, 087 by male non-smokers. Let's explore further."
      ]
    },
    {
      "cell_type": "code",
      "execution_count": 185,
      "metadata": {},
      "outputs": [
        {
          "data": {
            "application/vnd.plotly.v1+json": {
              "config": {
                "plotlyServerURL": "https://plot.ly"
              },
              "data": [
                {
                  "alignmentgroup": "True",
                  "hovertemplate": "region=southwest<br>smoker=%{x}<br>charges=%{y}<extra></extra>",
                  "legendgroup": "southwest",
                  "marker": {
                    "color": "#636efa"
                  },
                  "name": "southwest",
                  "notched": false,
                  "offsetgroup": "southwest",
                  "orientation": "v",
                  "showlegend": true,
                  "type": "box",
                  "x": [
                    "yes",
                    "no",
                    "no",
                    "no",
                    "yes",
                    "no",
                    "yes",
                    "yes",
                    "no",
                    "yes",
                    "no",
                    "yes",
                    "no",
                    "yes",
                    "no",
                    "no",
                    "no",
                    "no",
                    "yes",
                    "no",
                    "yes",
                    "no",
                    "yes",
                    "no",
                    "no",
                    "no",
                    "no",
                    "no",
                    "no",
                    "yes",
                    "no",
                    "no",
                    "no",
                    "no",
                    "no",
                    "no",
                    "no",
                    "no",
                    "no",
                    "no",
                    "no",
                    "yes",
                    "no",
                    "no",
                    "no",
                    "no",
                    "no",
                    "no",
                    "no",
                    "no",
                    "no",
                    "no",
                    "no",
                    "no",
                    "no",
                    "yes",
                    "no",
                    "no",
                    "no",
                    "no",
                    "no",
                    "yes",
                    "no",
                    "no",
                    "no",
                    "yes",
                    "no",
                    "no",
                    "no",
                    "no",
                    "yes",
                    "no",
                    "no",
                    "no",
                    "no",
                    "yes",
                    "yes",
                    "no",
                    "yes",
                    "no",
                    "no",
                    "no",
                    "no",
                    "no",
                    "no",
                    "no",
                    "yes",
                    "no",
                    "yes",
                    "no",
                    "no",
                    "no",
                    "no",
                    "no",
                    "no",
                    "no",
                    "yes",
                    "no",
                    "no",
                    "no",
                    "no",
                    "no",
                    "yes",
                    "no",
                    "no",
                    "no",
                    "no",
                    "no",
                    "no",
                    "no",
                    "yes",
                    "no",
                    "no",
                    "yes",
                    "no",
                    "no",
                    "no",
                    "no",
                    "no",
                    "yes",
                    "no",
                    "no",
                    "no",
                    "yes",
                    "no",
                    "no",
                    "yes",
                    "no",
                    "no",
                    "no",
                    "no",
                    "no",
                    "no",
                    "no",
                    "no",
                    "no",
                    "no",
                    "no",
                    "no",
                    "no",
                    "no",
                    "no",
                    "no",
                    "no",
                    "no",
                    "yes",
                    "no",
                    "yes",
                    "no",
                    "no",
                    "yes",
                    "no",
                    "no",
                    "no",
                    "no",
                    "no",
                    "no",
                    "no",
                    "no",
                    "no",
                    "no",
                    "no",
                    "yes",
                    "no",
                    "no",
                    "no",
                    "no",
                    "no",
                    "no",
                    "no",
                    "no",
                    "no",
                    "no",
                    "no",
                    "no",
                    "no",
                    "no",
                    "yes",
                    "no",
                    "no",
                    "no",
                    "yes",
                    "no",
                    "no",
                    "no",
                    "no",
                    "no",
                    "yes",
                    "yes",
                    "no",
                    "no",
                    "no",
                    "no",
                    "no",
                    "no",
                    "no",
                    "no",
                    "no",
                    "no",
                    "no",
                    "no",
                    "no",
                    "no",
                    "yes",
                    "no",
                    "no",
                    "no",
                    "no",
                    "no",
                    "no",
                    "no",
                    "no",
                    "no",
                    "no",
                    "no",
                    "no",
                    "no",
                    "no",
                    "no",
                    "yes",
                    "no",
                    "no",
                    "no",
                    "no",
                    "no",
                    "no",
                    "no",
                    "no",
                    "no",
                    "no",
                    "no",
                    "no",
                    "no",
                    "no",
                    "yes",
                    "yes",
                    "no",
                    "no",
                    "no",
                    "yes",
                    "no",
                    "no",
                    "no",
                    "no",
                    "yes",
                    "no",
                    "no",
                    "no",
                    "no",
                    "no",
                    "no",
                    "no",
                    "no",
                    "no",
                    "no",
                    "yes",
                    "yes",
                    "no",
                    "no",
                    "no",
                    "no",
                    "no",
                    "yes",
                    "no",
                    "no",
                    "no",
                    "no",
                    "no",
                    "no",
                    "yes",
                    "no",
                    "no",
                    "no",
                    "no",
                    "no",
                    "no",
                    "no",
                    "yes",
                    "no",
                    "no",
                    "no",
                    "no",
                    "no",
                    "yes",
                    "no",
                    "no",
                    "no",
                    "no",
                    "no",
                    "no",
                    "yes",
                    "no",
                    "no",
                    "yes",
                    "yes",
                    "no",
                    "no",
                    "no",
                    "no",
                    "no",
                    "yes",
                    "no",
                    "no",
                    "no",
                    "no",
                    "no",
                    "no",
                    "no",
                    "no",
                    "yes",
                    "no",
                    "yes",
                    "yes",
                    "no",
                    "no",
                    "yes",
                    "yes",
                    "no",
                    "no",
                    "yes",
                    "no",
                    "no",
                    "no",
                    "no",
                    "no"
                  ],
                  "x0": " ",
                  "xaxis": "x",
                  "y": [
                    16884.924,
                    1826.843,
                    1837.237,
                    10602.385,
                    36837.467,
                    4149.736,
                    38711,
                    35585.576,
                    4687.797,
                    51194.55914,
                    2302.3,
                    48173.361,
                    20630.28351,
                    23568.272,
                    1743.214,
                    14235.072,
                    11741.726,
                    7726.854,
                    39836.519,
                    11073.176,
                    47291.055,
                    12105.32,
                    15820.699,
                    6186.127,
                    5003.853,
                    2331.519,
                    11881.358,
                    4646.759,
                    7740.337,
                    17081.08,
                    9634.538,
                    6082.405,
                    11163.568,
                    1261.442,
                    2166.732,
                    1842.519,
                    10450.552,
                    5152.134,
                    4830.63,
                    8116.68,
                    5246.047,
                    48824.45,
                    10436.096,
                    8823.279,
                    5325.651,
                    6775.961,
                    4883.866,
                    5649.715,
                    7147.105,
                    13880.949,
                    1980.07,
                    8520.026,
                    7371.772,
                    5012.471,
                    5253.524,
                    34779.615,
                    1727.785,
                    12333.828,
                    35160.13457,
                    7196.867,
                    1832.094,
                    47305.305,
                    4260.744,
                    11837.16,
                    7441.053,
                    42856.838,
                    2150.469,
                    9625.92,
                    3172.018,
                    3906.127,
                    16297.846,
                    12646.207,
                    20177.67113,
                    8444.474,
                    1737.376,
                    34838.873,
                    35491.64,
                    2866.091,
                    47928.03,
                    9144.565,
                    13822.803,
                    18955.22017,
                    8932.084,
                    3554.203,
                    24603.04837,
                    4751.07,
                    13844.506,
                    2597.779,
                    36085.219,
                    1261.859,
                    8522.003,
                    14988.432,
                    9264.797,
                    3260.199,
                    8539.671,
                    5080.096,
                    18608.262,
                    8968.33,
                    23082.95533,
                    5969.723,
                    12638.195,
                    5926.846,
                    37079.372,
                    7345.084,
                    5910.944,
                    4762.329,
                    7512.267,
                    1969.614,
                    21797.0004,
                    10601.412,
                    22144.032,
                    13224.693,
                    1744.465,
                    25382.297,
                    9880.068,
                    9563.029,
                    1253.936,
                    1748.774,
                    12574.049,
                    17942.106,
                    4931.647,
                    8027.968,
                    13470.86,
                    36197.699,
                    11455.28,
                    1256.299,
                    21082.16,
                    11362.755,
                    5240.765,
                    9861.025,
                    5972.378,
                    8825.086,
                    6196.448,
                    11538.421,
                    13390.559,
                    12957.118,
                    3847.674,
                    2494.022,
                    11552.904,
                    3761.292,
                    9724.53,
                    1242.816,
                    11842.442,
                    7441.501,
                    11070.535,
                    39241.442,
                    6571.544,
                    23306.547,
                    10713.644,
                    3659.346,
                    40182.246,
                    9182.17,
                    11365.952,
                    10085.846,
                    1977.815,
                    9391.346,
                    6666.243,
                    3410.324,
                    8703.456,
                    12363.547,
                    2585.269,
                    1242.26,
                    40103.89,
                    4766.022,
                    26236.57997,
                    8068.185,
                    3577.999,
                    5375.038,
                    2457.502,
                    12146.971,
                    11264.541,
                    12979.358,
                    1263.249,
                    10065.413,
                    4234.927,
                    14007.222,
                    3484.331,
                    44585.45587,
                    11737.84884,
                    8556.907,
                    2416.955,
                    19040.876,
                    8062.764,
                    7050.642,
                    14319.031,
                    27941.28758,
                    11150.78,
                    18259.216,
                    24520.264,
                    6414.178,
                    1252.407,
                    11848.141,
                    2103.08,
                    9414.92,
                    3597.596,
                    7445.918,
                    13393.756,
                    4402.233,
                    1526.312,
                    9872.701,
                    2974.126,
                    1875.344,
                    10965.446,
                    46113.511,
                    7151.092,
                    8782.469,
                    6600.361,
                    11576.13,
                    4391.652,
                    8457.818,
                    6849.026,
                    26140.3603,
                    6282.235,
                    6311.952,
                    3443.064,
                    1682.597,
                    13063.883,
                    12644.589,
                    15170.069,
                    17496.306,
                    7626.993,
                    13041.921,
                    13451.122,
                    13462.52,
                    5488.262,
                    6250.435,
                    2913.569,
                    12032.326,
                    6238.298,
                    10096.97,
                    7348.142,
                    12233.828,
                    11674.13,
                    7160.094,
                    19933.458,
                    38998.546,
                    3353.284,
                    4746.344,
                    1759.338,
                    19199.944,
                    7624.63,
                    3378.91,
                    10118.424,
                    7418.522,
                    34472.841,
                    1972.95,
                    21232.18226,
                    8269.044,
                    5383.536,
                    3987.926,
                    8798.593,
                    2020.177,
                    9850.432,
                    12094.478,
                    3161.454,
                    39727.614,
                    25309.489,
                    8277.523,
                    5708.867,
                    7045.499,
                    8551.347,
                    4076.497,
                    19023.26,
                    10577.087,
                    3591.48,
                    11299.343,
                    11253.421,
                    20420.60465,
                    2904.088,
                    34166.273,
                    10214.636,
                    14358.36437,
                    1728.897,
                    3693.428,
                    7623.518,
                    7954.517,
                    9630.397,
                    52590.82939,
                    10791.96,
                    5979.731,
                    3989.841,
                    4529.477,
                    4670.64,
                    22478.6,
                    2154.361,
                    6496.886,
                    2632.992,
                    13126.67745,
                    4934.705,
                    36910.60803,
                    38415.474,
                    12347.172,
                    10806.839,
                    41661.602,
                    20167.33603,
                    11345.519,
                    5615.369,
                    9101.798,
                    6059.173,
                    1241.565,
                    16232.847,
                    15828.82173,
                    6474.013,
                    3277.161,
                    7337.748,
                    10704.47,
                    1880.487,
                    8615.3,
                    10959.33,
                    47403.88,
                    5472.449,
                    38344.566,
                    34828.654,
                    1964.78,
                    3208.787,
                    37829.7242,
                    33900.653,
                    6875.961,
                    4536.259,
                    36397.576,
                    1731.677,
                    10325.206,
                    10795.93733,
                    11411.685,
                    2007.945
                  ],
                  "y0": " ",
                  "yaxis": "y"
                },
                {
                  "alignmentgroup": "True",
                  "hovertemplate": "region=southeast<br>smoker=%{x}<br>charges=%{y}<extra></extra>",
                  "legendgroup": "southeast",
                  "marker": {
                    "color": "#EF553B"
                  },
                  "name": "southeast",
                  "notched": false,
                  "offsetgroup": "southeast",
                  "orientation": "v",
                  "showlegend": true,
                  "type": "box",
                  "x": [
                    "no",
                    "no",
                    "no",
                    "no",
                    "yes",
                    "no",
                    "yes",
                    "no",
                    "no",
                    "no",
                    "no",
                    "no",
                    "no",
                    "yes",
                    "yes",
                    "yes",
                    "yes",
                    "no",
                    "no",
                    "yes",
                    "yes",
                    "no",
                    "no",
                    "no",
                    "yes",
                    "no",
                    "no",
                    "no",
                    "yes",
                    "no",
                    "yes",
                    "no",
                    "yes",
                    "no",
                    "no",
                    "no",
                    "yes",
                    "no",
                    "no",
                    "no",
                    "yes",
                    "yes",
                    "no",
                    "yes",
                    "no",
                    "no",
                    "no",
                    "no",
                    "no",
                    "no",
                    "no",
                    "no",
                    "no",
                    "yes",
                    "no",
                    "no",
                    "no",
                    "no",
                    "no",
                    "yes",
                    "no",
                    "no",
                    "no",
                    "no",
                    "yes",
                    "no",
                    "no",
                    "no",
                    "no",
                    "no",
                    "yes",
                    "no",
                    "yes",
                    "no",
                    "yes",
                    "yes",
                    "no",
                    "no",
                    "no",
                    "no",
                    "no",
                    "yes",
                    "no",
                    "yes",
                    "no",
                    "no",
                    "no",
                    "yes",
                    "no",
                    "no",
                    "no",
                    "no",
                    "no",
                    "no",
                    "no",
                    "no",
                    "no",
                    "no",
                    "no",
                    "no",
                    "no",
                    "no",
                    "yes",
                    "no",
                    "no",
                    "no",
                    "no",
                    "no",
                    "no",
                    "no",
                    "no",
                    "no",
                    "no",
                    "no",
                    "no",
                    "no",
                    "yes",
                    "yes",
                    "no",
                    "no",
                    "no",
                    "no",
                    "no",
                    "no",
                    "no",
                    "no",
                    "no",
                    "yes",
                    "no",
                    "no",
                    "no",
                    "no",
                    "no",
                    "no",
                    "yes",
                    "no",
                    "no",
                    "yes",
                    "yes",
                    "no",
                    "no",
                    "no",
                    "no",
                    "no",
                    "yes",
                    "no",
                    "yes",
                    "no",
                    "no",
                    "no",
                    "no",
                    "no",
                    "no",
                    "no",
                    "yes",
                    "yes",
                    "no",
                    "no",
                    "no",
                    "no",
                    "no",
                    "no",
                    "no",
                    "no",
                    "no",
                    "no",
                    "no",
                    "no",
                    "no",
                    "no",
                    "no",
                    "no",
                    "no",
                    "no",
                    "no",
                    "yes",
                    "yes",
                    "no",
                    "no",
                    "no",
                    "no",
                    "no",
                    "no",
                    "no",
                    "no",
                    "no",
                    "yes",
                    "no",
                    "no",
                    "no",
                    "yes",
                    "yes",
                    "no",
                    "no",
                    "no",
                    "no",
                    "yes",
                    "no",
                    "no",
                    "yes",
                    "yes",
                    "no",
                    "no",
                    "no",
                    "yes",
                    "no",
                    "no",
                    "yes",
                    "no",
                    "yes",
                    "yes",
                    "yes",
                    "no",
                    "yes",
                    "no",
                    "yes",
                    "yes",
                    "no",
                    "no",
                    "no",
                    "no",
                    "no",
                    "no",
                    "no",
                    "yes",
                    "no",
                    "no",
                    "no",
                    "yes",
                    "no",
                    "no",
                    "no",
                    "no",
                    "no",
                    "no",
                    "no",
                    "yes",
                    "no",
                    "yes",
                    "yes",
                    "yes",
                    "no",
                    "yes",
                    "no",
                    "no",
                    "no",
                    "no",
                    "no",
                    "yes",
                    "no",
                    "yes",
                    "no",
                    "yes",
                    "no",
                    "no",
                    "no",
                    "no",
                    "no",
                    "no",
                    "no",
                    "no",
                    "no",
                    "no",
                    "no",
                    "no",
                    "no",
                    "yes",
                    "no",
                    "yes",
                    "no",
                    "no",
                    "no",
                    "no",
                    "no",
                    "no",
                    "no",
                    "no",
                    "no",
                    "yes",
                    "no",
                    "yes",
                    "yes",
                    "no",
                    "no",
                    "yes",
                    "yes",
                    "yes",
                    "no",
                    "no",
                    "no",
                    "no",
                    "yes",
                    "no",
                    "no",
                    "yes",
                    "no",
                    "yes",
                    "no",
                    "no",
                    "no",
                    "yes",
                    "no",
                    "no",
                    "no",
                    "no",
                    "no",
                    "no",
                    "yes",
                    "yes",
                    "no",
                    "yes",
                    "yes",
                    "no",
                    "no",
                    "no",
                    "no",
                    "no",
                    "no",
                    "no",
                    "yes",
                    "yes",
                    "no",
                    "no",
                    "no",
                    "no",
                    "yes",
                    "yes",
                    "no",
                    "yes",
                    "no",
                    "no",
                    "no",
                    "no",
                    "no",
                    "yes",
                    "no",
                    "no",
                    "no",
                    "no",
                    "no",
                    "yes",
                    "yes",
                    "no",
                    "no",
                    "no",
                    "no",
                    "no",
                    "yes",
                    "no",
                    "no",
                    "yes",
                    "no",
                    "no",
                    "no",
                    "no",
                    "no",
                    "yes",
                    "no",
                    "no",
                    "no",
                    "yes",
                    "no",
                    "no",
                    "no"
                  ],
                  "x0": " ",
                  "xaxis": "x",
                  "y": [
                    1725.5523,
                    4449.462,
                    3756.6216,
                    8240.5896,
                    27808.7251,
                    11090.7178,
                    39611.7577,
                    1137.011,
                    14001.1338,
                    4949.7587,
                    6272.4772,
                    6313.759,
                    12629.8967,
                    38709.176,
                    37742.5757,
                    34303.1672,
                    23244.7902,
                    4504.6624,
                    5920.1041,
                    17663.1442,
                    16577.7795,
                    11946.6259,
                    3947.4131,
                    1532.4697,
                    37165.1638,
                    2026.9741,
                    3766.8838,
                    10226.2842,
                    30942.1918,
                    2867.1196,
                    47055.5321,
                    11381.3254,
                    19107.7796,
                    8601.3293,
                    2155.6815,
                    27322.73386,
                    18972.495,
                    5138.2567,
                    9877.6077,
                    7789.635,
                    21223.6758,
                    36950.2567,
                    19749.38338,
                    36149.4835,
                    13405.3903,
                    1631.8212,
                    7731.4271,
                    3981.9768,
                    12557.6053,
                    2137.6536,
                    1137.4697,
                    8516.829,
                    8871.1517,
                    37133.8982,
                    11743.299,
                    5002.7827,
                    2483.736,
                    3392.9768,
                    25081.76784,
                    19515.5416,
                    11987.1682,
                    2689.4954,
                    24227.33724,
                    14001.2867,
                    19444.2658,
                    1615.7667,
                    4463.2051,
                    7152.6714,
                    12648.7034,
                    1986.9334,
                    44260.7499,
                    5400.9805,
                    17085.2676,
                    20462.99766,
                    46151.1245,
                    17179.522,
                    1719.4363,
                    12928.7911,
                    9855.1314,
                    7742.1098,
                    25992.82104,
                    42112.2356,
                    2156.7518,
                    21978.6769,
                    12265.5069,
                    4349.462,
                    4151.0287,
                    42124.5153,
                    8124.4084,
                    3561.8889,
                    12142.5786,
                    8232.6388,
                    10977.2063,
                    6184.2994,
                    4889.9995,
                    5478.0368,
                    14133.03775,
                    8944.1151,
                    1837.2819,
                    1607.5101,
                    3180.5101,
                    1391.5287,
                    38126.2465,
                    27000.98473,
                    20781.48892,
                    5846.9176,
                    11856.4115,
                    16586.49771,
                    1631.6683,
                    8083.9198,
                    4185.0979,
                    6652.5288,
                    4074.4537,
                    7345.7266,
                    9140.951,
                    14418.2804,
                    46889.2612,
                    46599.1084,
                    9788.8659,
                    13919.8229,
                    12592.5345,
                    1149.3959,
                    28287.89766,
                    4686.3887,
                    11881.9696,
                    7682.67,
                    10381.4787,
                    19521.9682,
                    2201.0971,
                    2497.0383,
                    1534.3045,
                    1824.2854,
                    9304.7019,
                    1622.1885,
                    48885.13561,
                    24513.09126,
                    8211.1002,
                    22218.1149,
                    32548.3405,
                    5974.3847,
                    2498.4144,
                    27724.28875,
                    3994.1778,
                    5397.6167,
                    38245.59327,
                    11482.63485,
                    48675.5177,
                    12925.886,
                    19214.70553,
                    13831.1152,
                    8233.0975,
                    27346.04207,
                    3056.3881,
                    13887.204,
                    63770.42801,
                    45863.205,
                    3972.9247,
                    3935.1799,
                    9058.7303,
                    2801.2588,
                    2219.4451,
                    4753.6368,
                    1664.9996,
                    6356.2707,
                    17626.23951,
                    4779.6023,
                    5976.8311,
                    2566.4707,
                    5709.1644,
                    7640.3092,
                    1633.0444,
                    16085.1275,
                    9283.562,
                    8547.6913,
                    1880.07,
                    42969.8527,
                    34439.8559,
                    11326.71487,
                    3366.6697,
                    12949.1554,
                    18806.14547,
                    9800.8882,
                    10579.711,
                    8280.6227,
                    8527.532,
                    12244.531,
                    24667.419,
                    6435.6237,
                    22192.43711,
                    1136.3994,
                    27037.9141,
                    42560.4304,
                    6500.2359,
                    4837.5823,
                    4399.731,
                    6185.3208,
                    46200.9851,
                    12485.8009,
                    5438.7491,
                    34806.4677,
                    40273.6455,
                    3500.6123,
                    2020.5523,
                    9504.3103,
                    44400.4064,
                    1727.54,
                    10107.2206,
                    40932.4295,
                    6781.3542,
                    19361.9988,
                    40419.0191,
                    18246.4955,
                    3757.8448,
                    19539.243,
                    11833.7823,
                    23065.4207,
                    36307.7983,
                    10560.4917,
                    5934.3798,
                    1146.7966,
                    9386.1613,
                    4350.5144,
                    13457.9608,
                    5662.225,
                    21195.818,
                    4266.1658,
                    7046.7222,
                    14313.8463,
                    38792.6856,
                    1815.8759,
                    1131.5066,
                    11013.7119,
                    5584.3057,
                    1877.9294,
                    1621.8827,
                    8219.2039,
                    43813.8661,
                    7160.3303,
                    36021.0112,
                    27533.9129,
                    45008.9555,
                    2438.0552,
                    40974.1649,
                    18218.16139,
                    1141.4451,
                    3392.3652,
                    5966.8874,
                    6653.7886,
                    19719.6947,
                    7243.8136,
                    44202.6536,
                    1634.5734,
                    48673.5588,
                    8125.7845,
                    7633.7206,
                    2473.3341,
                    5245.2269,
                    13470.8044,
                    6289.7549,
                    2927.0647,
                    4673.3922,
                    2304.0022,
                    9487.6442,
                    1121.8739,
                    9549.5651,
                    12982.8747,
                    47462.894,
                    3875.7341,
                    41999.52,
                    14474.675,
                    8596.8278,
                    10702.6424,
                    2322.6218,
                    7804.1605,
                    2902.9065,
                    4889.0368,
                    5484.4673,
                    13887.9685,
                    18767.7377,
                    36580.28216,
                    35595.5898,
                    42211.1382,
                    1711.0268,
                    8569.8618,
                    44423.803,
                    37484.4493,
                    44501.3982,
                    17929.30337,
                    2480.9791,
                    1981.5819,
                    11554.2236,
                    48970.2476,
                    8978.1851,
                    10928.849,
                    39871.7043,
                    4562.8421,
                    34672.1472,
                    15161.5344,
                    11884.04858,
                    9748.9106,
                    41676.0811,
                    1674.6323,
                    3227.1211,
                    3471.4096,
                    11363.2832,
                    10338.9316,
                    8605.3615,
                    41949.2441,
                    24180.9335,
                    10807.4863,
                    36124.5737,
                    38282.7495,
                    8347.1643,
                    5836.5204,
                    8582.3023,
                    3704.3545,
                    9048.0273,
                    27117.99378,
                    6338.0756,
                    40941.2854,
                    39722.7462,
                    5124.1887,
                    18963.17192,
                    10982.5013,
                    11093.6229,
                    19350.3689,
                    18328.2381,
                    5699.8375,
                    18223.4512,
                    23563.01618,
                    5415.6612,
                    4058.1161,
                    6593.5083,
                    8442.667,
                    26125.67477,
                    4795.6568,
                    7162.0122,
                    10594.2257,
                    8515.7587,
                    3238.4357,
                    47269.854,
                    49577.6624,
                    3171.6149,
                    1135.9407,
                    1633.9618,
                    4415.1588,
                    6770.1925,
                    26926.5144,
                    14478.33015,
                    4747.0529,
                    17043.3414,
                    8283.6807,
                    1720.3537,
                    7147.4728,
                    1515.3449,
                    4340.4409,
                    62592.87309,
                    2464.6188,
                    1163.4627,
                    12981.3457,
                    43896.3763,
                    9377.9047,
                    12629.1656,
                    1629.8335
                  ],
                  "y0": " ",
                  "yaxis": "y"
                },
                {
                  "alignmentgroup": "True",
                  "hovertemplate": "region=northwest<br>smoker=%{x}<br>charges=%{y}<extra></extra>",
                  "legendgroup": "northwest",
                  "marker": {
                    "color": "#00cc96"
                  },
                  "name": "northwest",
                  "notched": false,
                  "offsetgroup": "northwest",
                  "orientation": "v",
                  "showlegend": true,
                  "type": "box",
                  "x": [
                    "no",
                    "no",
                    "no",
                    "no",
                    "no",
                    "no",
                    "no",
                    "no",
                    "no",
                    "no",
                    "no",
                    "no",
                    "no",
                    "yes",
                    "no",
                    "no",
                    "no",
                    "yes",
                    "no",
                    "no",
                    "no",
                    "no",
                    "yes",
                    "yes",
                    "no",
                    "no",
                    "no",
                    "no",
                    "yes",
                    "no",
                    "no",
                    "no",
                    "no",
                    "no",
                    "no",
                    "yes",
                    "no",
                    "no",
                    "no",
                    "yes",
                    "yes",
                    "no",
                    "no",
                    "no",
                    "yes",
                    "no",
                    "no",
                    "no",
                    "no",
                    "no",
                    "no",
                    "no",
                    "no",
                    "no",
                    "no",
                    "no",
                    "no",
                    "no",
                    "no",
                    "no",
                    "no",
                    "no",
                    "no",
                    "yes",
                    "no",
                    "yes",
                    "no",
                    "yes",
                    "yes",
                    "no",
                    "no",
                    "no",
                    "no",
                    "yes",
                    "no",
                    "no",
                    "no",
                    "no",
                    "no",
                    "no",
                    "yes",
                    "yes",
                    "no",
                    "no",
                    "no",
                    "no",
                    "no",
                    "no",
                    "no",
                    "no",
                    "no",
                    "yes",
                    "no",
                    "no",
                    "no",
                    "no",
                    "no",
                    "no",
                    "no",
                    "no",
                    "no",
                    "no",
                    "yes",
                    "no",
                    "no",
                    "no",
                    "no",
                    "yes",
                    "no",
                    "no",
                    "no",
                    "no",
                    "no",
                    "no",
                    "yes",
                    "no",
                    "no",
                    "no",
                    "no",
                    "no",
                    "no",
                    "no",
                    "no",
                    "no",
                    "no",
                    "yes",
                    "no",
                    "yes",
                    "no",
                    "no",
                    "no",
                    "no",
                    "no",
                    "yes",
                    "no",
                    "no",
                    "yes",
                    "no",
                    "no",
                    "no",
                    "yes",
                    "yes",
                    "no",
                    "no",
                    "yes",
                    "no",
                    "yes",
                    "no",
                    "no",
                    "no",
                    "yes",
                    "no",
                    "yes",
                    "no",
                    "no",
                    "no",
                    "no",
                    "no",
                    "no",
                    "no",
                    "no",
                    "no",
                    "no",
                    "no",
                    "no",
                    "no",
                    "no",
                    "no",
                    "no",
                    "no",
                    "no",
                    "no",
                    "no",
                    "no",
                    "no",
                    "no",
                    "no",
                    "yes",
                    "no",
                    "no",
                    "no",
                    "no",
                    "no",
                    "yes",
                    "no",
                    "no",
                    "no",
                    "no",
                    "no",
                    "yes",
                    "no",
                    "no",
                    "no",
                    "no",
                    "no",
                    "no",
                    "no",
                    "no",
                    "no",
                    "no",
                    "yes",
                    "no",
                    "no",
                    "no",
                    "no",
                    "no",
                    "no",
                    "yes",
                    "no",
                    "no",
                    "no",
                    "no",
                    "no",
                    "yes",
                    "no",
                    "no",
                    "no",
                    "no",
                    "no",
                    "yes",
                    "no",
                    "no",
                    "no",
                    "no",
                    "yes",
                    "no",
                    "no",
                    "no",
                    "no",
                    "yes",
                    "no",
                    "yes",
                    "no",
                    "yes",
                    "no",
                    "no",
                    "no",
                    "no",
                    "no",
                    "yes",
                    "no",
                    "yes",
                    "no",
                    "yes",
                    "no",
                    "yes",
                    "yes",
                    "no",
                    "no",
                    "no",
                    "no",
                    "no",
                    "no",
                    "no",
                    "no",
                    "no",
                    "no",
                    "no",
                    "no",
                    "yes",
                    "no",
                    "no",
                    "no",
                    "no",
                    "yes",
                    "no",
                    "no",
                    "no",
                    "no",
                    "no",
                    "yes",
                    "no",
                    "no",
                    "no",
                    "no",
                    "no",
                    "no",
                    "no",
                    "no",
                    "no",
                    "no",
                    "no",
                    "yes",
                    "no",
                    "yes",
                    "no",
                    "no",
                    "no",
                    "no",
                    "no",
                    "yes",
                    "no",
                    "no",
                    "no",
                    "no",
                    "no",
                    "no",
                    "no",
                    "no",
                    "yes",
                    "no",
                    "no",
                    "no",
                    "no",
                    "no",
                    "no",
                    "no",
                    "no",
                    "no",
                    "no",
                    "no",
                    "yes",
                    "no",
                    "no",
                    "no",
                    "yes",
                    "yes",
                    "no",
                    "no",
                    "yes",
                    "no",
                    "no",
                    "no",
                    "no",
                    "yes"
                  ],
                  "x0": " ",
                  "xaxis": "x",
                  "y": [
                    21984.47061,
                    3866.8552,
                    7281.5056,
                    28923.13692,
                    6203.90175,
                    12268.63225,
                    2775.19215,
                    13770.0979,
                    1625.43375,
                    15612.19335,
                    3556.9223,
                    3579.8287,
                    8059.6791,
                    47496.49445,
                    5989.52365,
                    30166.61817,
                    4133.64165,
                    14711.7438,
                    6389.37785,
                    11356.6609,
                    6571.02435,
                    11033.6617,
                    21098.55405,
                    43578.9394,
                    8026.6666,
                    11082.5772,
                    10942.13205,
                    5729.0053,
                    17560.37975,
                    3877.30425,
                    10825.2537,
                    2404.7338,
                    6686.4313,
                    2257.47525,
                    10115.00885,
                    32734.1863,
                    1632.56445,
                    2045.68525,
                    18157.876,
                    20745.9891,
                    40720.55105,
                    10959.6947,
                    5125.2157,
                    6948.7008,
                    21348.706,
                    5028.1466,
                    6128.79745,
                    2719.27975,
                    2855.43755,
                    6455.86265,
                    11735.87905,
                    7419.4779,
                    4922.9159,
                    12044.342,
                    1639.5631,
                    9644.2525,
                    2130.6759,
                    13012.20865,
                    8162.71625,
                    3537.703,
                    10355.641,
                    7443.64305,
                    6710.1919,
                    17352.6803,
                    24476.47851,
                    43921.1837,
                    11520.09985,
                    33750.2918,
                    36219.40545,
                    7265.7025,
                    2523.1695,
                    2803.69785,
                    14256.1928,
                    38746.3551,
                    9249.4952,
                    19442.3535,
                    7749.1564,
                    8835.26495,
                    7421.19455,
                    4894.7533,
                    42760.5022,
                    24393.6224,
                    13429.0354,
                    13937.6665,
                    13352.0998,
                    1635.73365,
                    11830.6072,
                    9620.3307,
                    8017.06115,
                    8116.26885,
                    13415.0381,
                    18033.9679,
                    16455.70785,
                    30284.64294,
                    3176.8159,
                    4618.0799,
                    2138.0707,
                    7526.70645,
                    14692.66935,
                    10269.46,
                    1621.3402,
                    2134.9015,
                    28950.4692,
                    18804.7524,
                    4906.40965,
                    4243.59005,
                    4738.2682,
                    26109.32905,
                    11454.0215,
                    4032.2407,
                    1769.53165,
                    11840.77505,
                    1632.03625,
                    12643.3778,
                    28868.6639,
                    2534.39375,
                    15555.18875,
                    12475.3513,
                    10461.9794,
                    6796.86325,
                    2643.2685,
                    3077.0955,
                    8413.46305,
                    24059.68019,
                    10231.4999,
                    23807.2406,
                    11187.6567,
                    39983.42595,
                    1646.4297,
                    9193.8385,
                    2128.43105,
                    6373.55735,
                    7256.7231,
                    45702.02235,
                    12222.8983,
                    1639.5631,
                    43943.8761,
                    8428.0693,
                    33471.97189,
                    9174.13565,
                    17468.9839,
                    25678.77845,
                    12129.61415,
                    3736.4647,
                    42983.4585,
                    2709.1119,
                    32787.45859,
                    4466.6214,
                    6123.5688,
                    4058.71245,
                    40003.33225,
                    7222.78625,
                    46130.5265,
                    10156.7832,
                    9863.4718,
                    2362.22905,
                    2352.96845,
                    3201.24515,
                    10976.24575,
                    5385.3379,
                    8930.93455,
                    10264.4421,
                    8310.83915,
                    9566.9909,
                    13112.6048,
                    10848.1343,
                    12231.6136,
                    6664.68595,
                    9583.8933,
                    8827.2099,
                    9910.35985,
                    1627.28245,
                    3062.50825,
                    1906.35825,
                    14210.53595,
                    11842.62375,
                    6933.24225,
                    17748.5062,
                    7261.741,
                    6986.697,
                    9869.8102,
                    1917.3184,
                    7209.4918,
                    18310.742,
                    7731.85785,
                    28476.73499,
                    2136.88225,
                    6360.9936,
                    2842.76075,
                    55135.40209,
                    2680.9493,
                    12523.6048,
                    6117.4945,
                    5266.3656,
                    4719.73655,
                    11743.9341,
                    5377.4578,
                    12622.1795,
                    10601.63225,
                    14119.62,
                    15817.9857,
                    12269.68865,
                    2690.1138,
                    2789.0574,
                    4877.98105,
                    5272.1758,
                    11945.1327,
                    29330.98315,
                    2221.56445,
                    2117.33885,
                    2639.0429,
                    14382.70905,
                    5257.50795,
                    21774.32215,
                    4320.41085,
                    8965.79575,
                    1628.4709,
                    6358.77645,
                    4527.18295,
                    20009.63365,
                    12609.88702,
                    28468.91901,
                    2730.10785,
                    26467.09737,
                    23967.38305,
                    7518.02535,
                    2527.81865,
                    8410.04685,
                    28340.18885,
                    16420.49455,
                    5267.81815,
                    17361.7661,
                    4433.3877,
                    24915.22085,
                    8765.249,
                    12124.9924,
                    2709.24395,
                    12495.29085,
                    26018.95052,
                    16450.8947,
                    21595.38229,
                    21677.28345,
                    12950.0712,
                    39725.51805,
                    22493.65964,
                    20234.85475,
                    21880.82,
                    3594.17085,
                    8023.13545,
                    3353.4703,
                    10594.50155,
                    4462.7218,
                    6548.19505,
                    14349.8544,
                    1909.52745,
                    4454.40265,
                    5855.9025,
                    15019.76005,
                    11353.2276,
                    33907.548,
                    8988.15875,
                    10493.9458,
                    5312.16985,
                    5693.4305,
                    46661.4424,
                    14254.6082,
                    9991.03765,
                    19673.33573,
                    11085.5868,
                    3176.2877,
                    36898.73308,
                    11289.10925,
                    2261.5688,
                    12235.8392,
                    5630.45785,
                    11015.1747,
                    14426.07385,
                    7727.2532,
                    7153.5539,
                    6112.35295,
                    6457.8434,
                    4433.9159,
                    23887.6627,
                    2850.68375,
                    37465.34375,
                    13844.7972,
                    5327.40025,
                    8671.19125,
                    4134.08245,
                    18838.70366,
                    33307.5508,
                    6393.60345,
                    6198.7518,
                    8733.22925,
                    2055.3249,
                    5116.5004,
                    5373.36425,
                    3956.07145,
                    7537.1639,
                    60021.39897,
                    12479.70895,
                    2699.56835,
                    12224.35085,
                    4296.2712,
                    11436.73815,
                    11305.93455,
                    30063.58055,
                    3292.52985,
                    3021.80915,
                    4357.04365,
                    4189.1131,
                    24535.69855,
                    9301.89355,
                    5261.46945,
                    2710.82855,
                    46718.16325,
                    21472.4788,
                    6940.90985,
                    4571.41305,
                    18765.87545,
                    7201.70085,
                    5425.02335,
                    4239.89265,
                    10600.5483,
                    29141.3603
                  ],
                  "y0": " ",
                  "yaxis": "y"
                },
                {
                  "alignmentgroup": "True",
                  "hovertemplate": "region=northeast<br>smoker=%{x}<br>charges=%{y}<extra></extra>",
                  "legendgroup": "northeast",
                  "marker": {
                    "color": "#ab63fa"
                  },
                  "name": "northeast",
                  "notched": false,
                  "offsetgroup": "northeast",
                  "orientation": "v",
                  "showlegend": true,
                  "type": "box",
                  "x": [
                    "no",
                    "no",
                    "no",
                    "no",
                    "no",
                    "yes",
                    "no",
                    "no",
                    "yes",
                    "no",
                    "no",
                    "no",
                    "no",
                    "no",
                    "no",
                    "no",
                    "no",
                    "no",
                    "no",
                    "yes",
                    "yes",
                    "no",
                    "no",
                    "no",
                    "no",
                    "no",
                    "yes",
                    "no",
                    "no",
                    "no",
                    "no",
                    "no",
                    "no",
                    "no",
                    "yes",
                    "no",
                    "yes",
                    "no",
                    "no",
                    "no",
                    "no",
                    "no",
                    "yes",
                    "no",
                    "no",
                    "yes",
                    "no",
                    "no",
                    "no",
                    "no",
                    "yes",
                    "no",
                    "yes",
                    "no",
                    "yes",
                    "yes",
                    "no",
                    "yes",
                    "no",
                    "no",
                    "no",
                    "no",
                    "yes",
                    "yes",
                    "no",
                    "no",
                    "no",
                    "yes",
                    "no",
                    "no",
                    "no",
                    "yes",
                    "no",
                    "no",
                    "no",
                    "no",
                    "no",
                    "no",
                    "no",
                    "yes",
                    "no",
                    "no",
                    "yes",
                    "no",
                    "no",
                    "no",
                    "no",
                    "no",
                    "no",
                    "no",
                    "no",
                    "no",
                    "no",
                    "yes",
                    "yes",
                    "yes",
                    "no",
                    "no",
                    "no",
                    "no",
                    "no",
                    "no",
                    "yes",
                    "yes",
                    "yes",
                    "no",
                    "no",
                    "no",
                    "no",
                    "no",
                    "no",
                    "no",
                    "no",
                    "no",
                    "no",
                    "no",
                    "no",
                    "yes",
                    "no",
                    "no",
                    "no",
                    "no",
                    "no",
                    "no",
                    "no",
                    "no",
                    "no",
                    "no",
                    "no",
                    "no",
                    "no",
                    "no",
                    "no",
                    "no",
                    "no",
                    "no",
                    "no",
                    "no",
                    "no",
                    "yes",
                    "no",
                    "no",
                    "no",
                    "no",
                    "yes",
                    "no",
                    "no",
                    "no",
                    "no",
                    "no",
                    "no",
                    "no",
                    "yes",
                    "no",
                    "no",
                    "no",
                    "no",
                    "yes",
                    "no",
                    "no",
                    "no",
                    "no",
                    "no",
                    "no",
                    "no",
                    "no",
                    "yes",
                    "no",
                    "no",
                    "no",
                    "no",
                    "no",
                    "no",
                    "no",
                    "no",
                    "no",
                    "no",
                    "no",
                    "yes",
                    "no",
                    "no",
                    "yes",
                    "no",
                    "yes",
                    "no",
                    "no",
                    "no",
                    "no",
                    "no",
                    "no",
                    "no",
                    "no",
                    "no",
                    "no",
                    "no",
                    "no",
                    "no",
                    "yes",
                    "no",
                    "no",
                    "yes",
                    "no",
                    "yes",
                    "yes",
                    "no",
                    "no",
                    "no",
                    "no",
                    "yes",
                    "yes",
                    "no",
                    "yes",
                    "no",
                    "no",
                    "no",
                    "no",
                    "yes",
                    "yes",
                    "no",
                    "no",
                    "yes",
                    "no",
                    "no",
                    "no",
                    "no",
                    "yes",
                    "yes",
                    "no",
                    "no",
                    "no",
                    "yes",
                    "no",
                    "yes",
                    "no",
                    "no",
                    "no",
                    "yes",
                    "no",
                    "no",
                    "no",
                    "no",
                    "no",
                    "no",
                    "yes",
                    "no",
                    "no",
                    "no",
                    "no",
                    "no",
                    "no",
                    "no",
                    "no",
                    "no",
                    "yes",
                    "no",
                    "no",
                    "yes",
                    "no",
                    "no",
                    "no",
                    "no",
                    "no",
                    "no",
                    "no",
                    "no",
                    "no",
                    "no",
                    "no",
                    "no",
                    "yes",
                    "no",
                    "yes",
                    "no",
                    "no",
                    "no",
                    "no",
                    "yes",
                    "no",
                    "no",
                    "no",
                    "no",
                    "no",
                    "no",
                    "yes",
                    "no",
                    "no",
                    "no",
                    "no",
                    "yes",
                    "no",
                    "no",
                    "no",
                    "yes",
                    "no",
                    "no",
                    "no",
                    "no",
                    "no",
                    "no",
                    "no",
                    "no",
                    "yes",
                    "yes",
                    "no",
                    "no",
                    "no",
                    "yes",
                    "no",
                    "yes",
                    "yes",
                    "no",
                    "no",
                    "no",
                    "no",
                    "no",
                    "yes",
                    "yes",
                    "no",
                    "no",
                    "yes",
                    "no",
                    "no",
                    "no",
                    "no"
                  ],
                  "x0": " ",
                  "xaxis": "x",
                  "y": [
                    6406.4107,
                    2721.3208,
                    10797.3362,
                    2395.17155,
                    13228.84695,
                    37701.8768,
                    14451.83515,
                    2198.18985,
                    39774.2763,
                    3046.062,
                    6079.6715,
                    3393.35635,
                    2211.13075,
                    13607.36875,
                    8606.2174,
                    6799.458,
                    2755.02095,
                    4441.21315,
                    7935.29115,
                    30184.9367,
                    22412.6485,
                    3645.0894,
                    21344.8467,
                    11488.31695,
                    30259.99556,
                    1705.6245,
                    39556.4945,
                    3385.39915,
                    12815.44495,
                    13616.3586,
                    2457.21115,
                    27375.90478,
                    3490.5491,
                    6334.34355,
                    19964.7463,
                    7077.1894,
                    15518.18025,
                    10407.08585,
                    4827.90495,
                    1694.7964,
                    8538.28845,
                    4005.4225,
                    43753.33705,
                    14901.5167,
                    4337.7352,
                    20984.0936,
                    6610.1097,
                    10564.8845,
                    7358.17565,
                    9225.2564,
                    38511.6283,
                    5354.07465,
                    29523.1656,
                    4040.55825,
                    12829.4551,
                    41097.16175,
                    13047.33235,
                    24869.8368,
                    14590.63205,
                    9282.4806,
                    9617.66245,
                    9715.841,
                    22331.5668,
                    48549.17835,
                    4237.12655,
                    11879.10405,
                    9432.9253,
                    47896.79135,
                    20277.80751,
                    1704.5681,
                    6746.7425,
                    24873.3849,
                    11944.59435,
                    9722.7695,
                    10435.06525,
                    4667.60765,
                    24671.66334,
                    11566.30055,
                    6600.20595,
                    48517.56315,
                    11658.37915,
                    19144.57652,
                    41919.097,
                    13217.0945,
                    13981.85035,
                    8334.45755,
                    12404.8791,
                    10043.249,
                    9778.3472,
                    13430.265,
                    3481.868,
                    12029.2867,
                    7639.41745,
                    21659.9301,
                    15006.57945,
                    42303.69215,
                    8302.53565,
                    10736.87075,
                    8964.06055,
                    9290.1395,
                    9411.005,
                    11396.9002,
                    19594.80965,
                    14455.64405,
                    39125.33225,
                    2727.3951,
                    6555.07035,
                    7323.734819,
                    3167.45585,
                    2254.7967,
                    2897.3235,
                    12730.9996,
                    15230.32405,
                    11165.41765,
                    23288.9284,
                    2203.47185,
                    20878.78443,
                    35147.52848,
                    4347.02335,
                    2196.4732,
                    1967.0227,
                    6837.3687,
                    3044.2133,
                    11763.0009,
                    9361.3268,
                    3857.75925,
                    25656.57526,
                    9866.30485,
                    8342.90875,
                    1708.0014,
                    14043.4767,
                    6067.12675,
                    3268.84665,
                    3213.62205,
                    17878.90068,
                    8334.5896,
                    10923.9332,
                    31620.00106,
                    13224.05705,
                    58571.07448,
                    3206.49135,
                    12913.9924,
                    3861.20965,
                    13635.6379,
                    15359.1045,
                    8823.98575,
                    5594.8455,
                    3558.62025,
                    4435.0942,
                    2207.69745,
                    6753.038,
                    11658.11505,
                    34617.84065,
                    6748.5912,
                    7173.35995,
                    14410.9321,
                    24915.04626,
                    20149.3229,
                    13143.86485,
                    10141.1362,
                    8252.2843,
                    1712.227,
                    12430.95335,
                    26392.26029,
                    14394.39815,
                    5148.5526,
                    45710.20785,
                    3943.5954,
                    11244.3769,
                    7729.64575,
                    2104.1134,
                    29186.48236,
                    9541.69555,
                    6113.23105,
                    5469.0066,
                    1984.4533,
                    9875.6804,
                    10106.13425,
                    16657.71745,
                    2217.6012,
                    9447.25035,
                    36189.1017,
                    8604.48365,
                    43254.41795,
                    17128.42608,
                    5031.26955,
                    7985.815,
                    5428.7277,
                    3925.7582,
                    3070.8087,
                    9095.06825,
                    12797.20962,
                    7448.40395,
                    12741.16745,
                    5209.57885,
                    2731.9122,
                    4719.52405,
                    17904.52705,
                    3309.7926,
                    4428.88785,
                    23401.30575,
                    16069.08475,
                    20773.62775,
                    39597.4072,
                    11657.7189,
                    6402.29135,
                    12323.936,
                    10072.05505,
                    37270.1512,
                    42111.6647,
                    11729.6795,
                    24106.91255,
                    5458.04645,
                    13129.60345,
                    8891.1395,
                    2585.85065,
                    46255.1125,
                    27218.43725,
                    10422.91665,
                    13555.0049,
                    19798.05455,
                    8688.85885,
                    4661.28635,
                    4564.19145,
                    4846.92015,
                    33732.6867,
                    35069.37452,
                    25333.33284,
                    32108.66282,
                    2217.46915,
                    39047.285,
                    11534.87265,
                    41034.2214,
                    9500.57305,
                    3279.86855,
                    4992.3764,
                    16138.76205,
                    9704.66805,
                    25517.11363,
                    4500.33925,
                    16796.41194,
                    4915.05985,
                    4518.82625,
                    14571.8908,
                    7144.86265,
                    7986.47525,
                    6551.7501,
                    8627.5411,
                    4438.2634,
                    23241.47453,
                    9957.7216,
                    6877.9801,
                    4137.5227,
                    13747.87235,
                    2250.8352,
                    1704.70015,
                    33475.81715,
                    11394.06555,
                    7325.0482,
                    14394.5579,
                    9288.0267,
                    5757.41345,
                    13974.45555,
                    12096.6512,
                    13204.28565,
                    2102.2647,
                    10796.35025,
                    11286.5387,
                    4561.1885,
                    44641.1974,
                    23045.56616,
                    16776.30405,
                    11512.405,
                    2396.0959,
                    9222.4026,
                    18903.49141,
                    40904.1995,
                    20709.02034,
                    2203.73595,
                    7228.21565,
                    2459.7201,
                    2200.83085,
                    5227.98875,
                    17178.6824,
                    2899.48935,
                    7650.77375,
                    9447.3824,
                    8603.8234,
                    21771.3423,
                    13725.47184,
                    13019.16105,
                    9964.06,
                    20296.86345,
                    1702.4553,
                    12890.05765,
                    4718.20355,
                    6858.4796,
                    6640.54485,
                    11938.25595,
                    14449.8544,
                    6985.50695,
                    37607.5277,
                    18648.4217,
                    10197.7722,
                    4544.2348,
                    10370.91255,
                    34254.05335,
                    2741.948,
                    22462.04375,
                    14283.4594,
                    8534.6718,
                    3732.6251,
                    7133.9025,
                    11931.12525,
                    1708.92575,
                    21259.37795,
                    16115.3045,
                    11272.33139,
                    19496.71917,
                    28101.33305,
                    13143.33665,
                    7050.0213,
                    22395.74424,
                    2205.9808
                  ],
                  "y0": " ",
                  "yaxis": "y"
                }
              ],
              "layout": {
                "boxmode": "group",
                "height": 600,
                "legend": {
                  "title": {
                    "text": "region"
                  },
                  "tracegroupgap": 0
                },
                "template": {
                  "data": {
                    "bar": [
                      {
                        "error_x": {
                          "color": "#2a3f5f"
                        },
                        "error_y": {
                          "color": "#2a3f5f"
                        },
                        "marker": {
                          "line": {
                            "color": "#E5ECF6",
                            "width": 0.5
                          },
                          "pattern": {
                            "fillmode": "overlay",
                            "size": 10,
                            "solidity": 0.2
                          }
                        },
                        "type": "bar"
                      }
                    ],
                    "barpolar": [
                      {
                        "marker": {
                          "line": {
                            "color": "#E5ECF6",
                            "width": 0.5
                          },
                          "pattern": {
                            "fillmode": "overlay",
                            "size": 10,
                            "solidity": 0.2
                          }
                        },
                        "type": "barpolar"
                      }
                    ],
                    "carpet": [
                      {
                        "aaxis": {
                          "endlinecolor": "#2a3f5f",
                          "gridcolor": "white",
                          "linecolor": "white",
                          "minorgridcolor": "white",
                          "startlinecolor": "#2a3f5f"
                        },
                        "baxis": {
                          "endlinecolor": "#2a3f5f",
                          "gridcolor": "white",
                          "linecolor": "white",
                          "minorgridcolor": "white",
                          "startlinecolor": "#2a3f5f"
                        },
                        "type": "carpet"
                      }
                    ],
                    "choropleth": [
                      {
                        "colorbar": {
                          "outlinewidth": 0,
                          "ticks": ""
                        },
                        "type": "choropleth"
                      }
                    ],
                    "contour": [
                      {
                        "colorbar": {
                          "outlinewidth": 0,
                          "ticks": ""
                        },
                        "colorscale": [
                          [
                            0,
                            "#0d0887"
                          ],
                          [
                            0.1111111111111111,
                            "#46039f"
                          ],
                          [
                            0.2222222222222222,
                            "#7201a8"
                          ],
                          [
                            0.3333333333333333,
                            "#9c179e"
                          ],
                          [
                            0.4444444444444444,
                            "#bd3786"
                          ],
                          [
                            0.5555555555555556,
                            "#d8576b"
                          ],
                          [
                            0.6666666666666666,
                            "#ed7953"
                          ],
                          [
                            0.7777777777777778,
                            "#fb9f3a"
                          ],
                          [
                            0.8888888888888888,
                            "#fdca26"
                          ],
                          [
                            1,
                            "#f0f921"
                          ]
                        ],
                        "type": "contour"
                      }
                    ],
                    "contourcarpet": [
                      {
                        "colorbar": {
                          "outlinewidth": 0,
                          "ticks": ""
                        },
                        "type": "contourcarpet"
                      }
                    ],
                    "heatmap": [
                      {
                        "colorbar": {
                          "outlinewidth": 0,
                          "ticks": ""
                        },
                        "colorscale": [
                          [
                            0,
                            "#0d0887"
                          ],
                          [
                            0.1111111111111111,
                            "#46039f"
                          ],
                          [
                            0.2222222222222222,
                            "#7201a8"
                          ],
                          [
                            0.3333333333333333,
                            "#9c179e"
                          ],
                          [
                            0.4444444444444444,
                            "#bd3786"
                          ],
                          [
                            0.5555555555555556,
                            "#d8576b"
                          ],
                          [
                            0.6666666666666666,
                            "#ed7953"
                          ],
                          [
                            0.7777777777777778,
                            "#fb9f3a"
                          ],
                          [
                            0.8888888888888888,
                            "#fdca26"
                          ],
                          [
                            1,
                            "#f0f921"
                          ]
                        ],
                        "type": "heatmap"
                      }
                    ],
                    "heatmapgl": [
                      {
                        "colorbar": {
                          "outlinewidth": 0,
                          "ticks": ""
                        },
                        "colorscale": [
                          [
                            0,
                            "#0d0887"
                          ],
                          [
                            0.1111111111111111,
                            "#46039f"
                          ],
                          [
                            0.2222222222222222,
                            "#7201a8"
                          ],
                          [
                            0.3333333333333333,
                            "#9c179e"
                          ],
                          [
                            0.4444444444444444,
                            "#bd3786"
                          ],
                          [
                            0.5555555555555556,
                            "#d8576b"
                          ],
                          [
                            0.6666666666666666,
                            "#ed7953"
                          ],
                          [
                            0.7777777777777778,
                            "#fb9f3a"
                          ],
                          [
                            0.8888888888888888,
                            "#fdca26"
                          ],
                          [
                            1,
                            "#f0f921"
                          ]
                        ],
                        "type": "heatmapgl"
                      }
                    ],
                    "histogram": [
                      {
                        "marker": {
                          "pattern": {
                            "fillmode": "overlay",
                            "size": 10,
                            "solidity": 0.2
                          }
                        },
                        "type": "histogram"
                      }
                    ],
                    "histogram2d": [
                      {
                        "colorbar": {
                          "outlinewidth": 0,
                          "ticks": ""
                        },
                        "colorscale": [
                          [
                            0,
                            "#0d0887"
                          ],
                          [
                            0.1111111111111111,
                            "#46039f"
                          ],
                          [
                            0.2222222222222222,
                            "#7201a8"
                          ],
                          [
                            0.3333333333333333,
                            "#9c179e"
                          ],
                          [
                            0.4444444444444444,
                            "#bd3786"
                          ],
                          [
                            0.5555555555555556,
                            "#d8576b"
                          ],
                          [
                            0.6666666666666666,
                            "#ed7953"
                          ],
                          [
                            0.7777777777777778,
                            "#fb9f3a"
                          ],
                          [
                            0.8888888888888888,
                            "#fdca26"
                          ],
                          [
                            1,
                            "#f0f921"
                          ]
                        ],
                        "type": "histogram2d"
                      }
                    ],
                    "histogram2dcontour": [
                      {
                        "colorbar": {
                          "outlinewidth": 0,
                          "ticks": ""
                        },
                        "colorscale": [
                          [
                            0,
                            "#0d0887"
                          ],
                          [
                            0.1111111111111111,
                            "#46039f"
                          ],
                          [
                            0.2222222222222222,
                            "#7201a8"
                          ],
                          [
                            0.3333333333333333,
                            "#9c179e"
                          ],
                          [
                            0.4444444444444444,
                            "#bd3786"
                          ],
                          [
                            0.5555555555555556,
                            "#d8576b"
                          ],
                          [
                            0.6666666666666666,
                            "#ed7953"
                          ],
                          [
                            0.7777777777777778,
                            "#fb9f3a"
                          ],
                          [
                            0.8888888888888888,
                            "#fdca26"
                          ],
                          [
                            1,
                            "#f0f921"
                          ]
                        ],
                        "type": "histogram2dcontour"
                      }
                    ],
                    "mesh3d": [
                      {
                        "colorbar": {
                          "outlinewidth": 0,
                          "ticks": ""
                        },
                        "type": "mesh3d"
                      }
                    ],
                    "parcoords": [
                      {
                        "line": {
                          "colorbar": {
                            "outlinewidth": 0,
                            "ticks": ""
                          }
                        },
                        "type": "parcoords"
                      }
                    ],
                    "pie": [
                      {
                        "automargin": true,
                        "type": "pie"
                      }
                    ],
                    "scatter": [
                      {
                        "fillpattern": {
                          "fillmode": "overlay",
                          "size": 10,
                          "solidity": 0.2
                        },
                        "type": "scatter"
                      }
                    ],
                    "scatter3d": [
                      {
                        "line": {
                          "colorbar": {
                            "outlinewidth": 0,
                            "ticks": ""
                          }
                        },
                        "marker": {
                          "colorbar": {
                            "outlinewidth": 0,
                            "ticks": ""
                          }
                        },
                        "type": "scatter3d"
                      }
                    ],
                    "scattercarpet": [
                      {
                        "marker": {
                          "colorbar": {
                            "outlinewidth": 0,
                            "ticks": ""
                          }
                        },
                        "type": "scattercarpet"
                      }
                    ],
                    "scattergeo": [
                      {
                        "marker": {
                          "colorbar": {
                            "outlinewidth": 0,
                            "ticks": ""
                          }
                        },
                        "type": "scattergeo"
                      }
                    ],
                    "scattergl": [
                      {
                        "marker": {
                          "colorbar": {
                            "outlinewidth": 0,
                            "ticks": ""
                          }
                        },
                        "type": "scattergl"
                      }
                    ],
                    "scattermapbox": [
                      {
                        "marker": {
                          "colorbar": {
                            "outlinewidth": 0,
                            "ticks": ""
                          }
                        },
                        "type": "scattermapbox"
                      }
                    ],
                    "scatterpolar": [
                      {
                        "marker": {
                          "colorbar": {
                            "outlinewidth": 0,
                            "ticks": ""
                          }
                        },
                        "type": "scatterpolar"
                      }
                    ],
                    "scatterpolargl": [
                      {
                        "marker": {
                          "colorbar": {
                            "outlinewidth": 0,
                            "ticks": ""
                          }
                        },
                        "type": "scatterpolargl"
                      }
                    ],
                    "scatterternary": [
                      {
                        "marker": {
                          "colorbar": {
                            "outlinewidth": 0,
                            "ticks": ""
                          }
                        },
                        "type": "scatterternary"
                      }
                    ],
                    "surface": [
                      {
                        "colorbar": {
                          "outlinewidth": 0,
                          "ticks": ""
                        },
                        "colorscale": [
                          [
                            0,
                            "#0d0887"
                          ],
                          [
                            0.1111111111111111,
                            "#46039f"
                          ],
                          [
                            0.2222222222222222,
                            "#7201a8"
                          ],
                          [
                            0.3333333333333333,
                            "#9c179e"
                          ],
                          [
                            0.4444444444444444,
                            "#bd3786"
                          ],
                          [
                            0.5555555555555556,
                            "#d8576b"
                          ],
                          [
                            0.6666666666666666,
                            "#ed7953"
                          ],
                          [
                            0.7777777777777778,
                            "#fb9f3a"
                          ],
                          [
                            0.8888888888888888,
                            "#fdca26"
                          ],
                          [
                            1,
                            "#f0f921"
                          ]
                        ],
                        "type": "surface"
                      }
                    ],
                    "table": [
                      {
                        "cells": {
                          "fill": {
                            "color": "#EBF0F8"
                          },
                          "line": {
                            "color": "white"
                          }
                        },
                        "header": {
                          "fill": {
                            "color": "#C8D4E3"
                          },
                          "line": {
                            "color": "white"
                          }
                        },
                        "type": "table"
                      }
                    ]
                  },
                  "layout": {
                    "annotationdefaults": {
                      "arrowcolor": "#2a3f5f",
                      "arrowhead": 0,
                      "arrowwidth": 1
                    },
                    "autotypenumbers": "strict",
                    "coloraxis": {
                      "colorbar": {
                        "outlinewidth": 0,
                        "ticks": ""
                      }
                    },
                    "colorscale": {
                      "diverging": [
                        [
                          0,
                          "#8e0152"
                        ],
                        [
                          0.1,
                          "#c51b7d"
                        ],
                        [
                          0.2,
                          "#de77ae"
                        ],
                        [
                          0.3,
                          "#f1b6da"
                        ],
                        [
                          0.4,
                          "#fde0ef"
                        ],
                        [
                          0.5,
                          "#f7f7f7"
                        ],
                        [
                          0.6,
                          "#e6f5d0"
                        ],
                        [
                          0.7,
                          "#b8e186"
                        ],
                        [
                          0.8,
                          "#7fbc41"
                        ],
                        [
                          0.9,
                          "#4d9221"
                        ],
                        [
                          1,
                          "#276419"
                        ]
                      ],
                      "sequential": [
                        [
                          0,
                          "#0d0887"
                        ],
                        [
                          0.1111111111111111,
                          "#46039f"
                        ],
                        [
                          0.2222222222222222,
                          "#7201a8"
                        ],
                        [
                          0.3333333333333333,
                          "#9c179e"
                        ],
                        [
                          0.4444444444444444,
                          "#bd3786"
                        ],
                        [
                          0.5555555555555556,
                          "#d8576b"
                        ],
                        [
                          0.6666666666666666,
                          "#ed7953"
                        ],
                        [
                          0.7777777777777778,
                          "#fb9f3a"
                        ],
                        [
                          0.8888888888888888,
                          "#fdca26"
                        ],
                        [
                          1,
                          "#f0f921"
                        ]
                      ],
                      "sequentialminus": [
                        [
                          0,
                          "#0d0887"
                        ],
                        [
                          0.1111111111111111,
                          "#46039f"
                        ],
                        [
                          0.2222222222222222,
                          "#7201a8"
                        ],
                        [
                          0.3333333333333333,
                          "#9c179e"
                        ],
                        [
                          0.4444444444444444,
                          "#bd3786"
                        ],
                        [
                          0.5555555555555556,
                          "#d8576b"
                        ],
                        [
                          0.6666666666666666,
                          "#ed7953"
                        ],
                        [
                          0.7777777777777778,
                          "#fb9f3a"
                        ],
                        [
                          0.8888888888888888,
                          "#fdca26"
                        ],
                        [
                          1,
                          "#f0f921"
                        ]
                      ]
                    },
                    "colorway": [
                      "#636efa",
                      "#EF553B",
                      "#00cc96",
                      "#ab63fa",
                      "#FFA15A",
                      "#19d3f3",
                      "#FF6692",
                      "#B6E880",
                      "#FF97FF",
                      "#FECB52"
                    ],
                    "font": {
                      "color": "#2a3f5f"
                    },
                    "geo": {
                      "bgcolor": "white",
                      "lakecolor": "white",
                      "landcolor": "#E5ECF6",
                      "showlakes": true,
                      "showland": true,
                      "subunitcolor": "white"
                    },
                    "hoverlabel": {
                      "align": "left"
                    },
                    "hovermode": "closest",
                    "mapbox": {
                      "style": "light"
                    },
                    "paper_bgcolor": "white",
                    "plot_bgcolor": "#E5ECF6",
                    "polar": {
                      "angularaxis": {
                        "gridcolor": "white",
                        "linecolor": "white",
                        "ticks": ""
                      },
                      "bgcolor": "#E5ECF6",
                      "radialaxis": {
                        "gridcolor": "white",
                        "linecolor": "white",
                        "ticks": ""
                      }
                    },
                    "scene": {
                      "xaxis": {
                        "backgroundcolor": "#E5ECF6",
                        "gridcolor": "white",
                        "gridwidth": 2,
                        "linecolor": "white",
                        "showbackground": true,
                        "ticks": "",
                        "zerolinecolor": "white"
                      },
                      "yaxis": {
                        "backgroundcolor": "#E5ECF6",
                        "gridcolor": "white",
                        "gridwidth": 2,
                        "linecolor": "white",
                        "showbackground": true,
                        "ticks": "",
                        "zerolinecolor": "white"
                      },
                      "zaxis": {
                        "backgroundcolor": "#E5ECF6",
                        "gridcolor": "white",
                        "gridwidth": 2,
                        "linecolor": "white",
                        "showbackground": true,
                        "ticks": "",
                        "zerolinecolor": "white"
                      }
                    },
                    "shapedefaults": {
                      "line": {
                        "color": "#2a3f5f"
                      }
                    },
                    "ternary": {
                      "aaxis": {
                        "gridcolor": "white",
                        "linecolor": "white",
                        "ticks": ""
                      },
                      "baxis": {
                        "gridcolor": "white",
                        "linecolor": "white",
                        "ticks": ""
                      },
                      "bgcolor": "#E5ECF6",
                      "caxis": {
                        "gridcolor": "white",
                        "linecolor": "white",
                        "ticks": ""
                      }
                    },
                    "title": {
                      "x": 0.05
                    },
                    "xaxis": {
                      "automargin": true,
                      "gridcolor": "white",
                      "linecolor": "white",
                      "ticks": "",
                      "title": {
                        "standoff": 15
                      },
                      "zerolinecolor": "white",
                      "zerolinewidth": 2
                    },
                    "yaxis": {
                      "automargin": true,
                      "gridcolor": "white",
                      "linecolor": "white",
                      "ticks": "",
                      "title": {
                        "standoff": 15
                      },
                      "zerolinecolor": "white",
                      "zerolinewidth": 2
                    }
                  }
                },
                "title": {
                  "text": "Smoker vs Charges by Region"
                },
                "width": 1000,
                "xaxis": {
                  "anchor": "y",
                  "domain": [
                    0,
                    1
                  ],
                  "title": {
                    "text": "smoker"
                  }
                },
                "yaxis": {
                  "anchor": "x",
                  "domain": [
                    0,
                    1
                  ],
                  "title": {
                    "text": "charges"
                  }
                }
              }
            }
          },
          "metadata": {},
          "output_type": "display_data"
        }
      ],
      "source": [
        "fig = px.box(data_frame=df, x=\"smoker\", y=\"charges\", color=\"region\", \n",
        "             title=\"Smoker vs Charges by Region\", width=1000, height=600)\n",
        "\n",
        "fig.show()"
      ]
    },
    {
      "cell_type": "markdown",
      "metadata": {},
      "source": [
        "**Smoker vs Charges by Region**\n",
        "\n",
        "This boxplot informs that smokers pay significantly higher insurance charges compared to non-smokers—almost twice the average insurance charges paid by non-smokers."
      ]
    },
    {
      "cell_type": "markdown",
      "metadata": {},
      "source": [
        "### Exploring room for feature engineering\n",
        "\n",
        "The business will benefit by providing value-added services to customers who are paying high insurance charges. If I create a new group that categorizes respondents based on their lifestyle and health habits, that will help the business categorize customers and tailor services."
      ]
    },
    {
      "cell_type": "code",
      "execution_count": 166,
      "metadata": {},
      "outputs": [],
      "source": [
        "def add_risk_categories(df):\n",
        "    \"\"\"Categorize individuals into risk categories based on smoking habit and BMI.\"\"\"\n",
        "\n",
        "    df['high_risk'] = (df['bmi'] > 30).astype(int)\n",
        "\n",
        "    df[\"medium_risk\"] = ((df['bmi'] >= 25) & (df[\"bmi\"] <= 30)).astype(int)\n",
        "    \n",
        "    df[\"low-medium_risk\"] = ((df['bmi'] >= 17) & (df[\"bmi\"] <= 25)).astype(int)\n",
        "    \n",
        "    df[\"low_risk\"] = ((df[\"smoker\"]== \"no\") & (df[\"bmi\"] < 25)).astype(int)\n",
        "\n",
        "    return df\n",
        "\n",
        "df = add_risk_categories(df)\n",
        "df.to_csv(\"../data/feature_engineered_insurance.csv\", index=False)"
      ]
    },
    {
      "cell_type": "markdown",
      "metadata": {},
      "source": [
        "Created four new columns categorizing risk. I've built a function around it for ML Engineers to simply apply this to new data, as and when it becomes available. Here's a quick overview:\n",
        "\n",
        "1. high_risk: bmi is more than 30\n",
        "\n",
        "2. medium_risk: bmi is between 25 and 30\n",
        "\n",
        "3. low-medium_risk: bmi is between 17 and 25\n",
        "\n",
        "4. low_risk: non-smoker and the BMI is less than 25\n",
        "\n",
        "I leveraged the [NHS BMI INFO](https://www.nhsinform.scot/healthy-living/food-and-nutrition/healthy-eating-and-weight-management/body-mass-index-bmi/) to derive these buckets."
      ]
    },
    {
      "cell_type": "code",
      "execution_count": 167,
      "metadata": {},
      "outputs": [
        {
          "data": {
            "text/html": [
              "<div>\n",
              "<style scoped>\n",
              "    .dataframe tbody tr th:only-of-type {\n",
              "        vertical-align: middle;\n",
              "    }\n",
              "\n",
              "    .dataframe tbody tr th {\n",
              "        vertical-align: top;\n",
              "    }\n",
              "\n",
              "    .dataframe thead th {\n",
              "        text-align: right;\n",
              "    }\n",
              "</style>\n",
              "<table border=\"1\" class=\"dataframe\">\n",
              "  <thead>\n",
              "    <tr style=\"text-align: right;\">\n",
              "      <th></th>\n",
              "      <th>age</th>\n",
              "      <th>sex</th>\n",
              "      <th>bmi</th>\n",
              "      <th>children</th>\n",
              "      <th>smoker</th>\n",
              "      <th>region</th>\n",
              "      <th>charges</th>\n",
              "      <th>high_risk</th>\n",
              "      <th>medium_risk</th>\n",
              "      <th>low-medium_risk</th>\n",
              "      <th>low_risk</th>\n",
              "    </tr>\n",
              "  </thead>\n",
              "  <tbody>\n",
              "    <tr>\n",
              "      <th>0</th>\n",
              "      <td>19</td>\n",
              "      <td>female</td>\n",
              "      <td>27.900</td>\n",
              "      <td>0</td>\n",
              "      <td>yes</td>\n",
              "      <td>southwest</td>\n",
              "      <td>16884.92400</td>\n",
              "      <td>0</td>\n",
              "      <td>1</td>\n",
              "      <td>0</td>\n",
              "      <td>0</td>\n",
              "    </tr>\n",
              "    <tr>\n",
              "      <th>1</th>\n",
              "      <td>18</td>\n",
              "      <td>male</td>\n",
              "      <td>33.770</td>\n",
              "      <td>1</td>\n",
              "      <td>no</td>\n",
              "      <td>southeast</td>\n",
              "      <td>1725.55230</td>\n",
              "      <td>1</td>\n",
              "      <td>0</td>\n",
              "      <td>0</td>\n",
              "      <td>0</td>\n",
              "    </tr>\n",
              "    <tr>\n",
              "      <th>2</th>\n",
              "      <td>28</td>\n",
              "      <td>male</td>\n",
              "      <td>33.000</td>\n",
              "      <td>3</td>\n",
              "      <td>no</td>\n",
              "      <td>southeast</td>\n",
              "      <td>4449.46200</td>\n",
              "      <td>1</td>\n",
              "      <td>0</td>\n",
              "      <td>0</td>\n",
              "      <td>0</td>\n",
              "    </tr>\n",
              "    <tr>\n",
              "      <th>3</th>\n",
              "      <td>33</td>\n",
              "      <td>male</td>\n",
              "      <td>22.705</td>\n",
              "      <td>0</td>\n",
              "      <td>no</td>\n",
              "      <td>northwest</td>\n",
              "      <td>21984.47061</td>\n",
              "      <td>0</td>\n",
              "      <td>0</td>\n",
              "      <td>1</td>\n",
              "      <td>1</td>\n",
              "    </tr>\n",
              "    <tr>\n",
              "      <th>4</th>\n",
              "      <td>32</td>\n",
              "      <td>male</td>\n",
              "      <td>28.880</td>\n",
              "      <td>0</td>\n",
              "      <td>no</td>\n",
              "      <td>northwest</td>\n",
              "      <td>3866.85520</td>\n",
              "      <td>0</td>\n",
              "      <td>1</td>\n",
              "      <td>0</td>\n",
              "      <td>0</td>\n",
              "    </tr>\n",
              "    <tr>\n",
              "      <th>...</th>\n",
              "      <td>...</td>\n",
              "      <td>...</td>\n",
              "      <td>...</td>\n",
              "      <td>...</td>\n",
              "      <td>...</td>\n",
              "      <td>...</td>\n",
              "      <td>...</td>\n",
              "      <td>...</td>\n",
              "      <td>...</td>\n",
              "      <td>...</td>\n",
              "      <td>...</td>\n",
              "    </tr>\n",
              "    <tr>\n",
              "      <th>1333</th>\n",
              "      <td>50</td>\n",
              "      <td>male</td>\n",
              "      <td>30.970</td>\n",
              "      <td>3</td>\n",
              "      <td>no</td>\n",
              "      <td>northwest</td>\n",
              "      <td>10600.54830</td>\n",
              "      <td>1</td>\n",
              "      <td>0</td>\n",
              "      <td>0</td>\n",
              "      <td>0</td>\n",
              "    </tr>\n",
              "    <tr>\n",
              "      <th>1334</th>\n",
              "      <td>18</td>\n",
              "      <td>female</td>\n",
              "      <td>31.920</td>\n",
              "      <td>0</td>\n",
              "      <td>no</td>\n",
              "      <td>northeast</td>\n",
              "      <td>2205.98080</td>\n",
              "      <td>1</td>\n",
              "      <td>0</td>\n",
              "      <td>0</td>\n",
              "      <td>0</td>\n",
              "    </tr>\n",
              "    <tr>\n",
              "      <th>1335</th>\n",
              "      <td>18</td>\n",
              "      <td>female</td>\n",
              "      <td>36.850</td>\n",
              "      <td>0</td>\n",
              "      <td>no</td>\n",
              "      <td>southeast</td>\n",
              "      <td>1629.83350</td>\n",
              "      <td>1</td>\n",
              "      <td>0</td>\n",
              "      <td>0</td>\n",
              "      <td>0</td>\n",
              "    </tr>\n",
              "    <tr>\n",
              "      <th>1336</th>\n",
              "      <td>21</td>\n",
              "      <td>female</td>\n",
              "      <td>25.800</td>\n",
              "      <td>0</td>\n",
              "      <td>no</td>\n",
              "      <td>southwest</td>\n",
              "      <td>2007.94500</td>\n",
              "      <td>0</td>\n",
              "      <td>1</td>\n",
              "      <td>0</td>\n",
              "      <td>0</td>\n",
              "    </tr>\n",
              "    <tr>\n",
              "      <th>1337</th>\n",
              "      <td>61</td>\n",
              "      <td>female</td>\n",
              "      <td>29.070</td>\n",
              "      <td>0</td>\n",
              "      <td>yes</td>\n",
              "      <td>northwest</td>\n",
              "      <td>29141.36030</td>\n",
              "      <td>0</td>\n",
              "      <td>1</td>\n",
              "      <td>0</td>\n",
              "      <td>0</td>\n",
              "    </tr>\n",
              "  </tbody>\n",
              "</table>\n",
              "<p>1338 rows × 11 columns</p>\n",
              "</div>"
            ],
            "text/plain": [
              "      age     sex     bmi  children smoker     region      charges  high_risk  \\\n",
              "0      19  female  27.900         0    yes  southwest  16884.92400          0   \n",
              "1      18    male  33.770         1     no  southeast   1725.55230          1   \n",
              "2      28    male  33.000         3     no  southeast   4449.46200          1   \n",
              "3      33    male  22.705         0     no  northwest  21984.47061          0   \n",
              "4      32    male  28.880         0     no  northwest   3866.85520          0   \n",
              "...   ...     ...     ...       ...    ...        ...          ...        ...   \n",
              "1333   50    male  30.970         3     no  northwest  10600.54830          1   \n",
              "1334   18  female  31.920         0     no  northeast   2205.98080          1   \n",
              "1335   18  female  36.850         0     no  southeast   1629.83350          1   \n",
              "1336   21  female  25.800         0     no  southwest   2007.94500          0   \n",
              "1337   61  female  29.070         0    yes  northwest  29141.36030          0   \n",
              "\n",
              "      medium_risk  low-medium_risk  low_risk  \n",
              "0               1                0         0  \n",
              "1               0                0         0  \n",
              "2               0                0         0  \n",
              "3               0                1         1  \n",
              "4               1                0         0  \n",
              "...           ...              ...       ...  \n",
              "1333            0                0         0  \n",
              "1334            0                0         0  \n",
              "1335            0                0         0  \n",
              "1336            1                0         0  \n",
              "1337            1                0         0  \n",
              "\n",
              "[1338 rows x 11 columns]"
            ]
          },
          "execution_count": 167,
          "metadata": {},
          "output_type": "execute_result"
        }
      ],
      "source": [
        "df1 = pd.read_csv(\"../data/feature_engineered_insurance.csv\")\n",
        "df1"
      ]
    },
    {
      "cell_type": "code",
      "execution_count": 186,
      "metadata": {},
      "outputs": [
        {
          "data": {
            "application/vnd.plotly.v1+json": {
              "config": {
                "plotlyServerURL": "https://plot.ly"
              },
              "data": [
                {
                  "domain": {
                    "x": [
                      0,
                      1
                    ],
                    "y": [
                      0,
                      1
                    ]
                  },
                  "hovertemplate": "label=%{label}<br>value=%{value}<extra></extra>",
                  "labels": [
                    "high_risk",
                    "medium_risk",
                    "low-medium_risk",
                    "low_risk"
                  ],
                  "legendgroup": "",
                  "name": "",
                  "showlegend": true,
                  "type": "pie",
                  "values": [
                    705,
                    388,
                    244,
                    190
                  ]
                }
              ],
              "layout": {
                "height": 600,
                "legend": {
                  "tracegroupgap": 0
                },
                "template": {
                  "data": {
                    "bar": [
                      {
                        "error_x": {
                          "color": "#2a3f5f"
                        },
                        "error_y": {
                          "color": "#2a3f5f"
                        },
                        "marker": {
                          "line": {
                            "color": "#E5ECF6",
                            "width": 0.5
                          },
                          "pattern": {
                            "fillmode": "overlay",
                            "size": 10,
                            "solidity": 0.2
                          }
                        },
                        "type": "bar"
                      }
                    ],
                    "barpolar": [
                      {
                        "marker": {
                          "line": {
                            "color": "#E5ECF6",
                            "width": 0.5
                          },
                          "pattern": {
                            "fillmode": "overlay",
                            "size": 10,
                            "solidity": 0.2
                          }
                        },
                        "type": "barpolar"
                      }
                    ],
                    "carpet": [
                      {
                        "aaxis": {
                          "endlinecolor": "#2a3f5f",
                          "gridcolor": "white",
                          "linecolor": "white",
                          "minorgridcolor": "white",
                          "startlinecolor": "#2a3f5f"
                        },
                        "baxis": {
                          "endlinecolor": "#2a3f5f",
                          "gridcolor": "white",
                          "linecolor": "white",
                          "minorgridcolor": "white",
                          "startlinecolor": "#2a3f5f"
                        },
                        "type": "carpet"
                      }
                    ],
                    "choropleth": [
                      {
                        "colorbar": {
                          "outlinewidth": 0,
                          "ticks": ""
                        },
                        "type": "choropleth"
                      }
                    ],
                    "contour": [
                      {
                        "colorbar": {
                          "outlinewidth": 0,
                          "ticks": ""
                        },
                        "colorscale": [
                          [
                            0,
                            "#0d0887"
                          ],
                          [
                            0.1111111111111111,
                            "#46039f"
                          ],
                          [
                            0.2222222222222222,
                            "#7201a8"
                          ],
                          [
                            0.3333333333333333,
                            "#9c179e"
                          ],
                          [
                            0.4444444444444444,
                            "#bd3786"
                          ],
                          [
                            0.5555555555555556,
                            "#d8576b"
                          ],
                          [
                            0.6666666666666666,
                            "#ed7953"
                          ],
                          [
                            0.7777777777777778,
                            "#fb9f3a"
                          ],
                          [
                            0.8888888888888888,
                            "#fdca26"
                          ],
                          [
                            1,
                            "#f0f921"
                          ]
                        ],
                        "type": "contour"
                      }
                    ],
                    "contourcarpet": [
                      {
                        "colorbar": {
                          "outlinewidth": 0,
                          "ticks": ""
                        },
                        "type": "contourcarpet"
                      }
                    ],
                    "heatmap": [
                      {
                        "colorbar": {
                          "outlinewidth": 0,
                          "ticks": ""
                        },
                        "colorscale": [
                          [
                            0,
                            "#0d0887"
                          ],
                          [
                            0.1111111111111111,
                            "#46039f"
                          ],
                          [
                            0.2222222222222222,
                            "#7201a8"
                          ],
                          [
                            0.3333333333333333,
                            "#9c179e"
                          ],
                          [
                            0.4444444444444444,
                            "#bd3786"
                          ],
                          [
                            0.5555555555555556,
                            "#d8576b"
                          ],
                          [
                            0.6666666666666666,
                            "#ed7953"
                          ],
                          [
                            0.7777777777777778,
                            "#fb9f3a"
                          ],
                          [
                            0.8888888888888888,
                            "#fdca26"
                          ],
                          [
                            1,
                            "#f0f921"
                          ]
                        ],
                        "type": "heatmap"
                      }
                    ],
                    "heatmapgl": [
                      {
                        "colorbar": {
                          "outlinewidth": 0,
                          "ticks": ""
                        },
                        "colorscale": [
                          [
                            0,
                            "#0d0887"
                          ],
                          [
                            0.1111111111111111,
                            "#46039f"
                          ],
                          [
                            0.2222222222222222,
                            "#7201a8"
                          ],
                          [
                            0.3333333333333333,
                            "#9c179e"
                          ],
                          [
                            0.4444444444444444,
                            "#bd3786"
                          ],
                          [
                            0.5555555555555556,
                            "#d8576b"
                          ],
                          [
                            0.6666666666666666,
                            "#ed7953"
                          ],
                          [
                            0.7777777777777778,
                            "#fb9f3a"
                          ],
                          [
                            0.8888888888888888,
                            "#fdca26"
                          ],
                          [
                            1,
                            "#f0f921"
                          ]
                        ],
                        "type": "heatmapgl"
                      }
                    ],
                    "histogram": [
                      {
                        "marker": {
                          "pattern": {
                            "fillmode": "overlay",
                            "size": 10,
                            "solidity": 0.2
                          }
                        },
                        "type": "histogram"
                      }
                    ],
                    "histogram2d": [
                      {
                        "colorbar": {
                          "outlinewidth": 0,
                          "ticks": ""
                        },
                        "colorscale": [
                          [
                            0,
                            "#0d0887"
                          ],
                          [
                            0.1111111111111111,
                            "#46039f"
                          ],
                          [
                            0.2222222222222222,
                            "#7201a8"
                          ],
                          [
                            0.3333333333333333,
                            "#9c179e"
                          ],
                          [
                            0.4444444444444444,
                            "#bd3786"
                          ],
                          [
                            0.5555555555555556,
                            "#d8576b"
                          ],
                          [
                            0.6666666666666666,
                            "#ed7953"
                          ],
                          [
                            0.7777777777777778,
                            "#fb9f3a"
                          ],
                          [
                            0.8888888888888888,
                            "#fdca26"
                          ],
                          [
                            1,
                            "#f0f921"
                          ]
                        ],
                        "type": "histogram2d"
                      }
                    ],
                    "histogram2dcontour": [
                      {
                        "colorbar": {
                          "outlinewidth": 0,
                          "ticks": ""
                        },
                        "colorscale": [
                          [
                            0,
                            "#0d0887"
                          ],
                          [
                            0.1111111111111111,
                            "#46039f"
                          ],
                          [
                            0.2222222222222222,
                            "#7201a8"
                          ],
                          [
                            0.3333333333333333,
                            "#9c179e"
                          ],
                          [
                            0.4444444444444444,
                            "#bd3786"
                          ],
                          [
                            0.5555555555555556,
                            "#d8576b"
                          ],
                          [
                            0.6666666666666666,
                            "#ed7953"
                          ],
                          [
                            0.7777777777777778,
                            "#fb9f3a"
                          ],
                          [
                            0.8888888888888888,
                            "#fdca26"
                          ],
                          [
                            1,
                            "#f0f921"
                          ]
                        ],
                        "type": "histogram2dcontour"
                      }
                    ],
                    "mesh3d": [
                      {
                        "colorbar": {
                          "outlinewidth": 0,
                          "ticks": ""
                        },
                        "type": "mesh3d"
                      }
                    ],
                    "parcoords": [
                      {
                        "line": {
                          "colorbar": {
                            "outlinewidth": 0,
                            "ticks": ""
                          }
                        },
                        "type": "parcoords"
                      }
                    ],
                    "pie": [
                      {
                        "automargin": true,
                        "type": "pie"
                      }
                    ],
                    "scatter": [
                      {
                        "fillpattern": {
                          "fillmode": "overlay",
                          "size": 10,
                          "solidity": 0.2
                        },
                        "type": "scatter"
                      }
                    ],
                    "scatter3d": [
                      {
                        "line": {
                          "colorbar": {
                            "outlinewidth": 0,
                            "ticks": ""
                          }
                        },
                        "marker": {
                          "colorbar": {
                            "outlinewidth": 0,
                            "ticks": ""
                          }
                        },
                        "type": "scatter3d"
                      }
                    ],
                    "scattercarpet": [
                      {
                        "marker": {
                          "colorbar": {
                            "outlinewidth": 0,
                            "ticks": ""
                          }
                        },
                        "type": "scattercarpet"
                      }
                    ],
                    "scattergeo": [
                      {
                        "marker": {
                          "colorbar": {
                            "outlinewidth": 0,
                            "ticks": ""
                          }
                        },
                        "type": "scattergeo"
                      }
                    ],
                    "scattergl": [
                      {
                        "marker": {
                          "colorbar": {
                            "outlinewidth": 0,
                            "ticks": ""
                          }
                        },
                        "type": "scattergl"
                      }
                    ],
                    "scattermapbox": [
                      {
                        "marker": {
                          "colorbar": {
                            "outlinewidth": 0,
                            "ticks": ""
                          }
                        },
                        "type": "scattermapbox"
                      }
                    ],
                    "scatterpolar": [
                      {
                        "marker": {
                          "colorbar": {
                            "outlinewidth": 0,
                            "ticks": ""
                          }
                        },
                        "type": "scatterpolar"
                      }
                    ],
                    "scatterpolargl": [
                      {
                        "marker": {
                          "colorbar": {
                            "outlinewidth": 0,
                            "ticks": ""
                          }
                        },
                        "type": "scatterpolargl"
                      }
                    ],
                    "scatterternary": [
                      {
                        "marker": {
                          "colorbar": {
                            "outlinewidth": 0,
                            "ticks": ""
                          }
                        },
                        "type": "scatterternary"
                      }
                    ],
                    "surface": [
                      {
                        "colorbar": {
                          "outlinewidth": 0,
                          "ticks": ""
                        },
                        "colorscale": [
                          [
                            0,
                            "#0d0887"
                          ],
                          [
                            0.1111111111111111,
                            "#46039f"
                          ],
                          [
                            0.2222222222222222,
                            "#7201a8"
                          ],
                          [
                            0.3333333333333333,
                            "#9c179e"
                          ],
                          [
                            0.4444444444444444,
                            "#bd3786"
                          ],
                          [
                            0.5555555555555556,
                            "#d8576b"
                          ],
                          [
                            0.6666666666666666,
                            "#ed7953"
                          ],
                          [
                            0.7777777777777778,
                            "#fb9f3a"
                          ],
                          [
                            0.8888888888888888,
                            "#fdca26"
                          ],
                          [
                            1,
                            "#f0f921"
                          ]
                        ],
                        "type": "surface"
                      }
                    ],
                    "table": [
                      {
                        "cells": {
                          "fill": {
                            "color": "#EBF0F8"
                          },
                          "line": {
                            "color": "white"
                          }
                        },
                        "header": {
                          "fill": {
                            "color": "#C8D4E3"
                          },
                          "line": {
                            "color": "white"
                          }
                        },
                        "type": "table"
                      }
                    ]
                  },
                  "layout": {
                    "annotationdefaults": {
                      "arrowcolor": "#2a3f5f",
                      "arrowhead": 0,
                      "arrowwidth": 1
                    },
                    "autotypenumbers": "strict",
                    "coloraxis": {
                      "colorbar": {
                        "outlinewidth": 0,
                        "ticks": ""
                      }
                    },
                    "colorscale": {
                      "diverging": [
                        [
                          0,
                          "#8e0152"
                        ],
                        [
                          0.1,
                          "#c51b7d"
                        ],
                        [
                          0.2,
                          "#de77ae"
                        ],
                        [
                          0.3,
                          "#f1b6da"
                        ],
                        [
                          0.4,
                          "#fde0ef"
                        ],
                        [
                          0.5,
                          "#f7f7f7"
                        ],
                        [
                          0.6,
                          "#e6f5d0"
                        ],
                        [
                          0.7,
                          "#b8e186"
                        ],
                        [
                          0.8,
                          "#7fbc41"
                        ],
                        [
                          0.9,
                          "#4d9221"
                        ],
                        [
                          1,
                          "#276419"
                        ]
                      ],
                      "sequential": [
                        [
                          0,
                          "#0d0887"
                        ],
                        [
                          0.1111111111111111,
                          "#46039f"
                        ],
                        [
                          0.2222222222222222,
                          "#7201a8"
                        ],
                        [
                          0.3333333333333333,
                          "#9c179e"
                        ],
                        [
                          0.4444444444444444,
                          "#bd3786"
                        ],
                        [
                          0.5555555555555556,
                          "#d8576b"
                        ],
                        [
                          0.6666666666666666,
                          "#ed7953"
                        ],
                        [
                          0.7777777777777778,
                          "#fb9f3a"
                        ],
                        [
                          0.8888888888888888,
                          "#fdca26"
                        ],
                        [
                          1,
                          "#f0f921"
                        ]
                      ],
                      "sequentialminus": [
                        [
                          0,
                          "#0d0887"
                        ],
                        [
                          0.1111111111111111,
                          "#46039f"
                        ],
                        [
                          0.2222222222222222,
                          "#7201a8"
                        ],
                        [
                          0.3333333333333333,
                          "#9c179e"
                        ],
                        [
                          0.4444444444444444,
                          "#bd3786"
                        ],
                        [
                          0.5555555555555556,
                          "#d8576b"
                        ],
                        [
                          0.6666666666666666,
                          "#ed7953"
                        ],
                        [
                          0.7777777777777778,
                          "#fb9f3a"
                        ],
                        [
                          0.8888888888888888,
                          "#fdca26"
                        ],
                        [
                          1,
                          "#f0f921"
                        ]
                      ]
                    },
                    "colorway": [
                      "#636efa",
                      "#EF553B",
                      "#00cc96",
                      "#ab63fa",
                      "#FFA15A",
                      "#19d3f3",
                      "#FF6692",
                      "#B6E880",
                      "#FF97FF",
                      "#FECB52"
                    ],
                    "font": {
                      "color": "#2a3f5f"
                    },
                    "geo": {
                      "bgcolor": "white",
                      "lakecolor": "white",
                      "landcolor": "#E5ECF6",
                      "showlakes": true,
                      "showland": true,
                      "subunitcolor": "white"
                    },
                    "hoverlabel": {
                      "align": "left"
                    },
                    "hovermode": "closest",
                    "mapbox": {
                      "style": "light"
                    },
                    "paper_bgcolor": "white",
                    "plot_bgcolor": "#E5ECF6",
                    "polar": {
                      "angularaxis": {
                        "gridcolor": "white",
                        "linecolor": "white",
                        "ticks": ""
                      },
                      "bgcolor": "#E5ECF6",
                      "radialaxis": {
                        "gridcolor": "white",
                        "linecolor": "white",
                        "ticks": ""
                      }
                    },
                    "scene": {
                      "xaxis": {
                        "backgroundcolor": "#E5ECF6",
                        "gridcolor": "white",
                        "gridwidth": 2,
                        "linecolor": "white",
                        "showbackground": true,
                        "ticks": "",
                        "zerolinecolor": "white"
                      },
                      "yaxis": {
                        "backgroundcolor": "#E5ECF6",
                        "gridcolor": "white",
                        "gridwidth": 2,
                        "linecolor": "white",
                        "showbackground": true,
                        "ticks": "",
                        "zerolinecolor": "white"
                      },
                      "zaxis": {
                        "backgroundcolor": "#E5ECF6",
                        "gridcolor": "white",
                        "gridwidth": 2,
                        "linecolor": "white",
                        "showbackground": true,
                        "ticks": "",
                        "zerolinecolor": "white"
                      }
                    },
                    "shapedefaults": {
                      "line": {
                        "color": "#2a3f5f"
                      }
                    },
                    "ternary": {
                      "aaxis": {
                        "gridcolor": "white",
                        "linecolor": "white",
                        "ticks": ""
                      },
                      "baxis": {
                        "gridcolor": "white",
                        "linecolor": "white",
                        "ticks": ""
                      },
                      "bgcolor": "#E5ECF6",
                      "caxis": {
                        "gridcolor": "white",
                        "linecolor": "white",
                        "ticks": ""
                      }
                    },
                    "title": {
                      "x": 0.05
                    },
                    "xaxis": {
                      "automargin": true,
                      "gridcolor": "white",
                      "linecolor": "white",
                      "ticks": "",
                      "title": {
                        "standoff": 15
                      },
                      "zerolinecolor": "white",
                      "zerolinewidth": 2
                    },
                    "yaxis": {
                      "automargin": true,
                      "gridcolor": "white",
                      "linecolor": "white",
                      "ticks": "",
                      "title": {
                        "standoff": 15
                      },
                      "zerolinecolor": "white",
                      "zerolinewidth": 2
                    }
                  }
                },
                "title": {
                  "text": "Risk categories distribution"
                },
                "width": 1000
              }
            }
          },
          "metadata": {},
          "output_type": "display_data"
        }
      ],
      "source": [
        "fig = px.pie(data_frame=df1, names=[\"high_risk\", \"medium_risk\", \"low-medium_risk\", \n",
        "                                    \"low_risk\"], \n",
        "             values=df1[[\"high_risk\", \"medium_risk\", \"low-medium_risk\", \n",
        "                         \"low_risk\"]].sum(), title=\"Risk categories distribution\", \n",
        "                         width=1000, height=600)\n",
        "\n",
        "\n",
        "fig.show()"
      ]
    },
    {
      "cell_type": "markdown",
      "metadata": {},
      "source": [
        "**Risk categories distribution**\n",
        "\n",
        "With the risk category feature, the business will be able to build unique services for different groups. For instance, high-risk customers can be recommended a complementary diet and workout plan or they can be redirected to consultation sessions."
      ]
    },
    {
      "cell_type": "markdown",
      "metadata": {},
      "source": [
        "---"
      ]
    },
    {
      "cell_type": "markdown",
      "metadata": {
        "id": "uFQo3ycuO-v6"
      },
      "source": [
        "# Section 2: Region"
      ]
    },
    {
      "cell_type": "markdown",
      "metadata": {},
      "source": [
        "2. How does region impact charges?\n",
        "\n",
        "User Stories covered: \n",
        "\n",
        "* As a business development executive, I want to predict which customer group is most likely to pay high insurance charges so that I can design add-on products and services to optimize value.\n",
        "\n",
        "* As an insurance provider, the company wants to determine which region is most likely to show an increased healthcare demand so that we can optimize our investment efforts."
      ]
    },
    {
      "cell_type": "code",
      "execution_count": 178,
      "metadata": {},
      "outputs": [
        {
          "data": {
            "application/vnd.plotly.v1+json": {
              "config": {
                "plotlyServerURL": "https://plot.ly"
              },
              "data": [
                {
                  "alignmentgroup": "True",
                  "hovertemplate": "region=%{x}<br>charges=%{y}<extra></extra>",
                  "legendgroup": "southwest",
                  "marker": {
                    "color": "#636efa"
                  },
                  "name": "southwest",
                  "notched": false,
                  "offsetgroup": "southwest",
                  "orientation": "v",
                  "showlegend": true,
                  "type": "box",
                  "x": [
                    "southwest",
                    "southwest",
                    "southwest",
                    "southwest",
                    "southwest",
                    "southwest",
                    "southwest",
                    "southwest",
                    "southwest",
                    "southwest",
                    "southwest",
                    "southwest",
                    "southwest",
                    "southwest",
                    "southwest",
                    "southwest",
                    "southwest",
                    "southwest",
                    "southwest",
                    "southwest",
                    "southwest",
                    "southwest",
                    "southwest",
                    "southwest",
                    "southwest",
                    "southwest",
                    "southwest",
                    "southwest",
                    "southwest",
                    "southwest",
                    "southwest",
                    "southwest",
                    "southwest",
                    "southwest",
                    "southwest",
                    "southwest",
                    "southwest",
                    "southwest",
                    "southwest",
                    "southwest",
                    "southwest",
                    "southwest",
                    "southwest",
                    "southwest",
                    "southwest",
                    "southwest",
                    "southwest",
                    "southwest",
                    "southwest",
                    "southwest",
                    "southwest",
                    "southwest",
                    "southwest",
                    "southwest",
                    "southwest",
                    "southwest",
                    "southwest",
                    "southwest",
                    "southwest",
                    "southwest",
                    "southwest",
                    "southwest",
                    "southwest",
                    "southwest",
                    "southwest",
                    "southwest",
                    "southwest",
                    "southwest",
                    "southwest",
                    "southwest",
                    "southwest",
                    "southwest",
                    "southwest",
                    "southwest",
                    "southwest",
                    "southwest",
                    "southwest",
                    "southwest",
                    "southwest",
                    "southwest",
                    "southwest",
                    "southwest",
                    "southwest",
                    "southwest",
                    "southwest",
                    "southwest",
                    "southwest",
                    "southwest",
                    "southwest",
                    "southwest",
                    "southwest",
                    "southwest",
                    "southwest",
                    "southwest",
                    "southwest",
                    "southwest",
                    "southwest",
                    "southwest",
                    "southwest",
                    "southwest",
                    "southwest",
                    "southwest",
                    "southwest",
                    "southwest",
                    "southwest",
                    "southwest",
                    "southwest",
                    "southwest",
                    "southwest",
                    "southwest",
                    "southwest",
                    "southwest",
                    "southwest",
                    "southwest",
                    "southwest",
                    "southwest",
                    "southwest",
                    "southwest",
                    "southwest",
                    "southwest",
                    "southwest",
                    "southwest",
                    "southwest",
                    "southwest",
                    "southwest",
                    "southwest",
                    "southwest",
                    "southwest",
                    "southwest",
                    "southwest",
                    "southwest",
                    "southwest",
                    "southwest",
                    "southwest",
                    "southwest",
                    "southwest",
                    "southwest",
                    "southwest",
                    "southwest",
                    "southwest",
                    "southwest",
                    "southwest",
                    "southwest",
                    "southwest",
                    "southwest",
                    "southwest",
                    "southwest",
                    "southwest",
                    "southwest",
                    "southwest",
                    "southwest",
                    "southwest",
                    "southwest",
                    "southwest",
                    "southwest",
                    "southwest",
                    "southwest",
                    "southwest",
                    "southwest",
                    "southwest",
                    "southwest",
                    "southwest",
                    "southwest",
                    "southwest",
                    "southwest",
                    "southwest",
                    "southwest",
                    "southwest",
                    "southwest",
                    "southwest",
                    "southwest",
                    "southwest",
                    "southwest",
                    "southwest",
                    "southwest",
                    "southwest",
                    "southwest",
                    "southwest",
                    "southwest",
                    "southwest",
                    "southwest",
                    "southwest",
                    "southwest",
                    "southwest",
                    "southwest",
                    "southwest",
                    "southwest",
                    "southwest",
                    "southwest",
                    "southwest",
                    "southwest",
                    "southwest",
                    "southwest",
                    "southwest",
                    "southwest",
                    "southwest",
                    "southwest",
                    "southwest",
                    "southwest",
                    "southwest",
                    "southwest",
                    "southwest",
                    "southwest",
                    "southwest",
                    "southwest",
                    "southwest",
                    "southwest",
                    "southwest",
                    "southwest",
                    "southwest",
                    "southwest",
                    "southwest",
                    "southwest",
                    "southwest",
                    "southwest",
                    "southwest",
                    "southwest",
                    "southwest",
                    "southwest",
                    "southwest",
                    "southwest",
                    "southwest",
                    "southwest",
                    "southwest",
                    "southwest",
                    "southwest",
                    "southwest",
                    "southwest",
                    "southwest",
                    "southwest",
                    "southwest",
                    "southwest",
                    "southwest",
                    "southwest",
                    "southwest",
                    "southwest",
                    "southwest",
                    "southwest",
                    "southwest",
                    "southwest",
                    "southwest",
                    "southwest",
                    "southwest",
                    "southwest",
                    "southwest",
                    "southwest",
                    "southwest",
                    "southwest",
                    "southwest",
                    "southwest",
                    "southwest",
                    "southwest",
                    "southwest",
                    "southwest",
                    "southwest",
                    "southwest",
                    "southwest",
                    "southwest",
                    "southwest",
                    "southwest",
                    "southwest",
                    "southwest",
                    "southwest",
                    "southwest",
                    "southwest",
                    "southwest",
                    "southwest",
                    "southwest",
                    "southwest",
                    "southwest",
                    "southwest",
                    "southwest",
                    "southwest",
                    "southwest",
                    "southwest",
                    "southwest",
                    "southwest",
                    "southwest",
                    "southwest",
                    "southwest",
                    "southwest",
                    "southwest",
                    "southwest",
                    "southwest",
                    "southwest",
                    "southwest",
                    "southwest",
                    "southwest",
                    "southwest",
                    "southwest",
                    "southwest",
                    "southwest",
                    "southwest",
                    "southwest",
                    "southwest",
                    "southwest",
                    "southwest",
                    "southwest",
                    "southwest",
                    "southwest",
                    "southwest",
                    "southwest",
                    "southwest",
                    "southwest",
                    "southwest",
                    "southwest",
                    "southwest",
                    "southwest",
                    "southwest",
                    "southwest",
                    "southwest",
                    "southwest",
                    "southwest",
                    "southwest",
                    "southwest",
                    "southwest",
                    "southwest",
                    "southwest",
                    "southwest",
                    "southwest",
                    "southwest",
                    "southwest",
                    "southwest",
                    "southwest",
                    "southwest"
                  ],
                  "x0": " ",
                  "xaxis": "x",
                  "y": [
                    16884.924,
                    1826.843,
                    1837.237,
                    10602.385,
                    36837.467,
                    4149.736,
                    38711,
                    35585.576,
                    4687.797,
                    51194.55914,
                    2302.3,
                    48173.361,
                    20630.28351,
                    23568.272,
                    1743.214,
                    14235.072,
                    11741.726,
                    7726.854,
                    39836.519,
                    11073.176,
                    47291.055,
                    12105.32,
                    15820.699,
                    6186.127,
                    5003.853,
                    2331.519,
                    11881.358,
                    4646.759,
                    7740.337,
                    17081.08,
                    9634.538,
                    6082.405,
                    11163.568,
                    1261.442,
                    2166.732,
                    1842.519,
                    10450.552,
                    5152.134,
                    4830.63,
                    8116.68,
                    5246.047,
                    48824.45,
                    10436.096,
                    8823.279,
                    5325.651,
                    6775.961,
                    4883.866,
                    5649.715,
                    7147.105,
                    13880.949,
                    1980.07,
                    8520.026,
                    7371.772,
                    5012.471,
                    5253.524,
                    34779.615,
                    1727.785,
                    12333.828,
                    35160.13457,
                    7196.867,
                    1832.094,
                    47305.305,
                    4260.744,
                    11837.16,
                    7441.053,
                    42856.838,
                    2150.469,
                    9625.92,
                    3172.018,
                    3906.127,
                    16297.846,
                    12646.207,
                    20177.67113,
                    8444.474,
                    1737.376,
                    34838.873,
                    35491.64,
                    2866.091,
                    47928.03,
                    9144.565,
                    13822.803,
                    18955.22017,
                    8932.084,
                    3554.203,
                    24603.04837,
                    4751.07,
                    13844.506,
                    2597.779,
                    36085.219,
                    1261.859,
                    8522.003,
                    14988.432,
                    9264.797,
                    3260.199,
                    8539.671,
                    5080.096,
                    18608.262,
                    8968.33,
                    23082.95533,
                    5969.723,
                    12638.195,
                    5926.846,
                    37079.372,
                    7345.084,
                    5910.944,
                    4762.329,
                    7512.267,
                    1969.614,
                    21797.0004,
                    10601.412,
                    22144.032,
                    13224.693,
                    1744.465,
                    25382.297,
                    9880.068,
                    9563.029,
                    1253.936,
                    1748.774,
                    12574.049,
                    17942.106,
                    4931.647,
                    8027.968,
                    13470.86,
                    36197.699,
                    11455.28,
                    1256.299,
                    21082.16,
                    11362.755,
                    5240.765,
                    9861.025,
                    5972.378,
                    8825.086,
                    6196.448,
                    11538.421,
                    13390.559,
                    12957.118,
                    3847.674,
                    2494.022,
                    11552.904,
                    3761.292,
                    9724.53,
                    1242.816,
                    11842.442,
                    7441.501,
                    11070.535,
                    39241.442,
                    6571.544,
                    23306.547,
                    10713.644,
                    3659.346,
                    40182.246,
                    9182.17,
                    11365.952,
                    10085.846,
                    1977.815,
                    9391.346,
                    6666.243,
                    3410.324,
                    8703.456,
                    12363.547,
                    2585.269,
                    1242.26,
                    40103.89,
                    4766.022,
                    26236.57997,
                    8068.185,
                    3577.999,
                    5375.038,
                    2457.502,
                    12146.971,
                    11264.541,
                    12979.358,
                    1263.249,
                    10065.413,
                    4234.927,
                    14007.222,
                    3484.331,
                    44585.45587,
                    11737.84884,
                    8556.907,
                    2416.955,
                    19040.876,
                    8062.764,
                    7050.642,
                    14319.031,
                    27941.28758,
                    11150.78,
                    18259.216,
                    24520.264,
                    6414.178,
                    1252.407,
                    11848.141,
                    2103.08,
                    9414.92,
                    3597.596,
                    7445.918,
                    13393.756,
                    4402.233,
                    1526.312,
                    9872.701,
                    2974.126,
                    1875.344,
                    10965.446,
                    46113.511,
                    7151.092,
                    8782.469,
                    6600.361,
                    11576.13,
                    4391.652,
                    8457.818,
                    6849.026,
                    26140.3603,
                    6282.235,
                    6311.952,
                    3443.064,
                    1682.597,
                    13063.883,
                    12644.589,
                    15170.069,
                    17496.306,
                    7626.993,
                    13041.921,
                    13451.122,
                    13462.52,
                    5488.262,
                    6250.435,
                    2913.569,
                    12032.326,
                    6238.298,
                    10096.97,
                    7348.142,
                    12233.828,
                    11674.13,
                    7160.094,
                    19933.458,
                    38998.546,
                    3353.284,
                    4746.344,
                    1759.338,
                    19199.944,
                    7624.63,
                    3378.91,
                    10118.424,
                    7418.522,
                    34472.841,
                    1972.95,
                    21232.18226,
                    8269.044,
                    5383.536,
                    3987.926,
                    8798.593,
                    2020.177,
                    9850.432,
                    12094.478,
                    3161.454,
                    39727.614,
                    25309.489,
                    8277.523,
                    5708.867,
                    7045.499,
                    8551.347,
                    4076.497,
                    19023.26,
                    10577.087,
                    3591.48,
                    11299.343,
                    11253.421,
                    20420.60465,
                    2904.088,
                    34166.273,
                    10214.636,
                    14358.36437,
                    1728.897,
                    3693.428,
                    7623.518,
                    7954.517,
                    9630.397,
                    52590.82939,
                    10791.96,
                    5979.731,
                    3989.841,
                    4529.477,
                    4670.64,
                    22478.6,
                    2154.361,
                    6496.886,
                    2632.992,
                    13126.67745,
                    4934.705,
                    36910.60803,
                    38415.474,
                    12347.172,
                    10806.839,
                    41661.602,
                    20167.33603,
                    11345.519,
                    5615.369,
                    9101.798,
                    6059.173,
                    1241.565,
                    16232.847,
                    15828.82173,
                    6474.013,
                    3277.161,
                    7337.748,
                    10704.47,
                    1880.487,
                    8615.3,
                    10959.33,
                    47403.88,
                    5472.449,
                    38344.566,
                    34828.654,
                    1964.78,
                    3208.787,
                    37829.7242,
                    33900.653,
                    6875.961,
                    4536.259,
                    36397.576,
                    1731.677,
                    10325.206,
                    10795.93733,
                    11411.685,
                    2007.945
                  ],
                  "y0": " ",
                  "yaxis": "y"
                },
                {
                  "alignmentgroup": "True",
                  "hovertemplate": "region=%{x}<br>charges=%{y}<extra></extra>",
                  "legendgroup": "southeast",
                  "marker": {
                    "color": "#EF553B"
                  },
                  "name": "southeast",
                  "notched": false,
                  "offsetgroup": "southeast",
                  "orientation": "v",
                  "showlegend": true,
                  "type": "box",
                  "x": [
                    "southeast",
                    "southeast",
                    "southeast",
                    "southeast",
                    "southeast",
                    "southeast",
                    "southeast",
                    "southeast",
                    "southeast",
                    "southeast",
                    "southeast",
                    "southeast",
                    "southeast",
                    "southeast",
                    "southeast",
                    "southeast",
                    "southeast",
                    "southeast",
                    "southeast",
                    "southeast",
                    "southeast",
                    "southeast",
                    "southeast",
                    "southeast",
                    "southeast",
                    "southeast",
                    "southeast",
                    "southeast",
                    "southeast",
                    "southeast",
                    "southeast",
                    "southeast",
                    "southeast",
                    "southeast",
                    "southeast",
                    "southeast",
                    "southeast",
                    "southeast",
                    "southeast",
                    "southeast",
                    "southeast",
                    "southeast",
                    "southeast",
                    "southeast",
                    "southeast",
                    "southeast",
                    "southeast",
                    "southeast",
                    "southeast",
                    "southeast",
                    "southeast",
                    "southeast",
                    "southeast",
                    "southeast",
                    "southeast",
                    "southeast",
                    "southeast",
                    "southeast",
                    "southeast",
                    "southeast",
                    "southeast",
                    "southeast",
                    "southeast",
                    "southeast",
                    "southeast",
                    "southeast",
                    "southeast",
                    "southeast",
                    "southeast",
                    "southeast",
                    "southeast",
                    "southeast",
                    "southeast",
                    "southeast",
                    "southeast",
                    "southeast",
                    "southeast",
                    "southeast",
                    "southeast",
                    "southeast",
                    "southeast",
                    "southeast",
                    "southeast",
                    "southeast",
                    "southeast",
                    "southeast",
                    "southeast",
                    "southeast",
                    "southeast",
                    "southeast",
                    "southeast",
                    "southeast",
                    "southeast",
                    "southeast",
                    "southeast",
                    "southeast",
                    "southeast",
                    "southeast",
                    "southeast",
                    "southeast",
                    "southeast",
                    "southeast",
                    "southeast",
                    "southeast",
                    "southeast",
                    "southeast",
                    "southeast",
                    "southeast",
                    "southeast",
                    "southeast",
                    "southeast",
                    "southeast",
                    "southeast",
                    "southeast",
                    "southeast",
                    "southeast",
                    "southeast",
                    "southeast",
                    "southeast",
                    "southeast",
                    "southeast",
                    "southeast",
                    "southeast",
                    "southeast",
                    "southeast",
                    "southeast",
                    "southeast",
                    "southeast",
                    "southeast",
                    "southeast",
                    "southeast",
                    "southeast",
                    "southeast",
                    "southeast",
                    "southeast",
                    "southeast",
                    "southeast",
                    "southeast",
                    "southeast",
                    "southeast",
                    "southeast",
                    "southeast",
                    "southeast",
                    "southeast",
                    "southeast",
                    "southeast",
                    "southeast",
                    "southeast",
                    "southeast",
                    "southeast",
                    "southeast",
                    "southeast",
                    "southeast",
                    "southeast",
                    "southeast",
                    "southeast",
                    "southeast",
                    "southeast",
                    "southeast",
                    "southeast",
                    "southeast",
                    "southeast",
                    "southeast",
                    "southeast",
                    "southeast",
                    "southeast",
                    "southeast",
                    "southeast",
                    "southeast",
                    "southeast",
                    "southeast",
                    "southeast",
                    "southeast",
                    "southeast",
                    "southeast",
                    "southeast",
                    "southeast",
                    "southeast",
                    "southeast",
                    "southeast",
                    "southeast",
                    "southeast",
                    "southeast",
                    "southeast",
                    "southeast",
                    "southeast",
                    "southeast",
                    "southeast",
                    "southeast",
                    "southeast",
                    "southeast",
                    "southeast",
                    "southeast",
                    "southeast",
                    "southeast",
                    "southeast",
                    "southeast",
                    "southeast",
                    "southeast",
                    "southeast",
                    "southeast",
                    "southeast",
                    "southeast",
                    "southeast",
                    "southeast",
                    "southeast",
                    "southeast",
                    "southeast",
                    "southeast",
                    "southeast",
                    "southeast",
                    "southeast",
                    "southeast",
                    "southeast",
                    "southeast",
                    "southeast",
                    "southeast",
                    "southeast",
                    "southeast",
                    "southeast",
                    "southeast",
                    "southeast",
                    "southeast",
                    "southeast",
                    "southeast",
                    "southeast",
                    "southeast",
                    "southeast",
                    "southeast",
                    "southeast",
                    "southeast",
                    "southeast",
                    "southeast",
                    "southeast",
                    "southeast",
                    "southeast",
                    "southeast",
                    "southeast",
                    "southeast",
                    "southeast",
                    "southeast",
                    "southeast",
                    "southeast",
                    "southeast",
                    "southeast",
                    "southeast",
                    "southeast",
                    "southeast",
                    "southeast",
                    "southeast",
                    "southeast",
                    "southeast",
                    "southeast",
                    "southeast",
                    "southeast",
                    "southeast",
                    "southeast",
                    "southeast",
                    "southeast",
                    "southeast",
                    "southeast",
                    "southeast",
                    "southeast",
                    "southeast",
                    "southeast",
                    "southeast",
                    "southeast",
                    "southeast",
                    "southeast",
                    "southeast",
                    "southeast",
                    "southeast",
                    "southeast",
                    "southeast",
                    "southeast",
                    "southeast",
                    "southeast",
                    "southeast",
                    "southeast",
                    "southeast",
                    "southeast",
                    "southeast",
                    "southeast",
                    "southeast",
                    "southeast",
                    "southeast",
                    "southeast",
                    "southeast",
                    "southeast",
                    "southeast",
                    "southeast",
                    "southeast",
                    "southeast",
                    "southeast",
                    "southeast",
                    "southeast",
                    "southeast",
                    "southeast",
                    "southeast",
                    "southeast",
                    "southeast",
                    "southeast",
                    "southeast",
                    "southeast",
                    "southeast",
                    "southeast",
                    "southeast",
                    "southeast",
                    "southeast",
                    "southeast",
                    "southeast",
                    "southeast",
                    "southeast",
                    "southeast",
                    "southeast",
                    "southeast",
                    "southeast",
                    "southeast",
                    "southeast",
                    "southeast",
                    "southeast",
                    "southeast",
                    "southeast",
                    "southeast",
                    "southeast",
                    "southeast",
                    "southeast",
                    "southeast",
                    "southeast",
                    "southeast",
                    "southeast",
                    "southeast",
                    "southeast",
                    "southeast",
                    "southeast",
                    "southeast",
                    "southeast",
                    "southeast",
                    "southeast",
                    "southeast",
                    "southeast",
                    "southeast",
                    "southeast",
                    "southeast",
                    "southeast",
                    "southeast",
                    "southeast",
                    "southeast",
                    "southeast",
                    "southeast",
                    "southeast",
                    "southeast",
                    "southeast",
                    "southeast",
                    "southeast",
                    "southeast",
                    "southeast",
                    "southeast",
                    "southeast",
                    "southeast",
                    "southeast",
                    "southeast",
                    "southeast",
                    "southeast"
                  ],
                  "x0": " ",
                  "xaxis": "x",
                  "y": [
                    1725.5523,
                    4449.462,
                    3756.6216,
                    8240.5896,
                    27808.7251,
                    11090.7178,
                    39611.7577,
                    1137.011,
                    14001.1338,
                    4949.7587,
                    6272.4772,
                    6313.759,
                    12629.8967,
                    38709.176,
                    37742.5757,
                    34303.1672,
                    23244.7902,
                    4504.6624,
                    5920.1041,
                    17663.1442,
                    16577.7795,
                    11946.6259,
                    3947.4131,
                    1532.4697,
                    37165.1638,
                    2026.9741,
                    3766.8838,
                    10226.2842,
                    30942.1918,
                    2867.1196,
                    47055.5321,
                    11381.3254,
                    19107.7796,
                    8601.3293,
                    2155.6815,
                    27322.73386,
                    18972.495,
                    5138.2567,
                    9877.6077,
                    7789.635,
                    21223.6758,
                    36950.2567,
                    19749.38338,
                    36149.4835,
                    13405.3903,
                    1631.8212,
                    7731.4271,
                    3981.9768,
                    12557.6053,
                    2137.6536,
                    1137.4697,
                    8516.829,
                    8871.1517,
                    37133.8982,
                    11743.299,
                    5002.7827,
                    2483.736,
                    3392.9768,
                    25081.76784,
                    19515.5416,
                    11987.1682,
                    2689.4954,
                    24227.33724,
                    14001.2867,
                    19444.2658,
                    1615.7667,
                    4463.2051,
                    7152.6714,
                    12648.7034,
                    1986.9334,
                    44260.7499,
                    5400.9805,
                    17085.2676,
                    20462.99766,
                    46151.1245,
                    17179.522,
                    1719.4363,
                    12928.7911,
                    9855.1314,
                    7742.1098,
                    25992.82104,
                    42112.2356,
                    2156.7518,
                    21978.6769,
                    12265.5069,
                    4349.462,
                    4151.0287,
                    42124.5153,
                    8124.4084,
                    3561.8889,
                    12142.5786,
                    8232.6388,
                    10977.2063,
                    6184.2994,
                    4889.9995,
                    5478.0368,
                    14133.03775,
                    8944.1151,
                    1837.2819,
                    1607.5101,
                    3180.5101,
                    1391.5287,
                    38126.2465,
                    27000.98473,
                    20781.48892,
                    5846.9176,
                    11856.4115,
                    16586.49771,
                    1631.6683,
                    8083.9198,
                    4185.0979,
                    6652.5288,
                    4074.4537,
                    7345.7266,
                    9140.951,
                    14418.2804,
                    46889.2612,
                    46599.1084,
                    9788.8659,
                    13919.8229,
                    12592.5345,
                    1149.3959,
                    28287.89766,
                    4686.3887,
                    11881.9696,
                    7682.67,
                    10381.4787,
                    19521.9682,
                    2201.0971,
                    2497.0383,
                    1534.3045,
                    1824.2854,
                    9304.7019,
                    1622.1885,
                    48885.13561,
                    24513.09126,
                    8211.1002,
                    22218.1149,
                    32548.3405,
                    5974.3847,
                    2498.4144,
                    27724.28875,
                    3994.1778,
                    5397.6167,
                    38245.59327,
                    11482.63485,
                    48675.5177,
                    12925.886,
                    19214.70553,
                    13831.1152,
                    8233.0975,
                    27346.04207,
                    3056.3881,
                    13887.204,
                    63770.42801,
                    45863.205,
                    3972.9247,
                    3935.1799,
                    9058.7303,
                    2801.2588,
                    2219.4451,
                    4753.6368,
                    1664.9996,
                    6356.2707,
                    17626.23951,
                    4779.6023,
                    5976.8311,
                    2566.4707,
                    5709.1644,
                    7640.3092,
                    1633.0444,
                    16085.1275,
                    9283.562,
                    8547.6913,
                    1880.07,
                    42969.8527,
                    34439.8559,
                    11326.71487,
                    3366.6697,
                    12949.1554,
                    18806.14547,
                    9800.8882,
                    10579.711,
                    8280.6227,
                    8527.532,
                    12244.531,
                    24667.419,
                    6435.6237,
                    22192.43711,
                    1136.3994,
                    27037.9141,
                    42560.4304,
                    6500.2359,
                    4837.5823,
                    4399.731,
                    6185.3208,
                    46200.9851,
                    12485.8009,
                    5438.7491,
                    34806.4677,
                    40273.6455,
                    3500.6123,
                    2020.5523,
                    9504.3103,
                    44400.4064,
                    1727.54,
                    10107.2206,
                    40932.4295,
                    6781.3542,
                    19361.9988,
                    40419.0191,
                    18246.4955,
                    3757.8448,
                    19539.243,
                    11833.7823,
                    23065.4207,
                    36307.7983,
                    10560.4917,
                    5934.3798,
                    1146.7966,
                    9386.1613,
                    4350.5144,
                    13457.9608,
                    5662.225,
                    21195.818,
                    4266.1658,
                    7046.7222,
                    14313.8463,
                    38792.6856,
                    1815.8759,
                    1131.5066,
                    11013.7119,
                    5584.3057,
                    1877.9294,
                    1621.8827,
                    8219.2039,
                    43813.8661,
                    7160.3303,
                    36021.0112,
                    27533.9129,
                    45008.9555,
                    2438.0552,
                    40974.1649,
                    18218.16139,
                    1141.4451,
                    3392.3652,
                    5966.8874,
                    6653.7886,
                    19719.6947,
                    7243.8136,
                    44202.6536,
                    1634.5734,
                    48673.5588,
                    8125.7845,
                    7633.7206,
                    2473.3341,
                    5245.2269,
                    13470.8044,
                    6289.7549,
                    2927.0647,
                    4673.3922,
                    2304.0022,
                    9487.6442,
                    1121.8739,
                    9549.5651,
                    12982.8747,
                    47462.894,
                    3875.7341,
                    41999.52,
                    14474.675,
                    8596.8278,
                    10702.6424,
                    2322.6218,
                    7804.1605,
                    2902.9065,
                    4889.0368,
                    5484.4673,
                    13887.9685,
                    18767.7377,
                    36580.28216,
                    35595.5898,
                    42211.1382,
                    1711.0268,
                    8569.8618,
                    44423.803,
                    37484.4493,
                    44501.3982,
                    17929.30337,
                    2480.9791,
                    1981.5819,
                    11554.2236,
                    48970.2476,
                    8978.1851,
                    10928.849,
                    39871.7043,
                    4562.8421,
                    34672.1472,
                    15161.5344,
                    11884.04858,
                    9748.9106,
                    41676.0811,
                    1674.6323,
                    3227.1211,
                    3471.4096,
                    11363.2832,
                    10338.9316,
                    8605.3615,
                    41949.2441,
                    24180.9335,
                    10807.4863,
                    36124.5737,
                    38282.7495,
                    8347.1643,
                    5836.5204,
                    8582.3023,
                    3704.3545,
                    9048.0273,
                    27117.99378,
                    6338.0756,
                    40941.2854,
                    39722.7462,
                    5124.1887,
                    18963.17192,
                    10982.5013,
                    11093.6229,
                    19350.3689,
                    18328.2381,
                    5699.8375,
                    18223.4512,
                    23563.01618,
                    5415.6612,
                    4058.1161,
                    6593.5083,
                    8442.667,
                    26125.67477,
                    4795.6568,
                    7162.0122,
                    10594.2257,
                    8515.7587,
                    3238.4357,
                    47269.854,
                    49577.6624,
                    3171.6149,
                    1135.9407,
                    1633.9618,
                    4415.1588,
                    6770.1925,
                    26926.5144,
                    14478.33015,
                    4747.0529,
                    17043.3414,
                    8283.6807,
                    1720.3537,
                    7147.4728,
                    1515.3449,
                    4340.4409,
                    62592.87309,
                    2464.6188,
                    1163.4627,
                    12981.3457,
                    43896.3763,
                    9377.9047,
                    12629.1656,
                    1629.8335
                  ],
                  "y0": " ",
                  "yaxis": "y"
                },
                {
                  "alignmentgroup": "True",
                  "hovertemplate": "region=%{x}<br>charges=%{y}<extra></extra>",
                  "legendgroup": "northwest",
                  "marker": {
                    "color": "#00cc96"
                  },
                  "name": "northwest",
                  "notched": false,
                  "offsetgroup": "northwest",
                  "orientation": "v",
                  "showlegend": true,
                  "type": "box",
                  "x": [
                    "northwest",
                    "northwest",
                    "northwest",
                    "northwest",
                    "northwest",
                    "northwest",
                    "northwest",
                    "northwest",
                    "northwest",
                    "northwest",
                    "northwest",
                    "northwest",
                    "northwest",
                    "northwest",
                    "northwest",
                    "northwest",
                    "northwest",
                    "northwest",
                    "northwest",
                    "northwest",
                    "northwest",
                    "northwest",
                    "northwest",
                    "northwest",
                    "northwest",
                    "northwest",
                    "northwest",
                    "northwest",
                    "northwest",
                    "northwest",
                    "northwest",
                    "northwest",
                    "northwest",
                    "northwest",
                    "northwest",
                    "northwest",
                    "northwest",
                    "northwest",
                    "northwest",
                    "northwest",
                    "northwest",
                    "northwest",
                    "northwest",
                    "northwest",
                    "northwest",
                    "northwest",
                    "northwest",
                    "northwest",
                    "northwest",
                    "northwest",
                    "northwest",
                    "northwest",
                    "northwest",
                    "northwest",
                    "northwest",
                    "northwest",
                    "northwest",
                    "northwest",
                    "northwest",
                    "northwest",
                    "northwest",
                    "northwest",
                    "northwest",
                    "northwest",
                    "northwest",
                    "northwest",
                    "northwest",
                    "northwest",
                    "northwest",
                    "northwest",
                    "northwest",
                    "northwest",
                    "northwest",
                    "northwest",
                    "northwest",
                    "northwest",
                    "northwest",
                    "northwest",
                    "northwest",
                    "northwest",
                    "northwest",
                    "northwest",
                    "northwest",
                    "northwest",
                    "northwest",
                    "northwest",
                    "northwest",
                    "northwest",
                    "northwest",
                    "northwest",
                    "northwest",
                    "northwest",
                    "northwest",
                    "northwest",
                    "northwest",
                    "northwest",
                    "northwest",
                    "northwest",
                    "northwest",
                    "northwest",
                    "northwest",
                    "northwest",
                    "northwest",
                    "northwest",
                    "northwest",
                    "northwest",
                    "northwest",
                    "northwest",
                    "northwest",
                    "northwest",
                    "northwest",
                    "northwest",
                    "northwest",
                    "northwest",
                    "northwest",
                    "northwest",
                    "northwest",
                    "northwest",
                    "northwest",
                    "northwest",
                    "northwest",
                    "northwest",
                    "northwest",
                    "northwest",
                    "northwest",
                    "northwest",
                    "northwest",
                    "northwest",
                    "northwest",
                    "northwest",
                    "northwest",
                    "northwest",
                    "northwest",
                    "northwest",
                    "northwest",
                    "northwest",
                    "northwest",
                    "northwest",
                    "northwest",
                    "northwest",
                    "northwest",
                    "northwest",
                    "northwest",
                    "northwest",
                    "northwest",
                    "northwest",
                    "northwest",
                    "northwest",
                    "northwest",
                    "northwest",
                    "northwest",
                    "northwest",
                    "northwest",
                    "northwest",
                    "northwest",
                    "northwest",
                    "northwest",
                    "northwest",
                    "northwest",
                    "northwest",
                    "northwest",
                    "northwest",
                    "northwest",
                    "northwest",
                    "northwest",
                    "northwest",
                    "northwest",
                    "northwest",
                    "northwest",
                    "northwest",
                    "northwest",
                    "northwest",
                    "northwest",
                    "northwest",
                    "northwest",
                    "northwest",
                    "northwest",
                    "northwest",
                    "northwest",
                    "northwest",
                    "northwest",
                    "northwest",
                    "northwest",
                    "northwest",
                    "northwest",
                    "northwest",
                    "northwest",
                    "northwest",
                    "northwest",
                    "northwest",
                    "northwest",
                    "northwest",
                    "northwest",
                    "northwest",
                    "northwest",
                    "northwest",
                    "northwest",
                    "northwest",
                    "northwest",
                    "northwest",
                    "northwest",
                    "northwest",
                    "northwest",
                    "northwest",
                    "northwest",
                    "northwest",
                    "northwest",
                    "northwest",
                    "northwest",
                    "northwest",
                    "northwest",
                    "northwest",
                    "northwest",
                    "northwest",
                    "northwest",
                    "northwest",
                    "northwest",
                    "northwest",
                    "northwest",
                    "northwest",
                    "northwest",
                    "northwest",
                    "northwest",
                    "northwest",
                    "northwest",
                    "northwest",
                    "northwest",
                    "northwest",
                    "northwest",
                    "northwest",
                    "northwest",
                    "northwest",
                    "northwest",
                    "northwest",
                    "northwest",
                    "northwest",
                    "northwest",
                    "northwest",
                    "northwest",
                    "northwest",
                    "northwest",
                    "northwest",
                    "northwest",
                    "northwest",
                    "northwest",
                    "northwest",
                    "northwest",
                    "northwest",
                    "northwest",
                    "northwest",
                    "northwest",
                    "northwest",
                    "northwest",
                    "northwest",
                    "northwest",
                    "northwest",
                    "northwest",
                    "northwest",
                    "northwest",
                    "northwest",
                    "northwest",
                    "northwest",
                    "northwest",
                    "northwest",
                    "northwest",
                    "northwest",
                    "northwest",
                    "northwest",
                    "northwest",
                    "northwest",
                    "northwest",
                    "northwest",
                    "northwest",
                    "northwest",
                    "northwest",
                    "northwest",
                    "northwest",
                    "northwest",
                    "northwest",
                    "northwest",
                    "northwest",
                    "northwest",
                    "northwest",
                    "northwest",
                    "northwest",
                    "northwest",
                    "northwest",
                    "northwest",
                    "northwest",
                    "northwest",
                    "northwest",
                    "northwest",
                    "northwest",
                    "northwest",
                    "northwest",
                    "northwest",
                    "northwest",
                    "northwest",
                    "northwest",
                    "northwest",
                    "northwest",
                    "northwest",
                    "northwest",
                    "northwest",
                    "northwest",
                    "northwest",
                    "northwest",
                    "northwest",
                    "northwest",
                    "northwest",
                    "northwest",
                    "northwest",
                    "northwest",
                    "northwest",
                    "northwest",
                    "northwest",
                    "northwest",
                    "northwest",
                    "northwest",
                    "northwest",
                    "northwest",
                    "northwest",
                    "northwest",
                    "northwest",
                    "northwest"
                  ],
                  "x0": " ",
                  "xaxis": "x",
                  "y": [
                    21984.47061,
                    3866.8552,
                    7281.5056,
                    28923.13692,
                    6203.90175,
                    12268.63225,
                    2775.19215,
                    13770.0979,
                    1625.43375,
                    15612.19335,
                    3556.9223,
                    3579.8287,
                    8059.6791,
                    47496.49445,
                    5989.52365,
                    30166.61817,
                    4133.64165,
                    14711.7438,
                    6389.37785,
                    11356.6609,
                    6571.02435,
                    11033.6617,
                    21098.55405,
                    43578.9394,
                    8026.6666,
                    11082.5772,
                    10942.13205,
                    5729.0053,
                    17560.37975,
                    3877.30425,
                    10825.2537,
                    2404.7338,
                    6686.4313,
                    2257.47525,
                    10115.00885,
                    32734.1863,
                    1632.56445,
                    2045.68525,
                    18157.876,
                    20745.9891,
                    40720.55105,
                    10959.6947,
                    5125.2157,
                    6948.7008,
                    21348.706,
                    5028.1466,
                    6128.79745,
                    2719.27975,
                    2855.43755,
                    6455.86265,
                    11735.87905,
                    7419.4779,
                    4922.9159,
                    12044.342,
                    1639.5631,
                    9644.2525,
                    2130.6759,
                    13012.20865,
                    8162.71625,
                    3537.703,
                    10355.641,
                    7443.64305,
                    6710.1919,
                    17352.6803,
                    24476.47851,
                    43921.1837,
                    11520.09985,
                    33750.2918,
                    36219.40545,
                    7265.7025,
                    2523.1695,
                    2803.69785,
                    14256.1928,
                    38746.3551,
                    9249.4952,
                    19442.3535,
                    7749.1564,
                    8835.26495,
                    7421.19455,
                    4894.7533,
                    42760.5022,
                    24393.6224,
                    13429.0354,
                    13937.6665,
                    13352.0998,
                    1635.73365,
                    11830.6072,
                    9620.3307,
                    8017.06115,
                    8116.26885,
                    13415.0381,
                    18033.9679,
                    16455.70785,
                    30284.64294,
                    3176.8159,
                    4618.0799,
                    2138.0707,
                    7526.70645,
                    14692.66935,
                    10269.46,
                    1621.3402,
                    2134.9015,
                    28950.4692,
                    18804.7524,
                    4906.40965,
                    4243.59005,
                    4738.2682,
                    26109.32905,
                    11454.0215,
                    4032.2407,
                    1769.53165,
                    11840.77505,
                    1632.03625,
                    12643.3778,
                    28868.6639,
                    2534.39375,
                    15555.18875,
                    12475.3513,
                    10461.9794,
                    6796.86325,
                    2643.2685,
                    3077.0955,
                    8413.46305,
                    24059.68019,
                    10231.4999,
                    23807.2406,
                    11187.6567,
                    39983.42595,
                    1646.4297,
                    9193.8385,
                    2128.43105,
                    6373.55735,
                    7256.7231,
                    45702.02235,
                    12222.8983,
                    1639.5631,
                    43943.8761,
                    8428.0693,
                    33471.97189,
                    9174.13565,
                    17468.9839,
                    25678.77845,
                    12129.61415,
                    3736.4647,
                    42983.4585,
                    2709.1119,
                    32787.45859,
                    4466.6214,
                    6123.5688,
                    4058.71245,
                    40003.33225,
                    7222.78625,
                    46130.5265,
                    10156.7832,
                    9863.4718,
                    2362.22905,
                    2352.96845,
                    3201.24515,
                    10976.24575,
                    5385.3379,
                    8930.93455,
                    10264.4421,
                    8310.83915,
                    9566.9909,
                    13112.6048,
                    10848.1343,
                    12231.6136,
                    6664.68595,
                    9583.8933,
                    8827.2099,
                    9910.35985,
                    1627.28245,
                    3062.50825,
                    1906.35825,
                    14210.53595,
                    11842.62375,
                    6933.24225,
                    17748.5062,
                    7261.741,
                    6986.697,
                    9869.8102,
                    1917.3184,
                    7209.4918,
                    18310.742,
                    7731.85785,
                    28476.73499,
                    2136.88225,
                    6360.9936,
                    2842.76075,
                    55135.40209,
                    2680.9493,
                    12523.6048,
                    6117.4945,
                    5266.3656,
                    4719.73655,
                    11743.9341,
                    5377.4578,
                    12622.1795,
                    10601.63225,
                    14119.62,
                    15817.9857,
                    12269.68865,
                    2690.1138,
                    2789.0574,
                    4877.98105,
                    5272.1758,
                    11945.1327,
                    29330.98315,
                    2221.56445,
                    2117.33885,
                    2639.0429,
                    14382.70905,
                    5257.50795,
                    21774.32215,
                    4320.41085,
                    8965.79575,
                    1628.4709,
                    6358.77645,
                    4527.18295,
                    20009.63365,
                    12609.88702,
                    28468.91901,
                    2730.10785,
                    26467.09737,
                    23967.38305,
                    7518.02535,
                    2527.81865,
                    8410.04685,
                    28340.18885,
                    16420.49455,
                    5267.81815,
                    17361.7661,
                    4433.3877,
                    24915.22085,
                    8765.249,
                    12124.9924,
                    2709.24395,
                    12495.29085,
                    26018.95052,
                    16450.8947,
                    21595.38229,
                    21677.28345,
                    12950.0712,
                    39725.51805,
                    22493.65964,
                    20234.85475,
                    21880.82,
                    3594.17085,
                    8023.13545,
                    3353.4703,
                    10594.50155,
                    4462.7218,
                    6548.19505,
                    14349.8544,
                    1909.52745,
                    4454.40265,
                    5855.9025,
                    15019.76005,
                    11353.2276,
                    33907.548,
                    8988.15875,
                    10493.9458,
                    5312.16985,
                    5693.4305,
                    46661.4424,
                    14254.6082,
                    9991.03765,
                    19673.33573,
                    11085.5868,
                    3176.2877,
                    36898.73308,
                    11289.10925,
                    2261.5688,
                    12235.8392,
                    5630.45785,
                    11015.1747,
                    14426.07385,
                    7727.2532,
                    7153.5539,
                    6112.35295,
                    6457.8434,
                    4433.9159,
                    23887.6627,
                    2850.68375,
                    37465.34375,
                    13844.7972,
                    5327.40025,
                    8671.19125,
                    4134.08245,
                    18838.70366,
                    33307.5508,
                    6393.60345,
                    6198.7518,
                    8733.22925,
                    2055.3249,
                    5116.5004,
                    5373.36425,
                    3956.07145,
                    7537.1639,
                    60021.39897,
                    12479.70895,
                    2699.56835,
                    12224.35085,
                    4296.2712,
                    11436.73815,
                    11305.93455,
                    30063.58055,
                    3292.52985,
                    3021.80915,
                    4357.04365,
                    4189.1131,
                    24535.69855,
                    9301.89355,
                    5261.46945,
                    2710.82855,
                    46718.16325,
                    21472.4788,
                    6940.90985,
                    4571.41305,
                    18765.87545,
                    7201.70085,
                    5425.02335,
                    4239.89265,
                    10600.5483,
                    29141.3603
                  ],
                  "y0": " ",
                  "yaxis": "y"
                },
                {
                  "alignmentgroup": "True",
                  "hovertemplate": "region=%{x}<br>charges=%{y}<extra></extra>",
                  "legendgroup": "northeast",
                  "marker": {
                    "color": "#ab63fa"
                  },
                  "name": "northeast",
                  "notched": false,
                  "offsetgroup": "northeast",
                  "orientation": "v",
                  "showlegend": true,
                  "type": "box",
                  "x": [
                    "northeast",
                    "northeast",
                    "northeast",
                    "northeast",
                    "northeast",
                    "northeast",
                    "northeast",
                    "northeast",
                    "northeast",
                    "northeast",
                    "northeast",
                    "northeast",
                    "northeast",
                    "northeast",
                    "northeast",
                    "northeast",
                    "northeast",
                    "northeast",
                    "northeast",
                    "northeast",
                    "northeast",
                    "northeast",
                    "northeast",
                    "northeast",
                    "northeast",
                    "northeast",
                    "northeast",
                    "northeast",
                    "northeast",
                    "northeast",
                    "northeast",
                    "northeast",
                    "northeast",
                    "northeast",
                    "northeast",
                    "northeast",
                    "northeast",
                    "northeast",
                    "northeast",
                    "northeast",
                    "northeast",
                    "northeast",
                    "northeast",
                    "northeast",
                    "northeast",
                    "northeast",
                    "northeast",
                    "northeast",
                    "northeast",
                    "northeast",
                    "northeast",
                    "northeast",
                    "northeast",
                    "northeast",
                    "northeast",
                    "northeast",
                    "northeast",
                    "northeast",
                    "northeast",
                    "northeast",
                    "northeast",
                    "northeast",
                    "northeast",
                    "northeast",
                    "northeast",
                    "northeast",
                    "northeast",
                    "northeast",
                    "northeast",
                    "northeast",
                    "northeast",
                    "northeast",
                    "northeast",
                    "northeast",
                    "northeast",
                    "northeast",
                    "northeast",
                    "northeast",
                    "northeast",
                    "northeast",
                    "northeast",
                    "northeast",
                    "northeast",
                    "northeast",
                    "northeast",
                    "northeast",
                    "northeast",
                    "northeast",
                    "northeast",
                    "northeast",
                    "northeast",
                    "northeast",
                    "northeast",
                    "northeast",
                    "northeast",
                    "northeast",
                    "northeast",
                    "northeast",
                    "northeast",
                    "northeast",
                    "northeast",
                    "northeast",
                    "northeast",
                    "northeast",
                    "northeast",
                    "northeast",
                    "northeast",
                    "northeast",
                    "northeast",
                    "northeast",
                    "northeast",
                    "northeast",
                    "northeast",
                    "northeast",
                    "northeast",
                    "northeast",
                    "northeast",
                    "northeast",
                    "northeast",
                    "northeast",
                    "northeast",
                    "northeast",
                    "northeast",
                    "northeast",
                    "northeast",
                    "northeast",
                    "northeast",
                    "northeast",
                    "northeast",
                    "northeast",
                    "northeast",
                    "northeast",
                    "northeast",
                    "northeast",
                    "northeast",
                    "northeast",
                    "northeast",
                    "northeast",
                    "northeast",
                    "northeast",
                    "northeast",
                    "northeast",
                    "northeast",
                    "northeast",
                    "northeast",
                    "northeast",
                    "northeast",
                    "northeast",
                    "northeast",
                    "northeast",
                    "northeast",
                    "northeast",
                    "northeast",
                    "northeast",
                    "northeast",
                    "northeast",
                    "northeast",
                    "northeast",
                    "northeast",
                    "northeast",
                    "northeast",
                    "northeast",
                    "northeast",
                    "northeast",
                    "northeast",
                    "northeast",
                    "northeast",
                    "northeast",
                    "northeast",
                    "northeast",
                    "northeast",
                    "northeast",
                    "northeast",
                    "northeast",
                    "northeast",
                    "northeast",
                    "northeast",
                    "northeast",
                    "northeast",
                    "northeast",
                    "northeast",
                    "northeast",
                    "northeast",
                    "northeast",
                    "northeast",
                    "northeast",
                    "northeast",
                    "northeast",
                    "northeast",
                    "northeast",
                    "northeast",
                    "northeast",
                    "northeast",
                    "northeast",
                    "northeast",
                    "northeast",
                    "northeast",
                    "northeast",
                    "northeast",
                    "northeast",
                    "northeast",
                    "northeast",
                    "northeast",
                    "northeast",
                    "northeast",
                    "northeast",
                    "northeast",
                    "northeast",
                    "northeast",
                    "northeast",
                    "northeast",
                    "northeast",
                    "northeast",
                    "northeast",
                    "northeast",
                    "northeast",
                    "northeast",
                    "northeast",
                    "northeast",
                    "northeast",
                    "northeast",
                    "northeast",
                    "northeast",
                    "northeast",
                    "northeast",
                    "northeast",
                    "northeast",
                    "northeast",
                    "northeast",
                    "northeast",
                    "northeast",
                    "northeast",
                    "northeast",
                    "northeast",
                    "northeast",
                    "northeast",
                    "northeast",
                    "northeast",
                    "northeast",
                    "northeast",
                    "northeast",
                    "northeast",
                    "northeast",
                    "northeast",
                    "northeast",
                    "northeast",
                    "northeast",
                    "northeast",
                    "northeast",
                    "northeast",
                    "northeast",
                    "northeast",
                    "northeast",
                    "northeast",
                    "northeast",
                    "northeast",
                    "northeast",
                    "northeast",
                    "northeast",
                    "northeast",
                    "northeast",
                    "northeast",
                    "northeast",
                    "northeast",
                    "northeast",
                    "northeast",
                    "northeast",
                    "northeast",
                    "northeast",
                    "northeast",
                    "northeast",
                    "northeast",
                    "northeast",
                    "northeast",
                    "northeast",
                    "northeast",
                    "northeast",
                    "northeast",
                    "northeast",
                    "northeast",
                    "northeast",
                    "northeast",
                    "northeast",
                    "northeast",
                    "northeast",
                    "northeast",
                    "northeast",
                    "northeast",
                    "northeast",
                    "northeast",
                    "northeast",
                    "northeast",
                    "northeast",
                    "northeast",
                    "northeast",
                    "northeast",
                    "northeast",
                    "northeast",
                    "northeast",
                    "northeast",
                    "northeast",
                    "northeast",
                    "northeast",
                    "northeast",
                    "northeast",
                    "northeast",
                    "northeast",
                    "northeast",
                    "northeast",
                    "northeast",
                    "northeast",
                    "northeast",
                    "northeast",
                    "northeast",
                    "northeast",
                    "northeast",
                    "northeast",
                    "northeast",
                    "northeast",
                    "northeast",
                    "northeast",
                    "northeast",
                    "northeast",
                    "northeast"
                  ],
                  "x0": " ",
                  "xaxis": "x",
                  "y": [
                    6406.4107,
                    2721.3208,
                    10797.3362,
                    2395.17155,
                    13228.84695,
                    37701.8768,
                    14451.83515,
                    2198.18985,
                    39774.2763,
                    3046.062,
                    6079.6715,
                    3393.35635,
                    2211.13075,
                    13607.36875,
                    8606.2174,
                    6799.458,
                    2755.02095,
                    4441.21315,
                    7935.29115,
                    30184.9367,
                    22412.6485,
                    3645.0894,
                    21344.8467,
                    11488.31695,
                    30259.99556,
                    1705.6245,
                    39556.4945,
                    3385.39915,
                    12815.44495,
                    13616.3586,
                    2457.21115,
                    27375.90478,
                    3490.5491,
                    6334.34355,
                    19964.7463,
                    7077.1894,
                    15518.18025,
                    10407.08585,
                    4827.90495,
                    1694.7964,
                    8538.28845,
                    4005.4225,
                    43753.33705,
                    14901.5167,
                    4337.7352,
                    20984.0936,
                    6610.1097,
                    10564.8845,
                    7358.17565,
                    9225.2564,
                    38511.6283,
                    5354.07465,
                    29523.1656,
                    4040.55825,
                    12829.4551,
                    41097.16175,
                    13047.33235,
                    24869.8368,
                    14590.63205,
                    9282.4806,
                    9617.66245,
                    9715.841,
                    22331.5668,
                    48549.17835,
                    4237.12655,
                    11879.10405,
                    9432.9253,
                    47896.79135,
                    20277.80751,
                    1704.5681,
                    6746.7425,
                    24873.3849,
                    11944.59435,
                    9722.7695,
                    10435.06525,
                    4667.60765,
                    24671.66334,
                    11566.30055,
                    6600.20595,
                    48517.56315,
                    11658.37915,
                    19144.57652,
                    41919.097,
                    13217.0945,
                    13981.85035,
                    8334.45755,
                    12404.8791,
                    10043.249,
                    9778.3472,
                    13430.265,
                    3481.868,
                    12029.2867,
                    7639.41745,
                    21659.9301,
                    15006.57945,
                    42303.69215,
                    8302.53565,
                    10736.87075,
                    8964.06055,
                    9290.1395,
                    9411.005,
                    11396.9002,
                    19594.80965,
                    14455.64405,
                    39125.33225,
                    2727.3951,
                    6555.07035,
                    7323.734819,
                    3167.45585,
                    2254.7967,
                    2897.3235,
                    12730.9996,
                    15230.32405,
                    11165.41765,
                    23288.9284,
                    2203.47185,
                    20878.78443,
                    35147.52848,
                    4347.02335,
                    2196.4732,
                    1967.0227,
                    6837.3687,
                    3044.2133,
                    11763.0009,
                    9361.3268,
                    3857.75925,
                    25656.57526,
                    9866.30485,
                    8342.90875,
                    1708.0014,
                    14043.4767,
                    6067.12675,
                    3268.84665,
                    3213.62205,
                    17878.90068,
                    8334.5896,
                    10923.9332,
                    31620.00106,
                    13224.05705,
                    58571.07448,
                    3206.49135,
                    12913.9924,
                    3861.20965,
                    13635.6379,
                    15359.1045,
                    8823.98575,
                    5594.8455,
                    3558.62025,
                    4435.0942,
                    2207.69745,
                    6753.038,
                    11658.11505,
                    34617.84065,
                    6748.5912,
                    7173.35995,
                    14410.9321,
                    24915.04626,
                    20149.3229,
                    13143.86485,
                    10141.1362,
                    8252.2843,
                    1712.227,
                    12430.95335,
                    26392.26029,
                    14394.39815,
                    5148.5526,
                    45710.20785,
                    3943.5954,
                    11244.3769,
                    7729.64575,
                    2104.1134,
                    29186.48236,
                    9541.69555,
                    6113.23105,
                    5469.0066,
                    1984.4533,
                    9875.6804,
                    10106.13425,
                    16657.71745,
                    2217.6012,
                    9447.25035,
                    36189.1017,
                    8604.48365,
                    43254.41795,
                    17128.42608,
                    5031.26955,
                    7985.815,
                    5428.7277,
                    3925.7582,
                    3070.8087,
                    9095.06825,
                    12797.20962,
                    7448.40395,
                    12741.16745,
                    5209.57885,
                    2731.9122,
                    4719.52405,
                    17904.52705,
                    3309.7926,
                    4428.88785,
                    23401.30575,
                    16069.08475,
                    20773.62775,
                    39597.4072,
                    11657.7189,
                    6402.29135,
                    12323.936,
                    10072.05505,
                    37270.1512,
                    42111.6647,
                    11729.6795,
                    24106.91255,
                    5458.04645,
                    13129.60345,
                    8891.1395,
                    2585.85065,
                    46255.1125,
                    27218.43725,
                    10422.91665,
                    13555.0049,
                    19798.05455,
                    8688.85885,
                    4661.28635,
                    4564.19145,
                    4846.92015,
                    33732.6867,
                    35069.37452,
                    25333.33284,
                    32108.66282,
                    2217.46915,
                    39047.285,
                    11534.87265,
                    41034.2214,
                    9500.57305,
                    3279.86855,
                    4992.3764,
                    16138.76205,
                    9704.66805,
                    25517.11363,
                    4500.33925,
                    16796.41194,
                    4915.05985,
                    4518.82625,
                    14571.8908,
                    7144.86265,
                    7986.47525,
                    6551.7501,
                    8627.5411,
                    4438.2634,
                    23241.47453,
                    9957.7216,
                    6877.9801,
                    4137.5227,
                    13747.87235,
                    2250.8352,
                    1704.70015,
                    33475.81715,
                    11394.06555,
                    7325.0482,
                    14394.5579,
                    9288.0267,
                    5757.41345,
                    13974.45555,
                    12096.6512,
                    13204.28565,
                    2102.2647,
                    10796.35025,
                    11286.5387,
                    4561.1885,
                    44641.1974,
                    23045.56616,
                    16776.30405,
                    11512.405,
                    2396.0959,
                    9222.4026,
                    18903.49141,
                    40904.1995,
                    20709.02034,
                    2203.73595,
                    7228.21565,
                    2459.7201,
                    2200.83085,
                    5227.98875,
                    17178.6824,
                    2899.48935,
                    7650.77375,
                    9447.3824,
                    8603.8234,
                    21771.3423,
                    13725.47184,
                    13019.16105,
                    9964.06,
                    20296.86345,
                    1702.4553,
                    12890.05765,
                    4718.20355,
                    6858.4796,
                    6640.54485,
                    11938.25595,
                    14449.8544,
                    6985.50695,
                    37607.5277,
                    18648.4217,
                    10197.7722,
                    4544.2348,
                    10370.91255,
                    34254.05335,
                    2741.948,
                    22462.04375,
                    14283.4594,
                    8534.6718,
                    3732.6251,
                    7133.9025,
                    11931.12525,
                    1708.92575,
                    21259.37795,
                    16115.3045,
                    11272.33139,
                    19496.71917,
                    28101.33305,
                    13143.33665,
                    7050.0213,
                    22395.74424,
                    2205.9808
                  ],
                  "y0": " ",
                  "yaxis": "y"
                }
              ],
              "layout": {
                "boxmode": "overlay",
                "height": 600,
                "legend": {
                  "title": {
                    "text": "region"
                  },
                  "tracegroupgap": 0
                },
                "template": {
                  "data": {
                    "bar": [
                      {
                        "error_x": {
                          "color": "#2a3f5f"
                        },
                        "error_y": {
                          "color": "#2a3f5f"
                        },
                        "marker": {
                          "line": {
                            "color": "#E5ECF6",
                            "width": 0.5
                          },
                          "pattern": {
                            "fillmode": "overlay",
                            "size": 10,
                            "solidity": 0.2
                          }
                        },
                        "type": "bar"
                      }
                    ],
                    "barpolar": [
                      {
                        "marker": {
                          "line": {
                            "color": "#E5ECF6",
                            "width": 0.5
                          },
                          "pattern": {
                            "fillmode": "overlay",
                            "size": 10,
                            "solidity": 0.2
                          }
                        },
                        "type": "barpolar"
                      }
                    ],
                    "carpet": [
                      {
                        "aaxis": {
                          "endlinecolor": "#2a3f5f",
                          "gridcolor": "white",
                          "linecolor": "white",
                          "minorgridcolor": "white",
                          "startlinecolor": "#2a3f5f"
                        },
                        "baxis": {
                          "endlinecolor": "#2a3f5f",
                          "gridcolor": "white",
                          "linecolor": "white",
                          "minorgridcolor": "white",
                          "startlinecolor": "#2a3f5f"
                        },
                        "type": "carpet"
                      }
                    ],
                    "choropleth": [
                      {
                        "colorbar": {
                          "outlinewidth": 0,
                          "ticks": ""
                        },
                        "type": "choropleth"
                      }
                    ],
                    "contour": [
                      {
                        "colorbar": {
                          "outlinewidth": 0,
                          "ticks": ""
                        },
                        "colorscale": [
                          [
                            0,
                            "#0d0887"
                          ],
                          [
                            0.1111111111111111,
                            "#46039f"
                          ],
                          [
                            0.2222222222222222,
                            "#7201a8"
                          ],
                          [
                            0.3333333333333333,
                            "#9c179e"
                          ],
                          [
                            0.4444444444444444,
                            "#bd3786"
                          ],
                          [
                            0.5555555555555556,
                            "#d8576b"
                          ],
                          [
                            0.6666666666666666,
                            "#ed7953"
                          ],
                          [
                            0.7777777777777778,
                            "#fb9f3a"
                          ],
                          [
                            0.8888888888888888,
                            "#fdca26"
                          ],
                          [
                            1,
                            "#f0f921"
                          ]
                        ],
                        "type": "contour"
                      }
                    ],
                    "contourcarpet": [
                      {
                        "colorbar": {
                          "outlinewidth": 0,
                          "ticks": ""
                        },
                        "type": "contourcarpet"
                      }
                    ],
                    "heatmap": [
                      {
                        "colorbar": {
                          "outlinewidth": 0,
                          "ticks": ""
                        },
                        "colorscale": [
                          [
                            0,
                            "#0d0887"
                          ],
                          [
                            0.1111111111111111,
                            "#46039f"
                          ],
                          [
                            0.2222222222222222,
                            "#7201a8"
                          ],
                          [
                            0.3333333333333333,
                            "#9c179e"
                          ],
                          [
                            0.4444444444444444,
                            "#bd3786"
                          ],
                          [
                            0.5555555555555556,
                            "#d8576b"
                          ],
                          [
                            0.6666666666666666,
                            "#ed7953"
                          ],
                          [
                            0.7777777777777778,
                            "#fb9f3a"
                          ],
                          [
                            0.8888888888888888,
                            "#fdca26"
                          ],
                          [
                            1,
                            "#f0f921"
                          ]
                        ],
                        "type": "heatmap"
                      }
                    ],
                    "heatmapgl": [
                      {
                        "colorbar": {
                          "outlinewidth": 0,
                          "ticks": ""
                        },
                        "colorscale": [
                          [
                            0,
                            "#0d0887"
                          ],
                          [
                            0.1111111111111111,
                            "#46039f"
                          ],
                          [
                            0.2222222222222222,
                            "#7201a8"
                          ],
                          [
                            0.3333333333333333,
                            "#9c179e"
                          ],
                          [
                            0.4444444444444444,
                            "#bd3786"
                          ],
                          [
                            0.5555555555555556,
                            "#d8576b"
                          ],
                          [
                            0.6666666666666666,
                            "#ed7953"
                          ],
                          [
                            0.7777777777777778,
                            "#fb9f3a"
                          ],
                          [
                            0.8888888888888888,
                            "#fdca26"
                          ],
                          [
                            1,
                            "#f0f921"
                          ]
                        ],
                        "type": "heatmapgl"
                      }
                    ],
                    "histogram": [
                      {
                        "marker": {
                          "pattern": {
                            "fillmode": "overlay",
                            "size": 10,
                            "solidity": 0.2
                          }
                        },
                        "type": "histogram"
                      }
                    ],
                    "histogram2d": [
                      {
                        "colorbar": {
                          "outlinewidth": 0,
                          "ticks": ""
                        },
                        "colorscale": [
                          [
                            0,
                            "#0d0887"
                          ],
                          [
                            0.1111111111111111,
                            "#46039f"
                          ],
                          [
                            0.2222222222222222,
                            "#7201a8"
                          ],
                          [
                            0.3333333333333333,
                            "#9c179e"
                          ],
                          [
                            0.4444444444444444,
                            "#bd3786"
                          ],
                          [
                            0.5555555555555556,
                            "#d8576b"
                          ],
                          [
                            0.6666666666666666,
                            "#ed7953"
                          ],
                          [
                            0.7777777777777778,
                            "#fb9f3a"
                          ],
                          [
                            0.8888888888888888,
                            "#fdca26"
                          ],
                          [
                            1,
                            "#f0f921"
                          ]
                        ],
                        "type": "histogram2d"
                      }
                    ],
                    "histogram2dcontour": [
                      {
                        "colorbar": {
                          "outlinewidth": 0,
                          "ticks": ""
                        },
                        "colorscale": [
                          [
                            0,
                            "#0d0887"
                          ],
                          [
                            0.1111111111111111,
                            "#46039f"
                          ],
                          [
                            0.2222222222222222,
                            "#7201a8"
                          ],
                          [
                            0.3333333333333333,
                            "#9c179e"
                          ],
                          [
                            0.4444444444444444,
                            "#bd3786"
                          ],
                          [
                            0.5555555555555556,
                            "#d8576b"
                          ],
                          [
                            0.6666666666666666,
                            "#ed7953"
                          ],
                          [
                            0.7777777777777778,
                            "#fb9f3a"
                          ],
                          [
                            0.8888888888888888,
                            "#fdca26"
                          ],
                          [
                            1,
                            "#f0f921"
                          ]
                        ],
                        "type": "histogram2dcontour"
                      }
                    ],
                    "mesh3d": [
                      {
                        "colorbar": {
                          "outlinewidth": 0,
                          "ticks": ""
                        },
                        "type": "mesh3d"
                      }
                    ],
                    "parcoords": [
                      {
                        "line": {
                          "colorbar": {
                            "outlinewidth": 0,
                            "ticks": ""
                          }
                        },
                        "type": "parcoords"
                      }
                    ],
                    "pie": [
                      {
                        "automargin": true,
                        "type": "pie"
                      }
                    ],
                    "scatter": [
                      {
                        "fillpattern": {
                          "fillmode": "overlay",
                          "size": 10,
                          "solidity": 0.2
                        },
                        "type": "scatter"
                      }
                    ],
                    "scatter3d": [
                      {
                        "line": {
                          "colorbar": {
                            "outlinewidth": 0,
                            "ticks": ""
                          }
                        },
                        "marker": {
                          "colorbar": {
                            "outlinewidth": 0,
                            "ticks": ""
                          }
                        },
                        "type": "scatter3d"
                      }
                    ],
                    "scattercarpet": [
                      {
                        "marker": {
                          "colorbar": {
                            "outlinewidth": 0,
                            "ticks": ""
                          }
                        },
                        "type": "scattercarpet"
                      }
                    ],
                    "scattergeo": [
                      {
                        "marker": {
                          "colorbar": {
                            "outlinewidth": 0,
                            "ticks": ""
                          }
                        },
                        "type": "scattergeo"
                      }
                    ],
                    "scattergl": [
                      {
                        "marker": {
                          "colorbar": {
                            "outlinewidth": 0,
                            "ticks": ""
                          }
                        },
                        "type": "scattergl"
                      }
                    ],
                    "scattermapbox": [
                      {
                        "marker": {
                          "colorbar": {
                            "outlinewidth": 0,
                            "ticks": ""
                          }
                        },
                        "type": "scattermapbox"
                      }
                    ],
                    "scatterpolar": [
                      {
                        "marker": {
                          "colorbar": {
                            "outlinewidth": 0,
                            "ticks": ""
                          }
                        },
                        "type": "scatterpolar"
                      }
                    ],
                    "scatterpolargl": [
                      {
                        "marker": {
                          "colorbar": {
                            "outlinewidth": 0,
                            "ticks": ""
                          }
                        },
                        "type": "scatterpolargl"
                      }
                    ],
                    "scatterternary": [
                      {
                        "marker": {
                          "colorbar": {
                            "outlinewidth": 0,
                            "ticks": ""
                          }
                        },
                        "type": "scatterternary"
                      }
                    ],
                    "surface": [
                      {
                        "colorbar": {
                          "outlinewidth": 0,
                          "ticks": ""
                        },
                        "colorscale": [
                          [
                            0,
                            "#0d0887"
                          ],
                          [
                            0.1111111111111111,
                            "#46039f"
                          ],
                          [
                            0.2222222222222222,
                            "#7201a8"
                          ],
                          [
                            0.3333333333333333,
                            "#9c179e"
                          ],
                          [
                            0.4444444444444444,
                            "#bd3786"
                          ],
                          [
                            0.5555555555555556,
                            "#d8576b"
                          ],
                          [
                            0.6666666666666666,
                            "#ed7953"
                          ],
                          [
                            0.7777777777777778,
                            "#fb9f3a"
                          ],
                          [
                            0.8888888888888888,
                            "#fdca26"
                          ],
                          [
                            1,
                            "#f0f921"
                          ]
                        ],
                        "type": "surface"
                      }
                    ],
                    "table": [
                      {
                        "cells": {
                          "fill": {
                            "color": "#EBF0F8"
                          },
                          "line": {
                            "color": "white"
                          }
                        },
                        "header": {
                          "fill": {
                            "color": "#C8D4E3"
                          },
                          "line": {
                            "color": "white"
                          }
                        },
                        "type": "table"
                      }
                    ]
                  },
                  "layout": {
                    "annotationdefaults": {
                      "arrowcolor": "#2a3f5f",
                      "arrowhead": 0,
                      "arrowwidth": 1
                    },
                    "autotypenumbers": "strict",
                    "coloraxis": {
                      "colorbar": {
                        "outlinewidth": 0,
                        "ticks": ""
                      }
                    },
                    "colorscale": {
                      "diverging": [
                        [
                          0,
                          "#8e0152"
                        ],
                        [
                          0.1,
                          "#c51b7d"
                        ],
                        [
                          0.2,
                          "#de77ae"
                        ],
                        [
                          0.3,
                          "#f1b6da"
                        ],
                        [
                          0.4,
                          "#fde0ef"
                        ],
                        [
                          0.5,
                          "#f7f7f7"
                        ],
                        [
                          0.6,
                          "#e6f5d0"
                        ],
                        [
                          0.7,
                          "#b8e186"
                        ],
                        [
                          0.8,
                          "#7fbc41"
                        ],
                        [
                          0.9,
                          "#4d9221"
                        ],
                        [
                          1,
                          "#276419"
                        ]
                      ],
                      "sequential": [
                        [
                          0,
                          "#0d0887"
                        ],
                        [
                          0.1111111111111111,
                          "#46039f"
                        ],
                        [
                          0.2222222222222222,
                          "#7201a8"
                        ],
                        [
                          0.3333333333333333,
                          "#9c179e"
                        ],
                        [
                          0.4444444444444444,
                          "#bd3786"
                        ],
                        [
                          0.5555555555555556,
                          "#d8576b"
                        ],
                        [
                          0.6666666666666666,
                          "#ed7953"
                        ],
                        [
                          0.7777777777777778,
                          "#fb9f3a"
                        ],
                        [
                          0.8888888888888888,
                          "#fdca26"
                        ],
                        [
                          1,
                          "#f0f921"
                        ]
                      ],
                      "sequentialminus": [
                        [
                          0,
                          "#0d0887"
                        ],
                        [
                          0.1111111111111111,
                          "#46039f"
                        ],
                        [
                          0.2222222222222222,
                          "#7201a8"
                        ],
                        [
                          0.3333333333333333,
                          "#9c179e"
                        ],
                        [
                          0.4444444444444444,
                          "#bd3786"
                        ],
                        [
                          0.5555555555555556,
                          "#d8576b"
                        ],
                        [
                          0.6666666666666666,
                          "#ed7953"
                        ],
                        [
                          0.7777777777777778,
                          "#fb9f3a"
                        ],
                        [
                          0.8888888888888888,
                          "#fdca26"
                        ],
                        [
                          1,
                          "#f0f921"
                        ]
                      ]
                    },
                    "colorway": [
                      "#636efa",
                      "#EF553B",
                      "#00cc96",
                      "#ab63fa",
                      "#FFA15A",
                      "#19d3f3",
                      "#FF6692",
                      "#B6E880",
                      "#FF97FF",
                      "#FECB52"
                    ],
                    "font": {
                      "color": "#2a3f5f"
                    },
                    "geo": {
                      "bgcolor": "white",
                      "lakecolor": "white",
                      "landcolor": "#E5ECF6",
                      "showlakes": true,
                      "showland": true,
                      "subunitcolor": "white"
                    },
                    "hoverlabel": {
                      "align": "left"
                    },
                    "hovermode": "closest",
                    "mapbox": {
                      "style": "light"
                    },
                    "paper_bgcolor": "white",
                    "plot_bgcolor": "#E5ECF6",
                    "polar": {
                      "angularaxis": {
                        "gridcolor": "white",
                        "linecolor": "white",
                        "ticks": ""
                      },
                      "bgcolor": "#E5ECF6",
                      "radialaxis": {
                        "gridcolor": "white",
                        "linecolor": "white",
                        "ticks": ""
                      }
                    },
                    "scene": {
                      "xaxis": {
                        "backgroundcolor": "#E5ECF6",
                        "gridcolor": "white",
                        "gridwidth": 2,
                        "linecolor": "white",
                        "showbackground": true,
                        "ticks": "",
                        "zerolinecolor": "white"
                      },
                      "yaxis": {
                        "backgroundcolor": "#E5ECF6",
                        "gridcolor": "white",
                        "gridwidth": 2,
                        "linecolor": "white",
                        "showbackground": true,
                        "ticks": "",
                        "zerolinecolor": "white"
                      },
                      "zaxis": {
                        "backgroundcolor": "#E5ECF6",
                        "gridcolor": "white",
                        "gridwidth": 2,
                        "linecolor": "white",
                        "showbackground": true,
                        "ticks": "",
                        "zerolinecolor": "white"
                      }
                    },
                    "shapedefaults": {
                      "line": {
                        "color": "#2a3f5f"
                      }
                    },
                    "ternary": {
                      "aaxis": {
                        "gridcolor": "white",
                        "linecolor": "white",
                        "ticks": ""
                      },
                      "baxis": {
                        "gridcolor": "white",
                        "linecolor": "white",
                        "ticks": ""
                      },
                      "bgcolor": "#E5ECF6",
                      "caxis": {
                        "gridcolor": "white",
                        "linecolor": "white",
                        "ticks": ""
                      }
                    },
                    "title": {
                      "x": 0.05
                    },
                    "xaxis": {
                      "automargin": true,
                      "gridcolor": "white",
                      "linecolor": "white",
                      "ticks": "",
                      "title": {
                        "standoff": 15
                      },
                      "zerolinecolor": "white",
                      "zerolinewidth": 2
                    },
                    "yaxis": {
                      "automargin": true,
                      "gridcolor": "white",
                      "linecolor": "white",
                      "ticks": "",
                      "title": {
                        "standoff": 15
                      },
                      "zerolinecolor": "white",
                      "zerolinewidth": 2
                    }
                  }
                },
                "title": {
                  "text": "Region vs Charges"
                },
                "width": 1000,
                "xaxis": {
                  "anchor": "y",
                  "categoryarray": [
                    "southwest",
                    "southeast",
                    "northwest",
                    "northeast"
                  ],
                  "categoryorder": "array",
                  "domain": [
                    0,
                    1
                  ],
                  "title": {
                    "text": "region"
                  }
                },
                "yaxis": {
                  "anchor": "x",
                  "domain": [
                    0,
                    1
                  ],
                  "title": {
                    "text": "charges"
                  }
                }
              }
            }
          },
          "metadata": {},
          "output_type": "display_data"
        }
      ],
      "source": [
        "fig = px.box(data_frame=df1, x=\"region\", y=\"charges\", color=\"region\", \n",
        "             title=\"Region vs Charges\", width=1000, height=600)\n",
        "\n",
        "fig.show()"
      ]
    },
    {
      "cell_type": "markdown",
      "metadata": {},
      "source": [
        "**Region vs Charges**\n",
        "\n",
        "This boxplot indicates that the charges are widely distributed across regions, however, the median hovers around the 10K mark. We need further visualizations to better understand which region the business can focus on to optimize investment."
      ]
    },
    {
      "cell_type": "code",
      "execution_count": 179,
      "metadata": {},
      "outputs": [
        {
          "data": {
            "application/vnd.plotly.v1+json": {
              "config": {
                "plotlyServerURL": "https://plot.ly"
              },
              "data": [
                {
                  "alignmentgroup": "True",
                  "bingroup": "x",
                  "histfunc": "sum",
                  "hovertemplate": "region=%{x}<br>sum of charges=%{y}<extra></extra>",
                  "legendgroup": "northeast",
                  "marker": {
                    "color": "#636efa",
                    "pattern": {
                      "shape": ""
                    }
                  },
                  "name": "northeast",
                  "offsetgroup": "northeast",
                  "orientation": "v",
                  "showlegend": true,
                  "type": "histogram",
                  "x": [
                    "northeast"
                  ],
                  "xaxis": "x",
                  "y": [
                    4343668.583309
                  ],
                  "yaxis": "y"
                },
                {
                  "alignmentgroup": "True",
                  "bingroup": "x",
                  "histfunc": "sum",
                  "hovertemplate": "region=%{x}<br>sum of charges=%{y}<extra></extra>",
                  "legendgroup": "northwest",
                  "marker": {
                    "color": "#EF553B",
                    "pattern": {
                      "shape": ""
                    }
                  },
                  "name": "northwest",
                  "offsetgroup": "northwest",
                  "orientation": "v",
                  "showlegend": true,
                  "type": "histogram",
                  "x": [
                    "northwest"
                  ],
                  "xaxis": "x",
                  "y": [
                    4035711.99654
                  ],
                  "yaxis": "y"
                },
                {
                  "alignmentgroup": "True",
                  "bingroup": "x",
                  "histfunc": "sum",
                  "hovertemplate": "region=%{x}<br>sum of charges=%{y}<extra></extra>",
                  "legendgroup": "southeast",
                  "marker": {
                    "color": "#00cc96",
                    "pattern": {
                      "shape": ""
                    }
                  },
                  "name": "southeast",
                  "offsetgroup": "southeast",
                  "orientation": "v",
                  "showlegend": true,
                  "type": "histogram",
                  "x": [
                    "southeast"
                  ],
                  "xaxis": "x",
                  "y": [
                    5363689.76329
                  ],
                  "yaxis": "y"
                },
                {
                  "alignmentgroup": "True",
                  "bingroup": "x",
                  "histfunc": "sum",
                  "hovertemplate": "region=%{x}<br>sum of charges=%{y}<extra></extra>",
                  "legendgroup": "southwest",
                  "marker": {
                    "color": "#ab63fa",
                    "pattern": {
                      "shape": ""
                    }
                  },
                  "name": "southwest",
                  "offsetgroup": "southwest",
                  "orientation": "v",
                  "showlegend": true,
                  "type": "histogram",
                  "x": [
                    "southwest"
                  ],
                  "xaxis": "x",
                  "y": [
                    4012754.64762
                  ],
                  "yaxis": "y"
                }
              ],
              "layout": {
                "barmode": "relative",
                "height": 600,
                "legend": {
                  "title": {
                    "text": "region"
                  },
                  "tracegroupgap": 0
                },
                "template": {
                  "data": {
                    "bar": [
                      {
                        "error_x": {
                          "color": "#2a3f5f"
                        },
                        "error_y": {
                          "color": "#2a3f5f"
                        },
                        "marker": {
                          "line": {
                            "color": "#E5ECF6",
                            "width": 0.5
                          },
                          "pattern": {
                            "fillmode": "overlay",
                            "size": 10,
                            "solidity": 0.2
                          }
                        },
                        "type": "bar"
                      }
                    ],
                    "barpolar": [
                      {
                        "marker": {
                          "line": {
                            "color": "#E5ECF6",
                            "width": 0.5
                          },
                          "pattern": {
                            "fillmode": "overlay",
                            "size": 10,
                            "solidity": 0.2
                          }
                        },
                        "type": "barpolar"
                      }
                    ],
                    "carpet": [
                      {
                        "aaxis": {
                          "endlinecolor": "#2a3f5f",
                          "gridcolor": "white",
                          "linecolor": "white",
                          "minorgridcolor": "white",
                          "startlinecolor": "#2a3f5f"
                        },
                        "baxis": {
                          "endlinecolor": "#2a3f5f",
                          "gridcolor": "white",
                          "linecolor": "white",
                          "minorgridcolor": "white",
                          "startlinecolor": "#2a3f5f"
                        },
                        "type": "carpet"
                      }
                    ],
                    "choropleth": [
                      {
                        "colorbar": {
                          "outlinewidth": 0,
                          "ticks": ""
                        },
                        "type": "choropleth"
                      }
                    ],
                    "contour": [
                      {
                        "colorbar": {
                          "outlinewidth": 0,
                          "ticks": ""
                        },
                        "colorscale": [
                          [
                            0,
                            "#0d0887"
                          ],
                          [
                            0.1111111111111111,
                            "#46039f"
                          ],
                          [
                            0.2222222222222222,
                            "#7201a8"
                          ],
                          [
                            0.3333333333333333,
                            "#9c179e"
                          ],
                          [
                            0.4444444444444444,
                            "#bd3786"
                          ],
                          [
                            0.5555555555555556,
                            "#d8576b"
                          ],
                          [
                            0.6666666666666666,
                            "#ed7953"
                          ],
                          [
                            0.7777777777777778,
                            "#fb9f3a"
                          ],
                          [
                            0.8888888888888888,
                            "#fdca26"
                          ],
                          [
                            1,
                            "#f0f921"
                          ]
                        ],
                        "type": "contour"
                      }
                    ],
                    "contourcarpet": [
                      {
                        "colorbar": {
                          "outlinewidth": 0,
                          "ticks": ""
                        },
                        "type": "contourcarpet"
                      }
                    ],
                    "heatmap": [
                      {
                        "colorbar": {
                          "outlinewidth": 0,
                          "ticks": ""
                        },
                        "colorscale": [
                          [
                            0,
                            "#0d0887"
                          ],
                          [
                            0.1111111111111111,
                            "#46039f"
                          ],
                          [
                            0.2222222222222222,
                            "#7201a8"
                          ],
                          [
                            0.3333333333333333,
                            "#9c179e"
                          ],
                          [
                            0.4444444444444444,
                            "#bd3786"
                          ],
                          [
                            0.5555555555555556,
                            "#d8576b"
                          ],
                          [
                            0.6666666666666666,
                            "#ed7953"
                          ],
                          [
                            0.7777777777777778,
                            "#fb9f3a"
                          ],
                          [
                            0.8888888888888888,
                            "#fdca26"
                          ],
                          [
                            1,
                            "#f0f921"
                          ]
                        ],
                        "type": "heatmap"
                      }
                    ],
                    "heatmapgl": [
                      {
                        "colorbar": {
                          "outlinewidth": 0,
                          "ticks": ""
                        },
                        "colorscale": [
                          [
                            0,
                            "#0d0887"
                          ],
                          [
                            0.1111111111111111,
                            "#46039f"
                          ],
                          [
                            0.2222222222222222,
                            "#7201a8"
                          ],
                          [
                            0.3333333333333333,
                            "#9c179e"
                          ],
                          [
                            0.4444444444444444,
                            "#bd3786"
                          ],
                          [
                            0.5555555555555556,
                            "#d8576b"
                          ],
                          [
                            0.6666666666666666,
                            "#ed7953"
                          ],
                          [
                            0.7777777777777778,
                            "#fb9f3a"
                          ],
                          [
                            0.8888888888888888,
                            "#fdca26"
                          ],
                          [
                            1,
                            "#f0f921"
                          ]
                        ],
                        "type": "heatmapgl"
                      }
                    ],
                    "histogram": [
                      {
                        "marker": {
                          "pattern": {
                            "fillmode": "overlay",
                            "size": 10,
                            "solidity": 0.2
                          }
                        },
                        "type": "histogram"
                      }
                    ],
                    "histogram2d": [
                      {
                        "colorbar": {
                          "outlinewidth": 0,
                          "ticks": ""
                        },
                        "colorscale": [
                          [
                            0,
                            "#0d0887"
                          ],
                          [
                            0.1111111111111111,
                            "#46039f"
                          ],
                          [
                            0.2222222222222222,
                            "#7201a8"
                          ],
                          [
                            0.3333333333333333,
                            "#9c179e"
                          ],
                          [
                            0.4444444444444444,
                            "#bd3786"
                          ],
                          [
                            0.5555555555555556,
                            "#d8576b"
                          ],
                          [
                            0.6666666666666666,
                            "#ed7953"
                          ],
                          [
                            0.7777777777777778,
                            "#fb9f3a"
                          ],
                          [
                            0.8888888888888888,
                            "#fdca26"
                          ],
                          [
                            1,
                            "#f0f921"
                          ]
                        ],
                        "type": "histogram2d"
                      }
                    ],
                    "histogram2dcontour": [
                      {
                        "colorbar": {
                          "outlinewidth": 0,
                          "ticks": ""
                        },
                        "colorscale": [
                          [
                            0,
                            "#0d0887"
                          ],
                          [
                            0.1111111111111111,
                            "#46039f"
                          ],
                          [
                            0.2222222222222222,
                            "#7201a8"
                          ],
                          [
                            0.3333333333333333,
                            "#9c179e"
                          ],
                          [
                            0.4444444444444444,
                            "#bd3786"
                          ],
                          [
                            0.5555555555555556,
                            "#d8576b"
                          ],
                          [
                            0.6666666666666666,
                            "#ed7953"
                          ],
                          [
                            0.7777777777777778,
                            "#fb9f3a"
                          ],
                          [
                            0.8888888888888888,
                            "#fdca26"
                          ],
                          [
                            1,
                            "#f0f921"
                          ]
                        ],
                        "type": "histogram2dcontour"
                      }
                    ],
                    "mesh3d": [
                      {
                        "colorbar": {
                          "outlinewidth": 0,
                          "ticks": ""
                        },
                        "type": "mesh3d"
                      }
                    ],
                    "parcoords": [
                      {
                        "line": {
                          "colorbar": {
                            "outlinewidth": 0,
                            "ticks": ""
                          }
                        },
                        "type": "parcoords"
                      }
                    ],
                    "pie": [
                      {
                        "automargin": true,
                        "type": "pie"
                      }
                    ],
                    "scatter": [
                      {
                        "fillpattern": {
                          "fillmode": "overlay",
                          "size": 10,
                          "solidity": 0.2
                        },
                        "type": "scatter"
                      }
                    ],
                    "scatter3d": [
                      {
                        "line": {
                          "colorbar": {
                            "outlinewidth": 0,
                            "ticks": ""
                          }
                        },
                        "marker": {
                          "colorbar": {
                            "outlinewidth": 0,
                            "ticks": ""
                          }
                        },
                        "type": "scatter3d"
                      }
                    ],
                    "scattercarpet": [
                      {
                        "marker": {
                          "colorbar": {
                            "outlinewidth": 0,
                            "ticks": ""
                          }
                        },
                        "type": "scattercarpet"
                      }
                    ],
                    "scattergeo": [
                      {
                        "marker": {
                          "colorbar": {
                            "outlinewidth": 0,
                            "ticks": ""
                          }
                        },
                        "type": "scattergeo"
                      }
                    ],
                    "scattergl": [
                      {
                        "marker": {
                          "colorbar": {
                            "outlinewidth": 0,
                            "ticks": ""
                          }
                        },
                        "type": "scattergl"
                      }
                    ],
                    "scattermapbox": [
                      {
                        "marker": {
                          "colorbar": {
                            "outlinewidth": 0,
                            "ticks": ""
                          }
                        },
                        "type": "scattermapbox"
                      }
                    ],
                    "scatterpolar": [
                      {
                        "marker": {
                          "colorbar": {
                            "outlinewidth": 0,
                            "ticks": ""
                          }
                        },
                        "type": "scatterpolar"
                      }
                    ],
                    "scatterpolargl": [
                      {
                        "marker": {
                          "colorbar": {
                            "outlinewidth": 0,
                            "ticks": ""
                          }
                        },
                        "type": "scatterpolargl"
                      }
                    ],
                    "scatterternary": [
                      {
                        "marker": {
                          "colorbar": {
                            "outlinewidth": 0,
                            "ticks": ""
                          }
                        },
                        "type": "scatterternary"
                      }
                    ],
                    "surface": [
                      {
                        "colorbar": {
                          "outlinewidth": 0,
                          "ticks": ""
                        },
                        "colorscale": [
                          [
                            0,
                            "#0d0887"
                          ],
                          [
                            0.1111111111111111,
                            "#46039f"
                          ],
                          [
                            0.2222222222222222,
                            "#7201a8"
                          ],
                          [
                            0.3333333333333333,
                            "#9c179e"
                          ],
                          [
                            0.4444444444444444,
                            "#bd3786"
                          ],
                          [
                            0.5555555555555556,
                            "#d8576b"
                          ],
                          [
                            0.6666666666666666,
                            "#ed7953"
                          ],
                          [
                            0.7777777777777778,
                            "#fb9f3a"
                          ],
                          [
                            0.8888888888888888,
                            "#fdca26"
                          ],
                          [
                            1,
                            "#f0f921"
                          ]
                        ],
                        "type": "surface"
                      }
                    ],
                    "table": [
                      {
                        "cells": {
                          "fill": {
                            "color": "#EBF0F8"
                          },
                          "line": {
                            "color": "white"
                          }
                        },
                        "header": {
                          "fill": {
                            "color": "#C8D4E3"
                          },
                          "line": {
                            "color": "white"
                          }
                        },
                        "type": "table"
                      }
                    ]
                  },
                  "layout": {
                    "annotationdefaults": {
                      "arrowcolor": "#2a3f5f",
                      "arrowhead": 0,
                      "arrowwidth": 1
                    },
                    "autotypenumbers": "strict",
                    "coloraxis": {
                      "colorbar": {
                        "outlinewidth": 0,
                        "ticks": ""
                      }
                    },
                    "colorscale": {
                      "diverging": [
                        [
                          0,
                          "#8e0152"
                        ],
                        [
                          0.1,
                          "#c51b7d"
                        ],
                        [
                          0.2,
                          "#de77ae"
                        ],
                        [
                          0.3,
                          "#f1b6da"
                        ],
                        [
                          0.4,
                          "#fde0ef"
                        ],
                        [
                          0.5,
                          "#f7f7f7"
                        ],
                        [
                          0.6,
                          "#e6f5d0"
                        ],
                        [
                          0.7,
                          "#b8e186"
                        ],
                        [
                          0.8,
                          "#7fbc41"
                        ],
                        [
                          0.9,
                          "#4d9221"
                        ],
                        [
                          1,
                          "#276419"
                        ]
                      ],
                      "sequential": [
                        [
                          0,
                          "#0d0887"
                        ],
                        [
                          0.1111111111111111,
                          "#46039f"
                        ],
                        [
                          0.2222222222222222,
                          "#7201a8"
                        ],
                        [
                          0.3333333333333333,
                          "#9c179e"
                        ],
                        [
                          0.4444444444444444,
                          "#bd3786"
                        ],
                        [
                          0.5555555555555556,
                          "#d8576b"
                        ],
                        [
                          0.6666666666666666,
                          "#ed7953"
                        ],
                        [
                          0.7777777777777778,
                          "#fb9f3a"
                        ],
                        [
                          0.8888888888888888,
                          "#fdca26"
                        ],
                        [
                          1,
                          "#f0f921"
                        ]
                      ],
                      "sequentialminus": [
                        [
                          0,
                          "#0d0887"
                        ],
                        [
                          0.1111111111111111,
                          "#46039f"
                        ],
                        [
                          0.2222222222222222,
                          "#7201a8"
                        ],
                        [
                          0.3333333333333333,
                          "#9c179e"
                        ],
                        [
                          0.4444444444444444,
                          "#bd3786"
                        ],
                        [
                          0.5555555555555556,
                          "#d8576b"
                        ],
                        [
                          0.6666666666666666,
                          "#ed7953"
                        ],
                        [
                          0.7777777777777778,
                          "#fb9f3a"
                        ],
                        [
                          0.8888888888888888,
                          "#fdca26"
                        ],
                        [
                          1,
                          "#f0f921"
                        ]
                      ]
                    },
                    "colorway": [
                      "#636efa",
                      "#EF553B",
                      "#00cc96",
                      "#ab63fa",
                      "#FFA15A",
                      "#19d3f3",
                      "#FF6692",
                      "#B6E880",
                      "#FF97FF",
                      "#FECB52"
                    ],
                    "font": {
                      "color": "#2a3f5f"
                    },
                    "geo": {
                      "bgcolor": "white",
                      "lakecolor": "white",
                      "landcolor": "#E5ECF6",
                      "showlakes": true,
                      "showland": true,
                      "subunitcolor": "white"
                    },
                    "hoverlabel": {
                      "align": "left"
                    },
                    "hovermode": "closest",
                    "mapbox": {
                      "style": "light"
                    },
                    "paper_bgcolor": "white",
                    "plot_bgcolor": "#E5ECF6",
                    "polar": {
                      "angularaxis": {
                        "gridcolor": "white",
                        "linecolor": "white",
                        "ticks": ""
                      },
                      "bgcolor": "#E5ECF6",
                      "radialaxis": {
                        "gridcolor": "white",
                        "linecolor": "white",
                        "ticks": ""
                      }
                    },
                    "scene": {
                      "xaxis": {
                        "backgroundcolor": "#E5ECF6",
                        "gridcolor": "white",
                        "gridwidth": 2,
                        "linecolor": "white",
                        "showbackground": true,
                        "ticks": "",
                        "zerolinecolor": "white"
                      },
                      "yaxis": {
                        "backgroundcolor": "#E5ECF6",
                        "gridcolor": "white",
                        "gridwidth": 2,
                        "linecolor": "white",
                        "showbackground": true,
                        "ticks": "",
                        "zerolinecolor": "white"
                      },
                      "zaxis": {
                        "backgroundcolor": "#E5ECF6",
                        "gridcolor": "white",
                        "gridwidth": 2,
                        "linecolor": "white",
                        "showbackground": true,
                        "ticks": "",
                        "zerolinecolor": "white"
                      }
                    },
                    "shapedefaults": {
                      "line": {
                        "color": "#2a3f5f"
                      }
                    },
                    "ternary": {
                      "aaxis": {
                        "gridcolor": "white",
                        "linecolor": "white",
                        "ticks": ""
                      },
                      "baxis": {
                        "gridcolor": "white",
                        "linecolor": "white",
                        "ticks": ""
                      },
                      "bgcolor": "#E5ECF6",
                      "caxis": {
                        "gridcolor": "white",
                        "linecolor": "white",
                        "ticks": ""
                      }
                    },
                    "title": {
                      "x": 0.05
                    },
                    "xaxis": {
                      "automargin": true,
                      "gridcolor": "white",
                      "linecolor": "white",
                      "ticks": "",
                      "title": {
                        "standoff": 15
                      },
                      "zerolinecolor": "white",
                      "zerolinewidth": 2
                    },
                    "yaxis": {
                      "automargin": true,
                      "gridcolor": "white",
                      "linecolor": "white",
                      "ticks": "",
                      "title": {
                        "standoff": 15
                      },
                      "zerolinecolor": "white",
                      "zerolinewidth": 2
                    }
                  }
                },
                "title": {
                  "text": "Charges by Region"
                },
                "width": 1000,
                "xaxis": {
                  "anchor": "y",
                  "categoryarray": [
                    "northeast",
                    "northwest",
                    "southeast",
                    "southwest"
                  ],
                  "categoryorder": "array",
                  "domain": [
                    0,
                    1
                  ],
                  "title": {
                    "text": "region"
                  }
                },
                "yaxis": {
                  "anchor": "x",
                  "domain": [
                    0,
                    1
                  ],
                  "title": {
                    "text": "sum of charges"
                  }
                }
              }
            }
          },
          "metadata": {},
          "output_type": "display_data"
        }
      ],
      "source": [
        "categorical_counts = df1.groupby(\"region\")[\"charges\"].sum().reset_index()\n",
        "fig = px.histogram(data_frame=categorical_counts, x=\"region\", y=\"charges\", \n",
        "                   color=\"region\", title=\"Charges by Region\", width=1000, height=600)\n",
        "\n",
        "fig.show()"
      ]
    },
    {
      "cell_type": "markdown",
      "metadata": {},
      "source": [
        "**Assumption**: For the sake of this project, I am omitting Southeast region's impact as it consists of significantly larger number of respondents. At the workplace, I would flag this as a bias and inform the data manager/data engineer. I would also recommend best practices to avoid such issues, which I will cover in the Load phase.\n",
        "\n",
        "To make an impactful recommendation, the analysis needs to consider such nuances. Else, the true potential will still be locked."
      ]
    },
    {
      "cell_type": "markdown",
      "metadata": {},
      "source": [
        "**Charges by Region**\n",
        "\n",
        "Southeast is the highest contributor, however, it also has slightly higher number of respondents compared to other regions. Both Northwest and Southwest generate similar amounts of insurance charges. However, Northeast seems to generate a slightly higher amount of insurance charges. \n",
        "\n",
        "We know that smokers contribute more than non-smokers. So, I will probe further before predicting an order of regions that the business can focus on as part of their investment efforts."
      ]
    },
    {
      "cell_type": "code",
      "execution_count": 180,
      "metadata": {},
      "outputs": [
        {
          "data": {
            "application/vnd.plotly.v1+json": {
              "config": {
                "plotlyServerURL": "https://plot.ly"
              },
              "data": [
                {
                  "branchvalues": "total",
                  "customdata": [
                    [
                      9165.531671708171
                    ],
                    [
                      8556.463715205993
                    ],
                    [
                      8032.216308937729
                    ],
                    [
                      8019.28451307116
                    ],
                    [
                      29673.536472835825
                    ],
                    [
                      30192.003182413795
                    ],
                    [
                      34844.996823626374
                    ],
                    [
                      32269.06349362069
                    ],
                    [
                      13406.384516385804
                    ],
                    [
                      12417.57537396923
                    ],
                    [
                      14735.411437609888
                    ],
                    [
                      12346.937377292308
                    ]
                  ],
                  "domain": {
                    "x": [
                      0,
                      1
                    ],
                    "y": [
                      0,
                      1
                    ]
                  },
                  "hovertemplate": "<b>%{hovertext}</b><br><br>labels=%{label}<br>count=%{value}<br>parent=%{parent}<br>id=%{id}<br>charges=%{color}<extra></extra>",
                  "hovertext": [
                    9165.531671708171,
                    8556.463715205993,
                    8032.216308937729,
                    8019.28451307116,
                    29673.536472835825,
                    30192.003182413795,
                    34844.996823626374,
                    32269.06349362069,
                    13406.384516385804,
                    12417.57537396923,
                    14735.411437609888,
                    12346.937377292308
                  ],
                  "ids": [
                    "northeast/no",
                    "northwest/no",
                    "southeast/no",
                    "southwest/no",
                    "northeast/yes",
                    "northwest/yes",
                    "southeast/yes",
                    "southwest/yes",
                    "northeast",
                    "northwest",
                    "southeast",
                    "southwest"
                  ],
                  "labels": [
                    "no",
                    "no",
                    "no",
                    "no",
                    "yes",
                    "yes",
                    "yes",
                    "yes",
                    "northeast",
                    "northwest",
                    "southeast",
                    "southwest"
                  ],
                  "marker": {
                    "coloraxis": "coloraxis",
                    "colors": [
                      9165.531671708171,
                      8556.463715205993,
                      8032.216308937729,
                      8019.28451307116,
                      29673.536472835825,
                      30192.003182413795,
                      34844.996823626374,
                      32269.06349362069,
                      13406.384516385804,
                      12417.57537396923,
                      14735.411437609888,
                      12346.937377292308
                    ]
                  },
                  "name": "",
                  "parents": [
                    "northeast",
                    "northwest",
                    "southeast",
                    "southwest",
                    "northeast",
                    "northwest",
                    "southeast",
                    "southwest",
                    "",
                    "",
                    "",
                    ""
                  ],
                  "type": "sunburst",
                  "values": [
                    257,
                    267,
                    273,
                    267,
                    67,
                    58,
                    91,
                    58,
                    324,
                    325,
                    364,
                    325
                  ]
                }
              ],
              "layout": {
                "coloraxis": {
                  "colorbar": {
                    "title": {
                      "text": "charges"
                    }
                  },
                  "colorscale": [
                    [
                      0,
                      "rgb(0, 147, 146)"
                    ],
                    [
                      0.16666666666666666,
                      "rgb(114, 170, 161)"
                    ],
                    [
                      0.3333333333333333,
                      "rgb(177, 199, 179)"
                    ],
                    [
                      0.5,
                      "rgb(241, 234, 200)"
                    ],
                    [
                      0.6666666666666666,
                      "rgb(229, 185, 173)"
                    ],
                    [
                      0.8333333333333334,
                      "rgb(217, 137, 148)"
                    ],
                    [
                      1,
                      "rgb(208, 88, 126)"
                    ]
                  ]
                },
                "height": 600,
                "legend": {
                  "tracegroupgap": 0
                },
                "template": {
                  "data": {
                    "bar": [
                      {
                        "error_x": {
                          "color": "#2a3f5f"
                        },
                        "error_y": {
                          "color": "#2a3f5f"
                        },
                        "marker": {
                          "line": {
                            "color": "#E5ECF6",
                            "width": 0.5
                          },
                          "pattern": {
                            "fillmode": "overlay",
                            "size": 10,
                            "solidity": 0.2
                          }
                        },
                        "type": "bar"
                      }
                    ],
                    "barpolar": [
                      {
                        "marker": {
                          "line": {
                            "color": "#E5ECF6",
                            "width": 0.5
                          },
                          "pattern": {
                            "fillmode": "overlay",
                            "size": 10,
                            "solidity": 0.2
                          }
                        },
                        "type": "barpolar"
                      }
                    ],
                    "carpet": [
                      {
                        "aaxis": {
                          "endlinecolor": "#2a3f5f",
                          "gridcolor": "white",
                          "linecolor": "white",
                          "minorgridcolor": "white",
                          "startlinecolor": "#2a3f5f"
                        },
                        "baxis": {
                          "endlinecolor": "#2a3f5f",
                          "gridcolor": "white",
                          "linecolor": "white",
                          "minorgridcolor": "white",
                          "startlinecolor": "#2a3f5f"
                        },
                        "type": "carpet"
                      }
                    ],
                    "choropleth": [
                      {
                        "colorbar": {
                          "outlinewidth": 0,
                          "ticks": ""
                        },
                        "type": "choropleth"
                      }
                    ],
                    "contour": [
                      {
                        "colorbar": {
                          "outlinewidth": 0,
                          "ticks": ""
                        },
                        "colorscale": [
                          [
                            0,
                            "#0d0887"
                          ],
                          [
                            0.1111111111111111,
                            "#46039f"
                          ],
                          [
                            0.2222222222222222,
                            "#7201a8"
                          ],
                          [
                            0.3333333333333333,
                            "#9c179e"
                          ],
                          [
                            0.4444444444444444,
                            "#bd3786"
                          ],
                          [
                            0.5555555555555556,
                            "#d8576b"
                          ],
                          [
                            0.6666666666666666,
                            "#ed7953"
                          ],
                          [
                            0.7777777777777778,
                            "#fb9f3a"
                          ],
                          [
                            0.8888888888888888,
                            "#fdca26"
                          ],
                          [
                            1,
                            "#f0f921"
                          ]
                        ],
                        "type": "contour"
                      }
                    ],
                    "contourcarpet": [
                      {
                        "colorbar": {
                          "outlinewidth": 0,
                          "ticks": ""
                        },
                        "type": "contourcarpet"
                      }
                    ],
                    "heatmap": [
                      {
                        "colorbar": {
                          "outlinewidth": 0,
                          "ticks": ""
                        },
                        "colorscale": [
                          [
                            0,
                            "#0d0887"
                          ],
                          [
                            0.1111111111111111,
                            "#46039f"
                          ],
                          [
                            0.2222222222222222,
                            "#7201a8"
                          ],
                          [
                            0.3333333333333333,
                            "#9c179e"
                          ],
                          [
                            0.4444444444444444,
                            "#bd3786"
                          ],
                          [
                            0.5555555555555556,
                            "#d8576b"
                          ],
                          [
                            0.6666666666666666,
                            "#ed7953"
                          ],
                          [
                            0.7777777777777778,
                            "#fb9f3a"
                          ],
                          [
                            0.8888888888888888,
                            "#fdca26"
                          ],
                          [
                            1,
                            "#f0f921"
                          ]
                        ],
                        "type": "heatmap"
                      }
                    ],
                    "heatmapgl": [
                      {
                        "colorbar": {
                          "outlinewidth": 0,
                          "ticks": ""
                        },
                        "colorscale": [
                          [
                            0,
                            "#0d0887"
                          ],
                          [
                            0.1111111111111111,
                            "#46039f"
                          ],
                          [
                            0.2222222222222222,
                            "#7201a8"
                          ],
                          [
                            0.3333333333333333,
                            "#9c179e"
                          ],
                          [
                            0.4444444444444444,
                            "#bd3786"
                          ],
                          [
                            0.5555555555555556,
                            "#d8576b"
                          ],
                          [
                            0.6666666666666666,
                            "#ed7953"
                          ],
                          [
                            0.7777777777777778,
                            "#fb9f3a"
                          ],
                          [
                            0.8888888888888888,
                            "#fdca26"
                          ],
                          [
                            1,
                            "#f0f921"
                          ]
                        ],
                        "type": "heatmapgl"
                      }
                    ],
                    "histogram": [
                      {
                        "marker": {
                          "pattern": {
                            "fillmode": "overlay",
                            "size": 10,
                            "solidity": 0.2
                          }
                        },
                        "type": "histogram"
                      }
                    ],
                    "histogram2d": [
                      {
                        "colorbar": {
                          "outlinewidth": 0,
                          "ticks": ""
                        },
                        "colorscale": [
                          [
                            0,
                            "#0d0887"
                          ],
                          [
                            0.1111111111111111,
                            "#46039f"
                          ],
                          [
                            0.2222222222222222,
                            "#7201a8"
                          ],
                          [
                            0.3333333333333333,
                            "#9c179e"
                          ],
                          [
                            0.4444444444444444,
                            "#bd3786"
                          ],
                          [
                            0.5555555555555556,
                            "#d8576b"
                          ],
                          [
                            0.6666666666666666,
                            "#ed7953"
                          ],
                          [
                            0.7777777777777778,
                            "#fb9f3a"
                          ],
                          [
                            0.8888888888888888,
                            "#fdca26"
                          ],
                          [
                            1,
                            "#f0f921"
                          ]
                        ],
                        "type": "histogram2d"
                      }
                    ],
                    "histogram2dcontour": [
                      {
                        "colorbar": {
                          "outlinewidth": 0,
                          "ticks": ""
                        },
                        "colorscale": [
                          [
                            0,
                            "#0d0887"
                          ],
                          [
                            0.1111111111111111,
                            "#46039f"
                          ],
                          [
                            0.2222222222222222,
                            "#7201a8"
                          ],
                          [
                            0.3333333333333333,
                            "#9c179e"
                          ],
                          [
                            0.4444444444444444,
                            "#bd3786"
                          ],
                          [
                            0.5555555555555556,
                            "#d8576b"
                          ],
                          [
                            0.6666666666666666,
                            "#ed7953"
                          ],
                          [
                            0.7777777777777778,
                            "#fb9f3a"
                          ],
                          [
                            0.8888888888888888,
                            "#fdca26"
                          ],
                          [
                            1,
                            "#f0f921"
                          ]
                        ],
                        "type": "histogram2dcontour"
                      }
                    ],
                    "mesh3d": [
                      {
                        "colorbar": {
                          "outlinewidth": 0,
                          "ticks": ""
                        },
                        "type": "mesh3d"
                      }
                    ],
                    "parcoords": [
                      {
                        "line": {
                          "colorbar": {
                            "outlinewidth": 0,
                            "ticks": ""
                          }
                        },
                        "type": "parcoords"
                      }
                    ],
                    "pie": [
                      {
                        "automargin": true,
                        "type": "pie"
                      }
                    ],
                    "scatter": [
                      {
                        "fillpattern": {
                          "fillmode": "overlay",
                          "size": 10,
                          "solidity": 0.2
                        },
                        "type": "scatter"
                      }
                    ],
                    "scatter3d": [
                      {
                        "line": {
                          "colorbar": {
                            "outlinewidth": 0,
                            "ticks": ""
                          }
                        },
                        "marker": {
                          "colorbar": {
                            "outlinewidth": 0,
                            "ticks": ""
                          }
                        },
                        "type": "scatter3d"
                      }
                    ],
                    "scattercarpet": [
                      {
                        "marker": {
                          "colorbar": {
                            "outlinewidth": 0,
                            "ticks": ""
                          }
                        },
                        "type": "scattercarpet"
                      }
                    ],
                    "scattergeo": [
                      {
                        "marker": {
                          "colorbar": {
                            "outlinewidth": 0,
                            "ticks": ""
                          }
                        },
                        "type": "scattergeo"
                      }
                    ],
                    "scattergl": [
                      {
                        "marker": {
                          "colorbar": {
                            "outlinewidth": 0,
                            "ticks": ""
                          }
                        },
                        "type": "scattergl"
                      }
                    ],
                    "scattermapbox": [
                      {
                        "marker": {
                          "colorbar": {
                            "outlinewidth": 0,
                            "ticks": ""
                          }
                        },
                        "type": "scattermapbox"
                      }
                    ],
                    "scatterpolar": [
                      {
                        "marker": {
                          "colorbar": {
                            "outlinewidth": 0,
                            "ticks": ""
                          }
                        },
                        "type": "scatterpolar"
                      }
                    ],
                    "scatterpolargl": [
                      {
                        "marker": {
                          "colorbar": {
                            "outlinewidth": 0,
                            "ticks": ""
                          }
                        },
                        "type": "scatterpolargl"
                      }
                    ],
                    "scatterternary": [
                      {
                        "marker": {
                          "colorbar": {
                            "outlinewidth": 0,
                            "ticks": ""
                          }
                        },
                        "type": "scatterternary"
                      }
                    ],
                    "surface": [
                      {
                        "colorbar": {
                          "outlinewidth": 0,
                          "ticks": ""
                        },
                        "colorscale": [
                          [
                            0,
                            "#0d0887"
                          ],
                          [
                            0.1111111111111111,
                            "#46039f"
                          ],
                          [
                            0.2222222222222222,
                            "#7201a8"
                          ],
                          [
                            0.3333333333333333,
                            "#9c179e"
                          ],
                          [
                            0.4444444444444444,
                            "#bd3786"
                          ],
                          [
                            0.5555555555555556,
                            "#d8576b"
                          ],
                          [
                            0.6666666666666666,
                            "#ed7953"
                          ],
                          [
                            0.7777777777777778,
                            "#fb9f3a"
                          ],
                          [
                            0.8888888888888888,
                            "#fdca26"
                          ],
                          [
                            1,
                            "#f0f921"
                          ]
                        ],
                        "type": "surface"
                      }
                    ],
                    "table": [
                      {
                        "cells": {
                          "fill": {
                            "color": "#EBF0F8"
                          },
                          "line": {
                            "color": "white"
                          }
                        },
                        "header": {
                          "fill": {
                            "color": "#C8D4E3"
                          },
                          "line": {
                            "color": "white"
                          }
                        },
                        "type": "table"
                      }
                    ]
                  },
                  "layout": {
                    "annotationdefaults": {
                      "arrowcolor": "#2a3f5f",
                      "arrowhead": 0,
                      "arrowwidth": 1
                    },
                    "autotypenumbers": "strict",
                    "coloraxis": {
                      "colorbar": {
                        "outlinewidth": 0,
                        "ticks": ""
                      }
                    },
                    "colorscale": {
                      "diverging": [
                        [
                          0,
                          "#8e0152"
                        ],
                        [
                          0.1,
                          "#c51b7d"
                        ],
                        [
                          0.2,
                          "#de77ae"
                        ],
                        [
                          0.3,
                          "#f1b6da"
                        ],
                        [
                          0.4,
                          "#fde0ef"
                        ],
                        [
                          0.5,
                          "#f7f7f7"
                        ],
                        [
                          0.6,
                          "#e6f5d0"
                        ],
                        [
                          0.7,
                          "#b8e186"
                        ],
                        [
                          0.8,
                          "#7fbc41"
                        ],
                        [
                          0.9,
                          "#4d9221"
                        ],
                        [
                          1,
                          "#276419"
                        ]
                      ],
                      "sequential": [
                        [
                          0,
                          "#0d0887"
                        ],
                        [
                          0.1111111111111111,
                          "#46039f"
                        ],
                        [
                          0.2222222222222222,
                          "#7201a8"
                        ],
                        [
                          0.3333333333333333,
                          "#9c179e"
                        ],
                        [
                          0.4444444444444444,
                          "#bd3786"
                        ],
                        [
                          0.5555555555555556,
                          "#d8576b"
                        ],
                        [
                          0.6666666666666666,
                          "#ed7953"
                        ],
                        [
                          0.7777777777777778,
                          "#fb9f3a"
                        ],
                        [
                          0.8888888888888888,
                          "#fdca26"
                        ],
                        [
                          1,
                          "#f0f921"
                        ]
                      ],
                      "sequentialminus": [
                        [
                          0,
                          "#0d0887"
                        ],
                        [
                          0.1111111111111111,
                          "#46039f"
                        ],
                        [
                          0.2222222222222222,
                          "#7201a8"
                        ],
                        [
                          0.3333333333333333,
                          "#9c179e"
                        ],
                        [
                          0.4444444444444444,
                          "#bd3786"
                        ],
                        [
                          0.5555555555555556,
                          "#d8576b"
                        ],
                        [
                          0.6666666666666666,
                          "#ed7953"
                        ],
                        [
                          0.7777777777777778,
                          "#fb9f3a"
                        ],
                        [
                          0.8888888888888888,
                          "#fdca26"
                        ],
                        [
                          1,
                          "#f0f921"
                        ]
                      ]
                    },
                    "colorway": [
                      "#636efa",
                      "#EF553B",
                      "#00cc96",
                      "#ab63fa",
                      "#FFA15A",
                      "#19d3f3",
                      "#FF6692",
                      "#B6E880",
                      "#FF97FF",
                      "#FECB52"
                    ],
                    "font": {
                      "color": "#2a3f5f"
                    },
                    "geo": {
                      "bgcolor": "white",
                      "lakecolor": "white",
                      "landcolor": "#E5ECF6",
                      "showlakes": true,
                      "showland": true,
                      "subunitcolor": "white"
                    },
                    "hoverlabel": {
                      "align": "left"
                    },
                    "hovermode": "closest",
                    "mapbox": {
                      "style": "light"
                    },
                    "paper_bgcolor": "white",
                    "plot_bgcolor": "#E5ECF6",
                    "polar": {
                      "angularaxis": {
                        "gridcolor": "white",
                        "linecolor": "white",
                        "ticks": ""
                      },
                      "bgcolor": "#E5ECF6",
                      "radialaxis": {
                        "gridcolor": "white",
                        "linecolor": "white",
                        "ticks": ""
                      }
                    },
                    "scene": {
                      "xaxis": {
                        "backgroundcolor": "#E5ECF6",
                        "gridcolor": "white",
                        "gridwidth": 2,
                        "linecolor": "white",
                        "showbackground": true,
                        "ticks": "",
                        "zerolinecolor": "white"
                      },
                      "yaxis": {
                        "backgroundcolor": "#E5ECF6",
                        "gridcolor": "white",
                        "gridwidth": 2,
                        "linecolor": "white",
                        "showbackground": true,
                        "ticks": "",
                        "zerolinecolor": "white"
                      },
                      "zaxis": {
                        "backgroundcolor": "#E5ECF6",
                        "gridcolor": "white",
                        "gridwidth": 2,
                        "linecolor": "white",
                        "showbackground": true,
                        "ticks": "",
                        "zerolinecolor": "white"
                      }
                    },
                    "shapedefaults": {
                      "line": {
                        "color": "#2a3f5f"
                      }
                    },
                    "ternary": {
                      "aaxis": {
                        "gridcolor": "white",
                        "linecolor": "white",
                        "ticks": ""
                      },
                      "baxis": {
                        "gridcolor": "white",
                        "linecolor": "white",
                        "ticks": ""
                      },
                      "bgcolor": "#E5ECF6",
                      "caxis": {
                        "gridcolor": "white",
                        "linecolor": "white",
                        "ticks": ""
                      }
                    },
                    "title": {
                      "x": 0.05
                    },
                    "xaxis": {
                      "automargin": true,
                      "gridcolor": "white",
                      "linecolor": "white",
                      "ticks": "",
                      "title": {
                        "standoff": 15
                      },
                      "zerolinecolor": "white",
                      "zerolinewidth": 2
                    },
                    "yaxis": {
                      "automargin": true,
                      "gridcolor": "white",
                      "linecolor": "white",
                      "ticks": "",
                      "title": {
                        "standoff": 15
                      },
                      "zerolinecolor": "white",
                      "zerolinewidth": 2
                    }
                  }
                },
                "title": {
                  "text": "Charges by Region and Smoker Status"
                },
                "width": 1000
              }
            }
          },
          "metadata": {},
          "output_type": "display_data"
        }
      ],
      "source": [
        "fig = px.sunburst(data_frame=df1, path=[\"region\", \"smoker\"], color= \"charges\", \n",
        "                  hover_name= \"charges\", \n",
        "                  title=\"Charges by Region and Smoker Status\", \n",
        "                  color_continuous_scale=\"tealrose\", \n",
        "                  labels={\"smoker\": \"smoker status\"}, width=1000, height=600)\n",
        "\n",
        "fig.show()"
      ]
    },
    {
      "cell_type": "markdown",
      "metadata": {},
      "source": [
        "**Charges by Region and Smoker Status**\n",
        "\n",
        "This sunburst chart helps further the analysis. Here are some interesting insights, considering that we are aware that smokers contribute more to insurance charges than non-smokers:\n",
        "\n",
        "1.  As the Southeast region has more number of respondents, it also displays a higher number of respondents(364) and average of charges(14, 735).\n",
        "\n",
        "2. The Northeast region generates a higher average of insurance charges(13, 406), despite having fewer non-smokers(257) compared to Northwest and Southwest.\n",
        "    2.a. However, the average of charges generated by 67 smokers is 29, 673. This is lesser than the average of charges from Northwest and Southwest.\n",
        "\n",
        "3. The average of charges in the Northwest region is 12, 417. The number of smokers is 58 and the average of their charges are 30, 192.\n",
        "\n",
        "4. The average of charges in the Southwest region is 12, 346. The number of smokers is 58 and the average of their charges are 32, 269."
      ]
    },
    {
      "cell_type": "markdown",
      "metadata": {},
      "source": [
        "Based on the above analysis, here is my recommendation:\n",
        "\n",
        "1. Invest 40% of efforts and resources in the Northeast as that region has a relatively larger share of smokers. Observation from the  Southeast dataset reveals that when you increase the sample size, you are most likely to increase the smoker base as well.\n",
        "    1.a. Even if the business does not find smokers, the non-smoking population from this region contribute significantly higher than the non-smoking population from other groups.\n",
        "\n",
        "2. Invest 38% in the Southwest as that region brings in a relatively larger share of charges from smokers. However, we need to be aware that this region contains fewer non-smokers. The room for finding more smokers may be slightly limited and that's why we also reduce the amount of efforts and resources accordingly.\n",
        "\n",
        "3. Invest 16% each in the Northwest and Southeast. However, I would understand why there is increase sample data from Southeast before initiating fresh investments."
      ]
    },
    {
      "cell_type": "markdown",
      "metadata": {},
      "source": [
        "---"
      ]
    },
    {
      "cell_type": "markdown",
      "metadata": {},
      "source": [
        "# Section 3: Gender"
      ]
    },
    {
      "cell_type": "markdown",
      "metadata": {},
      "source": [
        "3. How does gender impact charges?"
      ]
    },
    {
      "cell_type": "code",
      "execution_count": 181,
      "metadata": {},
      "outputs": [
        {
          "data": {
            "application/vnd.plotly.v1+json": {
              "config": {
                "plotlyServerURL": "https://plot.ly"
              },
              "data": [
                {
                  "alignmentgroup": "True",
                  "bingroup": "x",
                  "histfunc": "sum",
                  "hovertemplate": "smoker=no<br>sex=%{x}<br>sum of charges=%{y}<extra></extra>",
                  "legendgroup": "no",
                  "marker": {
                    "color": "#636efa",
                    "pattern": {
                      "shape": ""
                    }
                  },
                  "name": "no",
                  "offsetgroup": "no",
                  "orientation": "v",
                  "showlegend": true,
                  "type": "histogram",
                  "x": [
                    "female",
                    "male"
                  ],
                  "xaxis": "x",
                  "y": [
                    8762.297299541133,
                    8087.204731276595
                  ],
                  "yaxis": "y"
                },
                {
                  "alignmentgroup": "True",
                  "bingroup": "x",
                  "histfunc": "sum",
                  "hovertemplate": "smoker=yes<br>sex=%{x}<br>sum of charges=%{y}<extra></extra>",
                  "legendgroup": "yes",
                  "marker": {
                    "color": "#EF553B",
                    "pattern": {
                      "shape": ""
                    }
                  },
                  "name": "yes",
                  "offsetgroup": "yes",
                  "orientation": "v",
                  "showlegend": true,
                  "type": "histogram",
                  "x": [
                    "female",
                    "male"
                  ],
                  "xaxis": "x",
                  "y": [
                    30678.996276260867,
                    33042.00597528302
                  ],
                  "yaxis": "y"
                }
              ],
              "layout": {
                "barmode": "group",
                "height": 600,
                "legend": {
                  "title": {
                    "text": "smoker"
                  },
                  "tracegroupgap": 0
                },
                "template": {
                  "data": {
                    "bar": [
                      {
                        "error_x": {
                          "color": "#2a3f5f"
                        },
                        "error_y": {
                          "color": "#2a3f5f"
                        },
                        "marker": {
                          "line": {
                            "color": "#E5ECF6",
                            "width": 0.5
                          },
                          "pattern": {
                            "fillmode": "overlay",
                            "size": 10,
                            "solidity": 0.2
                          }
                        },
                        "type": "bar"
                      }
                    ],
                    "barpolar": [
                      {
                        "marker": {
                          "line": {
                            "color": "#E5ECF6",
                            "width": 0.5
                          },
                          "pattern": {
                            "fillmode": "overlay",
                            "size": 10,
                            "solidity": 0.2
                          }
                        },
                        "type": "barpolar"
                      }
                    ],
                    "carpet": [
                      {
                        "aaxis": {
                          "endlinecolor": "#2a3f5f",
                          "gridcolor": "white",
                          "linecolor": "white",
                          "minorgridcolor": "white",
                          "startlinecolor": "#2a3f5f"
                        },
                        "baxis": {
                          "endlinecolor": "#2a3f5f",
                          "gridcolor": "white",
                          "linecolor": "white",
                          "minorgridcolor": "white",
                          "startlinecolor": "#2a3f5f"
                        },
                        "type": "carpet"
                      }
                    ],
                    "choropleth": [
                      {
                        "colorbar": {
                          "outlinewidth": 0,
                          "ticks": ""
                        },
                        "type": "choropleth"
                      }
                    ],
                    "contour": [
                      {
                        "colorbar": {
                          "outlinewidth": 0,
                          "ticks": ""
                        },
                        "colorscale": [
                          [
                            0,
                            "#0d0887"
                          ],
                          [
                            0.1111111111111111,
                            "#46039f"
                          ],
                          [
                            0.2222222222222222,
                            "#7201a8"
                          ],
                          [
                            0.3333333333333333,
                            "#9c179e"
                          ],
                          [
                            0.4444444444444444,
                            "#bd3786"
                          ],
                          [
                            0.5555555555555556,
                            "#d8576b"
                          ],
                          [
                            0.6666666666666666,
                            "#ed7953"
                          ],
                          [
                            0.7777777777777778,
                            "#fb9f3a"
                          ],
                          [
                            0.8888888888888888,
                            "#fdca26"
                          ],
                          [
                            1,
                            "#f0f921"
                          ]
                        ],
                        "type": "contour"
                      }
                    ],
                    "contourcarpet": [
                      {
                        "colorbar": {
                          "outlinewidth": 0,
                          "ticks": ""
                        },
                        "type": "contourcarpet"
                      }
                    ],
                    "heatmap": [
                      {
                        "colorbar": {
                          "outlinewidth": 0,
                          "ticks": ""
                        },
                        "colorscale": [
                          [
                            0,
                            "#0d0887"
                          ],
                          [
                            0.1111111111111111,
                            "#46039f"
                          ],
                          [
                            0.2222222222222222,
                            "#7201a8"
                          ],
                          [
                            0.3333333333333333,
                            "#9c179e"
                          ],
                          [
                            0.4444444444444444,
                            "#bd3786"
                          ],
                          [
                            0.5555555555555556,
                            "#d8576b"
                          ],
                          [
                            0.6666666666666666,
                            "#ed7953"
                          ],
                          [
                            0.7777777777777778,
                            "#fb9f3a"
                          ],
                          [
                            0.8888888888888888,
                            "#fdca26"
                          ],
                          [
                            1,
                            "#f0f921"
                          ]
                        ],
                        "type": "heatmap"
                      }
                    ],
                    "heatmapgl": [
                      {
                        "colorbar": {
                          "outlinewidth": 0,
                          "ticks": ""
                        },
                        "colorscale": [
                          [
                            0,
                            "#0d0887"
                          ],
                          [
                            0.1111111111111111,
                            "#46039f"
                          ],
                          [
                            0.2222222222222222,
                            "#7201a8"
                          ],
                          [
                            0.3333333333333333,
                            "#9c179e"
                          ],
                          [
                            0.4444444444444444,
                            "#bd3786"
                          ],
                          [
                            0.5555555555555556,
                            "#d8576b"
                          ],
                          [
                            0.6666666666666666,
                            "#ed7953"
                          ],
                          [
                            0.7777777777777778,
                            "#fb9f3a"
                          ],
                          [
                            0.8888888888888888,
                            "#fdca26"
                          ],
                          [
                            1,
                            "#f0f921"
                          ]
                        ],
                        "type": "heatmapgl"
                      }
                    ],
                    "histogram": [
                      {
                        "marker": {
                          "pattern": {
                            "fillmode": "overlay",
                            "size": 10,
                            "solidity": 0.2
                          }
                        },
                        "type": "histogram"
                      }
                    ],
                    "histogram2d": [
                      {
                        "colorbar": {
                          "outlinewidth": 0,
                          "ticks": ""
                        },
                        "colorscale": [
                          [
                            0,
                            "#0d0887"
                          ],
                          [
                            0.1111111111111111,
                            "#46039f"
                          ],
                          [
                            0.2222222222222222,
                            "#7201a8"
                          ],
                          [
                            0.3333333333333333,
                            "#9c179e"
                          ],
                          [
                            0.4444444444444444,
                            "#bd3786"
                          ],
                          [
                            0.5555555555555556,
                            "#d8576b"
                          ],
                          [
                            0.6666666666666666,
                            "#ed7953"
                          ],
                          [
                            0.7777777777777778,
                            "#fb9f3a"
                          ],
                          [
                            0.8888888888888888,
                            "#fdca26"
                          ],
                          [
                            1,
                            "#f0f921"
                          ]
                        ],
                        "type": "histogram2d"
                      }
                    ],
                    "histogram2dcontour": [
                      {
                        "colorbar": {
                          "outlinewidth": 0,
                          "ticks": ""
                        },
                        "colorscale": [
                          [
                            0,
                            "#0d0887"
                          ],
                          [
                            0.1111111111111111,
                            "#46039f"
                          ],
                          [
                            0.2222222222222222,
                            "#7201a8"
                          ],
                          [
                            0.3333333333333333,
                            "#9c179e"
                          ],
                          [
                            0.4444444444444444,
                            "#bd3786"
                          ],
                          [
                            0.5555555555555556,
                            "#d8576b"
                          ],
                          [
                            0.6666666666666666,
                            "#ed7953"
                          ],
                          [
                            0.7777777777777778,
                            "#fb9f3a"
                          ],
                          [
                            0.8888888888888888,
                            "#fdca26"
                          ],
                          [
                            1,
                            "#f0f921"
                          ]
                        ],
                        "type": "histogram2dcontour"
                      }
                    ],
                    "mesh3d": [
                      {
                        "colorbar": {
                          "outlinewidth": 0,
                          "ticks": ""
                        },
                        "type": "mesh3d"
                      }
                    ],
                    "parcoords": [
                      {
                        "line": {
                          "colorbar": {
                            "outlinewidth": 0,
                            "ticks": ""
                          }
                        },
                        "type": "parcoords"
                      }
                    ],
                    "pie": [
                      {
                        "automargin": true,
                        "type": "pie"
                      }
                    ],
                    "scatter": [
                      {
                        "fillpattern": {
                          "fillmode": "overlay",
                          "size": 10,
                          "solidity": 0.2
                        },
                        "type": "scatter"
                      }
                    ],
                    "scatter3d": [
                      {
                        "line": {
                          "colorbar": {
                            "outlinewidth": 0,
                            "ticks": ""
                          }
                        },
                        "marker": {
                          "colorbar": {
                            "outlinewidth": 0,
                            "ticks": ""
                          }
                        },
                        "type": "scatter3d"
                      }
                    ],
                    "scattercarpet": [
                      {
                        "marker": {
                          "colorbar": {
                            "outlinewidth": 0,
                            "ticks": ""
                          }
                        },
                        "type": "scattercarpet"
                      }
                    ],
                    "scattergeo": [
                      {
                        "marker": {
                          "colorbar": {
                            "outlinewidth": 0,
                            "ticks": ""
                          }
                        },
                        "type": "scattergeo"
                      }
                    ],
                    "scattergl": [
                      {
                        "marker": {
                          "colorbar": {
                            "outlinewidth": 0,
                            "ticks": ""
                          }
                        },
                        "type": "scattergl"
                      }
                    ],
                    "scattermapbox": [
                      {
                        "marker": {
                          "colorbar": {
                            "outlinewidth": 0,
                            "ticks": ""
                          }
                        },
                        "type": "scattermapbox"
                      }
                    ],
                    "scatterpolar": [
                      {
                        "marker": {
                          "colorbar": {
                            "outlinewidth": 0,
                            "ticks": ""
                          }
                        },
                        "type": "scatterpolar"
                      }
                    ],
                    "scatterpolargl": [
                      {
                        "marker": {
                          "colorbar": {
                            "outlinewidth": 0,
                            "ticks": ""
                          }
                        },
                        "type": "scatterpolargl"
                      }
                    ],
                    "scatterternary": [
                      {
                        "marker": {
                          "colorbar": {
                            "outlinewidth": 0,
                            "ticks": ""
                          }
                        },
                        "type": "scatterternary"
                      }
                    ],
                    "surface": [
                      {
                        "colorbar": {
                          "outlinewidth": 0,
                          "ticks": ""
                        },
                        "colorscale": [
                          [
                            0,
                            "#0d0887"
                          ],
                          [
                            0.1111111111111111,
                            "#46039f"
                          ],
                          [
                            0.2222222222222222,
                            "#7201a8"
                          ],
                          [
                            0.3333333333333333,
                            "#9c179e"
                          ],
                          [
                            0.4444444444444444,
                            "#bd3786"
                          ],
                          [
                            0.5555555555555556,
                            "#d8576b"
                          ],
                          [
                            0.6666666666666666,
                            "#ed7953"
                          ],
                          [
                            0.7777777777777778,
                            "#fb9f3a"
                          ],
                          [
                            0.8888888888888888,
                            "#fdca26"
                          ],
                          [
                            1,
                            "#f0f921"
                          ]
                        ],
                        "type": "surface"
                      }
                    ],
                    "table": [
                      {
                        "cells": {
                          "fill": {
                            "color": "#EBF0F8"
                          },
                          "line": {
                            "color": "white"
                          }
                        },
                        "header": {
                          "fill": {
                            "color": "#C8D4E3"
                          },
                          "line": {
                            "color": "white"
                          }
                        },
                        "type": "table"
                      }
                    ]
                  },
                  "layout": {
                    "annotationdefaults": {
                      "arrowcolor": "#2a3f5f",
                      "arrowhead": 0,
                      "arrowwidth": 1
                    },
                    "autotypenumbers": "strict",
                    "coloraxis": {
                      "colorbar": {
                        "outlinewidth": 0,
                        "ticks": ""
                      }
                    },
                    "colorscale": {
                      "diverging": [
                        [
                          0,
                          "#8e0152"
                        ],
                        [
                          0.1,
                          "#c51b7d"
                        ],
                        [
                          0.2,
                          "#de77ae"
                        ],
                        [
                          0.3,
                          "#f1b6da"
                        ],
                        [
                          0.4,
                          "#fde0ef"
                        ],
                        [
                          0.5,
                          "#f7f7f7"
                        ],
                        [
                          0.6,
                          "#e6f5d0"
                        ],
                        [
                          0.7,
                          "#b8e186"
                        ],
                        [
                          0.8,
                          "#7fbc41"
                        ],
                        [
                          0.9,
                          "#4d9221"
                        ],
                        [
                          1,
                          "#276419"
                        ]
                      ],
                      "sequential": [
                        [
                          0,
                          "#0d0887"
                        ],
                        [
                          0.1111111111111111,
                          "#46039f"
                        ],
                        [
                          0.2222222222222222,
                          "#7201a8"
                        ],
                        [
                          0.3333333333333333,
                          "#9c179e"
                        ],
                        [
                          0.4444444444444444,
                          "#bd3786"
                        ],
                        [
                          0.5555555555555556,
                          "#d8576b"
                        ],
                        [
                          0.6666666666666666,
                          "#ed7953"
                        ],
                        [
                          0.7777777777777778,
                          "#fb9f3a"
                        ],
                        [
                          0.8888888888888888,
                          "#fdca26"
                        ],
                        [
                          1,
                          "#f0f921"
                        ]
                      ],
                      "sequentialminus": [
                        [
                          0,
                          "#0d0887"
                        ],
                        [
                          0.1111111111111111,
                          "#46039f"
                        ],
                        [
                          0.2222222222222222,
                          "#7201a8"
                        ],
                        [
                          0.3333333333333333,
                          "#9c179e"
                        ],
                        [
                          0.4444444444444444,
                          "#bd3786"
                        ],
                        [
                          0.5555555555555556,
                          "#d8576b"
                        ],
                        [
                          0.6666666666666666,
                          "#ed7953"
                        ],
                        [
                          0.7777777777777778,
                          "#fb9f3a"
                        ],
                        [
                          0.8888888888888888,
                          "#fdca26"
                        ],
                        [
                          1,
                          "#f0f921"
                        ]
                      ]
                    },
                    "colorway": [
                      "#636efa",
                      "#EF553B",
                      "#00cc96",
                      "#ab63fa",
                      "#FFA15A",
                      "#19d3f3",
                      "#FF6692",
                      "#B6E880",
                      "#FF97FF",
                      "#FECB52"
                    ],
                    "font": {
                      "color": "#2a3f5f"
                    },
                    "geo": {
                      "bgcolor": "white",
                      "lakecolor": "white",
                      "landcolor": "#E5ECF6",
                      "showlakes": true,
                      "showland": true,
                      "subunitcolor": "white"
                    },
                    "hoverlabel": {
                      "align": "left"
                    },
                    "hovermode": "closest",
                    "mapbox": {
                      "style": "light"
                    },
                    "paper_bgcolor": "white",
                    "plot_bgcolor": "#E5ECF6",
                    "polar": {
                      "angularaxis": {
                        "gridcolor": "white",
                        "linecolor": "white",
                        "ticks": ""
                      },
                      "bgcolor": "#E5ECF6",
                      "radialaxis": {
                        "gridcolor": "white",
                        "linecolor": "white",
                        "ticks": ""
                      }
                    },
                    "scene": {
                      "xaxis": {
                        "backgroundcolor": "#E5ECF6",
                        "gridcolor": "white",
                        "gridwidth": 2,
                        "linecolor": "white",
                        "showbackground": true,
                        "ticks": "",
                        "zerolinecolor": "white"
                      },
                      "yaxis": {
                        "backgroundcolor": "#E5ECF6",
                        "gridcolor": "white",
                        "gridwidth": 2,
                        "linecolor": "white",
                        "showbackground": true,
                        "ticks": "",
                        "zerolinecolor": "white"
                      },
                      "zaxis": {
                        "backgroundcolor": "#E5ECF6",
                        "gridcolor": "white",
                        "gridwidth": 2,
                        "linecolor": "white",
                        "showbackground": true,
                        "ticks": "",
                        "zerolinecolor": "white"
                      }
                    },
                    "shapedefaults": {
                      "line": {
                        "color": "#2a3f5f"
                      }
                    },
                    "ternary": {
                      "aaxis": {
                        "gridcolor": "white",
                        "linecolor": "white",
                        "ticks": ""
                      },
                      "baxis": {
                        "gridcolor": "white",
                        "linecolor": "white",
                        "ticks": ""
                      },
                      "bgcolor": "#E5ECF6",
                      "caxis": {
                        "gridcolor": "white",
                        "linecolor": "white",
                        "ticks": ""
                      }
                    },
                    "title": {
                      "x": 0.05
                    },
                    "xaxis": {
                      "automargin": true,
                      "gridcolor": "white",
                      "linecolor": "white",
                      "ticks": "",
                      "title": {
                        "standoff": 15
                      },
                      "zerolinecolor": "white",
                      "zerolinewidth": 2
                    },
                    "yaxis": {
                      "automargin": true,
                      "gridcolor": "white",
                      "linecolor": "white",
                      "ticks": "",
                      "title": {
                        "standoff": 15
                      },
                      "zerolinecolor": "white",
                      "zerolinewidth": 2
                    }
                  }
                },
                "title": {
                  "text": "Sex vs Charges"
                },
                "width": 1000,
                "xaxis": {
                  "anchor": "y",
                  "domain": [
                    0,
                    1
                  ],
                  "title": {
                    "text": "sex"
                  }
                },
                "yaxis": {
                  "anchor": "x",
                  "domain": [
                    0,
                    1
                  ],
                  "title": {
                    "text": "sum of charges"
                  }
                }
              }
            }
          },
          "metadata": {},
          "output_type": "display_data"
        }
      ],
      "source": [
        "sex_categorical_counts = df1.groupby([\"sex\", \"smoker\"])[\"charges\"].mean().reset_index()\n",
        "fig = px.histogram(data_frame=sex_categorical_counts, x=\"sex\", y=\"charges\", \n",
        "                   color=\"smoker\", title=\"Sex vs Charges\", barmode=\"group\", \n",
        "                   width=1000, height=600)\n",
        "\n",
        "fig.show()"
      ]
    },
    {
      "cell_type": "markdown",
      "metadata": {},
      "source": [
        "**Sex vs Charges**\n",
        "\n",
        "This chart compares the differences in insurance charges between females and males. Gender does not impact the charges as much as smoking does. \n",
        "\n",
        "Interestingly, female non-smokers tend to pay a slightly higher average of charges compared to males. However, male smokers tend to pay significantly higher charges than females."
      ]
    },
    {
      "cell_type": "code",
      "execution_count": 182,
      "metadata": {},
      "outputs": [
        {
          "data": {
            "application/vnd.plotly.v1+json": {
              "config": {
                "plotlyServerURL": "https://plot.ly"
              },
              "data": [
                {
                  "alignmentgroup": "True",
                  "hovertemplate": "sex=%{x}<br>charges=%{y}<extra></extra>",
                  "legendgroup": "female",
                  "marker": {
                    "color": "#636efa"
                  },
                  "name": "female",
                  "notched": false,
                  "offsetgroup": "female",
                  "orientation": "v",
                  "showlegend": true,
                  "type": "box",
                  "x": [
                    "female",
                    "female",
                    "female",
                    "female",
                    "female",
                    "female",
                    "female",
                    "female",
                    "female",
                    "female",
                    "female",
                    "female",
                    "female",
                    "female",
                    "female",
                    "female",
                    "female",
                    "female",
                    "female",
                    "female",
                    "female",
                    "female",
                    "female",
                    "female",
                    "female",
                    "female",
                    "female",
                    "female",
                    "female",
                    "female",
                    "female",
                    "female",
                    "female",
                    "female",
                    "female",
                    "female",
                    "female",
                    "female",
                    "female",
                    "female",
                    "female",
                    "female",
                    "female",
                    "female",
                    "female",
                    "female",
                    "female",
                    "female",
                    "female",
                    "female",
                    "female",
                    "female",
                    "female",
                    "female",
                    "female",
                    "female",
                    "female",
                    "female",
                    "female",
                    "female",
                    "female",
                    "female",
                    "female",
                    "female",
                    "female",
                    "female",
                    "female",
                    "female",
                    "female",
                    "female",
                    "female",
                    "female",
                    "female",
                    "female",
                    "female",
                    "female",
                    "female",
                    "female",
                    "female",
                    "female",
                    "female",
                    "female",
                    "female",
                    "female",
                    "female",
                    "female",
                    "female",
                    "female",
                    "female",
                    "female",
                    "female",
                    "female",
                    "female",
                    "female",
                    "female",
                    "female",
                    "female",
                    "female",
                    "female",
                    "female",
                    "female",
                    "female",
                    "female",
                    "female",
                    "female",
                    "female",
                    "female",
                    "female",
                    "female",
                    "female",
                    "female",
                    "female",
                    "female",
                    "female",
                    "female",
                    "female",
                    "female",
                    "female",
                    "female",
                    "female",
                    "female",
                    "female",
                    "female",
                    "female",
                    "female",
                    "female",
                    "female",
                    "female",
                    "female",
                    "female",
                    "female",
                    "female",
                    "female",
                    "female",
                    "female",
                    "female",
                    "female",
                    "female",
                    "female",
                    "female",
                    "female",
                    "female",
                    "female",
                    "female",
                    "female",
                    "female",
                    "female",
                    "female",
                    "female",
                    "female",
                    "female",
                    "female",
                    "female",
                    "female",
                    "female",
                    "female",
                    "female",
                    "female",
                    "female",
                    "female",
                    "female",
                    "female",
                    "female",
                    "female",
                    "female",
                    "female",
                    "female",
                    "female",
                    "female",
                    "female",
                    "female",
                    "female",
                    "female",
                    "female",
                    "female",
                    "female",
                    "female",
                    "female",
                    "female",
                    "female",
                    "female",
                    "female",
                    "female",
                    "female",
                    "female",
                    "female",
                    "female",
                    "female",
                    "female",
                    "female",
                    "female",
                    "female",
                    "female",
                    "female",
                    "female",
                    "female",
                    "female",
                    "female",
                    "female",
                    "female",
                    "female",
                    "female",
                    "female",
                    "female",
                    "female",
                    "female",
                    "female",
                    "female",
                    "female",
                    "female",
                    "female",
                    "female",
                    "female",
                    "female",
                    "female",
                    "female",
                    "female",
                    "female",
                    "female",
                    "female",
                    "female",
                    "female",
                    "female",
                    "female",
                    "female",
                    "female",
                    "female",
                    "female",
                    "female",
                    "female",
                    "female",
                    "female",
                    "female",
                    "female",
                    "female",
                    "female",
                    "female",
                    "female",
                    "female",
                    "female",
                    "female",
                    "female",
                    "female",
                    "female",
                    "female",
                    "female",
                    "female",
                    "female",
                    "female",
                    "female",
                    "female",
                    "female",
                    "female",
                    "female",
                    "female",
                    "female",
                    "female",
                    "female",
                    "female",
                    "female",
                    "female",
                    "female",
                    "female",
                    "female",
                    "female",
                    "female",
                    "female",
                    "female",
                    "female",
                    "female",
                    "female",
                    "female",
                    "female",
                    "female",
                    "female",
                    "female",
                    "female",
                    "female",
                    "female",
                    "female",
                    "female",
                    "female",
                    "female",
                    "female",
                    "female",
                    "female",
                    "female",
                    "female",
                    "female",
                    "female",
                    "female",
                    "female",
                    "female",
                    "female",
                    "female",
                    "female",
                    "female",
                    "female",
                    "female",
                    "female",
                    "female",
                    "female",
                    "female",
                    "female",
                    "female",
                    "female",
                    "female",
                    "female",
                    "female",
                    "female",
                    "female",
                    "female",
                    "female",
                    "female",
                    "female",
                    "female",
                    "female",
                    "female",
                    "female",
                    "female",
                    "female",
                    "female",
                    "female",
                    "female",
                    "female",
                    "female",
                    "female",
                    "female",
                    "female",
                    "female",
                    "female",
                    "female",
                    "female",
                    "female",
                    "female",
                    "female",
                    "female",
                    "female",
                    "female",
                    "female",
                    "female",
                    "female",
                    "female",
                    "female",
                    "female",
                    "female",
                    "female",
                    "female",
                    "female",
                    "female",
                    "female",
                    "female",
                    "female",
                    "female",
                    "female",
                    "female",
                    "female",
                    "female",
                    "female",
                    "female",
                    "female",
                    "female",
                    "female",
                    "female",
                    "female",
                    "female",
                    "female",
                    "female",
                    "female",
                    "female",
                    "female",
                    "female",
                    "female",
                    "female",
                    "female",
                    "female",
                    "female",
                    "female",
                    "female",
                    "female",
                    "female",
                    "female",
                    "female",
                    "female",
                    "female",
                    "female",
                    "female",
                    "female",
                    "female",
                    "female",
                    "female",
                    "female",
                    "female",
                    "female",
                    "female",
                    "female",
                    "female",
                    "female",
                    "female",
                    "female",
                    "female",
                    "female",
                    "female",
                    "female",
                    "female",
                    "female",
                    "female",
                    "female",
                    "female",
                    "female",
                    "female",
                    "female",
                    "female",
                    "female",
                    "female",
                    "female",
                    "female",
                    "female",
                    "female",
                    "female",
                    "female",
                    "female",
                    "female",
                    "female",
                    "female",
                    "female",
                    "female",
                    "female",
                    "female",
                    "female",
                    "female",
                    "female",
                    "female",
                    "female",
                    "female",
                    "female",
                    "female",
                    "female",
                    "female",
                    "female",
                    "female",
                    "female",
                    "female",
                    "female",
                    "female",
                    "female",
                    "female",
                    "female",
                    "female",
                    "female",
                    "female",
                    "female",
                    "female",
                    "female",
                    "female",
                    "female",
                    "female",
                    "female",
                    "female",
                    "female",
                    "female",
                    "female",
                    "female",
                    "female",
                    "female",
                    "female",
                    "female",
                    "female",
                    "female",
                    "female",
                    "female",
                    "female",
                    "female",
                    "female",
                    "female",
                    "female",
                    "female",
                    "female",
                    "female",
                    "female",
                    "female",
                    "female",
                    "female",
                    "female",
                    "female",
                    "female",
                    "female",
                    "female",
                    "female",
                    "female",
                    "female",
                    "female",
                    "female",
                    "female",
                    "female",
                    "female",
                    "female",
                    "female",
                    "female",
                    "female",
                    "female",
                    "female",
                    "female",
                    "female",
                    "female",
                    "female",
                    "female",
                    "female",
                    "female",
                    "female",
                    "female",
                    "female",
                    "female",
                    "female",
                    "female",
                    "female",
                    "female",
                    "female",
                    "female",
                    "female",
                    "female",
                    "female",
                    "female",
                    "female",
                    "female",
                    "female",
                    "female",
                    "female",
                    "female",
                    "female",
                    "female",
                    "female",
                    "female",
                    "female",
                    "female",
                    "female",
                    "female",
                    "female",
                    "female",
                    "female",
                    "female",
                    "female",
                    "female",
                    "female",
                    "female",
                    "female",
                    "female",
                    "female",
                    "female",
                    "female",
                    "female",
                    "female",
                    "female",
                    "female",
                    "female",
                    "female",
                    "female",
                    "female",
                    "female",
                    "female",
                    "female",
                    "female",
                    "female",
                    "female",
                    "female",
                    "female",
                    "female",
                    "female",
                    "female",
                    "female",
                    "female",
                    "female",
                    "female",
                    "female",
                    "female",
                    "female",
                    "female",
                    "female",
                    "female",
                    "female",
                    "female",
                    "female",
                    "female",
                    "female",
                    "female",
                    "female",
                    "female",
                    "female",
                    "female",
                    "female",
                    "female",
                    "female",
                    "female",
                    "female",
                    "female",
                    "female",
                    "female",
                    "female",
                    "female",
                    "female",
                    "female",
                    "female",
                    "female",
                    "female",
                    "female",
                    "female",
                    "female",
                    "female",
                    "female",
                    "female",
                    "female",
                    "female",
                    "female",
                    "female",
                    "female",
                    "female",
                    "female",
                    "female",
                    "female",
                    "female",
                    "female",
                    "female",
                    "female",
                    "female",
                    "female",
                    "female",
                    "female",
                    "female",
                    "female",
                    "female",
                    "female",
                    "female",
                    "female",
                    "female",
                    "female",
                    "female",
                    "female",
                    "female",
                    "female",
                    "female",
                    "female",
                    "female",
                    "female",
                    "female",
                    "female",
                    "female",
                    "female",
                    "female",
                    "female",
                    "female",
                    "female",
                    "female",
                    "female",
                    "female",
                    "female",
                    "female",
                    "female",
                    "female",
                    "female",
                    "female",
                    "female",
                    "female"
                  ],
                  "x0": " ",
                  "xaxis": "x",
                  "y": [
                    16884.924,
                    3756.6216,
                    8240.5896,
                    7281.5056,
                    28923.13692,
                    27808.7251,
                    11090.7178,
                    10797.3362,
                    13228.84695,
                    4149.736,
                    37701.8768,
                    14001.1338,
                    14451.83515,
                    12268.63225,
                    2198.18985,
                    4687.797,
                    15612.19335,
                    3046.062,
                    4949.7587,
                    6313.759,
                    3393.35635,
                    3556.9223,
                    12629.8967,
                    2211.13075,
                    3579.8287,
                    8059.6791,
                    13607.36875,
                    23244.7902,
                    5989.52365,
                    4133.64165,
                    14711.7438,
                    1743.214,
                    14235.072,
                    5920.1041,
                    16577.7795,
                    11741.726,
                    3947.4131,
                    2755.02095,
                    6571.02435,
                    7935.29115,
                    11033.6617,
                    39836.519,
                    43578.9394,
                    11073.176,
                    8026.6666,
                    11082.5772,
                    2026.9741,
                    10942.13205,
                    47291.055,
                    3766.8838,
                    12105.32,
                    6186.127,
                    21344.8467,
                    30942.1918,
                    5003.853,
                    2331.519,
                    11881.358,
                    2404.7338,
                    19107.7796,
                    8601.3293,
                    6686.4313,
                    2257.47525,
                    10115.00885,
                    3385.39915,
                    17081.08,
                    9634.538,
                    32734.1863,
                    12815.44495,
                    13616.3586,
                    11163.568,
                    2457.21115,
                    2155.6815,
                    27322.73386,
                    2166.732,
                    5138.2567,
                    9877.6077,
                    10959.6947,
                    6334.34355,
                    19964.7463,
                    7077.1894,
                    19749.38338,
                    21348.706,
                    36149.4835,
                    5152.134,
                    4830.63,
                    6128.79745,
                    2719.27975,
                    5246.047,
                    2855.43755,
                    48824.45,
                    8823.279,
                    8538.28845,
                    1631.8212,
                    7419.4779,
                    3981.9768,
                    5325.651,
                    6775.961,
                    4922.9159,
                    4883.866,
                    12044.342,
                    5649.715,
                    8516.829,
                    9644.2525,
                    14901.5167,
                    2130.6759,
                    8871.1517,
                    13012.20865,
                    37133.8982,
                    4337.7352,
                    13880.949,
                    5002.7827,
                    8520.026,
                    7371.772,
                    10355.641,
                    3392.9768,
                    25081.76784,
                    5012.471,
                    10564.8845,
                    24227.33724,
                    7358.17565,
                    7443.64305,
                    14001.2867,
                    1727.785,
                    19444.2658,
                    1615.7667,
                    38511.6283,
                    5354.07465,
                    35160.13457,
                    29523.1656,
                    12648.7034,
                    47305.305,
                    13047.33235,
                    5400.9805,
                    11837.16,
                    17085.2676,
                    20462.99766,
                    14590.63205,
                    9715.841,
                    2150.469,
                    9855.1314,
                    22331.5668,
                    11879.10405,
                    9625.92,
                    9432.9253,
                    14256.1928,
                    47896.79135,
                    3172.018,
                    2156.7518,
                    9249.4952,
                    24873.3849,
                    12265.5069,
                    4349.462,
                    12646.207,
                    20177.67113,
                    4151.0287,
                    7749.1564,
                    1737.376,
                    34838.873,
                    7421.19455,
                    24671.66334,
                    3561.8889,
                    47928.03,
                    48517.56315,
                    13429.0354,
                    11658.37915,
                    19144.57652,
                    8232.6388,
                    18955.22017,
                    13217.0945,
                    10977.2063,
                    6184.2994,
                    5478.0368,
                    11830.6072,
                    8932.084,
                    3554.203,
                    14133.03775,
                    1607.5101,
                    10043.249,
                    13844.506,
                    2597.779,
                    3180.5101,
                    9778.3472,
                    13430.265,
                    8017.06115,
                    13415.0381,
                    12029.2867,
                    7639.41745,
                    18033.9679,
                    21659.9301,
                    16455.70785,
                    15006.57945,
                    5846.9176,
                    11856.4115,
                    3176.8159,
                    4618.0799,
                    2138.0707,
                    9411.005,
                    8522.003,
                    1631.6683,
                    9264.797,
                    14692.66935,
                    11396.9002,
                    4185.0979,
                    8539.671,
                    19594.80965,
                    14455.64405,
                    2134.9015,
                    7345.7266,
                    18608.262,
                    28950.4692,
                    6555.07035,
                    7323.734819,
                    3167.45585,
                    18804.7524,
                    4906.40965,
                    12638.195,
                    12592.5345,
                    4738.2682,
                    37079.372,
                    28287.89766,
                    7345.084,
                    11454.0215,
                    5910.944,
                    11881.9696,
                    11840.77505,
                    7682.67,
                    10381.4787,
                    15230.32405,
                    19521.9682,
                    13224.693,
                    12643.3778,
                    23288.9284,
                    2201.0971,
                    2203.47185,
                    1744.465,
                    20878.78443,
                    1622.1885,
                    9880.068,
                    4347.02335,
                    12475.3513,
                    48885.13561,
                    1748.774,
                    24513.09126,
                    2196.4732,
                    4931.647,
                    8211.1002,
                    13470.86,
                    5974.3847,
                    3044.2133,
                    11455.28,
                    5240.765,
                    25656.57526,
                    3994.1778,
                    9866.30485,
                    5397.6167,
                    11482.63485,
                    24059.68019,
                    9861.025,
                    14043.4767,
                    5972.378,
                    8825.086,
                    8233.0975,
                    6196.448,
                    3056.3881,
                    13887.204,
                    63770.42801,
                    11538.421,
                    3213.62205,
                    45863.205,
                    3972.9247,
                    11187.6567,
                    17878.90068,
                    39983.42595,
                    9193.8385,
                    10923.9332,
                    2801.2588,
                    2128.43105,
                    6373.55735,
                    11552.904,
                    3761.292,
                    2219.4451,
                    4753.6368,
                    31620.00106,
                    13224.05705,
                    12222.8983,
                    58571.07448,
                    3206.49135,
                    17626.23951,
                    4779.6023,
                    43943.8761,
                    13635.6379,
                    5976.8311,
                    11842.442,
                    15359.1045,
                    8823.98575,
                    7640.3092,
                    5594.8455,
                    33471.97189,
                    1633.0444,
                    11070.535,
                    16085.1275,
                    17468.9839,
                    9283.562,
                    3558.62025,
                    25678.77845,
                    8547.6913,
                    6571.544,
                    2207.69745,
                    6753.038,
                    1880.07,
                    42969.8527,
                    11658.11505,
                    34439.8559,
                    10713.644,
                    9182.17,
                    3736.4647,
                    42983.4585,
                    3366.6697,
                    2709.1119,
                    24915.04626,
                    4466.6214,
                    8252.2843,
                    12430.95335,
                    9800.8882,
                    10579.711,
                    8280.6227,
                    8527.532,
                    12244.531,
                    24667.419,
                    3410.324,
                    26392.26029,
                    14394.39815,
                    22192.43711,
                    5148.5526,
                    27037.9141,
                    40003.33225,
                    6500.2359,
                    3943.5954,
                    6185.3208,
                    46200.9851,
                    12485.8009,
                    10156.7832,
                    2585.269,
                    4766.022,
                    26236.57997,
                    3577.999,
                    3201.24515,
                    29186.48236,
                    3500.6123,
                    2020.5523,
                    9541.69555,
                    5385.3379,
                    8930.93455,
                    5375.038,
                    44400.4064,
                    6113.23105,
                    5469.0066,
                    10107.2206,
                    8310.83915,
                    2457.502,
                    9566.9909,
                    10848.1343,
                    12231.6136,
                    9875.6804,
                    10106.13425,
                    40932.4295,
                    16657.71745,
                    2217.6012,
                    6781.3542,
                    4234.927,
                    9447.25035,
                    14007.222,
                    9583.8933,
                    40419.0191,
                    3757.8448,
                    9910.35985,
                    8556.907,
                    19539.243,
                    11833.7823,
                    7985.815,
                    23065.4207,
                    3925.7582,
                    9095.06825,
                    11842.62375,
                    7050.642,
                    14319.031,
                    6933.24225,
                    11150.78,
                    12797.20962,
                    17748.5062,
                    24520.264,
                    4350.5144,
                    6414.178,
                    13457.9608,
                    5662.225,
                    2731.9122,
                    7209.4918,
                    4719.52405,
                    11848.141,
                    7046.7222,
                    14313.8463,
                    38792.6856,
                    7731.85785,
                    28476.73499,
                    2136.88225,
                    9414.92,
                    6360.9936,
                    1877.9294,
                    2842.76075,
                    23401.30575,
                    55135.40209,
                    1621.8827,
                    8219.2039,
                    16069.08475,
                    5266.3656,
                    4719.73655,
                    11657.7189,
                    6402.29135,
                    12622.1795,
                    36021.0112,
                    27533.9129,
                    45008.9555,
                    9872.701,
                    2974.126,
                    37270.1512,
                    42111.6647,
                    11729.6795,
                    24106.91255,
                    1875.344,
                    40974.1649,
                    18218.16139,
                    46113.511,
                    7151.092,
                    12269.68865,
                    5458.04645,
                    4391.652,
                    3392.3652,
                    2690.1138,
                    26140.3603,
                    6311.952,
                    2585.85065,
                    46255.1125,
                    5272.1758,
                    29330.98315,
                    7243.8136,
                    13063.883,
                    19798.05455,
                    1634.5734,
                    2117.33885,
                    12644.589,
                    4564.19145,
                    7633.7206,
                    17496.306,
                    14382.70905,
                    7626.993,
                    2473.3341,
                    21774.32215,
                    13041.921,
                    5245.2269,
                    13451.122,
                    13462.52,
                    2913.569,
                    12032.326,
                    13470.8044,
                    6238.298,
                    7348.142,
                    12233.828,
                    8965.79575,
                    9549.5651,
                    2217.46915,
                    11674.13,
                    4527.18295,
                    2730.10785,
                    3353.284,
                    14474.675,
                    8596.8278,
                    10702.6424,
                    4992.3764,
                    2527.81865,
                    1759.338,
                    9704.66805,
                    4889.0368,
                    16796.41194,
                    7624.63,
                    28340.18885,
                    14571.8908,
                    3378.91,
                    7144.86265,
                    10118.424,
                    16420.49455,
                    7986.47525,
                    7418.522,
                    13887.9685,
                    6551.7501,
                    5267.81815,
                    8269.044,
                    36580.28216,
                    5383.536,
                    2709.24395,
                    3987.926,
                    12495.29085,
                    26018.95052,
                    35595.5898,
                    8569.8618,
                    2020.177,
                    6877.9801,
                    21677.28345,
                    44423.803,
                    4137.5227,
                    12094.478,
                    39725.51805,
                    20234.85475,
                    3161.454,
                    21880.82,
                    7325.0482,
                    3594.17085,
                    8023.13545,
                    3353.4703,
                    8277.523,
                    17929.30337,
                    2480.9791,
                    5708.867,
                    7045.499,
                    10928.849,
                    12096.6512,
                    13204.28565,
                    4562.8421,
                    8551.347,
                    15019.76005,
                    19023.26,
                    11286.5387,
                    33907.548,
                    11299.343,
                    4561.1885,
                    44641.1974,
                    23045.56616,
                    3227.1211,
                    16776.30405,
                    10338.9316,
                    8988.15875,
                    10493.9458,
                    11512.405,
                    24180.9335,
                    5312.16985,
                    5693.4305,
                    34166.273,
                    46661.4424,
                    18903.49141,
                    40904.1995,
                    14254.6082,
                    5836.5204,
                    1728.897,
                    8582.3023,
                    9991.03765,
                    11085.5868,
                    7623.518,
                    3176.2877,
                    36898.73308,
                    7954.517,
                    27117.99378,
                    2261.5688,
                    2203.73595,
                    12235.8392,
                    40941.2854,
                    5630.45785,
                    11015.1747,
                    7228.21565,
                    14426.07385,
                    2459.7201,
                    3989.841,
                    7727.2532,
                    2200.83085,
                    7153.5539,
                    5227.98875,
                    4529.477,
                    6112.35295,
                    22478.6,
                    11093.6229,
                    2154.361,
                    23887.6627,
                    6496.886,
                    2899.48935,
                    7650.77375,
                    2850.68375,
                    2632.992,
                    9447.3824,
                    18328.2381,
                    13844.7972,
                    21771.3423,
                    13126.67745,
                    5327.40025,
                    13725.47184,
                    13019.16105,
                    8671.19125,
                    4134.08245,
                    18838.70366,
                    33307.5508,
                    4934.705,
                    18223.4512,
                    36910.60803,
                    20296.86345,
                    10806.839,
                    3956.07145,
                    41661.602,
                    7537.1639,
                    4718.20355,
                    26125.67477,
                    4795.6568,
                    20167.33603,
                    12479.70895,
                    8515.7587,
                    14449.8544,
                    12224.35085,
                    3238.4357,
                    4296.2712,
                    3171.6149,
                    9101.798,
                    1633.9618,
                    15828.82173,
                    4415.1588,
                    6474.013,
                    11436.73815,
                    11305.93455,
                    10197.7722,
                    4544.2348,
                    6770.1925,
                    7337.748,
                    10370.91255,
                    10704.47,
                    1880.487,
                    3021.80915,
                    2741.948,
                    4357.04365,
                    4189.1131,
                    8283.6807,
                    24535.69855,
                    14283.4594,
                    8534.6718,
                    3732.6251,
                    5472.449,
                    7133.9025,
                    4340.4409,
                    2710.82855,
                    3208.787,
                    2464.6188,
                    16115.3045,
                    33900.653,
                    4571.41305,
                    36397.576,
                    18765.87545,
                    1731.677,
                    7201.70085,
                    43896.3763,
                    7050.0213,
                    22395.74424,
                    12629.1656,
                    10795.93733,
                    11411.685,
                    2205.9808,
                    1629.8335,
                    2007.945,
                    29141.3603
                  ],
                  "y0": " ",
                  "yaxis": "y"
                },
                {
                  "alignmentgroup": "True",
                  "hovertemplate": "sex=%{x}<br>charges=%{y}<extra></extra>",
                  "legendgroup": "male",
                  "marker": {
                    "color": "#EF553B"
                  },
                  "name": "male",
                  "notched": false,
                  "offsetgroup": "male",
                  "orientation": "v",
                  "showlegend": true,
                  "type": "box",
                  "x": [
                    "male",
                    "male",
                    "male",
                    "male",
                    "male",
                    "male",
                    "male",
                    "male",
                    "male",
                    "male",
                    "male",
                    "male",
                    "male",
                    "male",
                    "male",
                    "male",
                    "male",
                    "male",
                    "male",
                    "male",
                    "male",
                    "male",
                    "male",
                    "male",
                    "male",
                    "male",
                    "male",
                    "male",
                    "male",
                    "male",
                    "male",
                    "male",
                    "male",
                    "male",
                    "male",
                    "male",
                    "male",
                    "male",
                    "male",
                    "male",
                    "male",
                    "male",
                    "male",
                    "male",
                    "male",
                    "male",
                    "male",
                    "male",
                    "male",
                    "male",
                    "male",
                    "male",
                    "male",
                    "male",
                    "male",
                    "male",
                    "male",
                    "male",
                    "male",
                    "male",
                    "male",
                    "male",
                    "male",
                    "male",
                    "male",
                    "male",
                    "male",
                    "male",
                    "male",
                    "male",
                    "male",
                    "male",
                    "male",
                    "male",
                    "male",
                    "male",
                    "male",
                    "male",
                    "male",
                    "male",
                    "male",
                    "male",
                    "male",
                    "male",
                    "male",
                    "male",
                    "male",
                    "male",
                    "male",
                    "male",
                    "male",
                    "male",
                    "male",
                    "male",
                    "male",
                    "male",
                    "male",
                    "male",
                    "male",
                    "male",
                    "male",
                    "male",
                    "male",
                    "male",
                    "male",
                    "male",
                    "male",
                    "male",
                    "male",
                    "male",
                    "male",
                    "male",
                    "male",
                    "male",
                    "male",
                    "male",
                    "male",
                    "male",
                    "male",
                    "male",
                    "male",
                    "male",
                    "male",
                    "male",
                    "male",
                    "male",
                    "male",
                    "male",
                    "male",
                    "male",
                    "male",
                    "male",
                    "male",
                    "male",
                    "male",
                    "male",
                    "male",
                    "male",
                    "male",
                    "male",
                    "male",
                    "male",
                    "male",
                    "male",
                    "male",
                    "male",
                    "male",
                    "male",
                    "male",
                    "male",
                    "male",
                    "male",
                    "male",
                    "male",
                    "male",
                    "male",
                    "male",
                    "male",
                    "male",
                    "male",
                    "male",
                    "male",
                    "male",
                    "male",
                    "male",
                    "male",
                    "male",
                    "male",
                    "male",
                    "male",
                    "male",
                    "male",
                    "male",
                    "male",
                    "male",
                    "male",
                    "male",
                    "male",
                    "male",
                    "male",
                    "male",
                    "male",
                    "male",
                    "male",
                    "male",
                    "male",
                    "male",
                    "male",
                    "male",
                    "male",
                    "male",
                    "male",
                    "male",
                    "male",
                    "male",
                    "male",
                    "male",
                    "male",
                    "male",
                    "male",
                    "male",
                    "male",
                    "male",
                    "male",
                    "male",
                    "male",
                    "male",
                    "male",
                    "male",
                    "male",
                    "male",
                    "male",
                    "male",
                    "male",
                    "male",
                    "male",
                    "male",
                    "male",
                    "male",
                    "male",
                    "male",
                    "male",
                    "male",
                    "male",
                    "male",
                    "male",
                    "male",
                    "male",
                    "male",
                    "male",
                    "male",
                    "male",
                    "male",
                    "male",
                    "male",
                    "male",
                    "male",
                    "male",
                    "male",
                    "male",
                    "male",
                    "male",
                    "male",
                    "male",
                    "male",
                    "male",
                    "male",
                    "male",
                    "male",
                    "male",
                    "male",
                    "male",
                    "male",
                    "male",
                    "male",
                    "male",
                    "male",
                    "male",
                    "male",
                    "male",
                    "male",
                    "male",
                    "male",
                    "male",
                    "male",
                    "male",
                    "male",
                    "male",
                    "male",
                    "male",
                    "male",
                    "male",
                    "male",
                    "male",
                    "male",
                    "male",
                    "male",
                    "male",
                    "male",
                    "male",
                    "male",
                    "male",
                    "male",
                    "male",
                    "male",
                    "male",
                    "male",
                    "male",
                    "male",
                    "male",
                    "male",
                    "male",
                    "male",
                    "male",
                    "male",
                    "male",
                    "male",
                    "male",
                    "male",
                    "male",
                    "male",
                    "male",
                    "male",
                    "male",
                    "male",
                    "male",
                    "male",
                    "male",
                    "male",
                    "male",
                    "male",
                    "male",
                    "male",
                    "male",
                    "male",
                    "male",
                    "male",
                    "male",
                    "male",
                    "male",
                    "male",
                    "male",
                    "male",
                    "male",
                    "male",
                    "male",
                    "male",
                    "male",
                    "male",
                    "male",
                    "male",
                    "male",
                    "male",
                    "male",
                    "male",
                    "male",
                    "male",
                    "male",
                    "male",
                    "male",
                    "male",
                    "male",
                    "male",
                    "male",
                    "male",
                    "male",
                    "male",
                    "male",
                    "male",
                    "male",
                    "male",
                    "male",
                    "male",
                    "male",
                    "male",
                    "male",
                    "male",
                    "male",
                    "male",
                    "male",
                    "male",
                    "male",
                    "male",
                    "male",
                    "male",
                    "male",
                    "male",
                    "male",
                    "male",
                    "male",
                    "male",
                    "male",
                    "male",
                    "male",
                    "male",
                    "male",
                    "male",
                    "male",
                    "male",
                    "male",
                    "male",
                    "male",
                    "male",
                    "male",
                    "male",
                    "male",
                    "male",
                    "male",
                    "male",
                    "male",
                    "male",
                    "male",
                    "male",
                    "male",
                    "male",
                    "male",
                    "male",
                    "male",
                    "male",
                    "male",
                    "male",
                    "male",
                    "male",
                    "male",
                    "male",
                    "male",
                    "male",
                    "male",
                    "male",
                    "male",
                    "male",
                    "male",
                    "male",
                    "male",
                    "male",
                    "male",
                    "male",
                    "male",
                    "male",
                    "male",
                    "male",
                    "male",
                    "male",
                    "male",
                    "male",
                    "male",
                    "male",
                    "male",
                    "male",
                    "male",
                    "male",
                    "male",
                    "male",
                    "male",
                    "male",
                    "male",
                    "male",
                    "male",
                    "male",
                    "male",
                    "male",
                    "male",
                    "male",
                    "male",
                    "male",
                    "male",
                    "male",
                    "male",
                    "male",
                    "male",
                    "male",
                    "male",
                    "male",
                    "male",
                    "male",
                    "male",
                    "male",
                    "male",
                    "male",
                    "male",
                    "male",
                    "male",
                    "male",
                    "male",
                    "male",
                    "male",
                    "male",
                    "male",
                    "male",
                    "male",
                    "male",
                    "male",
                    "male",
                    "male",
                    "male",
                    "male",
                    "male",
                    "male",
                    "male",
                    "male",
                    "male",
                    "male",
                    "male",
                    "male",
                    "male",
                    "male",
                    "male",
                    "male",
                    "male",
                    "male",
                    "male",
                    "male",
                    "male",
                    "male",
                    "male",
                    "male",
                    "male",
                    "male",
                    "male",
                    "male",
                    "male",
                    "male",
                    "male",
                    "male",
                    "male",
                    "male",
                    "male",
                    "male",
                    "male",
                    "male",
                    "male",
                    "male",
                    "male",
                    "male",
                    "male",
                    "male",
                    "male",
                    "male",
                    "male",
                    "male",
                    "male",
                    "male",
                    "male",
                    "male",
                    "male",
                    "male",
                    "male",
                    "male",
                    "male",
                    "male",
                    "male",
                    "male",
                    "male",
                    "male",
                    "male",
                    "male",
                    "male",
                    "male",
                    "male",
                    "male",
                    "male",
                    "male",
                    "male",
                    "male",
                    "male",
                    "male",
                    "male",
                    "male",
                    "male",
                    "male",
                    "male",
                    "male",
                    "male",
                    "male",
                    "male",
                    "male",
                    "male",
                    "male",
                    "male",
                    "male",
                    "male",
                    "male",
                    "male",
                    "male",
                    "male",
                    "male",
                    "male",
                    "male",
                    "male",
                    "male",
                    "male",
                    "male",
                    "male",
                    "male",
                    "male",
                    "male",
                    "male",
                    "male",
                    "male",
                    "male",
                    "male",
                    "male",
                    "male",
                    "male",
                    "male",
                    "male",
                    "male",
                    "male",
                    "male",
                    "male",
                    "male",
                    "male",
                    "male",
                    "male",
                    "male",
                    "male",
                    "male",
                    "male",
                    "male",
                    "male",
                    "male",
                    "male",
                    "male",
                    "male",
                    "male",
                    "male",
                    "male",
                    "male",
                    "male",
                    "male",
                    "male",
                    "male",
                    "male",
                    "male",
                    "male",
                    "male",
                    "male",
                    "male",
                    "male",
                    "male",
                    "male",
                    "male",
                    "male",
                    "male",
                    "male",
                    "male",
                    "male",
                    "male",
                    "male",
                    "male",
                    "male",
                    "male",
                    "male",
                    "male",
                    "male",
                    "male",
                    "male",
                    "male",
                    "male",
                    "male",
                    "male",
                    "male",
                    "male",
                    "male",
                    "male",
                    "male",
                    "male",
                    "male",
                    "male",
                    "male",
                    "male",
                    "male",
                    "male",
                    "male",
                    "male",
                    "male",
                    "male",
                    "male",
                    "male",
                    "male",
                    "male",
                    "male",
                    "male",
                    "male",
                    "male",
                    "male",
                    "male",
                    "male",
                    "male",
                    "male",
                    "male",
                    "male",
                    "male",
                    "male",
                    "male",
                    "male"
                  ],
                  "x0": " ",
                  "xaxis": "x",
                  "y": [
                    1725.5523,
                    4449.462,
                    21984.47061,
                    3866.8552,
                    6406.4107,
                    2721.3208,
                    1826.843,
                    39611.7577,
                    1837.237,
                    2395.17155,
                    10602.385,
                    36837.467,
                    1137.011,
                    6203.90175,
                    2775.19215,
                    38711,
                    35585.576,
                    13770.0979,
                    51194.55914,
                    1625.43375,
                    2302.3,
                    39774.2763,
                    48173.361,
                    6272.4772,
                    6079.6715,
                    20630.28351,
                    38709.176,
                    23568.272,
                    37742.5757,
                    47496.49445,
                    34303.1672,
                    8606.2174,
                    4504.6624,
                    30166.61817,
                    6389.37785,
                    17663.1442,
                    6799.458,
                    11946.6259,
                    7726.854,
                    11356.6609,
                    1532.4697,
                    4441.21315,
                    37165.1638,
                    21098.55405,
                    30184.9367,
                    5729.0053,
                    10226.2842,
                    22412.6485,
                    15820.699,
                    3645.0894,
                    17560.37975,
                    3877.30425,
                    2867.1196,
                    47055.5321,
                    10825.2537,
                    4646.759,
                    11488.31695,
                    30259.99556,
                    11381.3254,
                    7740.337,
                    1705.6245,
                    39556.4945,
                    6082.405,
                    1632.56445,
                    1261.442,
                    2045.68525,
                    27375.90478,
                    3490.5491,
                    18972.495,
                    18157.876,
                    20745.9891,
                    40720.55105,
                    1842.519,
                    5125.2157,
                    7789.635,
                    6948.7008,
                    21223.6758,
                    15518.18025,
                    36950.2567,
                    10450.552,
                    5028.1466,
                    10407.08585,
                    4827.90495,
                    13405.3903,
                    8116.68,
                    1694.7964,
                    6455.86265,
                    10436.096,
                    11735.87905,
                    4005.4225,
                    7731.4271,
                    43753.33705,
                    12557.6053,
                    2137.6536,
                    1137.4697,
                    1639.5631,
                    7147.105,
                    11743.299,
                    20984.0936,
                    6610.1097,
                    1980.07,
                    8162.71625,
                    3537.703,
                    2483.736,
                    5253.524,
                    34779.615,
                    19515.5416,
                    11987.1682,
                    2689.4954,
                    9225.2564,
                    12333.828,
                    6710.1919,
                    4463.2051,
                    17352.6803,
                    7152.6714,
                    7196.867,
                    24476.47851,
                    1986.9334,
                    1832.094,
                    4040.55825,
                    12829.4551,
                    44260.7499,
                    4260.744,
                    41097.16175,
                    43921.1837,
                    11520.09985,
                    33750.2918,
                    24869.8368,
                    36219.40545,
                    46151.1245,
                    17179.522,
                    7441.053,
                    9282.4806,
                    1719.4363,
                    42856.838,
                    7265.7025,
                    9617.66245,
                    2523.1695,
                    2803.69785,
                    12928.7911,
                    48549.17835,
                    4237.12655,
                    7742.1098,
                    25992.82104,
                    20277.80751,
                    42112.2356,
                    3906.127,
                    1704.5681,
                    16297.846,
                    21978.6769,
                    38746.3551,
                    6746.7425,
                    19442.3535,
                    11944.59435,
                    8444.474,
                    42124.5153,
                    8124.4084,
                    9722.7695,
                    8835.26495,
                    10435.06525,
                    4667.60765,
                    4894.7533,
                    35491.64,
                    11566.30055,
                    2866.091,
                    6600.20595,
                    42760.5022,
                    9144.565,
                    24393.6224,
                    13822.803,
                    12142.5786,
                    13937.6665,
                    41919.097,
                    13352.0998,
                    13981.85035,
                    4889.9995,
                    8334.45755,
                    1635.73365,
                    12404.8791,
                    24603.04837,
                    8944.1151,
                    9620.3307,
                    1837.2819,
                    4751.07,
                    8116.26885,
                    3481.868,
                    36085.219,
                    1391.5287,
                    38126.2465,
                    27000.98473,
                    42303.69215,
                    20781.48892,
                    8302.53565,
                    1261.859,
                    30284.64294,
                    10736.87075,
                    8964.06055,
                    9290.1395,
                    7526.70645,
                    16586.49771,
                    14988.432,
                    8083.9198,
                    10269.46,
                    3260.199,
                    6652.5288,
                    4074.4537,
                    1621.3402,
                    5080.096,
                    9140.951,
                    14418.2804,
                    46889.2612,
                    46599.1084,
                    39125.33225,
                    2727.3951,
                    8968.33,
                    9788.8659,
                    23082.95533,
                    5969.723,
                    4243.59005,
                    13919.8229,
                    2254.7967,
                    5926.846,
                    2897.3235,
                    1149.3959,
                    26109.32905,
                    12730.9996,
                    4762.329,
                    7512.267,
                    4032.2407,
                    1969.614,
                    1769.53165,
                    4686.3887,
                    21797.0004,
                    10601.412,
                    22144.032,
                    11165.41765,
                    1632.03625,
                    2497.0383,
                    25382.297,
                    28868.6639,
                    35147.52848,
                    2534.39375,
                    1534.3045,
                    1824.2854,
                    15555.18875,
                    9304.7019,
                    9563.029,
                    1253.936,
                    10461.9794,
                    12574.049,
                    17942.106,
                    1967.0227,
                    8027.968,
                    36197.699,
                    6837.3687,
                    22218.1149,
                    32548.3405,
                    6796.86325,
                    2643.2685,
                    3077.0955,
                    11763.0009,
                    2498.4144,
                    9361.3268,
                    1256.299,
                    21082.16,
                    11362.755,
                    27724.28875,
                    8413.46305,
                    3857.75925,
                    38245.59327,
                    8342.90875,
                    1708.0014,
                    48675.5177,
                    12925.886,
                    19214.70553,
                    13831.1152,
                    6067.12675,
                    27346.04207,
                    10231.4999,
                    23807.2406,
                    3268.84665,
                    13390.559,
                    12957.118,
                    3847.674,
                    8334.5896,
                    3935.1799,
                    1646.4297,
                    2494.022,
                    9058.7303,
                    7256.7231,
                    45702.02235,
                    1664.9996,
                    9724.53,
                    12913.9924,
                    1639.5631,
                    6356.2707,
                    1242.816,
                    3861.20965,
                    8428.0693,
                    2566.4707,
                    5709.1644,
                    7441.501,
                    9174.13565,
                    4435.0942,
                    39241.442,
                    23306.547,
                    3659.346,
                    40182.246,
                    34617.84065,
                    12129.61415,
                    6748.5912,
                    11326.71487,
                    11365.952,
                    10085.846,
                    1977.815,
                    7173.35995,
                    9391.346,
                    14410.9321,
                    20149.3229,
                    12949.1554,
                    6666.243,
                    32787.45859,
                    13143.86485,
                    18806.14547,
                    10141.1362,
                    6123.5688,
                    1712.227,
                    4058.71245,
                    6435.6237,
                    1136.3994,
                    42560.4304,
                    8703.456,
                    45710.20785,
                    4837.5823,
                    4399.731,
                    7222.78625,
                    46130.5265,
                    12363.547,
                    1242.26,
                    40103.89,
                    9863.4718,
                    11244.3769,
                    7729.64575,
                    5438.7491,
                    34806.4677,
                    2104.1134,
                    8068.185,
                    2362.22905,
                    2352.96845,
                    40273.6455,
                    10976.24575,
                    9504.3103,
                    10264.4421,
                    1727.54,
                    1984.4533,
                    12146.971,
                    13112.6048,
                    11264.541,
                    12979.358,
                    1263.249,
                    6664.68595,
                    19361.9988,
                    10065.413,
                    3484.331,
                    36189.1017,
                    44585.45587,
                    8604.48365,
                    18246.4955,
                    43254.41795,
                    8827.2099,
                    11737.84884,
                    1627.28245,
                    3062.50825,
                    1906.35825,
                    14210.53595,
                    17128.42608,
                    5031.26955,
                    5428.7277,
                    36307.7983,
                    2416.955,
                    19040.876,
                    3070.8087,
                    8062.764,
                    27941.28758,
                    7261.741,
                    10560.4917,
                    6986.697,
                    7448.40395,
                    5934.3798,
                    9869.8102,
                    18259.216,
                    1146.7966,
                    9386.1613,
                    12741.16745,
                    1917.3184,
                    5209.57885,
                    1252.407,
                    21195.818,
                    18310.742,
                    4266.1658,
                    17904.52705,
                    2103.08,
                    1815.8759,
                    1131.5066,
                    3309.7926,
                    11013.7119,
                    4428.88785,
                    5584.3057,
                    3597.596,
                    7445.918,
                    2680.9493,
                    12523.6048,
                    43813.8661,
                    20773.62775,
                    39597.4072,
                    6117.4945,
                    13393.756,
                    11743.9341,
                    5377.4578,
                    7160.3303,
                    4402.233,
                    1526.312,
                    12323.936,
                    10072.05505,
                    2438.0552,
                    10601.63225,
                    14119.62,
                    15817.9857,
                    10965.446,
                    8782.469,
                    6600.361,
                    1141.4451,
                    11576.13,
                    13129.60345,
                    8457.818,
                    5966.8874,
                    6849.026,
                    8891.1395,
                    6653.7886,
                    6282.235,
                    3443.064,
                    2789.0574,
                    4877.98105,
                    19719.6947,
                    27218.43725,
                    1682.597,
                    11945.1327,
                    10422.91665,
                    44202.6536,
                    13555.0049,
                    2221.56445,
                    8688.85885,
                    48673.5588,
                    4661.28635,
                    8125.7845,
                    4846.92015,
                    15170.069,
                    2639.0429,
                    33732.6867,
                    5257.50795,
                    35069.37452,
                    5488.262,
                    4320.41085,
                    6250.435,
                    25333.33284,
                    6289.7549,
                    2927.0647,
                    10096.97,
                    4673.3922,
                    32108.66282,
                    2304.0022,
                    9487.6442,
                    1121.8739,
                    1628.4709,
                    12982.8747,
                    7160.094,
                    39047.285,
                    6358.77645,
                    19933.458,
                    11534.87265,
                    47462.894,
                    38998.546,
                    20009.63365,
                    3875.7341,
                    41999.52,
                    12609.88702,
                    41034.2214,
                    28468.91901,
                    9500.57305,
                    26467.09737,
                    4746.344,
                    23967.38305,
                    7518.02535,
                    3279.86855,
                    2322.6218,
                    16138.76205,
                    7804.1605,
                    2902.9065,
                    25517.11363,
                    4500.33925,
                    19199.944,
                    4915.05985,
                    8410.04685,
                    4518.82625,
                    5484.4673,
                    17361.7661,
                    34472.841,
                    1972.95,
                    21232.18226,
                    8627.5411,
                    4433.3877,
                    4438.2634,
                    24915.22085,
                    23241.47453,
                    9957.7216,
                    18767.7377,
                    8765.249,
                    12124.9924,
                    8798.593,
                    42211.1382,
                    1711.0268,
                    16450.8947,
                    21595.38229,
                    9850.432,
                    13747.87235,
                    12950.0712,
                    37484.4493,
                    2250.8352,
                    22493.65964,
                    1704.70015,
                    33475.81715,
                    11394.06555,
                    44501.3982,
                    39727.614,
                    14394.5579,
                    9288.0267,
                    25309.489,
                    10594.50155,
                    4462.7218,
                    1981.5819,
                    11554.2236,
                    48970.2476,
                    6548.19505,
                    8978.1851,
                    5757.41345,
                    14349.8544,
                    39871.7043,
                    13974.45555,
                    1909.52745,
                    2102.2647,
                    34672.1472,
                    15161.5344,
                    11884.04858,
                    4454.40265,
                    5855.9025,
                    4076.497,
                    10796.35025,
                    11353.2276,
                    9748.9106,
                    10577.087,
                    41676.0811,
                    3591.48,
                    1674.6323,
                    11253.421,
                    3471.4096,
                    11363.2832,
                    20420.60465,
                    2904.088,
                    8605.3615,
                    41949.2441,
                    2396.0959,
                    10807.4863,
                    9222.4026,
                    36124.5737,
                    38282.7495,
                    8347.1643,
                    10214.636,
                    14358.36437,
                    3693.428,
                    20709.02034,
                    19673.33573,
                    3704.3545,
                    9048.0273,
                    6338.0756,
                    9630.397,
                    11289.10925,
                    52590.82939,
                    10791.96,
                    5979.731,
                    39722.7462,
                    5124.1887,
                    18963.17192,
                    10982.5013,
                    4670.64,
                    17178.6824,
                    6457.8434,
                    4433.9159,
                    19350.3689,
                    8603.8234,
                    37465.34375,
                    5699.8375,
                    6393.60345,
                    6198.7518,
                    8733.22925,
                    2055.3249,
                    9964.06,
                    5116.5004,
                    38415.474,
                    12347.172,
                    5373.36425,
                    23563.01618,
                    1702.4553,
                    12890.05765,
                    5415.6612,
                    4058.1161,
                    6593.5083,
                    8442.667,
                    6858.4796,
                    6640.54485,
                    7162.0122,
                    10594.2257,
                    11938.25595,
                    60021.39897,
                    11345.519,
                    2699.56835,
                    6985.50695,
                    47269.854,
                    49577.6624,
                    1135.9407,
                    5615.369,
                    6059.173,
                    37607.5277,
                    18648.4217,
                    1241.565,
                    16232.847,
                    30063.58055,
                    3277.161,
                    26926.5144,
                    34254.05335,
                    8615.3,
                    3292.52985,
                    14478.33015,
                    4747.0529,
                    17043.3414,
                    10959.33,
                    22462.04375,
                    1720.3537,
                    47403.88,
                    38344.566,
                    7147.4728,
                    34828.654,
                    1515.3449,
                    9301.89355,
                    11931.12525,
                    1964.78,
                    1708.92575,
                    5261.46945,
                    62592.87309,
                    46718.16325,
                    37829.7242,
                    21259.37795,
                    21472.4788,
                    6875.961,
                    6940.90985,
                    4536.259,
                    11272.33139,
                    1163.4627,
                    19496.71917,
                    5425.02335,
                    28101.33305,
                    12981.3457,
                    4239.89265,
                    13143.33665,
                    9377.9047,
                    10325.206,
                    10600.5483
                  ],
                  "y0": " ",
                  "yaxis": "y"
                }
              ],
              "layout": {
                "boxmode": "overlay",
                "height": 600,
                "legend": {
                  "title": {
                    "text": "sex"
                  },
                  "tracegroupgap": 0
                },
                "template": {
                  "data": {
                    "bar": [
                      {
                        "error_x": {
                          "color": "#2a3f5f"
                        },
                        "error_y": {
                          "color": "#2a3f5f"
                        },
                        "marker": {
                          "line": {
                            "color": "#E5ECF6",
                            "width": 0.5
                          },
                          "pattern": {
                            "fillmode": "overlay",
                            "size": 10,
                            "solidity": 0.2
                          }
                        },
                        "type": "bar"
                      }
                    ],
                    "barpolar": [
                      {
                        "marker": {
                          "line": {
                            "color": "#E5ECF6",
                            "width": 0.5
                          },
                          "pattern": {
                            "fillmode": "overlay",
                            "size": 10,
                            "solidity": 0.2
                          }
                        },
                        "type": "barpolar"
                      }
                    ],
                    "carpet": [
                      {
                        "aaxis": {
                          "endlinecolor": "#2a3f5f",
                          "gridcolor": "white",
                          "linecolor": "white",
                          "minorgridcolor": "white",
                          "startlinecolor": "#2a3f5f"
                        },
                        "baxis": {
                          "endlinecolor": "#2a3f5f",
                          "gridcolor": "white",
                          "linecolor": "white",
                          "minorgridcolor": "white",
                          "startlinecolor": "#2a3f5f"
                        },
                        "type": "carpet"
                      }
                    ],
                    "choropleth": [
                      {
                        "colorbar": {
                          "outlinewidth": 0,
                          "ticks": ""
                        },
                        "type": "choropleth"
                      }
                    ],
                    "contour": [
                      {
                        "colorbar": {
                          "outlinewidth": 0,
                          "ticks": ""
                        },
                        "colorscale": [
                          [
                            0,
                            "#0d0887"
                          ],
                          [
                            0.1111111111111111,
                            "#46039f"
                          ],
                          [
                            0.2222222222222222,
                            "#7201a8"
                          ],
                          [
                            0.3333333333333333,
                            "#9c179e"
                          ],
                          [
                            0.4444444444444444,
                            "#bd3786"
                          ],
                          [
                            0.5555555555555556,
                            "#d8576b"
                          ],
                          [
                            0.6666666666666666,
                            "#ed7953"
                          ],
                          [
                            0.7777777777777778,
                            "#fb9f3a"
                          ],
                          [
                            0.8888888888888888,
                            "#fdca26"
                          ],
                          [
                            1,
                            "#f0f921"
                          ]
                        ],
                        "type": "contour"
                      }
                    ],
                    "contourcarpet": [
                      {
                        "colorbar": {
                          "outlinewidth": 0,
                          "ticks": ""
                        },
                        "type": "contourcarpet"
                      }
                    ],
                    "heatmap": [
                      {
                        "colorbar": {
                          "outlinewidth": 0,
                          "ticks": ""
                        },
                        "colorscale": [
                          [
                            0,
                            "#0d0887"
                          ],
                          [
                            0.1111111111111111,
                            "#46039f"
                          ],
                          [
                            0.2222222222222222,
                            "#7201a8"
                          ],
                          [
                            0.3333333333333333,
                            "#9c179e"
                          ],
                          [
                            0.4444444444444444,
                            "#bd3786"
                          ],
                          [
                            0.5555555555555556,
                            "#d8576b"
                          ],
                          [
                            0.6666666666666666,
                            "#ed7953"
                          ],
                          [
                            0.7777777777777778,
                            "#fb9f3a"
                          ],
                          [
                            0.8888888888888888,
                            "#fdca26"
                          ],
                          [
                            1,
                            "#f0f921"
                          ]
                        ],
                        "type": "heatmap"
                      }
                    ],
                    "heatmapgl": [
                      {
                        "colorbar": {
                          "outlinewidth": 0,
                          "ticks": ""
                        },
                        "colorscale": [
                          [
                            0,
                            "#0d0887"
                          ],
                          [
                            0.1111111111111111,
                            "#46039f"
                          ],
                          [
                            0.2222222222222222,
                            "#7201a8"
                          ],
                          [
                            0.3333333333333333,
                            "#9c179e"
                          ],
                          [
                            0.4444444444444444,
                            "#bd3786"
                          ],
                          [
                            0.5555555555555556,
                            "#d8576b"
                          ],
                          [
                            0.6666666666666666,
                            "#ed7953"
                          ],
                          [
                            0.7777777777777778,
                            "#fb9f3a"
                          ],
                          [
                            0.8888888888888888,
                            "#fdca26"
                          ],
                          [
                            1,
                            "#f0f921"
                          ]
                        ],
                        "type": "heatmapgl"
                      }
                    ],
                    "histogram": [
                      {
                        "marker": {
                          "pattern": {
                            "fillmode": "overlay",
                            "size": 10,
                            "solidity": 0.2
                          }
                        },
                        "type": "histogram"
                      }
                    ],
                    "histogram2d": [
                      {
                        "colorbar": {
                          "outlinewidth": 0,
                          "ticks": ""
                        },
                        "colorscale": [
                          [
                            0,
                            "#0d0887"
                          ],
                          [
                            0.1111111111111111,
                            "#46039f"
                          ],
                          [
                            0.2222222222222222,
                            "#7201a8"
                          ],
                          [
                            0.3333333333333333,
                            "#9c179e"
                          ],
                          [
                            0.4444444444444444,
                            "#bd3786"
                          ],
                          [
                            0.5555555555555556,
                            "#d8576b"
                          ],
                          [
                            0.6666666666666666,
                            "#ed7953"
                          ],
                          [
                            0.7777777777777778,
                            "#fb9f3a"
                          ],
                          [
                            0.8888888888888888,
                            "#fdca26"
                          ],
                          [
                            1,
                            "#f0f921"
                          ]
                        ],
                        "type": "histogram2d"
                      }
                    ],
                    "histogram2dcontour": [
                      {
                        "colorbar": {
                          "outlinewidth": 0,
                          "ticks": ""
                        },
                        "colorscale": [
                          [
                            0,
                            "#0d0887"
                          ],
                          [
                            0.1111111111111111,
                            "#46039f"
                          ],
                          [
                            0.2222222222222222,
                            "#7201a8"
                          ],
                          [
                            0.3333333333333333,
                            "#9c179e"
                          ],
                          [
                            0.4444444444444444,
                            "#bd3786"
                          ],
                          [
                            0.5555555555555556,
                            "#d8576b"
                          ],
                          [
                            0.6666666666666666,
                            "#ed7953"
                          ],
                          [
                            0.7777777777777778,
                            "#fb9f3a"
                          ],
                          [
                            0.8888888888888888,
                            "#fdca26"
                          ],
                          [
                            1,
                            "#f0f921"
                          ]
                        ],
                        "type": "histogram2dcontour"
                      }
                    ],
                    "mesh3d": [
                      {
                        "colorbar": {
                          "outlinewidth": 0,
                          "ticks": ""
                        },
                        "type": "mesh3d"
                      }
                    ],
                    "parcoords": [
                      {
                        "line": {
                          "colorbar": {
                            "outlinewidth": 0,
                            "ticks": ""
                          }
                        },
                        "type": "parcoords"
                      }
                    ],
                    "pie": [
                      {
                        "automargin": true,
                        "type": "pie"
                      }
                    ],
                    "scatter": [
                      {
                        "fillpattern": {
                          "fillmode": "overlay",
                          "size": 10,
                          "solidity": 0.2
                        },
                        "type": "scatter"
                      }
                    ],
                    "scatter3d": [
                      {
                        "line": {
                          "colorbar": {
                            "outlinewidth": 0,
                            "ticks": ""
                          }
                        },
                        "marker": {
                          "colorbar": {
                            "outlinewidth": 0,
                            "ticks": ""
                          }
                        },
                        "type": "scatter3d"
                      }
                    ],
                    "scattercarpet": [
                      {
                        "marker": {
                          "colorbar": {
                            "outlinewidth": 0,
                            "ticks": ""
                          }
                        },
                        "type": "scattercarpet"
                      }
                    ],
                    "scattergeo": [
                      {
                        "marker": {
                          "colorbar": {
                            "outlinewidth": 0,
                            "ticks": ""
                          }
                        },
                        "type": "scattergeo"
                      }
                    ],
                    "scattergl": [
                      {
                        "marker": {
                          "colorbar": {
                            "outlinewidth": 0,
                            "ticks": ""
                          }
                        },
                        "type": "scattergl"
                      }
                    ],
                    "scattermapbox": [
                      {
                        "marker": {
                          "colorbar": {
                            "outlinewidth": 0,
                            "ticks": ""
                          }
                        },
                        "type": "scattermapbox"
                      }
                    ],
                    "scatterpolar": [
                      {
                        "marker": {
                          "colorbar": {
                            "outlinewidth": 0,
                            "ticks": ""
                          }
                        },
                        "type": "scatterpolar"
                      }
                    ],
                    "scatterpolargl": [
                      {
                        "marker": {
                          "colorbar": {
                            "outlinewidth": 0,
                            "ticks": ""
                          }
                        },
                        "type": "scatterpolargl"
                      }
                    ],
                    "scatterternary": [
                      {
                        "marker": {
                          "colorbar": {
                            "outlinewidth": 0,
                            "ticks": ""
                          }
                        },
                        "type": "scatterternary"
                      }
                    ],
                    "surface": [
                      {
                        "colorbar": {
                          "outlinewidth": 0,
                          "ticks": ""
                        },
                        "colorscale": [
                          [
                            0,
                            "#0d0887"
                          ],
                          [
                            0.1111111111111111,
                            "#46039f"
                          ],
                          [
                            0.2222222222222222,
                            "#7201a8"
                          ],
                          [
                            0.3333333333333333,
                            "#9c179e"
                          ],
                          [
                            0.4444444444444444,
                            "#bd3786"
                          ],
                          [
                            0.5555555555555556,
                            "#d8576b"
                          ],
                          [
                            0.6666666666666666,
                            "#ed7953"
                          ],
                          [
                            0.7777777777777778,
                            "#fb9f3a"
                          ],
                          [
                            0.8888888888888888,
                            "#fdca26"
                          ],
                          [
                            1,
                            "#f0f921"
                          ]
                        ],
                        "type": "surface"
                      }
                    ],
                    "table": [
                      {
                        "cells": {
                          "fill": {
                            "color": "#EBF0F8"
                          },
                          "line": {
                            "color": "white"
                          }
                        },
                        "header": {
                          "fill": {
                            "color": "#C8D4E3"
                          },
                          "line": {
                            "color": "white"
                          }
                        },
                        "type": "table"
                      }
                    ]
                  },
                  "layout": {
                    "annotationdefaults": {
                      "arrowcolor": "#2a3f5f",
                      "arrowhead": 0,
                      "arrowwidth": 1
                    },
                    "autotypenumbers": "strict",
                    "coloraxis": {
                      "colorbar": {
                        "outlinewidth": 0,
                        "ticks": ""
                      }
                    },
                    "colorscale": {
                      "diverging": [
                        [
                          0,
                          "#8e0152"
                        ],
                        [
                          0.1,
                          "#c51b7d"
                        ],
                        [
                          0.2,
                          "#de77ae"
                        ],
                        [
                          0.3,
                          "#f1b6da"
                        ],
                        [
                          0.4,
                          "#fde0ef"
                        ],
                        [
                          0.5,
                          "#f7f7f7"
                        ],
                        [
                          0.6,
                          "#e6f5d0"
                        ],
                        [
                          0.7,
                          "#b8e186"
                        ],
                        [
                          0.8,
                          "#7fbc41"
                        ],
                        [
                          0.9,
                          "#4d9221"
                        ],
                        [
                          1,
                          "#276419"
                        ]
                      ],
                      "sequential": [
                        [
                          0,
                          "#0d0887"
                        ],
                        [
                          0.1111111111111111,
                          "#46039f"
                        ],
                        [
                          0.2222222222222222,
                          "#7201a8"
                        ],
                        [
                          0.3333333333333333,
                          "#9c179e"
                        ],
                        [
                          0.4444444444444444,
                          "#bd3786"
                        ],
                        [
                          0.5555555555555556,
                          "#d8576b"
                        ],
                        [
                          0.6666666666666666,
                          "#ed7953"
                        ],
                        [
                          0.7777777777777778,
                          "#fb9f3a"
                        ],
                        [
                          0.8888888888888888,
                          "#fdca26"
                        ],
                        [
                          1,
                          "#f0f921"
                        ]
                      ],
                      "sequentialminus": [
                        [
                          0,
                          "#0d0887"
                        ],
                        [
                          0.1111111111111111,
                          "#46039f"
                        ],
                        [
                          0.2222222222222222,
                          "#7201a8"
                        ],
                        [
                          0.3333333333333333,
                          "#9c179e"
                        ],
                        [
                          0.4444444444444444,
                          "#bd3786"
                        ],
                        [
                          0.5555555555555556,
                          "#d8576b"
                        ],
                        [
                          0.6666666666666666,
                          "#ed7953"
                        ],
                        [
                          0.7777777777777778,
                          "#fb9f3a"
                        ],
                        [
                          0.8888888888888888,
                          "#fdca26"
                        ],
                        [
                          1,
                          "#f0f921"
                        ]
                      ]
                    },
                    "colorway": [
                      "#636efa",
                      "#EF553B",
                      "#00cc96",
                      "#ab63fa",
                      "#FFA15A",
                      "#19d3f3",
                      "#FF6692",
                      "#B6E880",
                      "#FF97FF",
                      "#FECB52"
                    ],
                    "font": {
                      "color": "#2a3f5f"
                    },
                    "geo": {
                      "bgcolor": "white",
                      "lakecolor": "white",
                      "landcolor": "#E5ECF6",
                      "showlakes": true,
                      "showland": true,
                      "subunitcolor": "white"
                    },
                    "hoverlabel": {
                      "align": "left"
                    },
                    "hovermode": "closest",
                    "mapbox": {
                      "style": "light"
                    },
                    "paper_bgcolor": "white",
                    "plot_bgcolor": "#E5ECF6",
                    "polar": {
                      "angularaxis": {
                        "gridcolor": "white",
                        "linecolor": "white",
                        "ticks": ""
                      },
                      "bgcolor": "#E5ECF6",
                      "radialaxis": {
                        "gridcolor": "white",
                        "linecolor": "white",
                        "ticks": ""
                      }
                    },
                    "scene": {
                      "xaxis": {
                        "backgroundcolor": "#E5ECF6",
                        "gridcolor": "white",
                        "gridwidth": 2,
                        "linecolor": "white",
                        "showbackground": true,
                        "ticks": "",
                        "zerolinecolor": "white"
                      },
                      "yaxis": {
                        "backgroundcolor": "#E5ECF6",
                        "gridcolor": "white",
                        "gridwidth": 2,
                        "linecolor": "white",
                        "showbackground": true,
                        "ticks": "",
                        "zerolinecolor": "white"
                      },
                      "zaxis": {
                        "backgroundcolor": "#E5ECF6",
                        "gridcolor": "white",
                        "gridwidth": 2,
                        "linecolor": "white",
                        "showbackground": true,
                        "ticks": "",
                        "zerolinecolor": "white"
                      }
                    },
                    "shapedefaults": {
                      "line": {
                        "color": "#2a3f5f"
                      }
                    },
                    "ternary": {
                      "aaxis": {
                        "gridcolor": "white",
                        "linecolor": "white",
                        "ticks": ""
                      },
                      "baxis": {
                        "gridcolor": "white",
                        "linecolor": "white",
                        "ticks": ""
                      },
                      "bgcolor": "#E5ECF6",
                      "caxis": {
                        "gridcolor": "white",
                        "linecolor": "white",
                        "ticks": ""
                      }
                    },
                    "title": {
                      "x": 0.05
                    },
                    "xaxis": {
                      "automargin": true,
                      "gridcolor": "white",
                      "linecolor": "white",
                      "ticks": "",
                      "title": {
                        "standoff": 15
                      },
                      "zerolinecolor": "white",
                      "zerolinewidth": 2
                    },
                    "yaxis": {
                      "automargin": true,
                      "gridcolor": "white",
                      "linecolor": "white",
                      "ticks": "",
                      "title": {
                        "standoff": 15
                      },
                      "zerolinecolor": "white",
                      "zerolinewidth": 2
                    }
                  }
                },
                "title": {
                  "text": "Distribution of Sex by Charges"
                },
                "width": 1000,
                "xaxis": {
                  "anchor": "y",
                  "categoryarray": [
                    "female",
                    "male"
                  ],
                  "categoryorder": "array",
                  "domain": [
                    0,
                    1
                  ],
                  "title": {
                    "text": "sex"
                  }
                },
                "yaxis": {
                  "anchor": "x",
                  "domain": [
                    0,
                    1
                  ],
                  "title": {
                    "text": "charges"
                  }
                }
              }
            }
          },
          "metadata": {},
          "output_type": "display_data"
        }
      ],
      "source": [
        "fig = px.box(data_frame=df1, x=\"sex\", y=\"charges\", color=\"sex\", \n",
        "             title=\"Distribution of Sex by Charges\", width=1000, height=600)\n",
        "\n",
        "fig.show()"
      ]
    },
    {
      "cell_type": "markdown",
      "metadata": {},
      "source": [
        "**Distribution of Sex by Charges**\n",
        "\n",
        "This chart compares insurance charges between females and males. The median charges for both genders appear similar, suggesting no major differences in the central tendency. However, there are also more outliers among males, indicating greater variability in charges. This means we need to consider other factors along with gender."
      ]
    },
    {
      "cell_type": "markdown",
      "metadata": {},
      "source": [
        "To obtain further value from a gender analysis, I may have to club it with other variables. I will add this to the product backlog and pick it up in the second iteration. \n",
        "\n",
        "For the sake of this project, I will progress with understanding how age impacts other variables."
      ]
    },
    {
      "cell_type": "markdown",
      "metadata": {},
      "source": [
        "---"
      ]
    },
    {
      "cell_type": "markdown",
      "metadata": {},
      "source": [
        "# Section 4: Age"
      ]
    },
    {
      "cell_type": "markdown",
      "metadata": {},
      "source": [
        "4. How does age impact bmi and charges?\n",
        "\n",
        "User Story covered: As an insurance provider, I want to group customers by age group to build targeted marketing campaigns."
      ]
    },
    {
      "cell_type": "code",
      "execution_count": 122,
      "metadata": {},
      "outputs": [
        {
          "data": {
            "text/plain": [
              "47"
            ]
          },
          "execution_count": 122,
          "metadata": {},
          "output_type": "execute_result"
        }
      ],
      "source": [
        "df1[\"age\"].nunique()"
      ]
    },
    {
      "cell_type": "markdown",
      "metadata": {},
      "source": [
        "I will transform the age dataset to visualize better and meet the business requirements."
      ]
    },
    {
      "cell_type": "code",
      "execution_count": 169,
      "metadata": {},
      "outputs": [
        {
          "data": {
            "text/plain": [
              "age_group\n",
              "young_adult    437\n",
              "adult          408\n",
              "senior         356\n",
              "teen           137\n",
              "Name: count, dtype: int64"
            ]
          },
          "execution_count": 169,
          "metadata": {},
          "output_type": "execute_result"
        }
      ],
      "source": [
        "df1['age_group'] = pd.cut(df['age'], bins=[16, 19, 35, 50, 100], labels=['teen', 'young_adult', 'adult', 'senior'])\n",
        "df1.value_counts(\"age_group\")"
      ]
    },
    {
      "cell_type": "code",
      "execution_count": 170,
      "metadata": {},
      "outputs": [
        {
          "data": {
            "text/html": [
              "<div>\n",
              "<style scoped>\n",
              "    .dataframe tbody tr th:only-of-type {\n",
              "        vertical-align: middle;\n",
              "    }\n",
              "\n",
              "    .dataframe tbody tr th {\n",
              "        vertical-align: top;\n",
              "    }\n",
              "\n",
              "    .dataframe thead th {\n",
              "        text-align: right;\n",
              "    }\n",
              "</style>\n",
              "<table border=\"1\" class=\"dataframe\">\n",
              "  <thead>\n",
              "    <tr style=\"text-align: right;\">\n",
              "      <th></th>\n",
              "      <th>age</th>\n",
              "      <th>sex</th>\n",
              "      <th>bmi</th>\n",
              "      <th>children</th>\n",
              "      <th>smoker</th>\n",
              "      <th>region</th>\n",
              "      <th>charges</th>\n",
              "      <th>high_risk</th>\n",
              "      <th>medium_risk</th>\n",
              "      <th>low-medium_risk</th>\n",
              "      <th>low_risk</th>\n",
              "      <th>age_group</th>\n",
              "    </tr>\n",
              "  </thead>\n",
              "  <tbody>\n",
              "    <tr>\n",
              "      <th>0</th>\n",
              "      <td>19</td>\n",
              "      <td>female</td>\n",
              "      <td>27.900</td>\n",
              "      <td>0</td>\n",
              "      <td>yes</td>\n",
              "      <td>southwest</td>\n",
              "      <td>16884.92400</td>\n",
              "      <td>0</td>\n",
              "      <td>1</td>\n",
              "      <td>0</td>\n",
              "      <td>0</td>\n",
              "      <td>teen</td>\n",
              "    </tr>\n",
              "    <tr>\n",
              "      <th>1</th>\n",
              "      <td>18</td>\n",
              "      <td>male</td>\n",
              "      <td>33.770</td>\n",
              "      <td>1</td>\n",
              "      <td>no</td>\n",
              "      <td>southeast</td>\n",
              "      <td>1725.55230</td>\n",
              "      <td>1</td>\n",
              "      <td>0</td>\n",
              "      <td>0</td>\n",
              "      <td>0</td>\n",
              "      <td>teen</td>\n",
              "    </tr>\n",
              "    <tr>\n",
              "      <th>2</th>\n",
              "      <td>28</td>\n",
              "      <td>male</td>\n",
              "      <td>33.000</td>\n",
              "      <td>3</td>\n",
              "      <td>no</td>\n",
              "      <td>southeast</td>\n",
              "      <td>4449.46200</td>\n",
              "      <td>1</td>\n",
              "      <td>0</td>\n",
              "      <td>0</td>\n",
              "      <td>0</td>\n",
              "      <td>young_adult</td>\n",
              "    </tr>\n",
              "    <tr>\n",
              "      <th>3</th>\n",
              "      <td>33</td>\n",
              "      <td>male</td>\n",
              "      <td>22.705</td>\n",
              "      <td>0</td>\n",
              "      <td>no</td>\n",
              "      <td>northwest</td>\n",
              "      <td>21984.47061</td>\n",
              "      <td>0</td>\n",
              "      <td>0</td>\n",
              "      <td>1</td>\n",
              "      <td>1</td>\n",
              "      <td>young_adult</td>\n",
              "    </tr>\n",
              "    <tr>\n",
              "      <th>4</th>\n",
              "      <td>32</td>\n",
              "      <td>male</td>\n",
              "      <td>28.880</td>\n",
              "      <td>0</td>\n",
              "      <td>no</td>\n",
              "      <td>northwest</td>\n",
              "      <td>3866.85520</td>\n",
              "      <td>0</td>\n",
              "      <td>1</td>\n",
              "      <td>0</td>\n",
              "      <td>0</td>\n",
              "      <td>young_adult</td>\n",
              "    </tr>\n",
              "    <tr>\n",
              "      <th>...</th>\n",
              "      <td>...</td>\n",
              "      <td>...</td>\n",
              "      <td>...</td>\n",
              "      <td>...</td>\n",
              "      <td>...</td>\n",
              "      <td>...</td>\n",
              "      <td>...</td>\n",
              "      <td>...</td>\n",
              "      <td>...</td>\n",
              "      <td>...</td>\n",
              "      <td>...</td>\n",
              "      <td>...</td>\n",
              "    </tr>\n",
              "    <tr>\n",
              "      <th>1333</th>\n",
              "      <td>50</td>\n",
              "      <td>male</td>\n",
              "      <td>30.970</td>\n",
              "      <td>3</td>\n",
              "      <td>no</td>\n",
              "      <td>northwest</td>\n",
              "      <td>10600.54830</td>\n",
              "      <td>1</td>\n",
              "      <td>0</td>\n",
              "      <td>0</td>\n",
              "      <td>0</td>\n",
              "      <td>adult</td>\n",
              "    </tr>\n",
              "    <tr>\n",
              "      <th>1334</th>\n",
              "      <td>18</td>\n",
              "      <td>female</td>\n",
              "      <td>31.920</td>\n",
              "      <td>0</td>\n",
              "      <td>no</td>\n",
              "      <td>northeast</td>\n",
              "      <td>2205.98080</td>\n",
              "      <td>1</td>\n",
              "      <td>0</td>\n",
              "      <td>0</td>\n",
              "      <td>0</td>\n",
              "      <td>teen</td>\n",
              "    </tr>\n",
              "    <tr>\n",
              "      <th>1335</th>\n",
              "      <td>18</td>\n",
              "      <td>female</td>\n",
              "      <td>36.850</td>\n",
              "      <td>0</td>\n",
              "      <td>no</td>\n",
              "      <td>southeast</td>\n",
              "      <td>1629.83350</td>\n",
              "      <td>1</td>\n",
              "      <td>0</td>\n",
              "      <td>0</td>\n",
              "      <td>0</td>\n",
              "      <td>teen</td>\n",
              "    </tr>\n",
              "    <tr>\n",
              "      <th>1336</th>\n",
              "      <td>21</td>\n",
              "      <td>female</td>\n",
              "      <td>25.800</td>\n",
              "      <td>0</td>\n",
              "      <td>no</td>\n",
              "      <td>southwest</td>\n",
              "      <td>2007.94500</td>\n",
              "      <td>0</td>\n",
              "      <td>1</td>\n",
              "      <td>0</td>\n",
              "      <td>0</td>\n",
              "      <td>young_adult</td>\n",
              "    </tr>\n",
              "    <tr>\n",
              "      <th>1337</th>\n",
              "      <td>61</td>\n",
              "      <td>female</td>\n",
              "      <td>29.070</td>\n",
              "      <td>0</td>\n",
              "      <td>yes</td>\n",
              "      <td>northwest</td>\n",
              "      <td>29141.36030</td>\n",
              "      <td>0</td>\n",
              "      <td>1</td>\n",
              "      <td>0</td>\n",
              "      <td>0</td>\n",
              "      <td>senior</td>\n",
              "    </tr>\n",
              "  </tbody>\n",
              "</table>\n",
              "<p>1338 rows × 12 columns</p>\n",
              "</div>"
            ],
            "text/plain": [
              "      age     sex     bmi  children smoker     region      charges  high_risk  \\\n",
              "0      19  female  27.900         0    yes  southwest  16884.92400          0   \n",
              "1      18    male  33.770         1     no  southeast   1725.55230          1   \n",
              "2      28    male  33.000         3     no  southeast   4449.46200          1   \n",
              "3      33    male  22.705         0     no  northwest  21984.47061          0   \n",
              "4      32    male  28.880         0     no  northwest   3866.85520          0   \n",
              "...   ...     ...     ...       ...    ...        ...          ...        ...   \n",
              "1333   50    male  30.970         3     no  northwest  10600.54830          1   \n",
              "1334   18  female  31.920         0     no  northeast   2205.98080          1   \n",
              "1335   18  female  36.850         0     no  southeast   1629.83350          1   \n",
              "1336   21  female  25.800         0     no  southwest   2007.94500          0   \n",
              "1337   61  female  29.070         0    yes  northwest  29141.36030          0   \n",
              "\n",
              "      medium_risk  low-medium_risk  low_risk    age_group  \n",
              "0               1                0         0         teen  \n",
              "1               0                0         0         teen  \n",
              "2               0                0         0  young_adult  \n",
              "3               0                1         1  young_adult  \n",
              "4               1                0         0  young_adult  \n",
              "...           ...              ...       ...          ...  \n",
              "1333            0                0         0        adult  \n",
              "1334            0                0         0         teen  \n",
              "1335            0                0         0         teen  \n",
              "1336            1                0         0  young_adult  \n",
              "1337            1                0         0       senior  \n",
              "\n",
              "[1338 rows x 12 columns]"
            ]
          },
          "execution_count": 170,
          "metadata": {},
          "output_type": "execute_result"
        }
      ],
      "source": [
        "df2 = df1.to_csv(\"../data/feature_engineered_insurance.csv\", index=False)\n",
        "df2 = pd.read_csv(\"../data/feature_engineered_insurance.csv\")\n",
        "df2"
      ]
    },
    {
      "cell_type": "markdown",
      "metadata": {},
      "source": [
        "With the new variable, \"age_group\", the marketing team will have visibility over different groups of customers. This will help them monitor any trends and modify their strategy accordingly.\n",
        "\n",
        "I have created a \"teen\" group for respondents aged between 16-19; \n",
        "\"young_adult\" for 20-35;\n",
        "\"adult\" covering 35-50; and\n",
        "\"senior\" for 50-100"
      ]
    },
    {
      "cell_type": "code",
      "execution_count": 183,
      "metadata": {},
      "outputs": [
        {
          "data": {
            "application/vnd.plotly.v1+json": {
              "config": {
                "plotlyServerURL": "https://plot.ly"
              },
              "data": [
                {
                  "alignmentgroup": "True",
                  "bingroup": "x",
                  "histfunc": "avg",
                  "hovertemplate": "smoker=no<br>age_group=%{x}<br>avg of charges=%{y}<extra></extra>",
                  "legendgroup": "no",
                  "marker": {
                    "color": "#636efa",
                    "pattern": {
                      "shape": ""
                    }
                  },
                  "name": "no",
                  "offsetgroup": "no",
                  "orientation": "v",
                  "showlegend": true,
                  "type": "histogram",
                  "x": [
                    "teen",
                    "teen",
                    "teen",
                    "teen",
                    "young_adult",
                    "young_adult",
                    "young_adult",
                    "young_adult",
                    "young_adult",
                    "young_adult",
                    "young_adult",
                    "young_adult",
                    "young_adult",
                    "young_adult",
                    "young_adult",
                    "young_adult",
                    "young_adult",
                    "young_adult",
                    "young_adult",
                    "young_adult",
                    "young_adult",
                    "young_adult",
                    "young_adult",
                    "young_adult",
                    "young_adult",
                    "young_adult",
                    "young_adult",
                    "young_adult",
                    "young_adult",
                    "young_adult",
                    "young_adult",
                    "young_adult",
                    "young_adult",
                    "young_adult",
                    "young_adult",
                    "young_adult",
                    "adult",
                    "adult",
                    "adult",
                    "adult",
                    "adult",
                    "adult",
                    "adult",
                    "adult",
                    "adult",
                    "adult",
                    "adult",
                    "adult",
                    "adult",
                    "adult",
                    "adult",
                    "adult",
                    "adult",
                    "adult",
                    "adult",
                    "adult",
                    "adult",
                    "adult",
                    "adult",
                    "adult",
                    "adult",
                    "adult",
                    "adult",
                    "adult",
                    "adult",
                    "adult",
                    "senior",
                    "senior",
                    "senior",
                    "senior",
                    "senior",
                    "senior",
                    "senior",
                    "senior",
                    "senior",
                    "senior",
                    "senior",
                    "senior",
                    "senior",
                    "senior",
                    "senior",
                    "senior",
                    "senior",
                    "senior",
                    "senior",
                    "senior",
                    "senior",
                    "senior",
                    "senior",
                    "senior",
                    "senior",
                    "senior",
                    "senior",
                    "senior"
                  ],
                  "xaxis": "x",
                  "y": [
                    3716.7390213448275,
                    2695.67204,
                    3879.902795833333,
                    3219.922223846154,
                    2483.6823799999997,
                    4862.54347,
                    4516.3355016666665,
                    3211.126050714286,
                    2705.702227272727,
                    2396.333531818182,
                    9287.658715,
                    3946.0978223076922,
                    5954.2758661538455,
                    5057.542094444445,
                    5835.1046975,
                    5233.0969390909095,
                    5310.006790833333,
                    3110.986361538462,
                    8387.42573888889,
                    3473.1728949999997,
                    6515.807412857143,
                    5380.554316363636,
                    4355.335315,
                    8114.383091818181,
                    4573.011925000001,
                    6133.68129625,
                    4591.865733333333,
                    4563.73442,
                    5982.8301054545445,
                    4488.64829,
                    5271.2026399999995,
                    8420.860058,
                    5502.739486363636,
                    8530.207524000001,
                    7600.543910999999,
                    6633.546226999999,
                    5629.8936772727275,
                    5647.5775625,
                    6597.330158333333,
                    8833.727393,
                    6425.675692307692,
                    6126.461475,
                    7408.833522727273,
                    8559.78726625,
                    10020.554952,
                    6630.101395833332,
                    7624.685776153846,
                    6804.930395833333,
                    7305.810210000001,
                    6714.234438888889,
                    9387.599238571429,
                    9709.88382125,
                    8260.018322,
                    9944.00866090909,
                    10662.42670923077,
                    8201.584245454545,
                    8787.093822727273,
                    9765.75929,
                    11561.572609090908,
                    8815.39401875,
                    10560.129768461538,
                    11946.523397272727,
                    11160.109438461539,
                    9041.676231818183,
                    12096.381537692308,
                    12215.064581666666,
                    9963.833525,
                    9661.300872727274,
                    14713.673175384614,
                    13304.427671000001,
                    13530.663342727274,
                    11709.909243333334,
                    12893.692962307694,
                    13365.911954,
                    13721.770855833334,
                    14074.119773333334,
                    11754.916,
                    11288.052933333332,
                    13283.378509999999,
                    12227.531421818181,
                    13185.958395384614,
                    11641.749927272727,
                    16917.952067272727,
                    13356.851144999999,
                    14537.164976999999,
                    14947.21808875,
                    17281.146602222223,
                    14944.92975375,
                    15698.529055454546,
                    14968.30654125,
                    14192.91088125,
                    14215.275565,
                    15262.426207142857,
                    16280.40934
                  ],
                  "yaxis": "y"
                },
                {
                  "alignmentgroup": "True",
                  "bingroup": "x",
                  "histfunc": "avg",
                  "hovertemplate": "smoker=yes<br>age_group=%{x}<br>avg of charges=%{y}<extra></extra>",
                  "legendgroup": "yes",
                  "marker": {
                    "color": "#EF553B",
                    "pattern": {
                      "shape": ""
                    }
                  },
                  "name": "yes",
                  "offsetgroup": "yes",
                  "orientation": "v",
                  "showlegend": true,
                  "type": "histogram",
                  "x": [
                    "teen",
                    "teen",
                    "teen",
                    "teen",
                    "young_adult",
                    "young_adult",
                    "young_adult",
                    "young_adult",
                    "young_adult",
                    "young_adult",
                    "young_adult",
                    "young_adult",
                    "young_adult",
                    "young_adult",
                    "young_adult",
                    "young_adult",
                    "young_adult",
                    "young_adult",
                    "young_adult",
                    "young_adult",
                    "young_adult",
                    "young_adult",
                    "young_adult",
                    "young_adult",
                    "young_adult",
                    "young_adult",
                    "young_adult",
                    "young_adult",
                    "young_adult",
                    "young_adult",
                    "young_adult",
                    "young_adult",
                    "young_adult",
                    "young_adult",
                    "young_adult",
                    "adult",
                    "adult",
                    "adult",
                    "adult",
                    "adult",
                    "adult",
                    "adult",
                    "adult",
                    "adult",
                    "adult",
                    "adult",
                    "adult",
                    "adult",
                    "adult",
                    "adult",
                    "adult",
                    "adult",
                    "adult",
                    "adult",
                    "adult",
                    "adult",
                    "adult",
                    "adult",
                    "adult",
                    "adult",
                    "adult",
                    "adult",
                    "adult",
                    "senior",
                    "senior",
                    "senior",
                    "senior",
                    "senior",
                    "senior",
                    "senior",
                    "senior",
                    "senior",
                    "senior",
                    "senior",
                    "senior",
                    "senior",
                    "senior",
                    "senior",
                    "senior",
                    "senior",
                    "senior",
                    "senior",
                    "senior",
                    "senior",
                    "senior",
                    "senior",
                    "senior",
                    "senior",
                    "senior"
                  ],
                  "xaxis": "x",
                  "y": [
                    26862.269925,
                    24779.46036875,
                    24896.85732,
                    29105.608216666664,
                    19522.50555,
                    28615.79073,
                    15359.1045,
                    17942.106,
                    34751.5689,
                    38684.146825,
                    30994.219666666668,
                    36189.1017,
                    14571.8908,
                    32129.818206000004,
                    33900.653,
                    28497.06325,
                    14455.64405,
                    26564.2802,
                    23995.524940000003,
                    27743.865725,
                    34509.95018,
                    17293.60051666667,
                    32307.305640000002,
                    26406.757716666663,
                    28232.68948333333,
                    58571.07448,
                    29001.917,
                    25115.24615,
                    26266.567066666667,
                    36330.35938,
                    25076.05085,
                    40822.876449999996,
                    24824.58955,
                    30109.140349999998,
                    26706.789566666663,
                    18608.262,
                    35878.8381,
                    33912.551125,
                    39700.411766666664,
                    28884.971550000002,
                    20341.59505,
                    25949.3541625,
                    27259.721616666666,
                    28152.427125000002,
                    39935.52635,
                    28403.276200000004,
                    26790.400682,
                    27786.804200000002,
                    36463.325800000006,
                    39416.097215,
                    39277.52025,
                    39725.51805,
                    40380.325964999996,
                    35150.18338333333,
                    43435.837775,
                    28493.069425,
                    33382.20994166667,
                    32577.5492,
                    30164.65671666667,
                    24106.91255,
                    28947.133866666667,
                    24520.264,
                    41957.69891666667,
                    45098.90543333333,
                    31216.130650000003,
                    24277.54085,
                    39138.6780425,
                    31593.20583333333,
                    32225.117975,
                    63770.42801,
                    40047.9363125,
                    44423.803,
                    42303.69215,
                    34064.2568375,
                    35556.42615,
                    37946.977475,
                    47496.49445,
                    36787.7849,
                    39577.59215,
                    45008.9555,
                    48892.068922499995,
                    36200.37175,
                    40957.21743333333,
                    27808.7251,
                    40176.56805,
                    38650.84745,
                    47055.5321,
                    37896.9955625,
                    41131.146
                  ],
                  "yaxis": "y"
                }
              ],
              "layout": {
                "barmode": "group",
                "height": 600,
                "legend": {
                  "title": {
                    "text": "smoker"
                  },
                  "tracegroupgap": 0
                },
                "template": {
                  "data": {
                    "bar": [
                      {
                        "error_x": {
                          "color": "#2a3f5f"
                        },
                        "error_y": {
                          "color": "#2a3f5f"
                        },
                        "marker": {
                          "line": {
                            "color": "#E5ECF6",
                            "width": 0.5
                          },
                          "pattern": {
                            "fillmode": "overlay",
                            "size": 10,
                            "solidity": 0.2
                          }
                        },
                        "type": "bar"
                      }
                    ],
                    "barpolar": [
                      {
                        "marker": {
                          "line": {
                            "color": "#E5ECF6",
                            "width": 0.5
                          },
                          "pattern": {
                            "fillmode": "overlay",
                            "size": 10,
                            "solidity": 0.2
                          }
                        },
                        "type": "barpolar"
                      }
                    ],
                    "carpet": [
                      {
                        "aaxis": {
                          "endlinecolor": "#2a3f5f",
                          "gridcolor": "white",
                          "linecolor": "white",
                          "minorgridcolor": "white",
                          "startlinecolor": "#2a3f5f"
                        },
                        "baxis": {
                          "endlinecolor": "#2a3f5f",
                          "gridcolor": "white",
                          "linecolor": "white",
                          "minorgridcolor": "white",
                          "startlinecolor": "#2a3f5f"
                        },
                        "type": "carpet"
                      }
                    ],
                    "choropleth": [
                      {
                        "colorbar": {
                          "outlinewidth": 0,
                          "ticks": ""
                        },
                        "type": "choropleth"
                      }
                    ],
                    "contour": [
                      {
                        "colorbar": {
                          "outlinewidth": 0,
                          "ticks": ""
                        },
                        "colorscale": [
                          [
                            0,
                            "#0d0887"
                          ],
                          [
                            0.1111111111111111,
                            "#46039f"
                          ],
                          [
                            0.2222222222222222,
                            "#7201a8"
                          ],
                          [
                            0.3333333333333333,
                            "#9c179e"
                          ],
                          [
                            0.4444444444444444,
                            "#bd3786"
                          ],
                          [
                            0.5555555555555556,
                            "#d8576b"
                          ],
                          [
                            0.6666666666666666,
                            "#ed7953"
                          ],
                          [
                            0.7777777777777778,
                            "#fb9f3a"
                          ],
                          [
                            0.8888888888888888,
                            "#fdca26"
                          ],
                          [
                            1,
                            "#f0f921"
                          ]
                        ],
                        "type": "contour"
                      }
                    ],
                    "contourcarpet": [
                      {
                        "colorbar": {
                          "outlinewidth": 0,
                          "ticks": ""
                        },
                        "type": "contourcarpet"
                      }
                    ],
                    "heatmap": [
                      {
                        "colorbar": {
                          "outlinewidth": 0,
                          "ticks": ""
                        },
                        "colorscale": [
                          [
                            0,
                            "#0d0887"
                          ],
                          [
                            0.1111111111111111,
                            "#46039f"
                          ],
                          [
                            0.2222222222222222,
                            "#7201a8"
                          ],
                          [
                            0.3333333333333333,
                            "#9c179e"
                          ],
                          [
                            0.4444444444444444,
                            "#bd3786"
                          ],
                          [
                            0.5555555555555556,
                            "#d8576b"
                          ],
                          [
                            0.6666666666666666,
                            "#ed7953"
                          ],
                          [
                            0.7777777777777778,
                            "#fb9f3a"
                          ],
                          [
                            0.8888888888888888,
                            "#fdca26"
                          ],
                          [
                            1,
                            "#f0f921"
                          ]
                        ],
                        "type": "heatmap"
                      }
                    ],
                    "heatmapgl": [
                      {
                        "colorbar": {
                          "outlinewidth": 0,
                          "ticks": ""
                        },
                        "colorscale": [
                          [
                            0,
                            "#0d0887"
                          ],
                          [
                            0.1111111111111111,
                            "#46039f"
                          ],
                          [
                            0.2222222222222222,
                            "#7201a8"
                          ],
                          [
                            0.3333333333333333,
                            "#9c179e"
                          ],
                          [
                            0.4444444444444444,
                            "#bd3786"
                          ],
                          [
                            0.5555555555555556,
                            "#d8576b"
                          ],
                          [
                            0.6666666666666666,
                            "#ed7953"
                          ],
                          [
                            0.7777777777777778,
                            "#fb9f3a"
                          ],
                          [
                            0.8888888888888888,
                            "#fdca26"
                          ],
                          [
                            1,
                            "#f0f921"
                          ]
                        ],
                        "type": "heatmapgl"
                      }
                    ],
                    "histogram": [
                      {
                        "marker": {
                          "pattern": {
                            "fillmode": "overlay",
                            "size": 10,
                            "solidity": 0.2
                          }
                        },
                        "type": "histogram"
                      }
                    ],
                    "histogram2d": [
                      {
                        "colorbar": {
                          "outlinewidth": 0,
                          "ticks": ""
                        },
                        "colorscale": [
                          [
                            0,
                            "#0d0887"
                          ],
                          [
                            0.1111111111111111,
                            "#46039f"
                          ],
                          [
                            0.2222222222222222,
                            "#7201a8"
                          ],
                          [
                            0.3333333333333333,
                            "#9c179e"
                          ],
                          [
                            0.4444444444444444,
                            "#bd3786"
                          ],
                          [
                            0.5555555555555556,
                            "#d8576b"
                          ],
                          [
                            0.6666666666666666,
                            "#ed7953"
                          ],
                          [
                            0.7777777777777778,
                            "#fb9f3a"
                          ],
                          [
                            0.8888888888888888,
                            "#fdca26"
                          ],
                          [
                            1,
                            "#f0f921"
                          ]
                        ],
                        "type": "histogram2d"
                      }
                    ],
                    "histogram2dcontour": [
                      {
                        "colorbar": {
                          "outlinewidth": 0,
                          "ticks": ""
                        },
                        "colorscale": [
                          [
                            0,
                            "#0d0887"
                          ],
                          [
                            0.1111111111111111,
                            "#46039f"
                          ],
                          [
                            0.2222222222222222,
                            "#7201a8"
                          ],
                          [
                            0.3333333333333333,
                            "#9c179e"
                          ],
                          [
                            0.4444444444444444,
                            "#bd3786"
                          ],
                          [
                            0.5555555555555556,
                            "#d8576b"
                          ],
                          [
                            0.6666666666666666,
                            "#ed7953"
                          ],
                          [
                            0.7777777777777778,
                            "#fb9f3a"
                          ],
                          [
                            0.8888888888888888,
                            "#fdca26"
                          ],
                          [
                            1,
                            "#f0f921"
                          ]
                        ],
                        "type": "histogram2dcontour"
                      }
                    ],
                    "mesh3d": [
                      {
                        "colorbar": {
                          "outlinewidth": 0,
                          "ticks": ""
                        },
                        "type": "mesh3d"
                      }
                    ],
                    "parcoords": [
                      {
                        "line": {
                          "colorbar": {
                            "outlinewidth": 0,
                            "ticks": ""
                          }
                        },
                        "type": "parcoords"
                      }
                    ],
                    "pie": [
                      {
                        "automargin": true,
                        "type": "pie"
                      }
                    ],
                    "scatter": [
                      {
                        "fillpattern": {
                          "fillmode": "overlay",
                          "size": 10,
                          "solidity": 0.2
                        },
                        "type": "scatter"
                      }
                    ],
                    "scatter3d": [
                      {
                        "line": {
                          "colorbar": {
                            "outlinewidth": 0,
                            "ticks": ""
                          }
                        },
                        "marker": {
                          "colorbar": {
                            "outlinewidth": 0,
                            "ticks": ""
                          }
                        },
                        "type": "scatter3d"
                      }
                    ],
                    "scattercarpet": [
                      {
                        "marker": {
                          "colorbar": {
                            "outlinewidth": 0,
                            "ticks": ""
                          }
                        },
                        "type": "scattercarpet"
                      }
                    ],
                    "scattergeo": [
                      {
                        "marker": {
                          "colorbar": {
                            "outlinewidth": 0,
                            "ticks": ""
                          }
                        },
                        "type": "scattergeo"
                      }
                    ],
                    "scattergl": [
                      {
                        "marker": {
                          "colorbar": {
                            "outlinewidth": 0,
                            "ticks": ""
                          }
                        },
                        "type": "scattergl"
                      }
                    ],
                    "scattermapbox": [
                      {
                        "marker": {
                          "colorbar": {
                            "outlinewidth": 0,
                            "ticks": ""
                          }
                        },
                        "type": "scattermapbox"
                      }
                    ],
                    "scatterpolar": [
                      {
                        "marker": {
                          "colorbar": {
                            "outlinewidth": 0,
                            "ticks": ""
                          }
                        },
                        "type": "scatterpolar"
                      }
                    ],
                    "scatterpolargl": [
                      {
                        "marker": {
                          "colorbar": {
                            "outlinewidth": 0,
                            "ticks": ""
                          }
                        },
                        "type": "scatterpolargl"
                      }
                    ],
                    "scatterternary": [
                      {
                        "marker": {
                          "colorbar": {
                            "outlinewidth": 0,
                            "ticks": ""
                          }
                        },
                        "type": "scatterternary"
                      }
                    ],
                    "surface": [
                      {
                        "colorbar": {
                          "outlinewidth": 0,
                          "ticks": ""
                        },
                        "colorscale": [
                          [
                            0,
                            "#0d0887"
                          ],
                          [
                            0.1111111111111111,
                            "#46039f"
                          ],
                          [
                            0.2222222222222222,
                            "#7201a8"
                          ],
                          [
                            0.3333333333333333,
                            "#9c179e"
                          ],
                          [
                            0.4444444444444444,
                            "#bd3786"
                          ],
                          [
                            0.5555555555555556,
                            "#d8576b"
                          ],
                          [
                            0.6666666666666666,
                            "#ed7953"
                          ],
                          [
                            0.7777777777777778,
                            "#fb9f3a"
                          ],
                          [
                            0.8888888888888888,
                            "#fdca26"
                          ],
                          [
                            1,
                            "#f0f921"
                          ]
                        ],
                        "type": "surface"
                      }
                    ],
                    "table": [
                      {
                        "cells": {
                          "fill": {
                            "color": "#EBF0F8"
                          },
                          "line": {
                            "color": "white"
                          }
                        },
                        "header": {
                          "fill": {
                            "color": "#C8D4E3"
                          },
                          "line": {
                            "color": "white"
                          }
                        },
                        "type": "table"
                      }
                    ]
                  },
                  "layout": {
                    "annotationdefaults": {
                      "arrowcolor": "#2a3f5f",
                      "arrowhead": 0,
                      "arrowwidth": 1
                    },
                    "autotypenumbers": "strict",
                    "coloraxis": {
                      "colorbar": {
                        "outlinewidth": 0,
                        "ticks": ""
                      }
                    },
                    "colorscale": {
                      "diverging": [
                        [
                          0,
                          "#8e0152"
                        ],
                        [
                          0.1,
                          "#c51b7d"
                        ],
                        [
                          0.2,
                          "#de77ae"
                        ],
                        [
                          0.3,
                          "#f1b6da"
                        ],
                        [
                          0.4,
                          "#fde0ef"
                        ],
                        [
                          0.5,
                          "#f7f7f7"
                        ],
                        [
                          0.6,
                          "#e6f5d0"
                        ],
                        [
                          0.7,
                          "#b8e186"
                        ],
                        [
                          0.8,
                          "#7fbc41"
                        ],
                        [
                          0.9,
                          "#4d9221"
                        ],
                        [
                          1,
                          "#276419"
                        ]
                      ],
                      "sequential": [
                        [
                          0,
                          "#0d0887"
                        ],
                        [
                          0.1111111111111111,
                          "#46039f"
                        ],
                        [
                          0.2222222222222222,
                          "#7201a8"
                        ],
                        [
                          0.3333333333333333,
                          "#9c179e"
                        ],
                        [
                          0.4444444444444444,
                          "#bd3786"
                        ],
                        [
                          0.5555555555555556,
                          "#d8576b"
                        ],
                        [
                          0.6666666666666666,
                          "#ed7953"
                        ],
                        [
                          0.7777777777777778,
                          "#fb9f3a"
                        ],
                        [
                          0.8888888888888888,
                          "#fdca26"
                        ],
                        [
                          1,
                          "#f0f921"
                        ]
                      ],
                      "sequentialminus": [
                        [
                          0,
                          "#0d0887"
                        ],
                        [
                          0.1111111111111111,
                          "#46039f"
                        ],
                        [
                          0.2222222222222222,
                          "#7201a8"
                        ],
                        [
                          0.3333333333333333,
                          "#9c179e"
                        ],
                        [
                          0.4444444444444444,
                          "#bd3786"
                        ],
                        [
                          0.5555555555555556,
                          "#d8576b"
                        ],
                        [
                          0.6666666666666666,
                          "#ed7953"
                        ],
                        [
                          0.7777777777777778,
                          "#fb9f3a"
                        ],
                        [
                          0.8888888888888888,
                          "#fdca26"
                        ],
                        [
                          1,
                          "#f0f921"
                        ]
                      ]
                    },
                    "colorway": [
                      "#636efa",
                      "#EF553B",
                      "#00cc96",
                      "#ab63fa",
                      "#FFA15A",
                      "#19d3f3",
                      "#FF6692",
                      "#B6E880",
                      "#FF97FF",
                      "#FECB52"
                    ],
                    "font": {
                      "color": "#2a3f5f"
                    },
                    "geo": {
                      "bgcolor": "white",
                      "lakecolor": "white",
                      "landcolor": "#E5ECF6",
                      "showlakes": true,
                      "showland": true,
                      "subunitcolor": "white"
                    },
                    "hoverlabel": {
                      "align": "left"
                    },
                    "hovermode": "closest",
                    "mapbox": {
                      "style": "light"
                    },
                    "paper_bgcolor": "white",
                    "plot_bgcolor": "#E5ECF6",
                    "polar": {
                      "angularaxis": {
                        "gridcolor": "white",
                        "linecolor": "white",
                        "ticks": ""
                      },
                      "bgcolor": "#E5ECF6",
                      "radialaxis": {
                        "gridcolor": "white",
                        "linecolor": "white",
                        "ticks": ""
                      }
                    },
                    "scene": {
                      "xaxis": {
                        "backgroundcolor": "#E5ECF6",
                        "gridcolor": "white",
                        "gridwidth": 2,
                        "linecolor": "white",
                        "showbackground": true,
                        "ticks": "",
                        "zerolinecolor": "white"
                      },
                      "yaxis": {
                        "backgroundcolor": "#E5ECF6",
                        "gridcolor": "white",
                        "gridwidth": 2,
                        "linecolor": "white",
                        "showbackground": true,
                        "ticks": "",
                        "zerolinecolor": "white"
                      },
                      "zaxis": {
                        "backgroundcolor": "#E5ECF6",
                        "gridcolor": "white",
                        "gridwidth": 2,
                        "linecolor": "white",
                        "showbackground": true,
                        "ticks": "",
                        "zerolinecolor": "white"
                      }
                    },
                    "shapedefaults": {
                      "line": {
                        "color": "#2a3f5f"
                      }
                    },
                    "ternary": {
                      "aaxis": {
                        "gridcolor": "white",
                        "linecolor": "white",
                        "ticks": ""
                      },
                      "baxis": {
                        "gridcolor": "white",
                        "linecolor": "white",
                        "ticks": ""
                      },
                      "bgcolor": "#E5ECF6",
                      "caxis": {
                        "gridcolor": "white",
                        "linecolor": "white",
                        "ticks": ""
                      }
                    },
                    "title": {
                      "x": 0.05
                    },
                    "xaxis": {
                      "automargin": true,
                      "gridcolor": "white",
                      "linecolor": "white",
                      "ticks": "",
                      "title": {
                        "standoff": 15
                      },
                      "zerolinecolor": "white",
                      "zerolinewidth": 2
                    },
                    "yaxis": {
                      "automargin": true,
                      "gridcolor": "white",
                      "linecolor": "white",
                      "ticks": "",
                      "title": {
                        "standoff": 15
                      },
                      "zerolinecolor": "white",
                      "zerolinewidth": 2
                    }
                  }
                },
                "title": {
                  "text": "Charges by Age Group and Smoker Status"
                },
                "width": 1000,
                "xaxis": {
                  "anchor": "y",
                  "domain": [
                    0,
                    1
                  ],
                  "title": {
                    "text": "age_group"
                  }
                },
                "yaxis": {
                  "anchor": "x",
                  "domain": [
                    0,
                    1
                  ],
                  "title": {
                    "text": "avg of charges"
                  }
                }
              }
            }
          },
          "metadata": {},
          "output_type": "display_data"
        }
      ],
      "source": [
        "age_categorical_counts = df2.groupby([\"age\", \"sex\", \"smoker\", \"age_group\"])[\"charges\"].mean().reset_index()\n",
        "fig = px.histogram(data_frame=age_categorical_counts, x=\"age_group\", y=\"charges\",\n",
        "                 color=\"smoker\", title=\"Charges by Age Group and Smoker Status\", \n",
        "                 barmode=\"group\", histfunc=\"avg\", width=1000, height=600)\n",
        "\n",
        "fig.show()"
      ]
    },
    {
      "cell_type": "markdown",
      "metadata": {},
      "source": [
        "**Charges by Age Group and Smoker Status**\n",
        "\n",
        "This chart compares age groups against the average of charges by smoking habits. Compared to non-smokers, smokers in all age groups bear a hefty insurance price.  "
      ]
    },
    {
      "cell_type": "markdown",
      "metadata": {},
      "source": [
        "# Section 5: Summary\n",
        "\n",
        "1. The correlation matrix from the extraction document proves right - Smoking is the determining factor in the amount of insurance charges one pays.\n",
        "\n",
        "2. Inferred risk categories based on the BMI data available. Utilized the [NHS BMI Info](https://www.nhsinform.scot/healthy-living/food-and-nutrition/healthy-eating-and-weight-management/body-mass-index-bmi/) to slice the values.\n",
        "\n",
        "3. Categorized age groups into teens, young adult, adult, and senior.\n",
        "\n",
        "4. Discovered items that require further probing. I will mark them down in the project board for the second iteration."
      ]
    }
  ],
  "metadata": {
    "accelerator": "GPU",
    "colab": {
      "name": "Data Practitioner Jupyter Notebook.ipynb",
      "provenance": [],
      "toc_visible": true
    },
    "kernelspec": {
      "display_name": ".venv",
      "language": "python",
      "name": "python3"
    },
    "language_info": {
      "codemirror_mode": {
        "name": "ipython",
        "version": 3
      },
      "file_extension": ".py",
      "mimetype": "text/x-python",
      "name": "python",
      "nbconvert_exporter": "python",
      "pygments_lexer": "ipython3",
      "version": "3.12.8"
    },
    "orig_nbformat": 2
  },
  "nbformat": 4,
  "nbformat_minor": 2
}
